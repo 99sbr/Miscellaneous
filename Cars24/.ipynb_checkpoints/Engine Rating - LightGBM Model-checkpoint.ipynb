{
 "cells": [
  {
   "cell_type": "code",
   "execution_count": 1,
   "metadata": {},
   "outputs": [
    {
     "data": {
      "text/html": [
       "        <script type=\"text/javascript\">\n",
       "        window.PlotlyConfig = {MathJaxConfig: 'local'};\n",
       "        if (window.MathJax) {MathJax.Hub.Config({SVG: {font: \"STIX-Web\"}});}\n",
       "        if (typeof require !== 'undefined') {\n",
       "        require.undef(\"plotly\");\n",
       "        requirejs.config({\n",
       "            paths: {\n",
       "                'plotly': ['https://cdn.plot.ly/plotly-latest.min']\n",
       "            }\n",
       "        });\n",
       "        require(['plotly'], function(Plotly) {\n",
       "            window._Plotly = Plotly;\n",
       "        });\n",
       "        }\n",
       "        </script>\n",
       "        "
      ]
     },
     "metadata": {},
     "output_type": "display_data"
    },
    {
     "data": {
      "text/html": [
       "        <script type=\"text/javascript\">\n",
       "        window.PlotlyConfig = {MathJaxConfig: 'local'};\n",
       "        if (window.MathJax) {MathJax.Hub.Config({SVG: {font: \"STIX-Web\"}});}\n",
       "        if (typeof require !== 'undefined') {\n",
       "        require.undef(\"plotly\");\n",
       "        requirejs.config({\n",
       "            paths: {\n",
       "                'plotly': ['https://cdn.plot.ly/plotly-latest.min']\n",
       "            }\n",
       "        });\n",
       "        require(['plotly'], function(Plotly) {\n",
       "            window._Plotly = Plotly;\n",
       "        });\n",
       "        }\n",
       "        </script>\n",
       "        "
      ]
     },
     "metadata": {},
     "output_type": "display_data"
    }
   ],
   "source": [
    "# Data Analysis\n",
    "import pandas as pd\n",
    "import numpy as np\n",
    "pd.set_option('display.max_rows', 500)\n",
    "pd.set_option('display.max_columns', 500)\n",
    "pd.set_option('display.width', 1000)\n",
    "# Visualization\n",
    "from matplotlib import pyplot as plt\n",
    "import seaborn as sns\n",
    "\n",
    "# Data Prediction\n",
    "import sklearn\n",
    "from sklearn.preprocessing import LabelEncoder\n",
    "import xgboost\n",
    "from sklearn.model_selection import train_test_split\n",
    "import lightgbm as lgb\n",
    "from sklearn import metrics\n",
    "from sklearn.metrics import accuracy_score , precision_score , recall_score, confusion_matrix , roc_auc_score,roc_curve, auc\n",
    "\n",
    "# Ignore warnings\n",
    "import warnings\n",
    "warnings.filterwarnings(\"ignore\")\n",
    "\n",
    "# Standard plotly imports\n",
    "import chart_studio.plotly as py\n",
    "import plotly.graph_objs as go\n",
    "from plotly.offline import iplot, init_notebook_mode\n",
    "# Using plotly + cufflinks in offline mode\n",
    "import cufflinks\n",
    "cufflinks.go_offline(connected=True)\n",
    "init_notebook_mode(connected=True)\n",
    "\n",
    "\n"
   ]
  },
  {
   "cell_type": "code",
   "execution_count": 2,
   "metadata": {},
   "outputs": [
    {
     "name": "stderr",
     "output_type": "stream",
     "text": [
      "Using TensorFlow backend.\n",
      "WARNING:root:Limited tf.compat.v2.summary API due to missing TensorBoard installation.\n",
      "WARNING:root:Limited tf.compat.v2.summary API due to missing TensorBoard installation.\n",
      "WARNING:root:Limited tf.summary API due to missing TensorBoard installation.\n"
     ]
    }
   ],
   "source": [
    "from imblearn.over_sampling import RandomOverSampler"
   ]
  },
  {
   "cell_type": "code",
   "execution_count": 76,
   "metadata": {},
   "outputs": [],
   "source": [
    "data = pd.read_excel('data.xlsx',sheet_name='data')"
   ]
  },
  {
   "cell_type": "code",
   "execution_count": 77,
   "metadata": {},
   "outputs": [
    {
     "data": {
      "text/plain": [
       "(26307, 73)"
      ]
     },
     "execution_count": 77,
     "metadata": {},
     "output_type": "execute_result"
    }
   ],
   "source": [
    "data.shape"
   ]
  },
  {
   "cell_type": "code",
   "execution_count": 78,
   "metadata": {},
   "outputs": [
    {
     "data": {
      "text/html": [
       "<div>\n",
       "<style scoped>\n",
       "    .dataframe tbody tr th:only-of-type {\n",
       "        vertical-align: middle;\n",
       "    }\n",
       "\n",
       "    .dataframe tbody tr th {\n",
       "        vertical-align: top;\n",
       "    }\n",
       "\n",
       "    .dataframe thead th {\n",
       "        text-align: right;\n",
       "    }\n",
       "</style>\n",
       "<table border=\"1\" class=\"dataframe\">\n",
       "  <thead>\n",
       "    <tr style=\"text-align: right;\">\n",
       "      <th></th>\n",
       "      <th>appointmentId</th>\n",
       "      <th>inspectionStartTime</th>\n",
       "      <th>year</th>\n",
       "      <th>month</th>\n",
       "      <th>engineTransmission_battery_value</th>\n",
       "      <th>engineTransmission_battery_cc_value_0</th>\n",
       "      <th>engineTransmission_battery_cc_value_1</th>\n",
       "      <th>engineTransmission_battery_cc_value_2</th>\n",
       "      <th>engineTransmission_battery_cc_value_3</th>\n",
       "      <th>engineTransmission_battery_cc_value_4</th>\n",
       "      <th>engineTransmission_engineoilLevelDipstick_value</th>\n",
       "      <th>engineTransmission_engineOilLevelDipstick_cc_value_0</th>\n",
       "      <th>engineTransmission_engineOil</th>\n",
       "      <th>engineTransmission_engineOil_cc_value_0</th>\n",
       "      <th>engineTransmission_engineOil_cc_value_1</th>\n",
       "      <th>engineTransmission_engineOil_cc_value_2</th>\n",
       "      <th>engineTransmission_engineOil_cc_value_3</th>\n",
       "      <th>engineTransmission_engineOil_cc_value_4</th>\n",
       "      <th>engineTransmission_engineOil_cc_value_5</th>\n",
       "      <th>engineTransmission_engineOil_cc_value_6</th>\n",
       "      <th>engineTransmission_engineOil_cc_value_7</th>\n",
       "      <th>engineTransmission_engineOil_cc_value_8</th>\n",
       "      <th>engineTransmission_engineOil_cc_value_9</th>\n",
       "      <th>engineTransmission_engine_value</th>\n",
       "      <th>engineTransmission_engine_cc_value_0</th>\n",
       "      <th>engineTransmission_engine_cc_value_1</th>\n",
       "      <th>engineTransmission_engine_cc_value_2</th>\n",
       "      <th>engineTransmission_engine_cc_value_3</th>\n",
       "      <th>engineTransmission_engine_cc_value_4</th>\n",
       "      <th>engineTransmission_engine_cc_value_5</th>\n",
       "      <th>engineTransmission_engine_cc_value_6</th>\n",
       "      <th>engineTransmission_engine_cc_value_7</th>\n",
       "      <th>engineTransmission_engine_cc_value_8</th>\n",
       "      <th>engineTransmission_engine_cc_value_9</th>\n",
       "      <th>engineTransmission_engine_cc_value_10</th>\n",
       "      <th>engineTransmission_coolant_value</th>\n",
       "      <th>engineTransmission_coolant_cc_value_0</th>\n",
       "      <th>engineTransmission_coolant_cc_value_1</th>\n",
       "      <th>engineTransmission_coolant_cc_value_2</th>\n",
       "      <th>engineTransmission_coolant_cc_value_3</th>\n",
       "      <th>engineTransmission_engineMounting_value</th>\n",
       "      <th>engineTransmission_engineMounting_cc_value_0</th>\n",
       "      <th>engineTransmission_engineSound_value</th>\n",
       "      <th>engineTransmission_engineSound_cc_value_0</th>\n",
       "      <th>engineTransmission_engineSound_cc_value_1</th>\n",
       "      <th>engineTransmission_engineSound_cc_value_2</th>\n",
       "      <th>engineTransmission_engineSound_cc_value_3</th>\n",
       "      <th>engineTransmission_engineSound_cc_value_4</th>\n",
       "      <th>engineTransmission_engineSound_cc_value_5</th>\n",
       "      <th>engineTransmission_exhaustSmoke_value</th>\n",
       "      <th>engineTransmission_exhaustSmoke_cc_value_0</th>\n",
       "      <th>engineTransmission_engineBlowByBackCompression_value</th>\n",
       "      <th>engineTransmission_engineBlowByBackCompression_cc_value_0</th>\n",
       "      <th>engineTransmission_clutch_value</th>\n",
       "      <th>engineTransmission_clutch_cc_value_0</th>\n",
       "      <th>engineTransmission_clutch_cc_value_1</th>\n",
       "      <th>engineTransmission_clutch_cc_value_2</th>\n",
       "      <th>engineTransmission_clutch_cc_value_3</th>\n",
       "      <th>engineTransmission_clutch_cc_value_4</th>\n",
       "      <th>engineTransmission_clutch_cc_value_5</th>\n",
       "      <th>engineTransmission_clutch_cc_value_6</th>\n",
       "      <th>engineTransmission_gearShifting_value</th>\n",
       "      <th>engineTransmission_gearShifting_cc_value_0</th>\n",
       "      <th>engineTransmission_gearShifting_cc_value_1</th>\n",
       "      <th>engineTransmission_gearShifting_cc_value_2</th>\n",
       "      <th>engineTransmission_comments_value_0</th>\n",
       "      <th>engineTransmission_comments_value_1</th>\n",
       "      <th>engineTransmission_comments_value_2</th>\n",
       "      <th>engineTransmission_comments_value_3</th>\n",
       "      <th>engineTransmission_comments_value_4</th>\n",
       "      <th>fuel_type</th>\n",
       "      <th>odometer_reading</th>\n",
       "      <th>rating_engineTransmission</th>\n",
       "    </tr>\n",
       "  </thead>\n",
       "  <tbody>\n",
       "    <tr>\n",
       "      <td>0</td>\n",
       "      <td>aj_01</td>\n",
       "      <td>2019-02-03 15:43:48</td>\n",
       "      <td>2008</td>\n",
       "      <td>8</td>\n",
       "      <td>No</td>\n",
       "      <td>Weak</td>\n",
       "      <td>NaN</td>\n",
       "      <td>NaN</td>\n",
       "      <td>NaN</td>\n",
       "      <td>NaN</td>\n",
       "      <td>Yes</td>\n",
       "      <td>NaN</td>\n",
       "      <td>No</td>\n",
       "      <td>Leaking</td>\n",
       "      <td>Dirty</td>\n",
       "      <td>Leakage from Tappet Cover</td>\n",
       "      <td>Leakage from Side cover</td>\n",
       "      <td>NaN</td>\n",
       "      <td>NaN</td>\n",
       "      <td>NaN</td>\n",
       "      <td>NaN</td>\n",
       "      <td>NaN</td>\n",
       "      <td>NaN</td>\n",
       "      <td>No</td>\n",
       "      <td>Repaired</td>\n",
       "      <td>Misfiring</td>\n",
       "      <td>NaN</td>\n",
       "      <td>NaN</td>\n",
       "      <td>NaN</td>\n",
       "      <td>NaN</td>\n",
       "      <td>NaN</td>\n",
       "      <td>NaN</td>\n",
       "      <td>NaN</td>\n",
       "      <td>NaN</td>\n",
       "      <td>NaN</td>\n",
       "      <td>No</td>\n",
       "      <td>Leaking</td>\n",
       "      <td>Dirty</td>\n",
       "      <td>NaN</td>\n",
       "      <td>NaN</td>\n",
       "      <td>No</td>\n",
       "      <td>Excess Vibration</td>\n",
       "      <td>No</td>\n",
       "      <td>Alternator Brg Noise</td>\n",
       "      <td>Water Pump Brg Noise</td>\n",
       "      <td>Timing Noise</td>\n",
       "      <td>Tappet Noise</td>\n",
       "      <td>Engine Auxiliary Noise</td>\n",
       "      <td>NaN</td>\n",
       "      <td>No</td>\n",
       "      <td>White</td>\n",
       "      <td>No</td>\n",
       "      <td>Back Compression Exist</td>\n",
       "      <td>No</td>\n",
       "      <td>Spongy</td>\n",
       "      <td>NaN</td>\n",
       "      <td>NaN</td>\n",
       "      <td>NaN</td>\n",
       "      <td>NaN</td>\n",
       "      <td>NaN</td>\n",
       "      <td>NaN</td>\n",
       "      <td>Yes</td>\n",
       "      <td>NaN</td>\n",
       "      <td>NaN</td>\n",
       "      <td>NaN</td>\n",
       "      <td>Pickup Low</td>\n",
       "      <td>Starter Motor / Solenoid malfunctioning</td>\n",
       "      <td>NaN</td>\n",
       "      <td>NaN</td>\n",
       "      <td>NaN</td>\n",
       "      <td>Petrol + CNG</td>\n",
       "      <td>124600</td>\n",
       "      <td>3.0</td>\n",
       "    </tr>\n",
       "    <tr>\n",
       "      <td>1</td>\n",
       "      <td>aj_02</td>\n",
       "      <td>2019-01-16 13:02:12</td>\n",
       "      <td>2007</td>\n",
       "      <td>5</td>\n",
       "      <td>Yes</td>\n",
       "      <td>NaN</td>\n",
       "      <td>NaN</td>\n",
       "      <td>NaN</td>\n",
       "      <td>NaN</td>\n",
       "      <td>NaN</td>\n",
       "      <td>Yes</td>\n",
       "      <td>NaN</td>\n",
       "      <td>No</td>\n",
       "      <td>Leaking</td>\n",
       "      <td>Dirty</td>\n",
       "      <td>Leakage from Tappet Cover</td>\n",
       "      <td>Leakage from Side cover</td>\n",
       "      <td>Leakage from Sump/chamber</td>\n",
       "      <td>NaN</td>\n",
       "      <td>NaN</td>\n",
       "      <td>NaN</td>\n",
       "      <td>NaN</td>\n",
       "      <td>NaN</td>\n",
       "      <td>No</td>\n",
       "      <td>RPM fluctuating</td>\n",
       "      <td>Misfiring</td>\n",
       "      <td>NaN</td>\n",
       "      <td>NaN</td>\n",
       "      <td>NaN</td>\n",
       "      <td>NaN</td>\n",
       "      <td>NaN</td>\n",
       "      <td>NaN</td>\n",
       "      <td>NaN</td>\n",
       "      <td>NaN</td>\n",
       "      <td>NaN</td>\n",
       "      <td>No</td>\n",
       "      <td>Leaking</td>\n",
       "      <td>Dirty</td>\n",
       "      <td>NaN</td>\n",
       "      <td>NaN</td>\n",
       "      <td>Yes</td>\n",
       "      <td>NaN</td>\n",
       "      <td>No</td>\n",
       "      <td>Timing Noise</td>\n",
       "      <td>Tappet Noise</td>\n",
       "      <td>Engine Auxiliary Noise</td>\n",
       "      <td>NaN</td>\n",
       "      <td>NaN</td>\n",
       "      <td>NaN</td>\n",
       "      <td>No</td>\n",
       "      <td>Noise from silencer assembly</td>\n",
       "      <td>Yes</td>\n",
       "      <td>NO Blow-by</td>\n",
       "      <td>Yes</td>\n",
       "      <td>NaN</td>\n",
       "      <td>NaN</td>\n",
       "      <td>NaN</td>\n",
       "      <td>NaN</td>\n",
       "      <td>NaN</td>\n",
       "      <td>NaN</td>\n",
       "      <td>NaN</td>\n",
       "      <td>Yes</td>\n",
       "      <td>NaN</td>\n",
       "      <td>NaN</td>\n",
       "      <td>NaN</td>\n",
       "      <td>NaN</td>\n",
       "      <td>NaN</td>\n",
       "      <td>NaN</td>\n",
       "      <td>NaN</td>\n",
       "      <td>NaN</td>\n",
       "      <td>Petrol + CNG</td>\n",
       "      <td>78108</td>\n",
       "      <td>4.0</td>\n",
       "    </tr>\n",
       "    <tr>\n",
       "      <td>2</td>\n",
       "      <td>aj_03</td>\n",
       "      <td>2019-02-09 13:31:04</td>\n",
       "      <td>2012</td>\n",
       "      <td>5</td>\n",
       "      <td>Yes</td>\n",
       "      <td>NaN</td>\n",
       "      <td>NaN</td>\n",
       "      <td>NaN</td>\n",
       "      <td>NaN</td>\n",
       "      <td>NaN</td>\n",
       "      <td>Yes</td>\n",
       "      <td>NaN</td>\n",
       "      <td>No</td>\n",
       "      <td>Dirty</td>\n",
       "      <td>NaN</td>\n",
       "      <td>NaN</td>\n",
       "      <td>NaN</td>\n",
       "      <td>NaN</td>\n",
       "      <td>NaN</td>\n",
       "      <td>NaN</td>\n",
       "      <td>NaN</td>\n",
       "      <td>NaN</td>\n",
       "      <td>NaN</td>\n",
       "      <td>Yes</td>\n",
       "      <td>NaN</td>\n",
       "      <td>NaN</td>\n",
       "      <td>NaN</td>\n",
       "      <td>NaN</td>\n",
       "      <td>NaN</td>\n",
       "      <td>NaN</td>\n",
       "      <td>NaN</td>\n",
       "      <td>NaN</td>\n",
       "      <td>NaN</td>\n",
       "      <td>NaN</td>\n",
       "      <td>NaN</td>\n",
       "      <td>No</td>\n",
       "      <td>Dirty</td>\n",
       "      <td>NaN</td>\n",
       "      <td>NaN</td>\n",
       "      <td>NaN</td>\n",
       "      <td>No</td>\n",
       "      <td>Excess Vibration</td>\n",
       "      <td>No</td>\n",
       "      <td>Alternator Brg Noise</td>\n",
       "      <td>Engine Auxiliary Noise</td>\n",
       "      <td>NaN</td>\n",
       "      <td>NaN</td>\n",
       "      <td>NaN</td>\n",
       "      <td>NaN</td>\n",
       "      <td>No</td>\n",
       "      <td>Black</td>\n",
       "      <td>Yes</td>\n",
       "      <td>Perm. Blow By on idle</td>\n",
       "      <td>No</td>\n",
       "      <td>Hard</td>\n",
       "      <td>Spongy</td>\n",
       "      <td>NaN</td>\n",
       "      <td>NaN</td>\n",
       "      <td>NaN</td>\n",
       "      <td>NaN</td>\n",
       "      <td>NaN</td>\n",
       "      <td>Yes</td>\n",
       "      <td>NaN</td>\n",
       "      <td>NaN</td>\n",
       "      <td>NaN</td>\n",
       "      <td>NaN</td>\n",
       "      <td>NaN</td>\n",
       "      <td>NaN</td>\n",
       "      <td>NaN</td>\n",
       "      <td>NaN</td>\n",
       "      <td>Diesel</td>\n",
       "      <td>93348</td>\n",
       "      <td>3.5</td>\n",
       "    </tr>\n",
       "    <tr>\n",
       "      <td>3</td>\n",
       "      <td>aj_04</td>\n",
       "      <td>2019-01-18 11:02:53</td>\n",
       "      <td>2013</td>\n",
       "      <td>1</td>\n",
       "      <td>Yes</td>\n",
       "      <td>NaN</td>\n",
       "      <td>NaN</td>\n",
       "      <td>NaN</td>\n",
       "      <td>NaN</td>\n",
       "      <td>NaN</td>\n",
       "      <td>Yes</td>\n",
       "      <td>NaN</td>\n",
       "      <td>No</td>\n",
       "      <td>Dirty</td>\n",
       "      <td>NaN</td>\n",
       "      <td>NaN</td>\n",
       "      <td>NaN</td>\n",
       "      <td>NaN</td>\n",
       "      <td>NaN</td>\n",
       "      <td>NaN</td>\n",
       "      <td>NaN</td>\n",
       "      <td>NaN</td>\n",
       "      <td>NaN</td>\n",
       "      <td>Yes</td>\n",
       "      <td>NaN</td>\n",
       "      <td>NaN</td>\n",
       "      <td>NaN</td>\n",
       "      <td>NaN</td>\n",
       "      <td>NaN</td>\n",
       "      <td>NaN</td>\n",
       "      <td>NaN</td>\n",
       "      <td>NaN</td>\n",
       "      <td>NaN</td>\n",
       "      <td>NaN</td>\n",
       "      <td>NaN</td>\n",
       "      <td>No</td>\n",
       "      <td>Dirty</td>\n",
       "      <td>NaN</td>\n",
       "      <td>NaN</td>\n",
       "      <td>NaN</td>\n",
       "      <td>Yes</td>\n",
       "      <td>NaN</td>\n",
       "      <td>Yes</td>\n",
       "      <td>NaN</td>\n",
       "      <td>NaN</td>\n",
       "      <td>NaN</td>\n",
       "      <td>NaN</td>\n",
       "      <td>NaN</td>\n",
       "      <td>NaN</td>\n",
       "      <td>Yes</td>\n",
       "      <td>NaN</td>\n",
       "      <td>Yes</td>\n",
       "      <td>NO Blow-by</td>\n",
       "      <td>No</td>\n",
       "      <td>Hard</td>\n",
       "      <td>NaN</td>\n",
       "      <td>NaN</td>\n",
       "      <td>NaN</td>\n",
       "      <td>NaN</td>\n",
       "      <td>NaN</td>\n",
       "      <td>NaN</td>\n",
       "      <td>Yes</td>\n",
       "      <td>NaN</td>\n",
       "      <td>NaN</td>\n",
       "      <td>NaN</td>\n",
       "      <td>NaN</td>\n",
       "      <td>NaN</td>\n",
       "      <td>NaN</td>\n",
       "      <td>NaN</td>\n",
       "      <td>NaN</td>\n",
       "      <td>Petrol + CNG</td>\n",
       "      <td>48233</td>\n",
       "      <td>3.5</td>\n",
       "    </tr>\n",
       "    <tr>\n",
       "      <td>4</td>\n",
       "      <td>aj_05</td>\n",
       "      <td>2019-01-27 12:12:06</td>\n",
       "      <td>2011</td>\n",
       "      <td>7</td>\n",
       "      <td>Yes</td>\n",
       "      <td>NaN</td>\n",
       "      <td>NaN</td>\n",
       "      <td>NaN</td>\n",
       "      <td>NaN</td>\n",
       "      <td>NaN</td>\n",
       "      <td>Yes</td>\n",
       "      <td>NaN</td>\n",
       "      <td>No</td>\n",
       "      <td>Leaking</td>\n",
       "      <td>Leakage from Tappet Cover</td>\n",
       "      <td>NaN</td>\n",
       "      <td>NaN</td>\n",
       "      <td>NaN</td>\n",
       "      <td>NaN</td>\n",
       "      <td>NaN</td>\n",
       "      <td>NaN</td>\n",
       "      <td>NaN</td>\n",
       "      <td>NaN</td>\n",
       "      <td>No</td>\n",
       "      <td>RPM fluctuating</td>\n",
       "      <td>Over heating</td>\n",
       "      <td>Misfiring</td>\n",
       "      <td>NaN</td>\n",
       "      <td>NaN</td>\n",
       "      <td>NaN</td>\n",
       "      <td>NaN</td>\n",
       "      <td>NaN</td>\n",
       "      <td>NaN</td>\n",
       "      <td>NaN</td>\n",
       "      <td>NaN</td>\n",
       "      <td>Yes</td>\n",
       "      <td>NaN</td>\n",
       "      <td>NaN</td>\n",
       "      <td>NaN</td>\n",
       "      <td>NaN</td>\n",
       "      <td>No</td>\n",
       "      <td>Excess Vibration</td>\n",
       "      <td>No</td>\n",
       "      <td>Timing Noise</td>\n",
       "      <td>Tappet Noise</td>\n",
       "      <td>Engine Auxiliary Noise</td>\n",
       "      <td>NaN</td>\n",
       "      <td>NaN</td>\n",
       "      <td>NaN</td>\n",
       "      <td>No</td>\n",
       "      <td>White</td>\n",
       "      <td>Yes</td>\n",
       "      <td>NO Blow-by</td>\n",
       "      <td>No</td>\n",
       "      <td>Spongy</td>\n",
       "      <td>Low Pick Up</td>\n",
       "      <td>NaN</td>\n",
       "      <td>NaN</td>\n",
       "      <td>NaN</td>\n",
       "      <td>NaN</td>\n",
       "      <td>NaN</td>\n",
       "      <td>Yes</td>\n",
       "      <td>NaN</td>\n",
       "      <td>NaN</td>\n",
       "      <td>NaN</td>\n",
       "      <td>NaN</td>\n",
       "      <td>NaN</td>\n",
       "      <td>NaN</td>\n",
       "      <td>NaN</td>\n",
       "      <td>NaN</td>\n",
       "      <td>Petrol + CNG</td>\n",
       "      <td>74368</td>\n",
       "      <td>4.0</td>\n",
       "    </tr>\n",
       "  </tbody>\n",
       "</table>\n",
       "</div>"
      ],
      "text/plain": [
       "  appointmentId inspectionStartTime  year  month engineTransmission_battery_value engineTransmission_battery_cc_value_0 engineTransmission_battery_cc_value_1 engineTransmission_battery_cc_value_2 engineTransmission_battery_cc_value_3 engineTransmission_battery_cc_value_4 engineTransmission_engineoilLevelDipstick_value engineTransmission_engineOilLevelDipstick_cc_value_0 engineTransmission_engineOil engineTransmission_engineOil_cc_value_0 engineTransmission_engineOil_cc_value_1 engineTransmission_engineOil_cc_value_2 engineTransmission_engineOil_cc_value_3 engineTransmission_engineOil_cc_value_4 engineTransmission_engineOil_cc_value_5 engineTransmission_engineOil_cc_value_6 engineTransmission_engineOil_cc_value_7 engineTransmission_engineOil_cc_value_8  engineTransmission_engineOil_cc_value_9 engineTransmission_engine_value engineTransmission_engine_cc_value_0 engineTransmission_engine_cc_value_1 engineTransmission_engine_cc_value_2 engineTransmission_engine_cc_value_3  \\\n",
       "0         aj_01 2019-02-03 15:43:48  2008      8                               No                                  Weak                                   NaN                                   NaN                                   NaN                                   NaN                                             Yes                                                NaN                             No                                 Leaking                                   Dirty               Leakage from Tappet Cover                 Leakage from Side cover                                     NaN                                     NaN                                     NaN                                     NaN                                     NaN                                      NaN                              No                             Repaired                            Misfiring                                  NaN                                  NaN   \n",
       "1         aj_02 2019-01-16 13:02:12  2007      5                              Yes                                   NaN                                   NaN                                   NaN                                   NaN                                   NaN                                             Yes                                                NaN                             No                                 Leaking                                   Dirty               Leakage from Tappet Cover                 Leakage from Side cover               Leakage from Sump/chamber                                     NaN                                     NaN                                     NaN                                     NaN                                      NaN                              No                      RPM fluctuating                            Misfiring                                  NaN                                  NaN   \n",
       "2         aj_03 2019-02-09 13:31:04  2012      5                              Yes                                   NaN                                   NaN                                   NaN                                   NaN                                   NaN                                             Yes                                                NaN                             No                                   Dirty                                     NaN                                     NaN                                     NaN                                     NaN                                     NaN                                     NaN                                     NaN                                     NaN                                      NaN                             Yes                                  NaN                                  NaN                                  NaN                                  NaN   \n",
       "3         aj_04 2019-01-18 11:02:53  2013      1                              Yes                                   NaN                                   NaN                                   NaN                                   NaN                                   NaN                                             Yes                                                NaN                             No                                   Dirty                                     NaN                                     NaN                                     NaN                                     NaN                                     NaN                                     NaN                                     NaN                                     NaN                                      NaN                             Yes                                  NaN                                  NaN                                  NaN                                  NaN   \n",
       "4         aj_05 2019-01-27 12:12:06  2011      7                              Yes                                   NaN                                   NaN                                   NaN                                   NaN                                   NaN                                             Yes                                                NaN                             No                                 Leaking               Leakage from Tappet Cover                                     NaN                                     NaN                                     NaN                                     NaN                                     NaN                                     NaN                                     NaN                                      NaN                              No                      RPM fluctuating                         Over heating                            Misfiring                                  NaN   \n",
       "\n",
       "  engineTransmission_engine_cc_value_4 engineTransmission_engine_cc_value_5 engineTransmission_engine_cc_value_6 engineTransmission_engine_cc_value_7 engineTransmission_engine_cc_value_8 engineTransmission_engine_cc_value_9  engineTransmission_engine_cc_value_10 engineTransmission_coolant_value engineTransmission_coolant_cc_value_0 engineTransmission_coolant_cc_value_1 engineTransmission_coolant_cc_value_2 engineTransmission_coolant_cc_value_3 engineTransmission_engineMounting_value engineTransmission_engineMounting_cc_value_0 engineTransmission_engineSound_value engineTransmission_engineSound_cc_value_0 engineTransmission_engineSound_cc_value_1 engineTransmission_engineSound_cc_value_2 engineTransmission_engineSound_cc_value_3 engineTransmission_engineSound_cc_value_4 engineTransmission_engineSound_cc_value_5 engineTransmission_exhaustSmoke_value engineTransmission_exhaustSmoke_cc_value_0 engineTransmission_engineBlowByBackCompression_value  \\\n",
       "0                                  NaN                                  NaN                                  NaN                                  NaN                                  NaN                                  NaN                                    NaN                               No                               Leaking                                 Dirty                                   NaN                                   NaN                                      No                             Excess Vibration                                   No                      Alternator Brg Noise                      Water Pump Brg Noise                              Timing Noise                              Tappet Noise                    Engine Auxiliary Noise                                       NaN                                    No                                      White                                                 No     \n",
       "1                                  NaN                                  NaN                                  NaN                                  NaN                                  NaN                                  NaN                                    NaN                               No                               Leaking                                 Dirty                                   NaN                                   NaN                                     Yes                                          NaN                                   No                              Timing Noise                              Tappet Noise                    Engine Auxiliary Noise                                       NaN                                       NaN                                       NaN                                    No               Noise from silencer assembly                                                Yes     \n",
       "2                                  NaN                                  NaN                                  NaN                                  NaN                                  NaN                                  NaN                                    NaN                               No                                 Dirty                                   NaN                                   NaN                                   NaN                                      No                             Excess Vibration                                   No                      Alternator Brg Noise                    Engine Auxiliary Noise                                       NaN                                       NaN                                       NaN                                       NaN                                    No                                      Black                                                Yes     \n",
       "3                                  NaN                                  NaN                                  NaN                                  NaN                                  NaN                                  NaN                                    NaN                               No                                 Dirty                                   NaN                                   NaN                                   NaN                                     Yes                                          NaN                                  Yes                                       NaN                                       NaN                                       NaN                                       NaN                                       NaN                                       NaN                                   Yes                                        NaN                                                Yes     \n",
       "4                                  NaN                                  NaN                                  NaN                                  NaN                                  NaN                                  NaN                                    NaN                              Yes                                   NaN                                   NaN                                   NaN                                   NaN                                      No                             Excess Vibration                                   No                              Timing Noise                              Tappet Noise                    Engine Auxiliary Noise                                       NaN                                       NaN                                       NaN                                    No                                      White                                                Yes     \n",
       "\n",
       "  engineTransmission_engineBlowByBackCompression_cc_value_0 engineTransmission_clutch_value engineTransmission_clutch_cc_value_0 engineTransmission_clutch_cc_value_1 engineTransmission_clutch_cc_value_2 engineTransmission_clutch_cc_value_3 engineTransmission_clutch_cc_value_4 engineTransmission_clutch_cc_value_5 engineTransmission_clutch_cc_value_6 engineTransmission_gearShifting_value engineTransmission_gearShifting_cc_value_0 engineTransmission_gearShifting_cc_value_1 engineTransmission_gearShifting_cc_value_2 engineTransmission_comments_value_0      engineTransmission_comments_value_1 engineTransmission_comments_value_2 engineTransmission_comments_value_3 engineTransmission_comments_value_4     fuel_type  odometer_reading  rating_engineTransmission  \n",
       "0                             Back Compression Exist                                     No                               Spongy                                  NaN                                  NaN                                  NaN                                  NaN                                  NaN                                  NaN                                   Yes                                        NaN                                        NaN                                        NaN                          Pickup Low  Starter Motor / Solenoid malfunctioning                                 NaN                                 NaN                                 NaN  Petrol + CNG            124600                        3.0  \n",
       "1                                         NO Blow-by                                    Yes                                  NaN                                  NaN                                  NaN                                  NaN                                  NaN                                  NaN                                  NaN                                   Yes                                        NaN                                        NaN                                        NaN                                 NaN                                      NaN                                 NaN                                 NaN                                 NaN  Petrol + CNG             78108                        4.0  \n",
       "2                              Perm. Blow By on idle                                     No                                 Hard                               Spongy                                  NaN                                  NaN                                  NaN                                  NaN                                  NaN                                   Yes                                        NaN                                        NaN                                        NaN                                 NaN                                      NaN                                 NaN                                 NaN                                 NaN        Diesel             93348                        3.5  \n",
       "3                                         NO Blow-by                                     No                                 Hard                                  NaN                                  NaN                                  NaN                                  NaN                                  NaN                                  NaN                                   Yes                                        NaN                                        NaN                                        NaN                                 NaN                                      NaN                                 NaN                                 NaN                                 NaN  Petrol + CNG             48233                        3.5  \n",
       "4                                         NO Blow-by                                     No                               Spongy                          Low Pick Up                                  NaN                                  NaN                                  NaN                                  NaN                                  NaN                                   Yes                                        NaN                                        NaN                                        NaN                                 NaN                                      NaN                                 NaN                                 NaN                                 NaN  Petrol + CNG             74368                        4.0  "
      ]
     },
     "execution_count": 78,
     "metadata": {},
     "output_type": "execute_result"
    }
   ],
   "source": [
    "data.head()"
   ]
  },
  {
   "cell_type": "code",
   "execution_count": 79,
   "metadata": {},
   "outputs": [],
   "source": [
    "## Null Counting Fucntion\n",
    "def null_values(df):\n",
    "    \n",
    "    sum_null = df.isnull().sum()\n",
    "    total = df.isnull().count()\n",
    "    percent_nullvalues = 100* sum_null / total \n",
    "    df_null = pd.DataFrame()\n",
    "    df_null['Total'] = total\n",
    "    df_null['Null_Count'] = sum_null\n",
    "    df_null['Percent'] = round(percent_nullvalues,2)\n",
    "    df_null = df_null.sort_values(by='Null_Count',ascending = False)\n",
    "    df_null = df_null[df_null.Null_Count > 0]\n",
    "    \n",
    "    return(df_null)"
   ]
  },
  {
   "cell_type": "code",
   "execution_count": 80,
   "metadata": {
    "scrolled": true
   },
   "outputs": [
    {
     "data": {
      "text/html": [
       "<div>\n",
       "<style scoped>\n",
       "    .dataframe tbody tr th:only-of-type {\n",
       "        vertical-align: middle;\n",
       "    }\n",
       "\n",
       "    .dataframe tbody tr th {\n",
       "        vertical-align: top;\n",
       "    }\n",
       "\n",
       "    .dataframe thead th {\n",
       "        text-align: right;\n",
       "    }\n",
       "</style>\n",
       "<table border=\"1\" class=\"dataframe\">\n",
       "  <thead>\n",
       "    <tr style=\"text-align: right;\">\n",
       "      <th></th>\n",
       "      <th>Total</th>\n",
       "      <th>Null_Count</th>\n",
       "      <th>Percent</th>\n",
       "    </tr>\n",
       "  </thead>\n",
       "  <tbody>\n",
       "    <tr>\n",
       "      <td>engineTransmission_engineOil_cc_value_9</td>\n",
       "      <td>26307</td>\n",
       "      <td>26307</td>\n",
       "      <td>100.00</td>\n",
       "    </tr>\n",
       "    <tr>\n",
       "      <td>engineTransmission_engine_cc_value_10</td>\n",
       "      <td>26307</td>\n",
       "      <td>26307</td>\n",
       "      <td>100.00</td>\n",
       "    </tr>\n",
       "    <tr>\n",
       "      <td>engineTransmission_clutch_cc_value_6</td>\n",
       "      <td>26307</td>\n",
       "      <td>26306</td>\n",
       "      <td>100.00</td>\n",
       "    </tr>\n",
       "    <tr>\n",
       "      <td>engineTransmission_engineOil_cc_value_8</td>\n",
       "      <td>26307</td>\n",
       "      <td>26305</td>\n",
       "      <td>99.99</td>\n",
       "    </tr>\n",
       "    <tr>\n",
       "      <td>engineTransmission_engine_cc_value_9</td>\n",
       "      <td>26307</td>\n",
       "      <td>26304</td>\n",
       "      <td>99.99</td>\n",
       "    </tr>\n",
       "    <tr>\n",
       "      <td>engineTransmission_battery_cc_value_4</td>\n",
       "      <td>26307</td>\n",
       "      <td>26303</td>\n",
       "      <td>99.98</td>\n",
       "    </tr>\n",
       "    <tr>\n",
       "      <td>engineTransmission_engine_cc_value_8</td>\n",
       "      <td>26307</td>\n",
       "      <td>26303</td>\n",
       "      <td>99.98</td>\n",
       "    </tr>\n",
       "    <tr>\n",
       "      <td>engineTransmission_clutch_cc_value_5</td>\n",
       "      <td>26307</td>\n",
       "      <td>26300</td>\n",
       "      <td>99.97</td>\n",
       "    </tr>\n",
       "    <tr>\n",
       "      <td>engineTransmission_coolant_cc_value_3</td>\n",
       "      <td>26307</td>\n",
       "      <td>26299</td>\n",
       "      <td>99.97</td>\n",
       "    </tr>\n",
       "    <tr>\n",
       "      <td>engineTransmission_engine_cc_value_7</td>\n",
       "      <td>26307</td>\n",
       "      <td>26299</td>\n",
       "      <td>99.97</td>\n",
       "    </tr>\n",
       "    <tr>\n",
       "      <td>engineTransmission_engineOil_cc_value_7</td>\n",
       "      <td>26307</td>\n",
       "      <td>26296</td>\n",
       "      <td>99.96</td>\n",
       "    </tr>\n",
       "    <tr>\n",
       "      <td>engineTransmission_comments_value_4</td>\n",
       "      <td>26307</td>\n",
       "      <td>26293</td>\n",
       "      <td>99.95</td>\n",
       "    </tr>\n",
       "    <tr>\n",
       "      <td>engineTransmission_battery_cc_value_3</td>\n",
       "      <td>26307</td>\n",
       "      <td>26291</td>\n",
       "      <td>99.94</td>\n",
       "    </tr>\n",
       "    <tr>\n",
       "      <td>engineTransmission_engine_cc_value_6</td>\n",
       "      <td>26307</td>\n",
       "      <td>26270</td>\n",
       "      <td>99.86</td>\n",
       "    </tr>\n",
       "    <tr>\n",
       "      <td>engineTransmission_clutch_cc_value_4</td>\n",
       "      <td>26307</td>\n",
       "      <td>26264</td>\n",
       "      <td>99.84</td>\n",
       "    </tr>\n",
       "    <tr>\n",
       "      <td>engineTransmission_comments_value_3</td>\n",
       "      <td>26307</td>\n",
       "      <td>26248</td>\n",
       "      <td>99.78</td>\n",
       "    </tr>\n",
       "    <tr>\n",
       "      <td>engineTransmission_gearShifting_cc_value_2</td>\n",
       "      <td>26307</td>\n",
       "      <td>26241</td>\n",
       "      <td>99.75</td>\n",
       "    </tr>\n",
       "    <tr>\n",
       "      <td>engineTransmission_battery_cc_value_2</td>\n",
       "      <td>26307</td>\n",
       "      <td>26235</td>\n",
       "      <td>99.73</td>\n",
       "    </tr>\n",
       "    <tr>\n",
       "      <td>engineTransmission_engine_cc_value_5</td>\n",
       "      <td>26307</td>\n",
       "      <td>26215</td>\n",
       "      <td>99.65</td>\n",
       "    </tr>\n",
       "    <tr>\n",
       "      <td>engineTransmission_engineOil_cc_value_6</td>\n",
       "      <td>26307</td>\n",
       "      <td>26186</td>\n",
       "      <td>99.54</td>\n",
       "    </tr>\n",
       "    <tr>\n",
       "      <td>engineTransmission_clutch_cc_value_3</td>\n",
       "      <td>26307</td>\n",
       "      <td>26148</td>\n",
       "      <td>99.40</td>\n",
       "    </tr>\n",
       "    <tr>\n",
       "      <td>engineTransmission_engineSound_cc_value_5</td>\n",
       "      <td>26307</td>\n",
       "      <td>26123</td>\n",
       "      <td>99.30</td>\n",
       "    </tr>\n",
       "    <tr>\n",
       "      <td>engineTransmission_coolant_cc_value_2</td>\n",
       "      <td>26307</td>\n",
       "      <td>26072</td>\n",
       "      <td>99.11</td>\n",
       "    </tr>\n",
       "    <tr>\n",
       "      <td>engineTransmission_engine_cc_value_4</td>\n",
       "      <td>26307</td>\n",
       "      <td>26011</td>\n",
       "      <td>98.87</td>\n",
       "    </tr>\n",
       "    <tr>\n",
       "      <td>engineTransmission_comments_value_2</td>\n",
       "      <td>26307</td>\n",
       "      <td>25917</td>\n",
       "      <td>98.52</td>\n",
       "    </tr>\n",
       "    <tr>\n",
       "      <td>engineTransmission_engineOilLevelDipstick_cc_value_0</td>\n",
       "      <td>26307</td>\n",
       "      <td>25896</td>\n",
       "      <td>98.44</td>\n",
       "    </tr>\n",
       "    <tr>\n",
       "      <td>engineTransmission_battery_cc_value_1</td>\n",
       "      <td>26307</td>\n",
       "      <td>25877</td>\n",
       "      <td>98.37</td>\n",
       "    </tr>\n",
       "    <tr>\n",
       "      <td>engineTransmission_engineOil_cc_value_5</td>\n",
       "      <td>26307</td>\n",
       "      <td>25698</td>\n",
       "      <td>97.69</td>\n",
       "    </tr>\n",
       "    <tr>\n",
       "      <td>engineTransmission_engineSound_cc_value_4</td>\n",
       "      <td>26307</td>\n",
       "      <td>25580</td>\n",
       "      <td>97.24</td>\n",
       "    </tr>\n",
       "    <tr>\n",
       "      <td>engineTransmission_gearShifting_cc_value_1</td>\n",
       "      <td>26307</td>\n",
       "      <td>25536</td>\n",
       "      <td>97.07</td>\n",
       "    </tr>\n",
       "    <tr>\n",
       "      <td>engineTransmission_clutch_cc_value_2</td>\n",
       "      <td>26307</td>\n",
       "      <td>25510</td>\n",
       "      <td>96.97</td>\n",
       "    </tr>\n",
       "    <tr>\n",
       "      <td>engineTransmission_engine_cc_value_3</td>\n",
       "      <td>26307</td>\n",
       "      <td>25403</td>\n",
       "      <td>96.56</td>\n",
       "    </tr>\n",
       "    <tr>\n",
       "      <td>engineTransmission_comments_value_1</td>\n",
       "      <td>26307</td>\n",
       "      <td>24999</td>\n",
       "      <td>95.03</td>\n",
       "    </tr>\n",
       "    <tr>\n",
       "      <td>engineTransmission_engineOil_cc_value_4</td>\n",
       "      <td>26307</td>\n",
       "      <td>24535</td>\n",
       "      <td>93.26</td>\n",
       "    </tr>\n",
       "    <tr>\n",
       "      <td>engineTransmission_engineSound_cc_value_3</td>\n",
       "      <td>26307</td>\n",
       "      <td>24155</td>\n",
       "      <td>91.82</td>\n",
       "    </tr>\n",
       "    <tr>\n",
       "      <td>engineTransmission_coolant_cc_value_1</td>\n",
       "      <td>26307</td>\n",
       "      <td>23944</td>\n",
       "      <td>91.02</td>\n",
       "    </tr>\n",
       "    <tr>\n",
       "      <td>engineTransmission_engine_cc_value_2</td>\n",
       "      <td>26307</td>\n",
       "      <td>23933</td>\n",
       "      <td>90.98</td>\n",
       "    </tr>\n",
       "    <tr>\n",
       "      <td>engineTransmission_battery_cc_value_0</td>\n",
       "      <td>26307</td>\n",
       "      <td>22869</td>\n",
       "      <td>86.93</td>\n",
       "    </tr>\n",
       "    <tr>\n",
       "      <td>engineTransmission_gearShifting_cc_value_0</td>\n",
       "      <td>26307</td>\n",
       "      <td>22843</td>\n",
       "      <td>86.83</td>\n",
       "    </tr>\n",
       "    <tr>\n",
       "      <td>engineTransmission_engineOil_cc_value_3</td>\n",
       "      <td>26307</td>\n",
       "      <td>22565</td>\n",
       "      <td>85.78</td>\n",
       "    </tr>\n",
       "    <tr>\n",
       "      <td>engineTransmission_comments_value_0</td>\n",
       "      <td>26307</td>\n",
       "      <td>22241</td>\n",
       "      <td>84.54</td>\n",
       "    </tr>\n",
       "    <tr>\n",
       "      <td>engineTransmission_clutch_cc_value_1</td>\n",
       "      <td>26307</td>\n",
       "      <td>22003</td>\n",
       "      <td>83.64</td>\n",
       "    </tr>\n",
       "    <tr>\n",
       "      <td>engineTransmission_engine_cc_value_1</td>\n",
       "      <td>26307</td>\n",
       "      <td>21223</td>\n",
       "      <td>80.67</td>\n",
       "    </tr>\n",
       "    <tr>\n",
       "      <td>engineTransmission_exhaustSmoke_cc_value_0</td>\n",
       "      <td>26307</td>\n",
       "      <td>20751</td>\n",
       "      <td>78.88</td>\n",
       "    </tr>\n",
       "    <tr>\n",
       "      <td>engineTransmission_engineSound_cc_value_2</td>\n",
       "      <td>26307</td>\n",
       "      <td>20235</td>\n",
       "      <td>76.92</td>\n",
       "    </tr>\n",
       "    <tr>\n",
       "      <td>engineTransmission_engineOil_cc_value_2</td>\n",
       "      <td>26307</td>\n",
       "      <td>19714</td>\n",
       "      <td>74.94</td>\n",
       "    </tr>\n",
       "    <tr>\n",
       "      <td>engineTransmission_engine_cc_value_0</td>\n",
       "      <td>26307</td>\n",
       "      <td>17237</td>\n",
       "      <td>65.52</td>\n",
       "    </tr>\n",
       "    <tr>\n",
       "      <td>engineTransmission_engineMounting_cc_value_0</td>\n",
       "      <td>26307</td>\n",
       "      <td>17020</td>\n",
       "      <td>64.70</td>\n",
       "    </tr>\n",
       "    <tr>\n",
       "      <td>engineTransmission_coolant_cc_value_0</td>\n",
       "      <td>26307</td>\n",
       "      <td>16271</td>\n",
       "      <td>61.85</td>\n",
       "    </tr>\n",
       "    <tr>\n",
       "      <td>engineTransmission_engineOil_cc_value_1</td>\n",
       "      <td>26307</td>\n",
       "      <td>15303</td>\n",
       "      <td>58.17</td>\n",
       "    </tr>\n",
       "    <tr>\n",
       "      <td>engineTransmission_clutch_cc_value_0</td>\n",
       "      <td>26307</td>\n",
       "      <td>14543</td>\n",
       "      <td>55.28</td>\n",
       "    </tr>\n",
       "    <tr>\n",
       "      <td>engineTransmission_engineSound_cc_value_1</td>\n",
       "      <td>26307</td>\n",
       "      <td>12802</td>\n",
       "      <td>48.66</td>\n",
       "    </tr>\n",
       "    <tr>\n",
       "      <td>engineTransmission_engineOil_cc_value_0</td>\n",
       "      <td>26307</td>\n",
       "      <td>7750</td>\n",
       "      <td>29.46</td>\n",
       "    </tr>\n",
       "    <tr>\n",
       "      <td>engineTransmission_engineSound_cc_value_0</td>\n",
       "      <td>26307</td>\n",
       "      <td>7227</td>\n",
       "      <td>27.47</td>\n",
       "    </tr>\n",
       "  </tbody>\n",
       "</table>\n",
       "</div>"
      ],
      "text/plain": [
       "                                                    Total  Null_Count  Percent\n",
       "engineTransmission_engineOil_cc_value_9             26307       26307   100.00\n",
       "engineTransmission_engine_cc_value_10               26307       26307   100.00\n",
       "engineTransmission_clutch_cc_value_6                26307       26306   100.00\n",
       "engineTransmission_engineOil_cc_value_8             26307       26305    99.99\n",
       "engineTransmission_engine_cc_value_9                26307       26304    99.99\n",
       "engineTransmission_battery_cc_value_4               26307       26303    99.98\n",
       "engineTransmission_engine_cc_value_8                26307       26303    99.98\n",
       "engineTransmission_clutch_cc_value_5                26307       26300    99.97\n",
       "engineTransmission_coolant_cc_value_3               26307       26299    99.97\n",
       "engineTransmission_engine_cc_value_7                26307       26299    99.97\n",
       "engineTransmission_engineOil_cc_value_7             26307       26296    99.96\n",
       "engineTransmission_comments_value_4                 26307       26293    99.95\n",
       "engineTransmission_battery_cc_value_3               26307       26291    99.94\n",
       "engineTransmission_engine_cc_value_6                26307       26270    99.86\n",
       "engineTransmission_clutch_cc_value_4                26307       26264    99.84\n",
       "engineTransmission_comments_value_3                 26307       26248    99.78\n",
       "engineTransmission_gearShifting_cc_value_2          26307       26241    99.75\n",
       "engineTransmission_battery_cc_value_2               26307       26235    99.73\n",
       "engineTransmission_engine_cc_value_5                26307       26215    99.65\n",
       "engineTransmission_engineOil_cc_value_6             26307       26186    99.54\n",
       "engineTransmission_clutch_cc_value_3                26307       26148    99.40\n",
       "engineTransmission_engineSound_cc_value_5           26307       26123    99.30\n",
       "engineTransmission_coolant_cc_value_2               26307       26072    99.11\n",
       "engineTransmission_engine_cc_value_4                26307       26011    98.87\n",
       "engineTransmission_comments_value_2                 26307       25917    98.52\n",
       "engineTransmission_engineOilLevelDipstick_cc_va...  26307       25896    98.44\n",
       "engineTransmission_battery_cc_value_1               26307       25877    98.37\n",
       "engineTransmission_engineOil_cc_value_5             26307       25698    97.69\n",
       "engineTransmission_engineSound_cc_value_4           26307       25580    97.24\n",
       "engineTransmission_gearShifting_cc_value_1          26307       25536    97.07\n",
       "engineTransmission_clutch_cc_value_2                26307       25510    96.97\n",
       "engineTransmission_engine_cc_value_3                26307       25403    96.56\n",
       "engineTransmission_comments_value_1                 26307       24999    95.03\n",
       "engineTransmission_engineOil_cc_value_4             26307       24535    93.26\n",
       "engineTransmission_engineSound_cc_value_3           26307       24155    91.82\n",
       "engineTransmission_coolant_cc_value_1               26307       23944    91.02\n",
       "engineTransmission_engine_cc_value_2                26307       23933    90.98\n",
       "engineTransmission_battery_cc_value_0               26307       22869    86.93\n",
       "engineTransmission_gearShifting_cc_value_0          26307       22843    86.83\n",
       "engineTransmission_engineOil_cc_value_3             26307       22565    85.78\n",
       "engineTransmission_comments_value_0                 26307       22241    84.54\n",
       "engineTransmission_clutch_cc_value_1                26307       22003    83.64\n",
       "engineTransmission_engine_cc_value_1                26307       21223    80.67\n",
       "engineTransmission_exhaustSmoke_cc_value_0          26307       20751    78.88\n",
       "engineTransmission_engineSound_cc_value_2           26307       20235    76.92\n",
       "engineTransmission_engineOil_cc_value_2             26307       19714    74.94\n",
       "engineTransmission_engine_cc_value_0                26307       17237    65.52\n",
       "engineTransmission_engineMounting_cc_value_0        26307       17020    64.70\n",
       "engineTransmission_coolant_cc_value_0               26307       16271    61.85\n",
       "engineTransmission_engineOil_cc_value_1             26307       15303    58.17\n",
       "engineTransmission_clutch_cc_value_0                26307       14543    55.28\n",
       "engineTransmission_engineSound_cc_value_1           26307       12802    48.66\n",
       "engineTransmission_engineOil_cc_value_0             26307        7750    29.46\n",
       "engineTransmission_engineSound_cc_value_0           26307        7227    27.47"
      ]
     },
     "execution_count": 80,
     "metadata": {},
     "output_type": "execute_result"
    }
   ],
   "source": [
    "null_values(data)"
   ]
  },
  {
   "cell_type": "code",
   "execution_count": 81,
   "metadata": {},
   "outputs": [
    {
     "data": {
      "text/plain": [
       "\"\\n\\nThe table shows that there are a lot of missing values.\\nHowever, fortunately, it is possible to fill in most of the blanks because 'NA' in the data below means 'None' or 0.\\nSeeing the csv files, we can recognize the facts.\\n\\n\""
      ]
     },
     "execution_count": 81,
     "metadata": {},
     "output_type": "execute_result"
    }
   ],
   "source": [
    "'''\n",
    "\n",
    "The table shows that there are a lot of missing values.\n",
    "However, fortunately, it is possible to fill in most of the blanks because 'NA' in the data below means 'None' or 0.\n",
    "Seeing the csv files, we can recognize the facts.\n",
    "\n",
    "'''"
   ]
  },
  {
   "cell_type": "code",
   "execution_count": 82,
   "metadata": {},
   "outputs": [],
   "source": [
    "for col in data.isnull().columns.to_list():\n",
    "     data[col] = data[col].fillna('None')"
   ]
  },
  {
   "cell_type": "code",
   "execution_count": 83,
   "metadata": {},
   "outputs": [
    {
     "data": {
      "text/html": [
       "<div>\n",
       "<style scoped>\n",
       "    .dataframe tbody tr th:only-of-type {\n",
       "        vertical-align: middle;\n",
       "    }\n",
       "\n",
       "    .dataframe tbody tr th {\n",
       "        vertical-align: top;\n",
       "    }\n",
       "\n",
       "    .dataframe thead th {\n",
       "        text-align: right;\n",
       "    }\n",
       "</style>\n",
       "<table border=\"1\" class=\"dataframe\">\n",
       "  <thead>\n",
       "    <tr style=\"text-align: right;\">\n",
       "      <th></th>\n",
       "      <th>Total</th>\n",
       "      <th>Null_Count</th>\n",
       "      <th>Percent</th>\n",
       "    </tr>\n",
       "  </thead>\n",
       "  <tbody>\n",
       "  </tbody>\n",
       "</table>\n",
       "</div>"
      ],
      "text/plain": [
       "Empty DataFrame\n",
       "Columns: [Total, Null_Count, Percent]\n",
       "Index: []"
      ]
     },
     "execution_count": 83,
     "metadata": {},
     "output_type": "execute_result"
    }
   ],
   "source": [
    "null_values(data)"
   ]
  },
  {
   "cell_type": "code",
   "execution_count": 84,
   "metadata": {},
   "outputs": [
    {
     "data": {
      "text/plain": [
       "4.0    10152\n",
       "3.5     5944\n",
       "3.0     4379\n",
       "4.5     2209\n",
       "5.0     1623\n",
       "1.0     1456\n",
       "2.5      420\n",
       "2.0      117\n",
       "1.5        6\n",
       "0.5        1\n",
       "Name: rating_engineTransmission, dtype: int64"
      ]
     },
     "execution_count": 84,
     "metadata": {},
     "output_type": "execute_result"
    }
   ],
   "source": [
    "data.rating_engineTransmission.value_counts()"
   ]
  },
  {
   "cell_type": "code",
   "execution_count": 85,
   "metadata": {},
   "outputs": [],
   "source": [
    "mapping = {0.5:'1' ,1.0:'2' ,1.5:'3', 2.0:'4' ,2.5:'5' ,3.0:'6' ,3.5:'7' ,4.0:'8' ,4.5:'9', 5.0:'10'}\n",
    "\n",
    "data.rating_engineTransmission = data.rating_engineTransmission.apply(lambda x: mapping[x])"
   ]
  },
  {
   "cell_type": "code",
   "execution_count": 86,
   "metadata": {},
   "outputs": [
    {
     "data": {
      "text/plain": [
       "8     10152\n",
       "7      5944\n",
       "6      4379\n",
       "9      2209\n",
       "10     1623\n",
       "2      1456\n",
       "5       420\n",
       "4       117\n",
       "3         6\n",
       "1         1\n",
       "Name: rating_engineTransmission, dtype: int64"
      ]
     },
     "execution_count": 86,
     "metadata": {},
     "output_type": "execute_result"
    }
   ],
   "source": [
    "data.rating_engineTransmission.value_counts()"
   ]
  },
  {
   "cell_type": "code",
   "execution_count": 87,
   "metadata": {},
   "outputs": [
    {
     "data": {
      "text/html": [
       "<div>\n",
       "<style scoped>\n",
       "    .dataframe tbody tr th:only-of-type {\n",
       "        vertical-align: middle;\n",
       "    }\n",
       "\n",
       "    .dataframe tbody tr th {\n",
       "        vertical-align: top;\n",
       "    }\n",
       "\n",
       "    .dataframe thead th {\n",
       "        text-align: right;\n",
       "    }\n",
       "</style>\n",
       "<table border=\"1\" class=\"dataframe\">\n",
       "  <thead>\n",
       "    <tr style=\"text-align: right;\">\n",
       "      <th></th>\n",
       "      <th>appointmentId</th>\n",
       "      <th>inspectionStartTime</th>\n",
       "      <th>year</th>\n",
       "      <th>month</th>\n",
       "      <th>engineTransmission_battery_value</th>\n",
       "      <th>engineTransmission_battery_cc_value_0</th>\n",
       "      <th>engineTransmission_battery_cc_value_1</th>\n",
       "      <th>engineTransmission_battery_cc_value_2</th>\n",
       "      <th>engineTransmission_battery_cc_value_3</th>\n",
       "      <th>engineTransmission_battery_cc_value_4</th>\n",
       "      <th>engineTransmission_engineoilLevelDipstick_value</th>\n",
       "      <th>engineTransmission_engineOilLevelDipstick_cc_value_0</th>\n",
       "      <th>engineTransmission_engineOil</th>\n",
       "      <th>engineTransmission_engineOil_cc_value_0</th>\n",
       "      <th>engineTransmission_engineOil_cc_value_1</th>\n",
       "      <th>engineTransmission_engineOil_cc_value_2</th>\n",
       "      <th>engineTransmission_engineOil_cc_value_3</th>\n",
       "      <th>engineTransmission_engineOil_cc_value_4</th>\n",
       "      <th>engineTransmission_engineOil_cc_value_5</th>\n",
       "      <th>engineTransmission_engineOil_cc_value_6</th>\n",
       "      <th>engineTransmission_engineOil_cc_value_7</th>\n",
       "      <th>engineTransmission_engineOil_cc_value_8</th>\n",
       "      <th>engineTransmission_engineOil_cc_value_9</th>\n",
       "      <th>engineTransmission_engine_value</th>\n",
       "      <th>engineTransmission_engine_cc_value_0</th>\n",
       "      <th>engineTransmission_engine_cc_value_1</th>\n",
       "      <th>engineTransmission_engine_cc_value_2</th>\n",
       "      <th>engineTransmission_engine_cc_value_3</th>\n",
       "      <th>engineTransmission_engine_cc_value_4</th>\n",
       "      <th>engineTransmission_engine_cc_value_5</th>\n",
       "      <th>engineTransmission_engine_cc_value_6</th>\n",
       "      <th>engineTransmission_engine_cc_value_7</th>\n",
       "      <th>engineTransmission_engine_cc_value_8</th>\n",
       "      <th>engineTransmission_engine_cc_value_9</th>\n",
       "      <th>engineTransmission_engine_cc_value_10</th>\n",
       "      <th>engineTransmission_coolant_value</th>\n",
       "      <th>engineTransmission_coolant_cc_value_0</th>\n",
       "      <th>engineTransmission_coolant_cc_value_1</th>\n",
       "      <th>engineTransmission_coolant_cc_value_2</th>\n",
       "      <th>engineTransmission_coolant_cc_value_3</th>\n",
       "      <th>engineTransmission_engineMounting_value</th>\n",
       "      <th>engineTransmission_engineMounting_cc_value_0</th>\n",
       "      <th>engineTransmission_engineSound_value</th>\n",
       "      <th>engineTransmission_engineSound_cc_value_0</th>\n",
       "      <th>engineTransmission_engineSound_cc_value_1</th>\n",
       "      <th>engineTransmission_engineSound_cc_value_2</th>\n",
       "      <th>engineTransmission_engineSound_cc_value_3</th>\n",
       "      <th>engineTransmission_engineSound_cc_value_4</th>\n",
       "      <th>engineTransmission_engineSound_cc_value_5</th>\n",
       "      <th>engineTransmission_exhaustSmoke_value</th>\n",
       "      <th>engineTransmission_exhaustSmoke_cc_value_0</th>\n",
       "      <th>engineTransmission_engineBlowByBackCompression_value</th>\n",
       "      <th>engineTransmission_engineBlowByBackCompression_cc_value_0</th>\n",
       "      <th>engineTransmission_clutch_value</th>\n",
       "      <th>engineTransmission_clutch_cc_value_0</th>\n",
       "      <th>engineTransmission_clutch_cc_value_1</th>\n",
       "      <th>engineTransmission_clutch_cc_value_2</th>\n",
       "      <th>engineTransmission_clutch_cc_value_3</th>\n",
       "      <th>engineTransmission_clutch_cc_value_4</th>\n",
       "      <th>engineTransmission_clutch_cc_value_5</th>\n",
       "      <th>engineTransmission_clutch_cc_value_6</th>\n",
       "      <th>engineTransmission_gearShifting_value</th>\n",
       "      <th>engineTransmission_gearShifting_cc_value_0</th>\n",
       "      <th>engineTransmission_gearShifting_cc_value_1</th>\n",
       "      <th>engineTransmission_gearShifting_cc_value_2</th>\n",
       "      <th>engineTransmission_comments_value_0</th>\n",
       "      <th>engineTransmission_comments_value_1</th>\n",
       "      <th>engineTransmission_comments_value_2</th>\n",
       "      <th>engineTransmission_comments_value_3</th>\n",
       "      <th>engineTransmission_comments_value_4</th>\n",
       "      <th>fuel_type</th>\n",
       "      <th>odometer_reading</th>\n",
       "      <th>rating_engineTransmission</th>\n",
       "    </tr>\n",
       "  </thead>\n",
       "  <tbody>\n",
       "    <tr>\n",
       "      <td>16022</td>\n",
       "      <td>aj_16023</td>\n",
       "      <td>2019-04-02 17:39:25</td>\n",
       "      <td>2004</td>\n",
       "      <td>1</td>\n",
       "      <td>Yes</td>\n",
       "      <td>None</td>\n",
       "      <td>None</td>\n",
       "      <td>None</td>\n",
       "      <td>None</td>\n",
       "      <td>None</td>\n",
       "      <td>Yes</td>\n",
       "      <td>None</td>\n",
       "      <td>No</td>\n",
       "      <td>Dirty</td>\n",
       "      <td>Leakage from Tappet Cover</td>\n",
       "      <td>Leakage from Side cover</td>\n",
       "      <td>None</td>\n",
       "      <td>None</td>\n",
       "      <td>None</td>\n",
       "      <td>None</td>\n",
       "      <td>None</td>\n",
       "      <td>None</td>\n",
       "      <td>None</td>\n",
       "      <td>No</td>\n",
       "      <td>RPM fluctuating</td>\n",
       "      <td>None</td>\n",
       "      <td>None</td>\n",
       "      <td>None</td>\n",
       "      <td>None</td>\n",
       "      <td>None</td>\n",
       "      <td>None</td>\n",
       "      <td>None</td>\n",
       "      <td>None</td>\n",
       "      <td>None</td>\n",
       "      <td>None</td>\n",
       "      <td>No</td>\n",
       "      <td>Dirty</td>\n",
       "      <td>None</td>\n",
       "      <td>None</td>\n",
       "      <td>None</td>\n",
       "      <td>No</td>\n",
       "      <td>Excess Vibration</td>\n",
       "      <td>No</td>\n",
       "      <td>Alternator Brg Noise</td>\n",
       "      <td>Timing Noise</td>\n",
       "      <td>None</td>\n",
       "      <td>None</td>\n",
       "      <td>None</td>\n",
       "      <td>None</td>\n",
       "      <td>No</td>\n",
       "      <td>Silencer assembly damaged</td>\n",
       "      <td>Yes</td>\n",
       "      <td>NO Blow-by</td>\n",
       "      <td>Yes</td>\n",
       "      <td>None</td>\n",
       "      <td>None</td>\n",
       "      <td>None</td>\n",
       "      <td>None</td>\n",
       "      <td>None</td>\n",
       "      <td>None</td>\n",
       "      <td>None</td>\n",
       "      <td>Yes</td>\n",
       "      <td>None</td>\n",
       "      <td>None</td>\n",
       "      <td>None</td>\n",
       "      <td>None</td>\n",
       "      <td>None</td>\n",
       "      <td>None</td>\n",
       "      <td>None</td>\n",
       "      <td>None</td>\n",
       "      <td>Petrol + CNG</td>\n",
       "      <td>54761</td>\n",
       "      <td>1</td>\n",
       "    </tr>\n",
       "  </tbody>\n",
       "</table>\n",
       "</div>"
      ],
      "text/plain": [
       "      appointmentId inspectionStartTime  year  month engineTransmission_battery_value engineTransmission_battery_cc_value_0 engineTransmission_battery_cc_value_1 engineTransmission_battery_cc_value_2 engineTransmission_battery_cc_value_3 engineTransmission_battery_cc_value_4 engineTransmission_engineoilLevelDipstick_value engineTransmission_engineOilLevelDipstick_cc_value_0 engineTransmission_engineOil engineTransmission_engineOil_cc_value_0 engineTransmission_engineOil_cc_value_1 engineTransmission_engineOil_cc_value_2 engineTransmission_engineOil_cc_value_3 engineTransmission_engineOil_cc_value_4 engineTransmission_engineOil_cc_value_5 engineTransmission_engineOil_cc_value_6 engineTransmission_engineOil_cc_value_7 engineTransmission_engineOil_cc_value_8 engineTransmission_engineOil_cc_value_9 engineTransmission_engine_value engineTransmission_engine_cc_value_0 engineTransmission_engine_cc_value_1 engineTransmission_engine_cc_value_2 engineTransmission_engine_cc_value_3  \\\n",
       "16022      aj_16023 2019-04-02 17:39:25  2004      1                              Yes                                  None                                  None                                  None                                  None                                  None                                             Yes                                               None                             No                                   Dirty               Leakage from Tappet Cover                 Leakage from Side cover                                    None                                    None                                    None                                    None                                    None                                    None                                    None                              No                      RPM fluctuating                                 None                                 None                                 None   \n",
       "\n",
       "      engineTransmission_engine_cc_value_4 engineTransmission_engine_cc_value_5 engineTransmission_engine_cc_value_6 engineTransmission_engine_cc_value_7 engineTransmission_engine_cc_value_8 engineTransmission_engine_cc_value_9 engineTransmission_engine_cc_value_10 engineTransmission_coolant_value engineTransmission_coolant_cc_value_0 engineTransmission_coolant_cc_value_1 engineTransmission_coolant_cc_value_2 engineTransmission_coolant_cc_value_3 engineTransmission_engineMounting_value engineTransmission_engineMounting_cc_value_0 engineTransmission_engineSound_value engineTransmission_engineSound_cc_value_0 engineTransmission_engineSound_cc_value_1 engineTransmission_engineSound_cc_value_2 engineTransmission_engineSound_cc_value_3 engineTransmission_engineSound_cc_value_4 engineTransmission_engineSound_cc_value_5 engineTransmission_exhaustSmoke_value engineTransmission_exhaustSmoke_cc_value_0 engineTransmission_engineBlowByBackCompression_value  \\\n",
       "16022                                 None                                 None                                 None                                 None                                 None                                 None                                  None                               No                                 Dirty                                  None                                  None                                  None                                      No                             Excess Vibration                                   No                      Alternator Brg Noise                              Timing Noise                                      None                                      None                                      None                                      None                                    No                  Silencer assembly damaged                                                Yes     \n",
       "\n",
       "      engineTransmission_engineBlowByBackCompression_cc_value_0 engineTransmission_clutch_value engineTransmission_clutch_cc_value_0 engineTransmission_clutch_cc_value_1 engineTransmission_clutch_cc_value_2 engineTransmission_clutch_cc_value_3 engineTransmission_clutch_cc_value_4 engineTransmission_clutch_cc_value_5 engineTransmission_clutch_cc_value_6 engineTransmission_gearShifting_value engineTransmission_gearShifting_cc_value_0 engineTransmission_gearShifting_cc_value_1 engineTransmission_gearShifting_cc_value_2 engineTransmission_comments_value_0 engineTransmission_comments_value_1 engineTransmission_comments_value_2 engineTransmission_comments_value_3 engineTransmission_comments_value_4     fuel_type  odometer_reading rating_engineTransmission  \n",
       "16022                                         NO Blow-by                                    Yes                                 None                                 None                                 None                                 None                                 None                                 None                                 None                                   Yes                                       None                                       None                                       None                                None                                None                                None                                None                                None  Petrol + CNG             54761                         1  "
      ]
     },
     "execution_count": 87,
     "metadata": {},
     "output_type": "execute_result"
    }
   ],
   "source": [
    "data[data.rating_engineTransmission=='1']"
   ]
  },
  {
   "cell_type": "code",
   "execution_count": 88,
   "metadata": {},
   "outputs": [],
   "source": [
    "from datetime import datetime\n",
    "from dateutil import relativedelta\n",
    "\n",
    "data['inspectionStartTime']=data['inspectionStartTime'].apply(lambda x : datetime.strftime(x, '%Y-%m'))\n",
    "data['inspectionStartTime']=data['inspectionStartTime'].apply(lambda x : datetime.strptime(x, '%Y-%m'))\n"
   ]
  },
  {
   "cell_type": "code",
   "execution_count": 89,
   "metadata": {},
   "outputs": [],
   "source": [
    "data['registration_date']=data['year'].apply(lambda x: str(x)+'-')+data['month'].apply(lambda x: str(x))"
   ]
  },
  {
   "cell_type": "code",
   "execution_count": 90,
   "metadata": {},
   "outputs": [],
   "source": [
    "data['registration_date']=data['registration_date'].apply(lambda x :datetime.strptime(x, '%Y-%m'))"
   ]
  },
  {
   "cell_type": "code",
   "execution_count": 91,
   "metadata": {},
   "outputs": [],
   "source": [
    "data['Duration'] = [relativedelta.relativedelta(dx, dy).months for dx,dy in zip(data.inspectionStartTime,data.registration_date)]"
   ]
  },
  {
   "cell_type": "code",
   "execution_count": 92,
   "metadata": {},
   "outputs": [],
   "source": [
    "appointmentId = data['appointmentId']\n",
    "data.drop(['appointmentId','year','month','registration_date','inspectionStartTime'],1,inplace=True)"
   ]
  },
  {
   "cell_type": "code",
   "execution_count": 93,
   "metadata": {},
   "outputs": [],
   "source": [
    "cols = data.select_dtypes(include=['object']).columns.to_list()"
   ]
  },
  {
   "cell_type": "code",
   "execution_count": 94,
   "metadata": {},
   "outputs": [],
   "source": [
    "for i in cols:\n",
    "    lbl = LabelEncoder() \n",
    "    lbl.fit(list(data[i].values)) \n",
    "    data[i] = lbl.transform(list(data[i].values))"
   ]
  },
  {
   "cell_type": "code",
   "execution_count": 95,
   "metadata": {},
   "outputs": [
    {
     "data": {
      "text/html": [
       "<div>\n",
       "<style scoped>\n",
       "    .dataframe tbody tr th:only-of-type {\n",
       "        vertical-align: middle;\n",
       "    }\n",
       "\n",
       "    .dataframe tbody tr th {\n",
       "        vertical-align: top;\n",
       "    }\n",
       "\n",
       "    .dataframe thead th {\n",
       "        text-align: right;\n",
       "    }\n",
       "</style>\n",
       "<table border=\"1\" class=\"dataframe\">\n",
       "  <thead>\n",
       "    <tr style=\"text-align: right;\">\n",
       "      <th></th>\n",
       "      <th>engineTransmission_battery_value</th>\n",
       "      <th>engineTransmission_battery_cc_value_0</th>\n",
       "      <th>engineTransmission_battery_cc_value_1</th>\n",
       "      <th>engineTransmission_battery_cc_value_2</th>\n",
       "      <th>engineTransmission_battery_cc_value_3</th>\n",
       "      <th>engineTransmission_battery_cc_value_4</th>\n",
       "      <th>engineTransmission_engineoilLevelDipstick_value</th>\n",
       "      <th>engineTransmission_engineOilLevelDipstick_cc_value_0</th>\n",
       "      <th>engineTransmission_engineOil</th>\n",
       "      <th>engineTransmission_engineOil_cc_value_0</th>\n",
       "      <th>engineTransmission_engineOil_cc_value_1</th>\n",
       "      <th>engineTransmission_engineOil_cc_value_2</th>\n",
       "      <th>engineTransmission_engineOil_cc_value_3</th>\n",
       "      <th>engineTransmission_engineOil_cc_value_4</th>\n",
       "      <th>engineTransmission_engineOil_cc_value_5</th>\n",
       "      <th>engineTransmission_engineOil_cc_value_6</th>\n",
       "      <th>engineTransmission_engineOil_cc_value_7</th>\n",
       "      <th>engineTransmission_engineOil_cc_value_8</th>\n",
       "      <th>engineTransmission_engineOil_cc_value_9</th>\n",
       "      <th>engineTransmission_engine_value</th>\n",
       "      <th>engineTransmission_engine_cc_value_0</th>\n",
       "      <th>engineTransmission_engine_cc_value_1</th>\n",
       "      <th>engineTransmission_engine_cc_value_2</th>\n",
       "      <th>engineTransmission_engine_cc_value_3</th>\n",
       "      <th>engineTransmission_engine_cc_value_4</th>\n",
       "      <th>engineTransmission_engine_cc_value_5</th>\n",
       "      <th>engineTransmission_engine_cc_value_6</th>\n",
       "      <th>engineTransmission_engine_cc_value_7</th>\n",
       "      <th>engineTransmission_engine_cc_value_8</th>\n",
       "      <th>engineTransmission_engine_cc_value_9</th>\n",
       "      <th>engineTransmission_engine_cc_value_10</th>\n",
       "      <th>engineTransmission_coolant_value</th>\n",
       "      <th>engineTransmission_coolant_cc_value_0</th>\n",
       "      <th>engineTransmission_coolant_cc_value_1</th>\n",
       "      <th>engineTransmission_coolant_cc_value_2</th>\n",
       "      <th>engineTransmission_coolant_cc_value_3</th>\n",
       "      <th>engineTransmission_engineMounting_value</th>\n",
       "      <th>engineTransmission_engineMounting_cc_value_0</th>\n",
       "      <th>engineTransmission_engineSound_value</th>\n",
       "      <th>engineTransmission_engineSound_cc_value_0</th>\n",
       "      <th>engineTransmission_engineSound_cc_value_1</th>\n",
       "      <th>engineTransmission_engineSound_cc_value_2</th>\n",
       "      <th>engineTransmission_engineSound_cc_value_3</th>\n",
       "      <th>engineTransmission_engineSound_cc_value_4</th>\n",
       "      <th>engineTransmission_engineSound_cc_value_5</th>\n",
       "      <th>engineTransmission_exhaustSmoke_value</th>\n",
       "      <th>engineTransmission_exhaustSmoke_cc_value_0</th>\n",
       "      <th>engineTransmission_engineBlowByBackCompression_value</th>\n",
       "      <th>engineTransmission_engineBlowByBackCompression_cc_value_0</th>\n",
       "      <th>engineTransmission_clutch_value</th>\n",
       "      <th>engineTransmission_clutch_cc_value_0</th>\n",
       "      <th>engineTransmission_clutch_cc_value_1</th>\n",
       "      <th>engineTransmission_clutch_cc_value_2</th>\n",
       "      <th>engineTransmission_clutch_cc_value_3</th>\n",
       "      <th>engineTransmission_clutch_cc_value_4</th>\n",
       "      <th>engineTransmission_clutch_cc_value_5</th>\n",
       "      <th>engineTransmission_clutch_cc_value_6</th>\n",
       "      <th>engineTransmission_gearShifting_value</th>\n",
       "      <th>engineTransmission_gearShifting_cc_value_0</th>\n",
       "      <th>engineTransmission_gearShifting_cc_value_1</th>\n",
       "      <th>engineTransmission_gearShifting_cc_value_2</th>\n",
       "      <th>engineTransmission_comments_value_0</th>\n",
       "      <th>engineTransmission_comments_value_1</th>\n",
       "      <th>engineTransmission_comments_value_2</th>\n",
       "      <th>engineTransmission_comments_value_3</th>\n",
       "      <th>engineTransmission_comments_value_4</th>\n",
       "      <th>fuel_type</th>\n",
       "      <th>odometer_reading</th>\n",
       "      <th>rating_engineTransmission</th>\n",
       "      <th>Duration</th>\n",
       "    </tr>\n",
       "  </thead>\n",
       "  <tbody>\n",
       "    <tr>\n",
       "      <td>0</td>\n",
       "      <td>0</td>\n",
       "      <td>5</td>\n",
       "      <td>3</td>\n",
       "      <td>3</td>\n",
       "      <td>2</td>\n",
       "      <td>1</td>\n",
       "      <td>1</td>\n",
       "      <td>1</td>\n",
       "      <td>0</td>\n",
       "      <td>5</td>\n",
       "      <td>0</td>\n",
       "      <td>3</td>\n",
       "      <td>0</td>\n",
       "      <td>5</td>\n",
       "      <td>4</td>\n",
       "      <td>3</td>\n",
       "      <td>2</td>\n",
       "      <td>1</td>\n",
       "      <td>0</td>\n",
       "      <td>0</td>\n",
       "      <td>9</td>\n",
       "      <td>3</td>\n",
       "      <td>4</td>\n",
       "      <td>4</td>\n",
       "      <td>4</td>\n",
       "      <td>3</td>\n",
       "      <td>3</td>\n",
       "      <td>1</td>\n",
       "      <td>0</td>\n",
       "      <td>1</td>\n",
       "      <td>0</td>\n",
       "      <td>0</td>\n",
       "      <td>1</td>\n",
       "      <td>0</td>\n",
       "      <td>1</td>\n",
       "      <td>1</td>\n",
       "      <td>0</td>\n",
       "      <td>1</td>\n",
       "      <td>0</td>\n",
       "      <td>0</td>\n",
       "      <td>6</td>\n",
       "      <td>4</td>\n",
       "      <td>3</td>\n",
       "      <td>0</td>\n",
       "      <td>2</td>\n",
       "      <td>0</td>\n",
       "      <td>6</td>\n",
       "      <td>0</td>\n",
       "      <td>0</td>\n",
       "      <td>0</td>\n",
       "      <td>7</td>\n",
       "      <td>4</td>\n",
       "      <td>4</td>\n",
       "      <td>4</td>\n",
       "      <td>3</td>\n",
       "      <td>1</td>\n",
       "      <td>1</td>\n",
       "      <td>1</td>\n",
       "      <td>3</td>\n",
       "      <td>2</td>\n",
       "      <td>2</td>\n",
       "      <td>4</td>\n",
       "      <td>6</td>\n",
       "      <td>2</td>\n",
       "      <td>0</td>\n",
       "      <td>0</td>\n",
       "      <td>4</td>\n",
       "      <td>124600</td>\n",
       "      <td>6</td>\n",
       "      <td>6</td>\n",
       "    </tr>\n",
       "    <tr>\n",
       "      <td>1</td>\n",
       "      <td>1</td>\n",
       "      <td>3</td>\n",
       "      <td>3</td>\n",
       "      <td>3</td>\n",
       "      <td>2</td>\n",
       "      <td>1</td>\n",
       "      <td>1</td>\n",
       "      <td>1</td>\n",
       "      <td>0</td>\n",
       "      <td>5</td>\n",
       "      <td>0</td>\n",
       "      <td>3</td>\n",
       "      <td>0</td>\n",
       "      <td>1</td>\n",
       "      <td>4</td>\n",
       "      <td>3</td>\n",
       "      <td>2</td>\n",
       "      <td>1</td>\n",
       "      <td>0</td>\n",
       "      <td>0</td>\n",
       "      <td>7</td>\n",
       "      <td>3</td>\n",
       "      <td>4</td>\n",
       "      <td>4</td>\n",
       "      <td>4</td>\n",
       "      <td>3</td>\n",
       "      <td>3</td>\n",
       "      <td>1</td>\n",
       "      <td>0</td>\n",
       "      <td>1</td>\n",
       "      <td>0</td>\n",
       "      <td>0</td>\n",
       "      <td>1</td>\n",
       "      <td>0</td>\n",
       "      <td>1</td>\n",
       "      <td>1</td>\n",
       "      <td>1</td>\n",
       "      <td>3</td>\n",
       "      <td>0</td>\n",
       "      <td>5</td>\n",
       "      <td>4</td>\n",
       "      <td>0</td>\n",
       "      <td>2</td>\n",
       "      <td>2</td>\n",
       "      <td>2</td>\n",
       "      <td>0</td>\n",
       "      <td>3</td>\n",
       "      <td>1</td>\n",
       "      <td>1</td>\n",
       "      <td>1</td>\n",
       "      <td>5</td>\n",
       "      <td>4</td>\n",
       "      <td>4</td>\n",
       "      <td>4</td>\n",
       "      <td>3</td>\n",
       "      <td>1</td>\n",
       "      <td>1</td>\n",
       "      <td>1</td>\n",
       "      <td>3</td>\n",
       "      <td>2</td>\n",
       "      <td>2</td>\n",
       "      <td>3</td>\n",
       "      <td>3</td>\n",
       "      <td>2</td>\n",
       "      <td>0</td>\n",
       "      <td>0</td>\n",
       "      <td>4</td>\n",
       "      <td>78108</td>\n",
       "      <td>8</td>\n",
       "      <td>8</td>\n",
       "    </tr>\n",
       "    <tr>\n",
       "      <td>2</td>\n",
       "      <td>1</td>\n",
       "      <td>3</td>\n",
       "      <td>3</td>\n",
       "      <td>3</td>\n",
       "      <td>2</td>\n",
       "      <td>1</td>\n",
       "      <td>1</td>\n",
       "      <td>1</td>\n",
       "      <td>0</td>\n",
       "      <td>0</td>\n",
       "      <td>8</td>\n",
       "      <td>7</td>\n",
       "      <td>6</td>\n",
       "      <td>5</td>\n",
       "      <td>4</td>\n",
       "      <td>3</td>\n",
       "      <td>2</td>\n",
       "      <td>1</td>\n",
       "      <td>0</td>\n",
       "      <td>1</td>\n",
       "      <td>4</td>\n",
       "      <td>4</td>\n",
       "      <td>4</td>\n",
       "      <td>4</td>\n",
       "      <td>4</td>\n",
       "      <td>3</td>\n",
       "      <td>3</td>\n",
       "      <td>1</td>\n",
       "      <td>0</td>\n",
       "      <td>1</td>\n",
       "      <td>0</td>\n",
       "      <td>0</td>\n",
       "      <td>0</td>\n",
       "      <td>2</td>\n",
       "      <td>1</td>\n",
       "      <td>1</td>\n",
       "      <td>0</td>\n",
       "      <td>1</td>\n",
       "      <td>0</td>\n",
       "      <td>0</td>\n",
       "      <td>1</td>\n",
       "      <td>2</td>\n",
       "      <td>2</td>\n",
       "      <td>2</td>\n",
       "      <td>2</td>\n",
       "      <td>0</td>\n",
       "      <td>0</td>\n",
       "      <td>1</td>\n",
       "      <td>3</td>\n",
       "      <td>0</td>\n",
       "      <td>3</td>\n",
       "      <td>6</td>\n",
       "      <td>4</td>\n",
       "      <td>4</td>\n",
       "      <td>3</td>\n",
       "      <td>1</td>\n",
       "      <td>1</td>\n",
       "      <td>1</td>\n",
       "      <td>3</td>\n",
       "      <td>2</td>\n",
       "      <td>2</td>\n",
       "      <td>3</td>\n",
       "      <td>3</td>\n",
       "      <td>2</td>\n",
       "      <td>0</td>\n",
       "      <td>0</td>\n",
       "      <td>0</td>\n",
       "      <td>93348</td>\n",
       "      <td>7</td>\n",
       "      <td>9</td>\n",
       "    </tr>\n",
       "    <tr>\n",
       "      <td>3</td>\n",
       "      <td>1</td>\n",
       "      <td>3</td>\n",
       "      <td>3</td>\n",
       "      <td>3</td>\n",
       "      <td>2</td>\n",
       "      <td>1</td>\n",
       "      <td>1</td>\n",
       "      <td>1</td>\n",
       "      <td>0</td>\n",
       "      <td>0</td>\n",
       "      <td>8</td>\n",
       "      <td>7</td>\n",
       "      <td>6</td>\n",
       "      <td>5</td>\n",
       "      <td>4</td>\n",
       "      <td>3</td>\n",
       "      <td>2</td>\n",
       "      <td>1</td>\n",
       "      <td>0</td>\n",
       "      <td>1</td>\n",
       "      <td>4</td>\n",
       "      <td>4</td>\n",
       "      <td>4</td>\n",
       "      <td>4</td>\n",
       "      <td>4</td>\n",
       "      <td>3</td>\n",
       "      <td>3</td>\n",
       "      <td>1</td>\n",
       "      <td>0</td>\n",
       "      <td>1</td>\n",
       "      <td>0</td>\n",
       "      <td>0</td>\n",
       "      <td>0</td>\n",
       "      <td>2</td>\n",
       "      <td>1</td>\n",
       "      <td>1</td>\n",
       "      <td>1</td>\n",
       "      <td>3</td>\n",
       "      <td>1</td>\n",
       "      <td>3</td>\n",
       "      <td>3</td>\n",
       "      <td>2</td>\n",
       "      <td>2</td>\n",
       "      <td>2</td>\n",
       "      <td>2</td>\n",
       "      <td>1</td>\n",
       "      <td>4</td>\n",
       "      <td>1</td>\n",
       "      <td>1</td>\n",
       "      <td>0</td>\n",
       "      <td>3</td>\n",
       "      <td>4</td>\n",
       "      <td>4</td>\n",
       "      <td>4</td>\n",
       "      <td>3</td>\n",
       "      <td>1</td>\n",
       "      <td>1</td>\n",
       "      <td>1</td>\n",
       "      <td>3</td>\n",
       "      <td>2</td>\n",
       "      <td>2</td>\n",
       "      <td>3</td>\n",
       "      <td>3</td>\n",
       "      <td>2</td>\n",
       "      <td>0</td>\n",
       "      <td>0</td>\n",
       "      <td>4</td>\n",
       "      <td>48233</td>\n",
       "      <td>7</td>\n",
       "      <td>0</td>\n",
       "    </tr>\n",
       "    <tr>\n",
       "      <td>4</td>\n",
       "      <td>1</td>\n",
       "      <td>3</td>\n",
       "      <td>3</td>\n",
       "      <td>3</td>\n",
       "      <td>2</td>\n",
       "      <td>1</td>\n",
       "      <td>1</td>\n",
       "      <td>1</td>\n",
       "      <td>0</td>\n",
       "      <td>5</td>\n",
       "      <td>3</td>\n",
       "      <td>7</td>\n",
       "      <td>6</td>\n",
       "      <td>5</td>\n",
       "      <td>4</td>\n",
       "      <td>3</td>\n",
       "      <td>2</td>\n",
       "      <td>1</td>\n",
       "      <td>0</td>\n",
       "      <td>0</td>\n",
       "      <td>7</td>\n",
       "      <td>6</td>\n",
       "      <td>3</td>\n",
       "      <td>4</td>\n",
       "      <td>4</td>\n",
       "      <td>3</td>\n",
       "      <td>3</td>\n",
       "      <td>1</td>\n",
       "      <td>0</td>\n",
       "      <td>1</td>\n",
       "      <td>0</td>\n",
       "      <td>1</td>\n",
       "      <td>3</td>\n",
       "      <td>2</td>\n",
       "      <td>1</td>\n",
       "      <td>1</td>\n",
       "      <td>0</td>\n",
       "      <td>1</td>\n",
       "      <td>0</td>\n",
       "      <td>5</td>\n",
       "      <td>4</td>\n",
       "      <td>0</td>\n",
       "      <td>2</td>\n",
       "      <td>2</td>\n",
       "      <td>2</td>\n",
       "      <td>0</td>\n",
       "      <td>6</td>\n",
       "      <td>1</td>\n",
       "      <td>1</td>\n",
       "      <td>0</td>\n",
       "      <td>7</td>\n",
       "      <td>3</td>\n",
       "      <td>4</td>\n",
       "      <td>4</td>\n",
       "      <td>3</td>\n",
       "      <td>1</td>\n",
       "      <td>1</td>\n",
       "      <td>1</td>\n",
       "      <td>3</td>\n",
       "      <td>2</td>\n",
       "      <td>2</td>\n",
       "      <td>3</td>\n",
       "      <td>3</td>\n",
       "      <td>2</td>\n",
       "      <td>0</td>\n",
       "      <td>0</td>\n",
       "      <td>4</td>\n",
       "      <td>74368</td>\n",
       "      <td>8</td>\n",
       "      <td>6</td>\n",
       "    </tr>\n",
       "  </tbody>\n",
       "</table>\n",
       "</div>"
      ],
      "text/plain": [
       "   engineTransmission_battery_value  engineTransmission_battery_cc_value_0  engineTransmission_battery_cc_value_1  engineTransmission_battery_cc_value_2  engineTransmission_battery_cc_value_3  engineTransmission_battery_cc_value_4  engineTransmission_engineoilLevelDipstick_value  engineTransmission_engineOilLevelDipstick_cc_value_0  engineTransmission_engineOil  engineTransmission_engineOil_cc_value_0  engineTransmission_engineOil_cc_value_1  engineTransmission_engineOil_cc_value_2  engineTransmission_engineOil_cc_value_3  engineTransmission_engineOil_cc_value_4  engineTransmission_engineOil_cc_value_5  engineTransmission_engineOil_cc_value_6  engineTransmission_engineOil_cc_value_7  engineTransmission_engineOil_cc_value_8  engineTransmission_engineOil_cc_value_9  engineTransmission_engine_value  engineTransmission_engine_cc_value_0  engineTransmission_engine_cc_value_1  engineTransmission_engine_cc_value_2  engineTransmission_engine_cc_value_3  engineTransmission_engine_cc_value_4  \\\n",
       "0                                 0                                      5                                      3                                      3                                      2                                      1                                                1                                                  1                                0                                        5                                        0                                        3                                        0                                        5                                        4                                        3                                        2                                        1                                        0                                0                                     9                                     3                                     4                                     4                                     4   \n",
       "1                                 1                                      3                                      3                                      3                                      2                                      1                                                1                                                  1                                0                                        5                                        0                                        3                                        0                                        1                                        4                                        3                                        2                                        1                                        0                                0                                     7                                     3                                     4                                     4                                     4   \n",
       "2                                 1                                      3                                      3                                      3                                      2                                      1                                                1                                                  1                                0                                        0                                        8                                        7                                        6                                        5                                        4                                        3                                        2                                        1                                        0                                1                                     4                                     4                                     4                                     4                                     4   \n",
       "3                                 1                                      3                                      3                                      3                                      2                                      1                                                1                                                  1                                0                                        0                                        8                                        7                                        6                                        5                                        4                                        3                                        2                                        1                                        0                                1                                     4                                     4                                     4                                     4                                     4   \n",
       "4                                 1                                      3                                      3                                      3                                      2                                      1                                                1                                                  1                                0                                        5                                        3                                        7                                        6                                        5                                        4                                        3                                        2                                        1                                        0                                0                                     7                                     6                                     3                                     4                                     4   \n",
       "\n",
       "   engineTransmission_engine_cc_value_5  engineTransmission_engine_cc_value_6  engineTransmission_engine_cc_value_7  engineTransmission_engine_cc_value_8  engineTransmission_engine_cc_value_9  engineTransmission_engine_cc_value_10  engineTransmission_coolant_value  engineTransmission_coolant_cc_value_0  engineTransmission_coolant_cc_value_1  engineTransmission_coolant_cc_value_2  engineTransmission_coolant_cc_value_3  engineTransmission_engineMounting_value  engineTransmission_engineMounting_cc_value_0  engineTransmission_engineSound_value  engineTransmission_engineSound_cc_value_0  engineTransmission_engineSound_cc_value_1  engineTransmission_engineSound_cc_value_2  engineTransmission_engineSound_cc_value_3  engineTransmission_engineSound_cc_value_4  engineTransmission_engineSound_cc_value_5  engineTransmission_exhaustSmoke_value  engineTransmission_exhaustSmoke_cc_value_0  engineTransmission_engineBlowByBackCompression_value  \\\n",
       "0                                     3                                     3                                     1                                     0                                     1                                      0                                 0                                      1                                      0                                      1                                      1                                        0                                             1                                     0                                          0                                          6                                          4                                          3                                          0                                          2                                      0                                           6                                                  0      \n",
       "1                                     3                                     3                                     1                                     0                                     1                                      0                                 0                                      1                                      0                                      1                                      1                                        1                                             3                                     0                                          5                                          4                                          0                                          2                                          2                                          2                                      0                                           3                                                  1      \n",
       "2                                     3                                     3                                     1                                     0                                     1                                      0                                 0                                      0                                      2                                      1                                      1                                        0                                             1                                     0                                          0                                          1                                          2                                          2                                          2                                          2                                      0                                           0                                                  1      \n",
       "3                                     3                                     3                                     1                                     0                                     1                                      0                                 0                                      0                                      2                                      1                                      1                                        1                                             3                                     1                                          3                                          3                                          2                                          2                                          2                                          2                                      1                                           4                                                  1      \n",
       "4                                     3                                     3                                     1                                     0                                     1                                      0                                 1                                      3                                      2                                      1                                      1                                        0                                             1                                     0                                          5                                          4                                          0                                          2                                          2                                          2                                      0                                           6                                                  1      \n",
       "\n",
       "   engineTransmission_engineBlowByBackCompression_cc_value_0  engineTransmission_clutch_value  engineTransmission_clutch_cc_value_0  engineTransmission_clutch_cc_value_1  engineTransmission_clutch_cc_value_2  engineTransmission_clutch_cc_value_3  engineTransmission_clutch_cc_value_4  engineTransmission_clutch_cc_value_5  engineTransmission_clutch_cc_value_6  engineTransmission_gearShifting_value  engineTransmission_gearShifting_cc_value_0  engineTransmission_gearShifting_cc_value_1  engineTransmission_gearShifting_cc_value_2  engineTransmission_comments_value_0  engineTransmission_comments_value_1  engineTransmission_comments_value_2  engineTransmission_comments_value_3  engineTransmission_comments_value_4  fuel_type  odometer_reading  rating_engineTransmission  Duration  \n",
       "0                                                  0                                        0                                     7                                     4                                     4                                     4                                     3                                     1                                     1                                      1                                           3                                           2                                           2                                    4                                    6                                    2                                    0                                    0          4            124600                          6         6  \n",
       "1                                                  1                                        1                                     5                                     4                                     4                                     4                                     3                                     1                                     1                                      1                                           3                                           2                                           2                                    3                                    3                                    2                                    0                                    0          4             78108                          8         8  \n",
       "2                                                  3                                        0                                     3                                     6                                     4                                     4                                     3                                     1                                     1                                      1                                           3                                           2                                           2                                    3                                    3                                    2                                    0                                    0          0             93348                          7         9  \n",
       "3                                                  1                                        0                                     3                                     4                                     4                                     4                                     3                                     1                                     1                                      1                                           3                                           2                                           2                                    3                                    3                                    2                                    0                                    0          4             48233                          7         0  \n",
       "4                                                  1                                        0                                     7                                     3                                     4                                     4                                     3                                     1                                     1                                      1                                           3                                           2                                           2                                    3                                    3                                    2                                    0                                    0          4             74368                          8         6  "
      ]
     },
     "execution_count": 95,
     "metadata": {},
     "output_type": "execute_result"
    }
   ],
   "source": [
    "data.head()"
   ]
  },
  {
   "cell_type": "code",
   "execution_count": 96,
   "metadata": {},
   "outputs": [
    {
     "data": {
      "text/plain": [
       "odometer_readingLog    1.000000\n",
       "odometer_reading       0.813523\n",
       "Name: odometer_readingLog, dtype: float64"
      ]
     },
     "execution_count": 96,
     "metadata": {},
     "output_type": "execute_result"
    }
   ],
   "source": [
    "data['odometer_readingLog'] = np.log(data.odometer_reading)\n",
    "\n",
    "corr = data.corr().abs()\n",
    "corr.odometer_readingLog[corr.odometer_readingLog >= 0.5].sort_values(ascending=False)"
   ]
  },
  {
   "cell_type": "code",
   "execution_count": 97,
   "metadata": {},
   "outputs": [
    {
     "data": {
      "image/png": "[encoded data removed]",
      "text/plain": [
       "<Figure size 432x288 with 2 Axes>"
      ]
     },
     "metadata": {
      "needs_background": "light"
     },
     "output_type": "display_data"
    }
   ],
   "source": [
    "# By log tranformation, right skewed distribution can be a normal form.\n",
    "plt.subplot2grid((2,1),(0,0))\n",
    "data.odometer_reading.plot(kind='kde')\n",
    "plt.title('odometer_reading')\n",
    "\n",
    "plt.subplot2grid((2,1),(1,0))\n",
    "data.odometer_readingLog.plot(kind='kde')\n",
    "plt.title('odometer_readingLog')\n",
    "\n",
    "plt.subplots_adjust(hspace = 0.5, wspace = 0.3)\n",
    "plt.show()"
   ]
  },
  {
   "cell_type": "code",
   "execution_count": 98,
   "metadata": {},
   "outputs": [
    {
     "data": {
      "image/png": "[encoded data removed]",
      "text/plain": [
       "<Figure size 432x288 with 1 Axes>"
      ]
     },
     "metadata": {
      "needs_background": "light"
     },
     "output_type": "display_data"
    }
   ],
   "source": [
    "data.plot.scatter(x='rating_engineTransmission', y='odometer_readingLog', color = 'green')\n",
    "plt.show()"
   ]
  },
  {
   "cell_type": "code",
   "execution_count": 99,
   "metadata": {},
   "outputs": [
    {
     "name": "stdout",
     "output_type": "stream",
     "text": [
      "(25114, 71)\n"
     ]
    }
   ],
   "source": [
    "# Drop the outliers in odometer_readingLog through the 95% confidence interval below.\n",
    "for i in np.arange(10):\n",
    "    pno = data.odometer_readingLog[data.rating_engineTransmission == i+1]\n",
    "    n = len(pno)\n",
    "    mean = pno.mean()\n",
    "    std = pno.std()\n",
    "    upper_interval = mean + 1.96 * std\n",
    "    lower_interval = mean - 1.96 * std\n",
    "    data = data.drop(data[(data.rating_engineTransmission == i+1) & (data.odometer_readingLog > upper_interval)].index)\n",
    "    data = data.drop(data[(data.rating_engineTransmission == i+1) & (data.odometer_readingLog < lower_interval)].index)\n",
    "    \n",
    "print(data.shape)"
   ]
  },
  {
   "cell_type": "code",
   "execution_count": 100,
   "metadata": {},
   "outputs": [
    {
     "data": {
      "image/png": "[encoded data removed]",
      "text/plain": [
       "<Figure size 432x288 with 1 Axes>"
      ]
     },
     "metadata": {
      "needs_background": "light"
     },
     "output_type": "display_data"
    }
   ],
   "source": [
    "data.plot.scatter(x='rating_engineTransmission', y='odometer_readingLog', color = 'green')\n",
    "plt.show()"
   ]
  },
  {
   "cell_type": "code",
   "execution_count": 101,
   "metadata": {},
   "outputs": [
    {
     "data": {
      "application/vnd.plotly.v1+json": {
       "config": {
        "linkText": "Export to plot.ly",
        "plotlyServerURL": "https://plot.ly",
        "showLink": true
       },
       "data": [
        {
         "line": {
          "color": "rgba(255, 153, 51, 1.0)",
          "dash": "solid",
          "shape": "linear",
          "width": 1.3
         },
         "mode": "lines",
         "name": "Duration",
         "text": "",
         "type": "scatter",
         "x": [
          "(0,3)",
          "(1,0)",
          "(1,1)",
          "(1,2)",
          "(1,6)",
          "(1,8)",
          "(1,10)",
          "(1,9)",
          "(1,3)",
          "(1,11)",
          "(1,7)",
          "(1,5)",
          "(1,4)",
          "(2,0)",
          "(2,1)",
          "(2,2)",
          "(2,3)",
          "(2,11)",
          "(2,10)",
          "(2,9)",
          "(2,6)",
          "(2,8)",
          "(2,4)",
          "(2,5)",
          "(2,7)",
          "(3,2)",
          "(3,0)",
          "(3,1)",
          "(3,3)",
          "(3,8)",
          "(4,1)",
          "(4,2)",
          "(4,0)",
          "(4,3)",
          "(4,6)",
          "(4,8)",
          "(4,5)",
          "(4,10)",
          "(4,4)",
          "(4,7)",
          "(4,9)",
          "(4,11)",
          "(5,2)",
          "(5,0)",
          "(5,7)",
          "(5,1)",
          "(5,6)",
          "(5,3)",
          "(5,5)",
          "(5,9)",
          "(5,8)",
          "(5,10)",
          "(5,11)",
          "(5,4)",
          "(6,0)",
          "(6,2)",
          "(6,1)",
          "(6,9)",
          "(6,11)",
          "(6,10)",
          "(6,7)",
          "(6,3)",
          "(6,5)",
          "(6,6)",
          "(6,8)",
          "(6,4)",
          "(7,0)",
          "(7,1)",
          "(7,2)",
          "(7,3)",
          "(7,11)",
          "(7,10)",
          "(7,9)",
          "(7,8)",
          "(7,5)",
          "(7,7)",
          "(7,6)",
          "(7,4)",
          "(8,0)",
          "(8,1)",
          "(8,2)",
          "(8,10)",
          "(8,11)",
          "(8,3)",
          "(8,9)",
          "(8,8)",
          "(8,6)",
          "(8,5)",
          "(8,7)",
          "(8,4)",
          "(9,0)",
          "(9,1)",
          "(9,11)",
          "(9,2)",
          "(9,10)",
          "(9,3)",
          "(9,9)",
          "(9,7)",
          "(9,6)",
          "(9,5)",
          "(9,4)",
          "(9,8)"
         ],
         "y": [
          1,
          184,
          150,
          141,
          133,
          128,
          127,
          123,
          122,
          117,
          114,
          111,
          95,
          358,
          248,
          239,
          132,
          108,
          71,
          57,
          46,
          45,
          39,
          38,
          35,
          2,
          1,
          1,
          1,
          1,
          14,
          14,
          12,
          11,
          11,
          11,
          9,
          8,
          7,
          5,
          5,
          4,
          52,
          44,
          44,
          42,
          32,
          30,
          28,
          28,
          26,
          26,
          25,
          20,
          546,
          418,
          402,
          347,
          342,
          339,
          318,
          315,
          307,
          299,
          291,
          271,
          661,
          644,
          550,
          471,
          464,
          448,
          446,
          433,
          427,
          405,
          376,
          361,
          1164,
          990,
          963,
          846,
          846,
          790,
          756,
          680,
          672,
          657,
          650,
          624,
          256,
          233,
          208,
          190,
          180,
          175,
          166,
          148,
          146,
          140,
          139,
          138
         ]
        }
       ],
       "layout": {
        "legend": {
         "bgcolor": "#F5F6F9",
         "font": {
          "color": "#4D5663"
         }
        },
        "paper_bgcolor": "#F5F6F9",
        "plot_bgcolor": "#F5F6F9",
        "template": {
         "data": {
          "bar": [
           {
            "error_x": {
             "color": "#2a3f5f"
            },
            "error_y": {
             "color": "#2a3f5f"
            },
            "marker": {
             "line": {
              "color": "#E5ECF6",
              "width": 0.5
             }
            },
            "type": "bar"
           }
          ],
          "barpolar": [
           {
            "marker": {
             "line": {
              "color": "#E5ECF6",
              "width": 0.5
             }
            },
            "type": "barpolar"
           }
          ],
          "carpet": [
           {
            "aaxis": {
             "endlinecolor": "#2a3f5f",
             "gridcolor": "white",
             "linecolor": "white",
             "minorgridcolor": "white",
             "startlinecolor": "#2a3f5f"
            },
            "baxis": {
             "endlinecolor": "#2a3f5f",
             "gridcolor": "white",
             "linecolor": "white",
             "minorgridcolor": "white",
             "startlinecolor": "#2a3f5f"
            },
            "type": "carpet"
           }
          ],
          "choropleth": [
           {
            "colorbar": {
             "outlinewidth": 0,
             "ticks": ""
            },
            "type": "choropleth"
           }
          ],
          "contour": [
           {
            "colorbar": {
             "outlinewidth": 0,
             "ticks": ""
            },
            "colorscale": [
             [
              0,
              "#0d0887"
             ],
             [
              0.1111111111111111,
              "#46039f"
             ],
             [
              0.2222222222222222,
              "#7201a8"
             ],
             [
              0.3333333333333333,
              "#9c179e"
             ],
             [
              0.4444444444444444,
              "#bd3786"
             ],
             [
              0.5555555555555556,
              "#d8576b"
             ],
             [
              0.6666666666666666,
              "#ed7953"
             ],
             [
              0.7777777777777778,
              "#fb9f3a"
             ],
             [
              0.8888888888888888,
              "#fdca26"
             ],
             [
              1,
              "#f0f921"
             ]
            ],
            "type": "contour"
           }
          ],
          "contourcarpet": [
           {
            "colorbar": {
             "outlinewidth": 0,
             "ticks": ""
            },
            "type": "contourcarpet"
           }
          ],
          "heatmap": [
           {
            "colorbar": {
             "outlinewidth": 0,
             "ticks": ""
            },
            "colorscale": [
             [
              0,
              "#0d0887"
             ],
             [
              0.1111111111111111,
              "#46039f"
             ],
             [
              0.2222222222222222,
              "#7201a8"
             ],
             [
              0.3333333333333333,
              "#9c179e"
             ],
             [
              0.4444444444444444,
              "#bd3786"
             ],
             [
              0.5555555555555556,
              "#d8576b"
             ],
             [
              0.6666666666666666,
              "#ed7953"
             ],
             [
              0.7777777777777778,
              "#fb9f3a"
             ],
             [
              0.8888888888888888,
              "#fdca26"
             ],
             [
              1,
              "#f0f921"
             ]
            ],
            "type": "heatmap"
           }
          ],
          "heatmapgl": [
           {
            "colorbar": {
             "outlinewidth": 0,
             "ticks": ""
            },
            "colorscale": [
             [
              0,
              "#0d0887"
             ],
             [
              0.1111111111111111,
              "#46039f"
             ],
             [
              0.2222222222222222,
              "#7201a8"
             ],
             [
              0.3333333333333333,
              "#9c179e"
             ],
             [
              0.4444444444444444,
              "#bd3786"
             ],
             [
              0.5555555555555556,
              "#d8576b"
             ],
             [
              0.6666666666666666,
              "#ed7953"
             ],
             [
              0.7777777777777778,
              "#fb9f3a"
             ],
             [
              0.8888888888888888,
              "#fdca26"
             ],
             [
              1,
              "#f0f921"
             ]
            ],
            "type": "heatmapgl"
           }
          ],
          "histogram": [
           {
            "marker": {
             "colorbar": {
              "outlinewidth": 0,
              "ticks": ""
             }
            },
            "type": "histogram"
           }
          ],
          "histogram2d": [
           {
            "colorbar": {
             "outlinewidth": 0,
             "ticks": ""
            },
            "colorscale": [
             [
              0,
              "#0d0887"
             ],
             [
              0.1111111111111111,
              "#46039f"
             ],
             [
              0.2222222222222222,
              "#7201a8"
             ],
             [
              0.3333333333333333,
              "#9c179e"
             ],
             [
              0.4444444444444444,
              "#bd3786"
             ],
             [
              0.5555555555555556,
              "#d8576b"
             ],
             [
              0.6666666666666666,
              "#ed7953"
             ],
             [
              0.7777777777777778,
              "#fb9f3a"
             ],
             [
              0.8888888888888888,
              "#fdca26"
             ],
             [
              1,
              "#f0f921"
             ]
            ],
            "type": "histogram2d"
           }
          ],
          "histogram2dcontour": [
           {
            "colorbar": {
             "outlinewidth": 0,
             "ticks": ""
            },
            "colorscale": [
             [
              0,
              "#0d0887"
             ],
             [
              0.1111111111111111,
              "#46039f"
             ],
             [
              0.2222222222222222,
              "#7201a8"
             ],
             [
              0.3333333333333333,
              "#9c179e"
             ],
             [
              0.4444444444444444,
              "#bd3786"
             ],
             [
              0.5555555555555556,
              "#d8576b"
             ],
             [
              0.6666666666666666,
              "#ed7953"
             ],
             [
              0.7777777777777778,
              "#fb9f3a"
             ],
             [
              0.8888888888888888,
              "#fdca26"
             ],
             [
              1,
              "#f0f921"
             ]
            ],
            "type": "histogram2dcontour"
           }
          ],
          "mesh3d": [
           {
            "colorbar": {
             "outlinewidth": 0,
             "ticks": ""
            },
            "type": "mesh3d"
           }
          ],
          "parcoords": [
           {
            "line": {
             "colorbar": {
              "outlinewidth": 0,
              "ticks": ""
             }
            },
            "type": "parcoords"
           }
          ],
          "scatter": [
           {
            "marker": {
             "colorbar": {
              "outlinewidth": 0,
              "ticks": ""
             }
            },
            "type": "scatter"
           }
          ],
          "scatter3d": [
           {
            "line": {
             "colorbar": {
              "outlinewidth": 0,
              "ticks": ""
             }
            },
            "marker": {
             "colorbar": {
              "outlinewidth": 0,
              "ticks": ""
             }
            },
            "type": "scatter3d"
           }
          ],
          "scattercarpet": [
           {
            "marker": {
             "colorbar": {
              "outlinewidth": 0,
              "ticks": ""
             }
            },
            "type": "scattercarpet"
           }
          ],
          "scattergeo": [
           {
            "marker": {
             "colorbar": {
              "outlinewidth": 0,
              "ticks": ""
             }
            },
            "type": "scattergeo"
           }
          ],
          "scattergl": [
           {
            "marker": {
             "colorbar": {
              "outlinewidth": 0,
              "ticks": ""
             }
            },
            "type": "scattergl"
           }
          ],
          "scattermapbox": [
           {
            "marker": {
             "colorbar": {
              "outlinewidth": 0,
              "ticks": ""
             }
            },
            "type": "scattermapbox"
           }
          ],
          "scatterpolar": [
           {
            "marker": {
             "colorbar": {
              "outlinewidth": 0,
              "ticks": ""
             }
            },
            "type": "scatterpolar"
           }
          ],
          "scatterpolargl": [
           {
            "marker": {
             "colorbar": {
              "outlinewidth": 0,
              "ticks": ""
             }
            },
            "type": "scatterpolargl"
           }
          ],
          "scatterternary": [
           {
            "marker": {
             "colorbar": {
              "outlinewidth": 0,
              "ticks": ""
             }
            },
            "type": "scatterternary"
           }
          ],
          "surface": [
           {
            "colorbar": {
             "outlinewidth": 0,
             "ticks": ""
            },
            "colorscale": [
             [
              0,
              "#0d0887"
             ],
             [
              0.1111111111111111,
              "#46039f"
             ],
             [
              0.2222222222222222,
              "#7201a8"
             ],
             [
              0.3333333333333333,
              "#9c179e"
             ],
             [
              0.4444444444444444,
              "#bd3786"
             ],
             [
              0.5555555555555556,
              "#d8576b"
             ],
             [
              0.6666666666666666,
              "#ed7953"
             ],
             [
              0.7777777777777778,
              "#fb9f3a"
             ],
             [
              0.8888888888888888,
              "#fdca26"
             ],
             [
              1,
              "#f0f921"
             ]
            ],
            "type": "surface"
           }
          ],
          "table": [
           {
            "cells": {
             "fill": {
              "color": "#EBF0F8"
             },
             "line": {
              "color": "white"
             }
            },
            "header": {
             "fill": {
              "color": "#C8D4E3"
             },
             "line": {
              "color": "white"
             }
            },
            "type": "table"
           }
          ]
         },
         "layout": {
          "annotationdefaults": {
           "arrowcolor": "#2a3f5f",
           "arrowhead": 0,
           "arrowwidth": 1
          },
          "colorscale": {
           "diverging": [
            [
             0,
             "#8e0152"
            ],
            [
             0.1,
             "#c51b7d"
            ],
            [
             0.2,
             "#de77ae"
            ],
            [
             0.3,
             "#f1b6da"
            ],
            [
             0.4,
             "#fde0ef"
            ],
            [
             0.5,
             "#f7f7f7"
            ],
            [
             0.6,
             "#e6f5d0"
            ],
            [
             0.7,
             "#b8e186"
            ],
            [
             0.8,
             "#7fbc41"
            ],
            [
             0.9,
             "#4d9221"
            ],
            [
             1,
             "#276419"
            ]
           ],
           "sequential": [
            [
             0,
             "#0d0887"
            ],
            [
             0.1111111111111111,
             "#46039f"
            ],
            [
             0.2222222222222222,
             "#7201a8"
            ],
            [
             0.3333333333333333,
             "#9c179e"
            ],
            [
             0.4444444444444444,
             "#bd3786"
            ],
            [
             0.5555555555555556,
             "#d8576b"
            ],
            [
             0.6666666666666666,
             "#ed7953"
            ],
            [
             0.7777777777777778,
             "#fb9f3a"
            ],
            [
             0.8888888888888888,
             "#fdca26"
            ],
            [
             1,
             "#f0f921"
            ]
           ],
           "sequentialminus": [
            [
             0,
             "#0d0887"
            ],
            [
             0.1111111111111111,
             "#46039f"
            ],
            [
             0.2222222222222222,
             "#7201a8"
            ],
            [
             0.3333333333333333,
             "#9c179e"
            ],
            [
             0.4444444444444444,
             "#bd3786"
            ],
            [
             0.5555555555555556,
             "#d8576b"
            ],
            [
             0.6666666666666666,
             "#ed7953"
            ],
            [
             0.7777777777777778,
             "#fb9f3a"
            ],
            [
             0.8888888888888888,
             "#fdca26"
            ],
            [
             1,
             "#f0f921"
            ]
           ]
          },
          "colorway": [
           "#636efa",
           "#EF553B",
           "#00cc96",
           "#ab63fa",
           "#FFA15A",
           "#19d3f3",
           "#FF6692",
           "#B6E880",
           "#FF97FF",
           "#FECB52"
          ],
          "font": {
           "color": "#2a3f5f"
          },
          "geo": {
           "bgcolor": "white",
           "lakecolor": "white",
           "landcolor": "#E5ECF6",
           "showlakes": true,
           "showland": true,
           "subunitcolor": "white"
          },
          "hoverlabel": {
           "align": "left"
          },
          "hovermode": "closest",
          "mapbox": {
           "style": "light"
          },
          "paper_bgcolor": "white",
          "plot_bgcolor": "#E5ECF6",
          "polar": {
           "angularaxis": {
            "gridcolor": "white",
            "linecolor": "white",
            "ticks": ""
           },
           "bgcolor": "#E5ECF6",
           "radialaxis": {
            "gridcolor": "white",
            "linecolor": "white",
            "ticks": ""
           }
          },
          "scene": {
           "xaxis": {
            "backgroundcolor": "#E5ECF6",
            "gridcolor": "white",
            "gridwidth": 2,
            "linecolor": "white",
            "showbackground": true,
            "ticks": "",
            "zerolinecolor": "white"
           },
           "yaxis": {
            "backgroundcolor": "#E5ECF6",
            "gridcolor": "white",
            "gridwidth": 2,
            "linecolor": "white",
            "showbackground": true,
            "ticks": "",
            "zerolinecolor": "white"
           },
           "zaxis": {
            "backgroundcolor": "#E5ECF6",
            "gridcolor": "white",
            "gridwidth": 2,
            "linecolor": "white",
            "showbackground": true,
            "ticks": "",
            "zerolinecolor": "white"
           }
          },
          "shapedefaults": {
           "line": {
            "color": "#2a3f5f"
           }
          },
          "ternary": {
           "aaxis": {
            "gridcolor": "white",
            "linecolor": "white",
            "ticks": ""
           },
           "baxis": {
            "gridcolor": "white",
            "linecolor": "white",
            "ticks": ""
           },
           "bgcolor": "#E5ECF6",
           "caxis": {
            "gridcolor": "white",
            "linecolor": "white",
            "ticks": ""
           }
          },
          "title": {
           "x": 0.05
          },
          "xaxis": {
           "automargin": true,
           "gridcolor": "white",
           "linecolor": "white",
           "ticks": "",
           "zerolinecolor": "white",
           "zerolinewidth": 2
          },
          "yaxis": {
           "automargin": true,
           "gridcolor": "white",
           "linecolor": "white",
           "ticks": "",
           "zerolinecolor": "white",
           "zerolinewidth": 2
          }
         }
        },
        "title": {
         "font": {
          "color": "#4D5663"
         }
        },
        "xaxis": {
         "gridcolor": "#E1E5ED",
         "showgrid": true,
         "tickfont": {
          "color": "#4D5663"
         },
         "title": {
          "font": {
           "color": "#4D5663"
          },
          "text": ""
         },
         "zerolinecolor": "#E1E5ED"
        },
        "yaxis": {
         "gridcolor": "#E1E5ED",
         "showgrid": true,
         "tickfont": {
          "color": "#4D5663"
         },
         "title": {
          "font": {
           "color": "#4D5663"
          },
          "text": ""
         },
         "zerolinecolor": "#E1E5ED"
        }
       }
      },
      "text/html": [
       "<div>\n",
       "        \n",
       "        \n",
       "            <div id=\"172191c2-83e7-4978-bc83-619bda404cda\" class=\"plotly-graph-div\" style=\"height:525px; width:100%;\"></div>\n",
       "            <script type=\"text/javascript\">\n",
       "                require([\"plotly\"], function(Plotly) {\n",
       "                    window.PLOTLYENV=window.PLOTLYENV || {};\n",
       "                    window.PLOTLYENV.BASE_URL='https://plot.ly';\n",
       "                    \n",
       "                if (document.getElementById(\"172191c2-83e7-4978-bc83-619bda404cda\")) {\n",
       "                    Plotly.newPlot(\n",
       "                        '172191c2-83e7-4978-bc83-619bda404cda',\n",
       "                        [{\"line\": {\"color\": \"rgba(255, 153, 51, 1.0)\", \"dash\": \"solid\", \"shape\": \"linear\", \"width\": 1.3}, \"mode\": \"lines\", \"name\": \"Duration\", \"text\": \"\", \"type\": \"scatter\", \"x\": [\"(0,3)\", \"(1,0)\", \"(1,1)\", \"(1,2)\", \"(1,6)\", \"(1,8)\", \"(1,10)\", \"(1,9)\", \"(1,3)\", \"(1,11)\", \"(1,7)\", \"(1,5)\", \"(1,4)\", \"(2,0)\", \"(2,1)\", \"(2,2)\", \"(2,3)\", \"(2,11)\", \"(2,10)\", \"(2,9)\", \"(2,6)\", \"(2,8)\", \"(2,4)\", \"(2,5)\", \"(2,7)\", \"(3,2)\", \"(3,0)\", \"(3,1)\", \"(3,3)\", \"(3,8)\", \"(4,1)\", \"(4,2)\", \"(4,0)\", \"(4,3)\", \"(4,6)\", \"(4,8)\", \"(4,5)\", \"(4,10)\", \"(4,4)\", \"(4,7)\", \"(4,9)\", \"(4,11)\", \"(5,2)\", \"(5,0)\", \"(5,7)\", \"(5,1)\", \"(5,6)\", \"(5,3)\", \"(5,5)\", \"(5,9)\", \"(5,8)\", \"(5,10)\", \"(5,11)\", \"(5,4)\", \"(6,0)\", \"(6,2)\", \"(6,1)\", \"(6,9)\", \"(6,11)\", \"(6,10)\", \"(6,7)\", \"(6,3)\", \"(6,5)\", \"(6,6)\", \"(6,8)\", \"(6,4)\", \"(7,0)\", \"(7,1)\", \"(7,2)\", \"(7,3)\", \"(7,11)\", \"(7,10)\", \"(7,9)\", \"(7,8)\", \"(7,5)\", \"(7,7)\", \"(7,6)\", \"(7,4)\", \"(8,0)\", \"(8,1)\", \"(8,2)\", \"(8,10)\", \"(8,11)\", \"(8,3)\", \"(8,9)\", \"(8,8)\", \"(8,6)\", \"(8,5)\", \"(8,7)\", \"(8,4)\", \"(9,0)\", \"(9,1)\", \"(9,11)\", \"(9,2)\", \"(9,10)\", \"(9,3)\", \"(9,9)\", \"(9,7)\", \"(9,6)\", \"(9,5)\", \"(9,4)\", \"(9,8)\"], \"y\": [1, 184, 150, 141, 133, 128, 127, 123, 122, 117, 114, 111, 95, 358, 248, 239, 132, 108, 71, 57, 46, 45, 39, 38, 35, 2, 1, 1, 1, 1, 14, 14, 12, 11, 11, 11, 9, 8, 7, 5, 5, 4, 52, 44, 44, 42, 32, 30, 28, 28, 26, 26, 25, 20, 546, 418, 402, 347, 342, 339, 318, 315, 307, 299, 291, 271, 661, 644, 550, 471, 464, 448, 446, 433, 427, 405, 376, 361, 1164, 990, 963, 846, 846, 790, 756, 680, 672, 657, 650, 624, 256, 233, 208, 190, 180, 175, 166, 148, 146, 140, 139, 138]}],\n",
       "                        {\"legend\": {\"bgcolor\": \"#F5F6F9\", \"font\": {\"color\": \"#4D5663\"}}, \"paper_bgcolor\": \"#F5F6F9\", \"plot_bgcolor\": \"#F5F6F9\", \"template\": {\"data\": {\"bar\": [{\"error_x\": {\"color\": \"#2a3f5f\"}, \"error_y\": {\"color\": \"#2a3f5f\"}, \"marker\": {\"line\": {\"color\": \"#E5ECF6\", \"width\": 0.5}}, \"type\": \"bar\"}], \"barpolar\": [{\"marker\": {\"line\": {\"color\": \"#E5ECF6\", \"width\": 0.5}}, \"type\": \"barpolar\"}], \"carpet\": [{\"aaxis\": {\"endlinecolor\": \"#2a3f5f\", \"gridcolor\": \"white\", \"linecolor\": \"white\", \"minorgridcolor\": \"white\", \"startlinecolor\": \"#2a3f5f\"}, \"baxis\": {\"endlinecolor\": \"#2a3f5f\", \"gridcolor\": \"white\", \"linecolor\": \"white\", \"minorgridcolor\": \"white\", \"startlinecolor\": \"#2a3f5f\"}, \"type\": \"carpet\"}], \"choropleth\": [{\"colorbar\": {\"outlinewidth\": 0, \"ticks\": \"\"}, \"type\": \"choropleth\"}], \"contour\": [{\"colorbar\": {\"outlinewidth\": 0, \"ticks\": \"\"}, \"colorscale\": [[0.0, \"#0d0887\"], [0.1111111111111111, \"#46039f\"], [0.2222222222222222, \"#7201a8\"], [0.3333333333333333, \"#9c179e\"], [0.4444444444444444, \"#bd3786\"], [0.5555555555555556, \"#d8576b\"], [0.6666666666666666, \"#ed7953\"], [0.7777777777777778, \"#fb9f3a\"], [0.8888888888888888, \"#fdca26\"], [1.0, \"#f0f921\"]], \"type\": \"contour\"}], \"contourcarpet\": [{\"colorbar\": {\"outlinewidth\": 0, \"ticks\": \"\"}, \"type\": \"contourcarpet\"}], \"heatmap\": [{\"colorbar\": {\"outlinewidth\": 0, \"ticks\": \"\"}, \"colorscale\": [[0.0, \"#0d0887\"], [0.1111111111111111, \"#46039f\"], [0.2222222222222222, \"#7201a8\"], [0.3333333333333333, \"#9c179e\"], [0.4444444444444444, \"#bd3786\"], [0.5555555555555556, \"#d8576b\"], [0.6666666666666666, \"#ed7953\"], [0.7777777777777778, \"#fb9f3a\"], [0.8888888888888888, \"#fdca26\"], [1.0, \"#f0f921\"]], \"type\": \"heatmap\"}], \"heatmapgl\": [{\"colorbar\": {\"outlinewidth\": 0, \"ticks\": \"\"}, \"colorscale\": [[0.0, \"#0d0887\"], [0.1111111111111111, \"#46039f\"], [0.2222222222222222, \"#7201a8\"], [0.3333333333333333, \"#9c179e\"], [0.4444444444444444, \"#bd3786\"], [0.5555555555555556, \"#d8576b\"], [0.6666666666666666, \"#ed7953\"], [0.7777777777777778, \"#fb9f3a\"], [0.8888888888888888, \"#fdca26\"], [1.0, \"#f0f921\"]], \"type\": \"heatmapgl\"}], \"histogram\": [{\"marker\": {\"colorbar\": {\"outlinewidth\": 0, \"ticks\": \"\"}}, \"type\": \"histogram\"}], \"histogram2d\": [{\"colorbar\": {\"outlinewidth\": 0, \"ticks\": \"\"}, \"colorscale\": [[0.0, \"#0d0887\"], [0.1111111111111111, \"#46039f\"], [0.2222222222222222, \"#7201a8\"], [0.3333333333333333, \"#9c179e\"], [0.4444444444444444, \"#bd3786\"], [0.5555555555555556, \"#d8576b\"], [0.6666666666666666, \"#ed7953\"], [0.7777777777777778, \"#fb9f3a\"], [0.8888888888888888, \"#fdca26\"], [1.0, \"#f0f921\"]], \"type\": \"histogram2d\"}], \"histogram2dcontour\": [{\"colorbar\": {\"outlinewidth\": 0, \"ticks\": \"\"}, \"colorscale\": [[0.0, \"#0d0887\"], [0.1111111111111111, \"#46039f\"], [0.2222222222222222, \"#7201a8\"], [0.3333333333333333, \"#9c179e\"], [0.4444444444444444, \"#bd3786\"], [0.5555555555555556, \"#d8576b\"], [0.6666666666666666, \"#ed7953\"], [0.7777777777777778, \"#fb9f3a\"], [0.8888888888888888, \"#fdca26\"], [1.0, \"#f0f921\"]], \"type\": \"histogram2dcontour\"}], \"mesh3d\": [{\"colorbar\": {\"outlinewidth\": 0, \"ticks\": \"\"}, \"type\": \"mesh3d\"}], \"parcoords\": [{\"line\": {\"colorbar\": {\"outlinewidth\": 0, \"ticks\": \"\"}}, \"type\": \"parcoords\"}], \"scatter\": [{\"marker\": {\"colorbar\": {\"outlinewidth\": 0, \"ticks\": \"\"}}, \"type\": \"scatter\"}], \"scatter3d\": [{\"line\": {\"colorbar\": {\"outlinewidth\": 0, \"ticks\": \"\"}}, \"marker\": {\"colorbar\": {\"outlinewidth\": 0, \"ticks\": \"\"}}, \"type\": \"scatter3d\"}], \"scattercarpet\": [{\"marker\": {\"colorbar\": {\"outlinewidth\": 0, \"ticks\": \"\"}}, \"type\": \"scattercarpet\"}], \"scattergeo\": [{\"marker\": {\"colorbar\": {\"outlinewidth\": 0, \"ticks\": \"\"}}, \"type\": \"scattergeo\"}], \"scattergl\": [{\"marker\": {\"colorbar\": {\"outlinewidth\": 0, \"ticks\": \"\"}}, \"type\": \"scattergl\"}], \"scattermapbox\": [{\"marker\": {\"colorbar\": {\"outlinewidth\": 0, \"ticks\": \"\"}}, \"type\": \"scattermapbox\"}], \"scatterpolar\": [{\"marker\": {\"colorbar\": {\"outlinewidth\": 0, \"ticks\": \"\"}}, \"type\": \"scatterpolar\"}], \"scatterpolargl\": [{\"marker\": {\"colorbar\": {\"outlinewidth\": 0, \"ticks\": \"\"}}, \"type\": \"scatterpolargl\"}], \"scatterternary\": [{\"marker\": {\"colorbar\": {\"outlinewidth\": 0, \"ticks\": \"\"}}, \"type\": \"scatterternary\"}], \"surface\": [{\"colorbar\": {\"outlinewidth\": 0, \"ticks\": \"\"}, \"colorscale\": [[0.0, \"#0d0887\"], [0.1111111111111111, \"#46039f\"], [0.2222222222222222, \"#7201a8\"], [0.3333333333333333, \"#9c179e\"], [0.4444444444444444, \"#bd3786\"], [0.5555555555555556, \"#d8576b\"], [0.6666666666666666, \"#ed7953\"], [0.7777777777777778, \"#fb9f3a\"], [0.8888888888888888, \"#fdca26\"], [1.0, \"#f0f921\"]], \"type\": \"surface\"}], \"table\": [{\"cells\": {\"fill\": {\"color\": \"#EBF0F8\"}, \"line\": {\"color\": \"white\"}}, \"header\": {\"fill\": {\"color\": \"#C8D4E3\"}, \"line\": {\"color\": \"white\"}}, \"type\": \"table\"}]}, \"layout\": {\"annotationdefaults\": {\"arrowcolor\": \"#2a3f5f\", \"arrowhead\": 0, \"arrowwidth\": 1}, \"colorscale\": {\"diverging\": [[0, \"#8e0152\"], [0.1, \"#c51b7d\"], [0.2, \"#de77ae\"], [0.3, \"#f1b6da\"], [0.4, \"#fde0ef\"], [0.5, \"#f7f7f7\"], [0.6, \"#e6f5d0\"], [0.7, \"#b8e186\"], [0.8, \"#7fbc41\"], [0.9, \"#4d9221\"], [1, \"#276419\"]], \"sequential\": [[0.0, \"#0d0887\"], [0.1111111111111111, \"#46039f\"], [0.2222222222222222, \"#7201a8\"], [0.3333333333333333, \"#9c179e\"], [0.4444444444444444, \"#bd3786\"], [0.5555555555555556, \"#d8576b\"], [0.6666666666666666, \"#ed7953\"], [0.7777777777777778, \"#fb9f3a\"], [0.8888888888888888, \"#fdca26\"], [1.0, \"#f0f921\"]], \"sequentialminus\": [[0.0, \"#0d0887\"], [0.1111111111111111, \"#46039f\"], [0.2222222222222222, \"#7201a8\"], [0.3333333333333333, \"#9c179e\"], [0.4444444444444444, \"#bd3786\"], [0.5555555555555556, \"#d8576b\"], [0.6666666666666666, \"#ed7953\"], [0.7777777777777778, \"#fb9f3a\"], [0.8888888888888888, \"#fdca26\"], [1.0, \"#f0f921\"]]}, \"colorway\": [\"#636efa\", \"#EF553B\", \"#00cc96\", \"#ab63fa\", \"#FFA15A\", \"#19d3f3\", \"#FF6692\", \"#B6E880\", \"#FF97FF\", \"#FECB52\"], \"font\": {\"color\": \"#2a3f5f\"}, \"geo\": {\"bgcolor\": \"white\", \"lakecolor\": \"white\", \"landcolor\": \"#E5ECF6\", \"showlakes\": true, \"showland\": true, \"subunitcolor\": \"white\"}, \"hoverlabel\": {\"align\": \"left\"}, \"hovermode\": \"closest\", \"mapbox\": {\"style\": \"light\"}, \"paper_bgcolor\": \"white\", \"plot_bgcolor\": \"#E5ECF6\", \"polar\": {\"angularaxis\": {\"gridcolor\": \"white\", \"linecolor\": \"white\", \"ticks\": \"\"}, \"bgcolor\": \"#E5ECF6\", \"radialaxis\": {\"gridcolor\": \"white\", \"linecolor\": \"white\", \"ticks\": \"\"}}, \"scene\": {\"xaxis\": {\"backgroundcolor\": \"#E5ECF6\", \"gridcolor\": \"white\", \"gridwidth\": 2, \"linecolor\": \"white\", \"showbackground\": true, \"ticks\": \"\", \"zerolinecolor\": \"white\"}, \"yaxis\": {\"backgroundcolor\": \"#E5ECF6\", \"gridcolor\": \"white\", \"gridwidth\": 2, \"linecolor\": \"white\", \"showbackground\": true, \"ticks\": \"\", \"zerolinecolor\": \"white\"}, \"zaxis\": {\"backgroundcolor\": \"#E5ECF6\", \"gridcolor\": \"white\", \"gridwidth\": 2, \"linecolor\": \"white\", \"showbackground\": true, \"ticks\": \"\", \"zerolinecolor\": \"white\"}}, \"shapedefaults\": {\"line\": {\"color\": \"#2a3f5f\"}}, \"ternary\": {\"aaxis\": {\"gridcolor\": \"white\", \"linecolor\": \"white\", \"ticks\": \"\"}, \"baxis\": {\"gridcolor\": \"white\", \"linecolor\": \"white\", \"ticks\": \"\"}, \"bgcolor\": \"#E5ECF6\", \"caxis\": {\"gridcolor\": \"white\", \"linecolor\": \"white\", \"ticks\": \"\"}}, \"title\": {\"x\": 0.05}, \"xaxis\": {\"automargin\": true, \"gridcolor\": \"white\", \"linecolor\": \"white\", \"ticks\": \"\", \"zerolinecolor\": \"white\", \"zerolinewidth\": 2}, \"yaxis\": {\"automargin\": true, \"gridcolor\": \"white\", \"linecolor\": \"white\", \"ticks\": \"\", \"zerolinecolor\": \"white\", \"zerolinewidth\": 2}}}, \"title\": {\"font\": {\"color\": \"#4D5663\"}}, \"xaxis\": {\"gridcolor\": \"#E1E5ED\", \"showgrid\": true, \"tickfont\": {\"color\": \"#4D5663\"}, \"title\": {\"font\": {\"color\": \"#4D5663\"}, \"text\": \"\"}, \"zerolinecolor\": \"#E1E5ED\"}, \"yaxis\": {\"gridcolor\": \"#E1E5ED\", \"showgrid\": true, \"tickfont\": {\"color\": \"#4D5663\"}, \"title\": {\"font\": {\"color\": \"#4D5663\"}, \"text\": \"\"}, \"zerolinecolor\": \"#E1E5ED\"}},\n",
       "                        {\"showLink\": true, \"linkText\": \"Export to plot.ly\", \"plotlyServerURL\": \"https://plot.ly\", \"responsive\": true}\n",
       "                    ).then(function(){\n",
       "                            \n",
       "var gd = document.getElementById('172191c2-83e7-4978-bc83-619bda404cda');\n",
       "var x = new MutationObserver(function (mutations, observer) {{\n",
       "        var display = window.getComputedStyle(gd).display;\n",
       "        if (!display || display === 'none') {{\n",
       "            console.log([gd, 'removed!']);\n",
       "            Plotly.purge(gd);\n",
       "            observer.disconnect();\n",
       "        }}\n",
       "}});\n",
       "\n",
       "// Listen for the removal of the full notebook cells\n",
       "var notebookContainer = gd.closest('#notebook-container');\n",
       "if (notebookContainer) {{\n",
       "    x.observe(notebookContainer, {childList: true});\n",
       "}}\n",
       "\n",
       "// Listen for the clearing of the current output cell\n",
       "var outputEl = gd.closest('.output');\n",
       "if (outputEl) {{\n",
       "    x.observe(outputEl, {childList: true});\n",
       "}}\n",
       "\n",
       "                        })\n",
       "                };\n",
       "                });\n",
       "            </script>\n",
       "        </div>"
      ]
     },
     "metadata": {},
     "output_type": "display_data"
    }
   ],
   "source": [
    "data.groupby('rating_engineTransmission').Duration.value_counts().iplot()"
   ]
  },
  {
   "cell_type": "code",
   "execution_count": 102,
   "metadata": {},
   "outputs": [
    {
     "data": {
      "application/vnd.plotly.v1+json": {
       "config": {
        "linkText": "Export to plot.ly",
        "plotlyServerURL": "https://plot.ly",
        "showLink": true
       },
       "data": [
        {
         "line": {
          "color": "rgba(255, 153, 51, 1.0)",
          "dash": "solid",
          "shape": "linear",
          "width": 1.3
         },
         "mode": "lines",
         "name": "fuel_type",
         "text": "",
         "type": "scatter",
         "x": [
          "(0,4)",
          "(1,3)",
          "(1,0)",
          "(1,4)",
          "(1,2)",
          "(1,5)",
          "(2,3)",
          "(2,0)",
          "(2,4)",
          "(2,5)",
          "(3,0)",
          "(3,4)",
          "(4,4)",
          "(4,3)",
          "(4,0)",
          "(5,4)",
          "(5,0)",
          "(5,3)",
          "(5,5)",
          "(6,4)",
          "(6,0)",
          "(6,3)",
          "(6,5)",
          "(7,0)",
          "(7,3)",
          "(7,4)",
          "(7,5)",
          "(8,0)",
          "(8,3)",
          "(8,4)",
          "(8,5)",
          "(9,3)",
          "(9,0)",
          "(9,4)",
          "(9,2)",
          "(9,5)"
         ],
         "y": [
          1,
          897,
          505,
          141,
          1,
          1,
          719,
          485,
          209,
          3,
          4,
          2,
          51,
          31,
          29,
          177,
          112,
          106,
          2,
          1407,
          1385,
          1385,
          18,
          2171,
          1952,
          1553,
          10,
          4109,
          3786,
          1722,
          21,
          1078,
          814,
          222,
          3,
          2
         ]
        }
       ],
       "layout": {
        "legend": {
         "bgcolor": "#F5F6F9",
         "font": {
          "color": "#4D5663"
         }
        },
        "paper_bgcolor": "#F5F6F9",
        "plot_bgcolor": "#F5F6F9",
        "template": {
         "data": {
          "bar": [
           {
            "error_x": {
             "color": "#2a3f5f"
            },
            "error_y": {
             "color": "#2a3f5f"
            },
            "marker": {
             "line": {
              "color": "#E5ECF6",
              "width": 0.5
             }
            },
            "type": "bar"
           }
          ],
          "barpolar": [
           {
            "marker": {
             "line": {
              "color": "#E5ECF6",
              "width": 0.5
             }
            },
            "type": "barpolar"
           }
          ],
          "carpet": [
           {
            "aaxis": {
             "endlinecolor": "#2a3f5f",
             "gridcolor": "white",
             "linecolor": "white",
             "minorgridcolor": "white",
             "startlinecolor": "#2a3f5f"
            },
            "baxis": {
             "endlinecolor": "#2a3f5f",
             "gridcolor": "white",
             "linecolor": "white",
             "minorgridcolor": "white",
             "startlinecolor": "#2a3f5f"
            },
            "type": "carpet"
           }
          ],
          "choropleth": [
           {
            "colorbar": {
             "outlinewidth": 0,
             "ticks": ""
            },
            "type": "choropleth"
           }
          ],
          "contour": [
           {
            "colorbar": {
             "outlinewidth": 0,
             "ticks": ""
            },
            "colorscale": [
             [
              0,
              "#0d0887"
             ],
             [
              0.1111111111111111,
              "#46039f"
             ],
             [
              0.2222222222222222,
              "#7201a8"
             ],
             [
              0.3333333333333333,
              "#9c179e"
             ],
             [
              0.4444444444444444,
              "#bd3786"
             ],
             [
              0.5555555555555556,
              "#d8576b"
             ],
             [
              0.6666666666666666,
              "#ed7953"
             ],
             [
              0.7777777777777778,
              "#fb9f3a"
             ],
             [
              0.8888888888888888,
              "#fdca26"
             ],
             [
              1,
              "#f0f921"
             ]
            ],
            "type": "contour"
           }
          ],
          "contourcarpet": [
           {
            "colorbar": {
             "outlinewidth": 0,
             "ticks": ""
            },
            "type": "contourcarpet"
           }
          ],
          "heatmap": [
           {
            "colorbar": {
             "outlinewidth": 0,
             "ticks": ""
            },
            "colorscale": [
             [
              0,
              "#0d0887"
             ],
             [
              0.1111111111111111,
              "#46039f"
             ],
             [
              0.2222222222222222,
              "#7201a8"
             ],
             [
              0.3333333333333333,
              "#9c179e"
             ],
             [
              0.4444444444444444,
              "#bd3786"
             ],
             [
              0.5555555555555556,
              "#d8576b"
             ],
             [
              0.6666666666666666,
              "#ed7953"
             ],
             [
              0.7777777777777778,
              "#fb9f3a"
             ],
             [
              0.8888888888888888,
              "#fdca26"
             ],
             [
              1,
              "#f0f921"
             ]
            ],
            "type": "heatmap"
           }
          ],
          "heatmapgl": [
           {
            "colorbar": {
             "outlinewidth": 0,
             "ticks": ""
            },
            "colorscale": [
             [
              0,
              "#0d0887"
             ],
             [
              0.1111111111111111,
              "#46039f"
             ],
             [
              0.2222222222222222,
              "#7201a8"
             ],
             [
              0.3333333333333333,
              "#9c179e"
             ],
             [
              0.4444444444444444,
              "#bd3786"
             ],
             [
              0.5555555555555556,
              "#d8576b"
             ],
             [
              0.6666666666666666,
              "#ed7953"
             ],
             [
              0.7777777777777778,
              "#fb9f3a"
             ],
             [
              0.8888888888888888,
              "#fdca26"
             ],
             [
              1,
              "#f0f921"
             ]
            ],
            "type": "heatmapgl"
           }
          ],
          "histogram": [
           {
            "marker": {
             "colorbar": {
              "outlinewidth": 0,
              "ticks": ""
             }
            },
            "type": "histogram"
           }
          ],
          "histogram2d": [
           {
            "colorbar": {
             "outlinewidth": 0,
             "ticks": ""
            },
            "colorscale": [
             [
              0,
              "#0d0887"
             ],
             [
              0.1111111111111111,
              "#46039f"
             ],
             [
              0.2222222222222222,
              "#7201a8"
             ],
             [
              0.3333333333333333,
              "#9c179e"
             ],
             [
              0.4444444444444444,
              "#bd3786"
             ],
             [
              0.5555555555555556,
              "#d8576b"
             ],
             [
              0.6666666666666666,
              "#ed7953"
             ],
             [
              0.7777777777777778,
              "#fb9f3a"
             ],
             [
              0.8888888888888888,
              "#fdca26"
             ],
             [
              1,
              "#f0f921"
             ]
            ],
            "type": "histogram2d"
           }
          ],
          "histogram2dcontour": [
           {
            "colorbar": {
             "outlinewidth": 0,
             "ticks": ""
            },
            "colorscale": [
             [
              0,
              "#0d0887"
             ],
             [
              0.1111111111111111,
              "#46039f"
             ],
             [
              0.2222222222222222,
              "#7201a8"
             ],
             [
              0.3333333333333333,
              "#9c179e"
             ],
             [
              0.4444444444444444,
              "#bd3786"
             ],
             [
              0.5555555555555556,
              "#d8576b"
             ],
             [
              0.6666666666666666,
              "#ed7953"
             ],
             [
              0.7777777777777778,
              "#fb9f3a"
             ],
             [
              0.8888888888888888,
              "#fdca26"
             ],
             [
              1,
              "#f0f921"
             ]
            ],
            "type": "histogram2dcontour"
           }
          ],
          "mesh3d": [
           {
            "colorbar": {
             "outlinewidth": 0,
             "ticks": ""
            },
            "type": "mesh3d"
           }
          ],
          "parcoords": [
           {
            "line": {
             "colorbar": {
              "outlinewidth": 0,
              "ticks": ""
             }
            },
            "type": "parcoords"
           }
          ],
          "scatter": [
           {
            "marker": {
             "colorbar": {
              "outlinewidth": 0,
              "ticks": ""
             }
            },
            "type": "scatter"
           }
          ],
          "scatter3d": [
           {
            "line": {
             "colorbar": {
              "outlinewidth": 0,
              "ticks": ""
             }
            },
            "marker": {
             "colorbar": {
              "outlinewidth": 0,
              "ticks": ""
             }
            },
            "type": "scatter3d"
           }
          ],
          "scattercarpet": [
           {
            "marker": {
             "colorbar": {
              "outlinewidth": 0,
              "ticks": ""
             }
            },
            "type": "scattercarpet"
           }
          ],
          "scattergeo": [
           {
            "marker": {
             "colorbar": {
              "outlinewidth": 0,
              "ticks": ""
             }
            },
            "type": "scattergeo"
           }
          ],
          "scattergl": [
           {
            "marker": {
             "colorbar": {
              "outlinewidth": 0,
              "ticks": ""
             }
            },
            "type": "scattergl"
           }
          ],
          "scattermapbox": [
           {
            "marker": {
             "colorbar": {
              "outlinewidth": 0,
              "ticks": ""
             }
            },
            "type": "scattermapbox"
           }
          ],
          "scatterpolar": [
           {
            "marker": {
             "colorbar": {
              "outlinewidth": 0,
              "ticks": ""
             }
            },
            "type": "scatterpolar"
           }
          ],
          "scatterpolargl": [
           {
            "marker": {
             "colorbar": {
              "outlinewidth": 0,
              "ticks": ""
             }
            },
            "type": "scatterpolargl"
           }
          ],
          "scatterternary": [
           {
            "marker": {
             "colorbar": {
              "outlinewidth": 0,
              "ticks": ""
             }
            },
            "type": "scatterternary"
           }
          ],
          "surface": [
           {
            "colorbar": {
             "outlinewidth": 0,
             "ticks": ""
            },
            "colorscale": [
             [
              0,
              "#0d0887"
             ],
             [
              0.1111111111111111,
              "#46039f"
             ],
             [
              0.2222222222222222,
              "#7201a8"
             ],
             [
              0.3333333333333333,
              "#9c179e"
             ],
             [
              0.4444444444444444,
              "#bd3786"
             ],
             [
              0.5555555555555556,
              "#d8576b"
             ],
             [
              0.6666666666666666,
              "#ed7953"
             ],
             [
              0.7777777777777778,
              "#fb9f3a"
             ],
             [
              0.8888888888888888,
              "#fdca26"
             ],
             [
              1,
              "#f0f921"
             ]
            ],
            "type": "surface"
           }
          ],
          "table": [
           {
            "cells": {
             "fill": {
              "color": "#EBF0F8"
             },
             "line": {
              "color": "white"
             }
            },
            "header": {
             "fill": {
              "color": "#C8D4E3"
             },
             "line": {
              "color": "white"
             }
            },
            "type": "table"
           }
          ]
         },
         "layout": {
          "annotationdefaults": {
           "arrowcolor": "#2a3f5f",
           "arrowhead": 0,
           "arrowwidth": 1
          },
          "colorscale": {
           "diverging": [
            [
             0,
             "#8e0152"
            ],
            [
             0.1,
             "#c51b7d"
            ],
            [
             0.2,
             "#de77ae"
            ],
            [
             0.3,
             "#f1b6da"
            ],
            [
             0.4,
             "#fde0ef"
            ],
            [
             0.5,
             "#f7f7f7"
            ],
            [
             0.6,
             "#e6f5d0"
            ],
            [
             0.7,
             "#b8e186"
            ],
            [
             0.8,
             "#7fbc41"
            ],
            [
             0.9,
             "#4d9221"
            ],
            [
             1,
             "#276419"
            ]
           ],
           "sequential": [
            [
             0,
             "#0d0887"
            ],
            [
             0.1111111111111111,
             "#46039f"
            ],
            [
             0.2222222222222222,
             "#7201a8"
            ],
            [
             0.3333333333333333,
             "#9c179e"
            ],
            [
             0.4444444444444444,
             "#bd3786"
            ],
            [
             0.5555555555555556,
             "#d8576b"
            ],
            [
             0.6666666666666666,
             "#ed7953"
            ],
            [
             0.7777777777777778,
             "#fb9f3a"
            ],
            [
             0.8888888888888888,
             "#fdca26"
            ],
            [
             1,
             "#f0f921"
            ]
           ],
           "sequentialminus": [
            [
             0,
             "#0d0887"
            ],
            [
             0.1111111111111111,
             "#46039f"
            ],
            [
             0.2222222222222222,
             "#7201a8"
            ],
            [
             0.3333333333333333,
             "#9c179e"
            ],
            [
             0.4444444444444444,
             "#bd3786"
            ],
            [
             0.5555555555555556,
             "#d8576b"
            ],
            [
             0.6666666666666666,
             "#ed7953"
            ],
            [
             0.7777777777777778,
             "#fb9f3a"
            ],
            [
             0.8888888888888888,
             "#fdca26"
            ],
            [
             1,
             "#f0f921"
            ]
           ]
          },
          "colorway": [
           "#636efa",
           "#EF553B",
           "#00cc96",
           "#ab63fa",
           "#FFA15A",
           "#19d3f3",
           "#FF6692",
           "#B6E880",
           "#FF97FF",
           "#FECB52"
          ],
          "font": {
           "color": "#2a3f5f"
          },
          "geo": {
           "bgcolor": "white",
           "lakecolor": "white",
           "landcolor": "#E5ECF6",
           "showlakes": true,
           "showland": true,
           "subunitcolor": "white"
          },
          "hoverlabel": {
           "align": "left"
          },
          "hovermode": "closest",
          "mapbox": {
           "style": "light"
          },
          "paper_bgcolor": "white",
          "plot_bgcolor": "#E5ECF6",
          "polar": {
           "angularaxis": {
            "gridcolor": "white",
            "linecolor": "white",
            "ticks": ""
           },
           "bgcolor": "#E5ECF6",
           "radialaxis": {
            "gridcolor": "white",
            "linecolor": "white",
            "ticks": ""
           }
          },
          "scene": {
           "xaxis": {
            "backgroundcolor": "#E5ECF6",
            "gridcolor": "white",
            "gridwidth": 2,
            "linecolor": "white",
            "showbackground": true,
            "ticks": "",
            "zerolinecolor": "white"
           },
           "yaxis": {
            "backgroundcolor": "#E5ECF6",
            "gridcolor": "white",
            "gridwidth": 2,
            "linecolor": "white",
            "showbackground": true,
            "ticks": "",
            "zerolinecolor": "white"
           },
           "zaxis": {
            "backgroundcolor": "#E5ECF6",
            "gridcolor": "white",
            "gridwidth": 2,
            "linecolor": "white",
            "showbackground": true,
            "ticks": "",
            "zerolinecolor": "white"
           }
          },
          "shapedefaults": {
           "line": {
            "color": "#2a3f5f"
           }
          },
          "ternary": {
           "aaxis": {
            "gridcolor": "white",
            "linecolor": "white",
            "ticks": ""
           },
           "baxis": {
            "gridcolor": "white",
            "linecolor": "white",
            "ticks": ""
           },
           "bgcolor": "#E5ECF6",
           "caxis": {
            "gridcolor": "white",
            "linecolor": "white",
            "ticks": ""
           }
          },
          "title": {
           "x": 0.05
          },
          "xaxis": {
           "automargin": true,
           "gridcolor": "white",
           "linecolor": "white",
           "ticks": "",
           "zerolinecolor": "white",
           "zerolinewidth": 2
          },
          "yaxis": {
           "automargin": true,
           "gridcolor": "white",
           "linecolor": "white",
           "ticks": "",
           "zerolinecolor": "white",
           "zerolinewidth": 2
          }
         }
        },
        "title": {
         "font": {
          "color": "#4D5663"
         }
        },
        "xaxis": {
         "gridcolor": "#E1E5ED",
         "showgrid": true,
         "tickfont": {
          "color": "#4D5663"
         },
         "title": {
          "font": {
           "color": "#4D5663"
          },
          "text": ""
         },
         "zerolinecolor": "#E1E5ED"
        },
        "yaxis": {
         "gridcolor": "#E1E5ED",
         "showgrid": true,
         "tickfont": {
          "color": "#4D5663"
         },
         "title": {
          "font": {
           "color": "#4D5663"
          },
          "text": ""
         },
         "zerolinecolor": "#E1E5ED"
        }
       }
      },
      "text/html": [
       "<div>\n",
       "        \n",
       "        \n",
       "            <div id=\"9eeb7ea2-7033-4039-a61d-ff422804ad47\" class=\"plotly-graph-div\" style=\"height:525px; width:100%;\"></div>\n",
       "            <script type=\"text/javascript\">\n",
       "                require([\"plotly\"], function(Plotly) {\n",
       "                    window.PLOTLYENV=window.PLOTLYENV || {};\n",
       "                    window.PLOTLYENV.BASE_URL='https://plot.ly';\n",
       "                    \n",
       "                if (document.getElementById(\"9eeb7ea2-7033-4039-a61d-ff422804ad47\")) {\n",
       "                    Plotly.newPlot(\n",
       "                        '9eeb7ea2-7033-4039-a61d-ff422804ad47',\n",
       "                        [{\"line\": {\"color\": \"rgba(255, 153, 51, 1.0)\", \"dash\": \"solid\", \"shape\": \"linear\", \"width\": 1.3}, \"mode\": \"lines\", \"name\": \"fuel_type\", \"text\": \"\", \"type\": \"scatter\", \"x\": [\"(0,4)\", \"(1,3)\", \"(1,0)\", \"(1,4)\", \"(1,2)\", \"(1,5)\", \"(2,3)\", \"(2,0)\", \"(2,4)\", \"(2,5)\", \"(3,0)\", \"(3,4)\", \"(4,4)\", \"(4,3)\", \"(4,0)\", \"(5,4)\", \"(5,0)\", \"(5,3)\", \"(5,5)\", \"(6,4)\", \"(6,0)\", \"(6,3)\", \"(6,5)\", \"(7,0)\", \"(7,3)\", \"(7,4)\", \"(7,5)\", \"(8,0)\", \"(8,3)\", \"(8,4)\", \"(8,5)\", \"(9,3)\", \"(9,0)\", \"(9,4)\", \"(9,2)\", \"(9,5)\"], \"y\": [1, 897, 505, 141, 1, 1, 719, 485, 209, 3, 4, 2, 51, 31, 29, 177, 112, 106, 2, 1407, 1385, 1385, 18, 2171, 1952, 1553, 10, 4109, 3786, 1722, 21, 1078, 814, 222, 3, 2]}],\n",
       "                        {\"legend\": {\"bgcolor\": \"#F5F6F9\", \"font\": {\"color\": \"#4D5663\"}}, \"paper_bgcolor\": \"#F5F6F9\", \"plot_bgcolor\": \"#F5F6F9\", \"template\": {\"data\": {\"bar\": [{\"error_x\": {\"color\": \"#2a3f5f\"}, \"error_y\": {\"color\": \"#2a3f5f\"}, \"marker\": {\"line\": {\"color\": \"#E5ECF6\", \"width\": 0.5}}, \"type\": \"bar\"}], \"barpolar\": [{\"marker\": {\"line\": {\"color\": \"#E5ECF6\", \"width\": 0.5}}, \"type\": \"barpolar\"}], \"carpet\": [{\"aaxis\": {\"endlinecolor\": \"#2a3f5f\", \"gridcolor\": \"white\", \"linecolor\": \"white\", \"minorgridcolor\": \"white\", \"startlinecolor\": \"#2a3f5f\"}, \"baxis\": {\"endlinecolor\": \"#2a3f5f\", \"gridcolor\": \"white\", \"linecolor\": \"white\", \"minorgridcolor\": \"white\", \"startlinecolor\": \"#2a3f5f\"}, \"type\": \"carpet\"}], \"choropleth\": [{\"colorbar\": {\"outlinewidth\": 0, \"ticks\": \"\"}, \"type\": \"choropleth\"}], \"contour\": [{\"colorbar\": {\"outlinewidth\": 0, \"ticks\": \"\"}, \"colorscale\": [[0.0, \"#0d0887\"], [0.1111111111111111, \"#46039f\"], [0.2222222222222222, \"#7201a8\"], [0.3333333333333333, \"#9c179e\"], [0.4444444444444444, \"#bd3786\"], [0.5555555555555556, \"#d8576b\"], [0.6666666666666666, \"#ed7953\"], [0.7777777777777778, \"#fb9f3a\"], [0.8888888888888888, \"#fdca26\"], [1.0, \"#f0f921\"]], \"type\": \"contour\"}], \"contourcarpet\": [{\"colorbar\": {\"outlinewidth\": 0, \"ticks\": \"\"}, \"type\": \"contourcarpet\"}], \"heatmap\": [{\"colorbar\": {\"outlinewidth\": 0, \"ticks\": \"\"}, \"colorscale\": [[0.0, \"#0d0887\"], [0.1111111111111111, \"#46039f\"], [0.2222222222222222, \"#7201a8\"], [0.3333333333333333, \"#9c179e\"], [0.4444444444444444, \"#bd3786\"], [0.5555555555555556, \"#d8576b\"], [0.6666666666666666, \"#ed7953\"], [0.7777777777777778, \"#fb9f3a\"], [0.8888888888888888, \"#fdca26\"], [1.0, \"#f0f921\"]], \"type\": \"heatmap\"}], \"heatmapgl\": [{\"colorbar\": {\"outlinewidth\": 0, \"ticks\": \"\"}, \"colorscale\": [[0.0, \"#0d0887\"], [0.1111111111111111, \"#46039f\"], [0.2222222222222222, \"#7201a8\"], [0.3333333333333333, \"#9c179e\"], [0.4444444444444444, \"#bd3786\"], [0.5555555555555556, \"#d8576b\"], [0.6666666666666666, \"#ed7953\"], [0.7777777777777778, \"#fb9f3a\"], [0.8888888888888888, \"#fdca26\"], [1.0, \"#f0f921\"]], \"type\": \"heatmapgl\"}], \"histogram\": [{\"marker\": {\"colorbar\": {\"outlinewidth\": 0, \"ticks\": \"\"}}, \"type\": \"histogram\"}], \"histogram2d\": [{\"colorbar\": {\"outlinewidth\": 0, \"ticks\": \"\"}, \"colorscale\": [[0.0, \"#0d0887\"], [0.1111111111111111, \"#46039f\"], [0.2222222222222222, \"#7201a8\"], [0.3333333333333333, \"#9c179e\"], [0.4444444444444444, \"#bd3786\"], [0.5555555555555556, \"#d8576b\"], [0.6666666666666666, \"#ed7953\"], [0.7777777777777778, \"#fb9f3a\"], [0.8888888888888888, \"#fdca26\"], [1.0, \"#f0f921\"]], \"type\": \"histogram2d\"}], \"histogram2dcontour\": [{\"colorbar\": {\"outlinewidth\": 0, \"ticks\": \"\"}, \"colorscale\": [[0.0, \"#0d0887\"], [0.1111111111111111, \"#46039f\"], [0.2222222222222222, \"#7201a8\"], [0.3333333333333333, \"#9c179e\"], [0.4444444444444444, \"#bd3786\"], [0.5555555555555556, \"#d8576b\"], [0.6666666666666666, \"#ed7953\"], [0.7777777777777778, \"#fb9f3a\"], [0.8888888888888888, \"#fdca26\"], [1.0, \"#f0f921\"]], \"type\": \"histogram2dcontour\"}], \"mesh3d\": [{\"colorbar\": {\"outlinewidth\": 0, \"ticks\": \"\"}, \"type\": \"mesh3d\"}], \"parcoords\": [{\"line\": {\"colorbar\": {\"outlinewidth\": 0, \"ticks\": \"\"}}, \"type\": \"parcoords\"}], \"scatter\": [{\"marker\": {\"colorbar\": {\"outlinewidth\": 0, \"ticks\": \"\"}}, \"type\": \"scatter\"}], \"scatter3d\": [{\"line\": {\"colorbar\": {\"outlinewidth\": 0, \"ticks\": \"\"}}, \"marker\": {\"colorbar\": {\"outlinewidth\": 0, \"ticks\": \"\"}}, \"type\": \"scatter3d\"}], \"scattercarpet\": [{\"marker\": {\"colorbar\": {\"outlinewidth\": 0, \"ticks\": \"\"}}, \"type\": \"scattercarpet\"}], \"scattergeo\": [{\"marker\": {\"colorbar\": {\"outlinewidth\": 0, \"ticks\": \"\"}}, \"type\": \"scattergeo\"}], \"scattergl\": [{\"marker\": {\"colorbar\": {\"outlinewidth\": 0, \"ticks\": \"\"}}, \"type\": \"scattergl\"}], \"scattermapbox\": [{\"marker\": {\"colorbar\": {\"outlinewidth\": 0, \"ticks\": \"\"}}, \"type\": \"scattermapbox\"}], \"scatterpolar\": [{\"marker\": {\"colorbar\": {\"outlinewidth\": 0, \"ticks\": \"\"}}, \"type\": \"scatterpolar\"}], \"scatterpolargl\": [{\"marker\": {\"colorbar\": {\"outlinewidth\": 0, \"ticks\": \"\"}}, \"type\": \"scatterpolargl\"}], \"scatterternary\": [{\"marker\": {\"colorbar\": {\"outlinewidth\": 0, \"ticks\": \"\"}}, \"type\": \"scatterternary\"}], \"surface\": [{\"colorbar\": {\"outlinewidth\": 0, \"ticks\": \"\"}, \"colorscale\": [[0.0, \"#0d0887\"], [0.1111111111111111, \"#46039f\"], [0.2222222222222222, \"#7201a8\"], [0.3333333333333333, \"#9c179e\"], [0.4444444444444444, \"#bd3786\"], [0.5555555555555556, \"#d8576b\"], [0.6666666666666666, \"#ed7953\"], [0.7777777777777778, \"#fb9f3a\"], [0.8888888888888888, \"#fdca26\"], [1.0, \"#f0f921\"]], \"type\": \"surface\"}], \"table\": [{\"cells\": {\"fill\": {\"color\": \"#EBF0F8\"}, \"line\": {\"color\": \"white\"}}, \"header\": {\"fill\": {\"color\": \"#C8D4E3\"}, \"line\": {\"color\": \"white\"}}, \"type\": \"table\"}]}, \"layout\": {\"annotationdefaults\": {\"arrowcolor\": \"#2a3f5f\", \"arrowhead\": 0, \"arrowwidth\": 1}, \"colorscale\": {\"diverging\": [[0, \"#8e0152\"], [0.1, \"#c51b7d\"], [0.2, \"#de77ae\"], [0.3, \"#f1b6da\"], [0.4, \"#fde0ef\"], [0.5, \"#f7f7f7\"], [0.6, \"#e6f5d0\"], [0.7, \"#b8e186\"], [0.8, \"#7fbc41\"], [0.9, \"#4d9221\"], [1, \"#276419\"]], \"sequential\": [[0.0, \"#0d0887\"], [0.1111111111111111, \"#46039f\"], [0.2222222222222222, \"#7201a8\"], [0.3333333333333333, \"#9c179e\"], [0.4444444444444444, \"#bd3786\"], [0.5555555555555556, \"#d8576b\"], [0.6666666666666666, \"#ed7953\"], [0.7777777777777778, \"#fb9f3a\"], [0.8888888888888888, \"#fdca26\"], [1.0, \"#f0f921\"]], \"sequentialminus\": [[0.0, \"#0d0887\"], [0.1111111111111111, \"#46039f\"], [0.2222222222222222, \"#7201a8\"], [0.3333333333333333, \"#9c179e\"], [0.4444444444444444, \"#bd3786\"], [0.5555555555555556, \"#d8576b\"], [0.6666666666666666, \"#ed7953\"], [0.7777777777777778, \"#fb9f3a\"], [0.8888888888888888, \"#fdca26\"], [1.0, \"#f0f921\"]]}, \"colorway\": [\"#636efa\", \"#EF553B\", \"#00cc96\", \"#ab63fa\", \"#FFA15A\", \"#19d3f3\", \"#FF6692\", \"#B6E880\", \"#FF97FF\", \"#FECB52\"], \"font\": {\"color\": \"#2a3f5f\"}, \"geo\": {\"bgcolor\": \"white\", \"lakecolor\": \"white\", \"landcolor\": \"#E5ECF6\", \"showlakes\": true, \"showland\": true, \"subunitcolor\": \"white\"}, \"hoverlabel\": {\"align\": \"left\"}, \"hovermode\": \"closest\", \"mapbox\": {\"style\": \"light\"}, \"paper_bgcolor\": \"white\", \"plot_bgcolor\": \"#E5ECF6\", \"polar\": {\"angularaxis\": {\"gridcolor\": \"white\", \"linecolor\": \"white\", \"ticks\": \"\"}, \"bgcolor\": \"#E5ECF6\", \"radialaxis\": {\"gridcolor\": \"white\", \"linecolor\": \"white\", \"ticks\": \"\"}}, \"scene\": {\"xaxis\": {\"backgroundcolor\": \"#E5ECF6\", \"gridcolor\": \"white\", \"gridwidth\": 2, \"linecolor\": \"white\", \"showbackground\": true, \"ticks\": \"\", \"zerolinecolor\": \"white\"}, \"yaxis\": {\"backgroundcolor\": \"#E5ECF6\", \"gridcolor\": \"white\", \"gridwidth\": 2, \"linecolor\": \"white\", \"showbackground\": true, \"ticks\": \"\", \"zerolinecolor\": \"white\"}, \"zaxis\": {\"backgroundcolor\": \"#E5ECF6\", \"gridcolor\": \"white\", \"gridwidth\": 2, \"linecolor\": \"white\", \"showbackground\": true, \"ticks\": \"\", \"zerolinecolor\": \"white\"}}, \"shapedefaults\": {\"line\": {\"color\": \"#2a3f5f\"}}, \"ternary\": {\"aaxis\": {\"gridcolor\": \"white\", \"linecolor\": \"white\", \"ticks\": \"\"}, \"baxis\": {\"gridcolor\": \"white\", \"linecolor\": \"white\", \"ticks\": \"\"}, \"bgcolor\": \"#E5ECF6\", \"caxis\": {\"gridcolor\": \"white\", \"linecolor\": \"white\", \"ticks\": \"\"}}, \"title\": {\"x\": 0.05}, \"xaxis\": {\"automargin\": true, \"gridcolor\": \"white\", \"linecolor\": \"white\", \"ticks\": \"\", \"zerolinecolor\": \"white\", \"zerolinewidth\": 2}, \"yaxis\": {\"automargin\": true, \"gridcolor\": \"white\", \"linecolor\": \"white\", \"ticks\": \"\", \"zerolinecolor\": \"white\", \"zerolinewidth\": 2}}}, \"title\": {\"font\": {\"color\": \"#4D5663\"}}, \"xaxis\": {\"gridcolor\": \"#E1E5ED\", \"showgrid\": true, \"tickfont\": {\"color\": \"#4D5663\"}, \"title\": {\"font\": {\"color\": \"#4D5663\"}, \"text\": \"\"}, \"zerolinecolor\": \"#E1E5ED\"}, \"yaxis\": {\"gridcolor\": \"#E1E5ED\", \"showgrid\": true, \"tickfont\": {\"color\": \"#4D5663\"}, \"title\": {\"font\": {\"color\": \"#4D5663\"}, \"text\": \"\"}, \"zerolinecolor\": \"#E1E5ED\"}},\n",
       "                        {\"showLink\": true, \"linkText\": \"Export to plot.ly\", \"plotlyServerURL\": \"https://plot.ly\", \"responsive\": true}\n",
       "                    ).then(function(){\n",
       "                            \n",
       "var gd = document.getElementById('9eeb7ea2-7033-4039-a61d-ff422804ad47');\n",
       "var x = new MutationObserver(function (mutations, observer) {{\n",
       "        var display = window.getComputedStyle(gd).display;\n",
       "        if (!display || display === 'none') {{\n",
       "            console.log([gd, 'removed!']);\n",
       "            Plotly.purge(gd);\n",
       "            observer.disconnect();\n",
       "        }}\n",
       "}});\n",
       "\n",
       "// Listen for the removal of the full notebook cells\n",
       "var notebookContainer = gd.closest('#notebook-container');\n",
       "if (notebookContainer) {{\n",
       "    x.observe(notebookContainer, {childList: true});\n",
       "}}\n",
       "\n",
       "// Listen for the clearing of the current output cell\n",
       "var outputEl = gd.closest('.output');\n",
       "if (outputEl) {{\n",
       "    x.observe(outputEl, {childList: true});\n",
       "}}\n",
       "\n",
       "                        })\n",
       "                };\n",
       "                });\n",
       "            </script>\n",
       "        </div>"
      ]
     },
     "metadata": {},
     "output_type": "display_data"
    }
   ],
   "source": [
    "data.groupby('rating_engineTransmission').fuel_type.value_counts().iplot()"
   ]
  },
  {
   "cell_type": "code",
   "execution_count": 103,
   "metadata": {},
   "outputs": [],
   "source": [
    "target = data.rating_engineTransmission\n",
    "data.drop(['rating_engineTransmission','odometer_reading'],1,inplace=True)"
   ]
  },
  {
   "cell_type": "code",
   "execution_count": 104,
   "metadata": {},
   "outputs": [],
   "source": [
    "X_resampled, y_resampled = RandomOverSampler(sampling_strategy='minority').fit_resample(data, target)"
   ]
  },
  {
   "cell_type": "code",
   "execution_count": 105,
   "metadata": {},
   "outputs": [
    {
     "name": "stdout",
     "output_type": "stream",
     "text": [
      "[(0, 9638), (1, 1545), (2, 1416), (3, 6), (4, 111), (5, 397), (6, 4195), (7, 5686), (8, 9638), (9, 2119)]\n"
     ]
    }
   ],
   "source": [
    "from collections import Counter\n",
    "print(sorted(Counter(y_resampled).items()))"
   ]
  },
  {
   "cell_type": "code",
   "execution_count": 106,
   "metadata": {},
   "outputs": [],
   "source": [
    "from sklearn.model_selection import train_test_split"
   ]
  },
  {
   "cell_type": "code",
   "execution_count": 107,
   "metadata": {},
   "outputs": [],
   "source": [
    "X_train, X_test, y_train, y_test = train_test_split(X_resampled, y_resampled, test_size=0.1, random_state=42, stratify=y_resampled)"
   ]
  },
  {
   "cell_type": "code",
   "execution_count": 112,
   "metadata": {},
   "outputs": [],
   "source": [
    "params = {'n_estimators': 15000,'boosting':'dart',\n",
    "          'xgboost_dart_mode':True,\n",
    "        'objective': 'multiclass', \n",
    "        \"num_class\" : 10,\n",
    "        'metric': 'multi_logloss',\n",
    "        'subsample': 0.8,\n",
    "        'subsample_freq': 1,\n",
    "        'learning_rate': 0.25,\n",
    "        'feature_fraction': 0.8,\n",
    "        'max_depth': 15,\n",
    "        'num_leaves': 200,\n",
    "        'lambda_l1': 10,  \n",
    "        'lambda_l2': 10,\n",
    "        'early_stopping_rounds': 200,\n",
    "        'verbose': 1,\n",
    "       'random_seed': 42, 'n_jobs':-1\n",
    "                    }"
   ]
  },
  {
   "cell_type": "code",
   "execution_count": 113,
   "metadata": {},
   "outputs": [],
   "source": [
    "lgb_train = lgb.Dataset(X_train, y_train)\n",
    "lgb_val = lgb.Dataset(X_test, y_test)"
   ]
  },
  {
   "cell_type": "code",
   "execution_count": 114,
   "metadata": {
    "scrolled": true
   },
   "outputs": [
    {
     "name": "stdout",
     "output_type": "stream",
     "text": [
      "[100]\tvalid_0's multi_logloss: 0.7727\n",
      "[200]\tvalid_0's multi_logloss: 0.76753\n",
      "[300]\tvalid_0's multi_logloss: 0.766244\n",
      "[400]\tvalid_0's multi_logloss: 0.765302\n",
      "[500]\tvalid_0's multi_logloss: 0.766233\n",
      "[600]\tvalid_0's multi_logloss: 0.767364\n",
      "[700]\tvalid_0's multi_logloss: 0.768678\n",
      "[800]\tvalid_0's multi_logloss: 0.769027\n",
      "[900]\tvalid_0's multi_logloss: 0.769901\n",
      "[1000]\tvalid_0's multi_logloss: 0.770811\n",
      "[1100]\tvalid_0's multi_logloss: 0.771416\n",
      "[1200]\tvalid_0's multi_logloss: 0.772466\n",
      "[1300]\tvalid_0's multi_logloss: 0.772927\n",
      "[1400]\tvalid_0's multi_logloss: 0.774649\n",
      "[1500]\tvalid_0's multi_logloss: 0.77512\n",
      "[1600]\tvalid_0's multi_logloss: 0.775626\n",
      "[1700]\tvalid_0's multi_logloss: 0.776701\n",
      "[1800]\tvalid_0's multi_logloss: 0.77831\n",
      "[1900]\tvalid_0's multi_logloss: 0.778806\n",
      "[2000]\tvalid_0's multi_logloss: 0.779418\n",
      "[2100]\tvalid_0's multi_logloss: 0.779361\n",
      "[2200]\tvalid_0's multi_logloss: 0.780459\n",
      "[2300]\tvalid_0's multi_logloss: 0.780783\n",
      "[2400]\tvalid_0's multi_logloss: 0.781696\n",
      "[2500]\tvalid_0's multi_logloss: 0.782608\n",
      "[2600]\tvalid_0's multi_logloss: 0.783409\n",
      "[2700]\tvalid_0's multi_logloss: 0.784148\n",
      "[2800]\tvalid_0's multi_logloss: 0.784632\n",
      "[2900]\tvalid_0's multi_logloss: 0.784989\n",
      "[3000]\tvalid_0's multi_logloss: 0.78585\n",
      "[3100]\tvalid_0's multi_logloss: 0.786433\n",
      "[3200]\tvalid_0's multi_logloss: 0.786975\n",
      "[3300]\tvalid_0's multi_logloss: 0.7875\n",
      "[3400]\tvalid_0's multi_logloss: 0.787498\n",
      "[3500]\tvalid_0's multi_logloss: 0.787615\n",
      "[3600]\tvalid_0's multi_logloss: 0.788517\n",
      "[3700]\tvalid_0's multi_logloss: 0.78917\n",
      "[3800]\tvalid_0's multi_logloss: 0.789201\n",
      "[3900]\tvalid_0's multi_logloss: 0.789478\n",
      "[4000]\tvalid_0's multi_logloss: 0.78971\n",
      "[4100]\tvalid_0's multi_logloss: 0.790782\n",
      "[4200]\tvalid_0's multi_logloss: 0.791201\n",
      "[4300]\tvalid_0's multi_logloss: 0.791339\n",
      "[4400]\tvalid_0's multi_logloss: 0.791992\n",
      "[4500]\tvalid_0's multi_logloss: 0.792381\n",
      "[4600]\tvalid_0's multi_logloss: 0.793027\n",
      "[4700]\tvalid_0's multi_logloss: 0.793595\n",
      "[4800]\tvalid_0's multi_logloss: 0.794252\n",
      "[4900]\tvalid_0's multi_logloss: 0.794839\n",
      "[5000]\tvalid_0's multi_logloss: 0.795022\n",
      "[5100]\tvalid_0's multi_logloss: 0.795867\n",
      "[5200]\tvalid_0's multi_logloss: 0.796478\n",
      "[5300]\tvalid_0's multi_logloss: 0.797087\n",
      "[5400]\tvalid_0's multi_logloss: 0.797251\n",
      "[5500]\tvalid_0's multi_logloss: 0.797918\n",
      "[5600]\tvalid_0's multi_logloss: 0.798572\n",
      "[5700]\tvalid_0's multi_logloss: 0.799401\n",
      "[5800]\tvalid_0's multi_logloss: 0.799684\n",
      "[5900]\tvalid_0's multi_logloss: 0.800202\n",
      "[6000]\tvalid_0's multi_logloss: 0.800504\n",
      "[6100]\tvalid_0's multi_logloss: 0.801044\n",
      "[6200]\tvalid_0's multi_logloss: 0.801607\n",
      "[6300]\tvalid_0's multi_logloss: 0.802058\n",
      "[6400]\tvalid_0's multi_logloss: 0.802144\n",
      "[6500]\tvalid_0's multi_logloss: 0.802825\n",
      "[6600]\tvalid_0's multi_logloss: 0.803928\n",
      "[6700]\tvalid_0's multi_logloss: 0.804378\n",
      "[6800]\tvalid_0's multi_logloss: 0.804504\n",
      "[6900]\tvalid_0's multi_logloss: 0.804832\n",
      "[7000]\tvalid_0's multi_logloss: 0.805568\n",
      "[7100]\tvalid_0's multi_logloss: 0.805709\n",
      "[7200]\tvalid_0's multi_logloss: 0.8062\n",
      "[7300]\tvalid_0's multi_logloss: 0.806713\n",
      "[7400]\tvalid_0's multi_logloss: 0.806927\n",
      "[7500]\tvalid_0's multi_logloss: 0.807527\n",
      "[7600]\tvalid_0's multi_logloss: 0.807642\n",
      "[7700]\tvalid_0's multi_logloss: 0.807688\n",
      "[7800]\tvalid_0's multi_logloss: 0.807883\n",
      "[7900]\tvalid_0's multi_logloss: 0.808994\n",
      "[8000]\tvalid_0's multi_logloss: 0.808851\n",
      "[8100]\tvalid_0's multi_logloss: 0.809238\n",
      "[8200]\tvalid_0's multi_logloss: 0.810166\n",
      "[8300]\tvalid_0's multi_logloss: 0.81093\n",
      "[8400]\tvalid_0's multi_logloss: 0.811262\n",
      "[8500]\tvalid_0's multi_logloss: 0.812029\n",
      "[8600]\tvalid_0's multi_logloss: 0.81193\n",
      "[8700]\tvalid_0's multi_logloss: 0.81219\n",
      "[8800]\tvalid_0's multi_logloss: 0.81302\n",
      "[8900]\tvalid_0's multi_logloss: 0.81307\n",
      "[9000]\tvalid_0's multi_logloss: 0.813713\n",
      "[9100]\tvalid_0's multi_logloss: 0.814298\n",
      "[9200]\tvalid_0's multi_logloss: 0.814539\n",
      "[9300]\tvalid_0's multi_logloss: 0.815221\n",
      "[9400]\tvalid_0's multi_logloss: 0.815078\n",
      "[9500]\tvalid_0's multi_logloss: 0.815992\n",
      "[9600]\tvalid_0's multi_logloss: 0.816468\n",
      "[9700]\tvalid_0's multi_logloss: 0.815949\n",
      "[9800]\tvalid_0's multi_logloss: 0.816788\n",
      "[9900]\tvalid_0's multi_logloss: 0.817126\n",
      "[10000]\tvalid_0's multi_logloss: 0.81764\n",
      "[10100]\tvalid_0's multi_logloss: 0.817625\n",
      "[10200]\tvalid_0's multi_logloss: 0.817709\n",
      "[10300]\tvalid_0's multi_logloss: 0.818215\n",
      "[10400]\tvalid_0's multi_logloss: 0.818298\n",
      "[10500]\tvalid_0's multi_logloss: 0.819113\n",
      "[10600]\tvalid_0's multi_logloss: 0.819722\n",
      "[10700]\tvalid_0's multi_logloss: 0.820017\n",
      "[10800]\tvalid_0's multi_logloss: 0.820287\n",
      "[10900]\tvalid_0's multi_logloss: 0.820522\n",
      "[11000]\tvalid_0's multi_logloss: 0.820713\n",
      "[11100]\tvalid_0's multi_logloss: 0.821402\n",
      "[11200]\tvalid_0's multi_logloss: 0.821661\n",
      "[11300]\tvalid_0's multi_logloss: 0.822446\n",
      "[11400]\tvalid_0's multi_logloss: 0.822199\n",
      "[11500]\tvalid_0's multi_logloss: 0.822657\n",
      "[11600]\tvalid_0's multi_logloss: 0.823036\n",
      "[11700]\tvalid_0's multi_logloss: 0.823613\n",
      "[11800]\tvalid_0's multi_logloss: 0.823895\n",
      "[11900]\tvalid_0's multi_logloss: 0.824589\n",
      "[12000]\tvalid_0's multi_logloss: 0.82478\n",
      "[12100]\tvalid_0's multi_logloss: 0.82541\n",
      "[12200]\tvalid_0's multi_logloss: 0.825613\n",
      "[12300]\tvalid_0's multi_logloss: 0.825611\n",
      "[12400]\tvalid_0's multi_logloss: 0.826076\n",
      "[12500]\tvalid_0's multi_logloss: 0.825935\n",
      "[12600]\tvalid_0's multi_logloss: 0.826185\n",
      "[12700]\tvalid_0's multi_logloss: 0.82694\n",
      "[12800]\tvalid_0's multi_logloss: 0.826843\n",
      "[12900]\tvalid_0's multi_logloss: 0.827673\n",
      "[13000]\tvalid_0's multi_logloss: 0.828237\n",
      "[13100]\tvalid_0's multi_logloss: 0.828549\n",
      "[13200]\tvalid_0's multi_logloss: 0.828913\n",
      "[13300]\tvalid_0's multi_logloss: 0.828993\n",
      "[13400]\tvalid_0's multi_logloss: 0.829184\n",
      "[13500]\tvalid_0's multi_logloss: 0.829473\n",
      "[13600]\tvalid_0's multi_logloss: 0.829725\n",
      "[13700]\tvalid_0's multi_logloss: 0.83003\n",
      "[13800]\tvalid_0's multi_logloss: 0.830259\n",
      "[13900]\tvalid_0's multi_logloss: 0.831097\n",
      "[14000]\tvalid_0's multi_logloss: 0.831202\n",
      "[14100]\tvalid_0's multi_logloss: 0.831529\n",
      "[14200]\tvalid_0's multi_logloss: 0.831964\n",
      "[14300]\tvalid_0's multi_logloss: 0.832272\n",
      "[14400]\tvalid_0's multi_logloss: 0.832949\n",
      "[14500]\tvalid_0's multi_logloss: 0.832753\n",
      "[14600]\tvalid_0's multi_logloss: 0.832918\n",
      "[14700]\tvalid_0's multi_logloss: 0.833116\n",
      "[14800]\tvalid_0's multi_logloss: 0.833348\n",
      "[14900]\tvalid_0's multi_logloss: 0.833714\n",
      "[15000]\tvalid_0's multi_logloss: 0.834237\n"
     ]
    }
   ],
   "source": [
    "gbm = lgb.train(params, lgb_train, valid_sets=lgb_val,verbose_eval=100)"
   ]
  },
  {
   "cell_type": "code",
   "execution_count": 115,
   "metadata": {},
   "outputs": [
    {
     "data": {
      "text/plain": [
       "<lightgbm.basic.Booster at 0x13aa05690>"
      ]
     },
     "execution_count": 115,
     "metadata": {},
     "output_type": "execute_result"
    }
   ],
   "source": [
    "gbm.save_model('light_gbm.txt')"
   ]
  },
  {
   "cell_type": "code",
   "execution_count": 117,
   "metadata": {},
   "outputs": [],
   "source": [
    "y_pred = gbm.predict(X_test)"
   ]
  },
  {
   "cell_type": "code",
   "execution_count": 118,
   "metadata": {},
   "outputs": [],
   "source": [
    "importances = pd.DataFrame({\n",
    "    'Feature': gbm.feature_name(),\n",
    "    'Importance': gbm.feature_importance()\n",
    "})\n",
    "importances = importances.sort_values(by='Importance', ascending=False)\n",
    "importances = importances.set_index('Feature')"
   ]
  },
  {
   "cell_type": "code",
   "execution_count": 119,
   "metadata": {},
   "outputs": [
    {
     "data": {
      "application/vnd.plotly.v1+json": {
       "config": {
        "linkText": "Export to plot.ly",
        "plotlyServerURL": "https://plot.ly",
        "showLink": true
       },
       "data": [
        {
         "marker": {
          "color": "rgba(255, 153, 51, 0.6)",
          "line": {
           "color": "rgba(255, 153, 51, 1.0)",
           "width": 1
          }
         },
         "name": "Importance",
         "orientation": "v",
         "text": "",
         "type": "bar",
         "x": [
          "odometer_readingLog",
          "Duration",
          "engineTransmission_engine_cc_value_0",
          "engineTransmission_engineSound_cc_value_1",
          "engineTransmission_engineSound_cc_value_0",
          "engineTransmission_comments_value_0",
          "engineTransmission_exhaustSmoke_cc_value_0",
          "engineTransmission_clutch_cc_value_0",
          "engineTransmission_engine_cc_value_1",
          "engineTransmission_engineBlowByBackCompression_cc_value_0",
          "engineTransmission_clutch_cc_value_1",
          "engineTransmission_engineSound_cc_value_2",
          "engineTransmission_engine_cc_value_2",
          "engineTransmission_engineOil_cc_value_0",
          "engineTransmission_battery_cc_value_0",
          "engineTransmission_gearShifting_cc_value_0",
          "engineTransmission_engineOil_cc_value_1",
          "engineTransmission_engineOil_cc_value_2",
          "fuel_type",
          "engineTransmission_engineMounting_cc_value_0",
          "engineTransmission_comments_value_1",
          "engineTransmission_engineSound_cc_value_3",
          "engineTransmission_engine_cc_value_3",
          "engineTransmission_coolant_cc_value_0",
          "engineTransmission_coolant_cc_value_1",
          "engineTransmission_clutch_cc_value_2",
          "engineTransmission_engineOil_cc_value_3",
          "engineTransmission_engineSound_value",
          "engineTransmission_clutch_value",
          "engineTransmission_engineBlowByBackCompression_value",
          "engineTransmission_gearShifting_cc_value_1",
          "engineTransmission_battery_cc_value_1",
          "engineTransmission_engine_value",
          "engineTransmission_engineOil_cc_value_4",
          "engineTransmission_engineOil",
          "engineTransmission_exhaustSmoke_value",
          "engineTransmission_engineMounting_value",
          "engineTransmission_coolant_value",
          "engineTransmission_engineSound_cc_value_4",
          "engineTransmission_engineoilLevelDipstick_value",
          "engineTransmission_gearShifting_value",
          "engineTransmission_comments_value_2",
          "engineTransmission_engine_cc_value_4",
          "engineTransmission_battery_value",
          "engineTransmission_engineOil_cc_value_5",
          "engineTransmission_clutch_cc_value_3",
          "engineTransmission_coolant_cc_value_2",
          "engineTransmission_engineSound_cc_value_5",
          "engineTransmission_engineOil_cc_value_6",
          "engineTransmission_engineOilLevelDipstick_cc_value_0",
          "engineTransmission_battery_cc_value_2",
          "engineTransmission_engine_cc_value_5",
          "engineTransmission_gearShifting_cc_value_2",
          "engineTransmission_clutch_cc_value_4",
          "engineTransmission_comments_value_3",
          "engineTransmission_engine_cc_value_6",
          "engineTransmission_engine_cc_value_8",
          "engineTransmission_engine_cc_value_10",
          "engineTransmission_battery_cc_value_3",
          "engineTransmission_comments_value_4",
          "engineTransmission_battery_cc_value_4",
          "engineTransmission_engineOil_cc_value_7",
          "engineTransmission_engine_cc_value_7",
          "engineTransmission_engineOil_cc_value_8",
          "engineTransmission_coolant_cc_value_3",
          "engineTransmission_clutch_cc_value_5",
          "engineTransmission_engine_cc_value_9",
          "engineTransmission_engineOil_cc_value_9",
          "engineTransmission_clutch_cc_value_6"
         ],
         "y": [
          351905,
          89630,
          74547,
          63454,
          61570,
          51872,
          50963,
          49056,
          48374,
          45171,
          43683,
          38447,
          33765,
          32628,
          27057,
          23892,
          22859,
          22422,
          22228,
          19936,
          18733,
          17731,
          15056,
          14240,
          12911,
          12133,
          12104,
          11434,
          10758,
          10085,
          9680,
          8447,
          7937,
          7820,
          7052,
          6979,
          6734,
          6698,
          5939,
          5897,
          5375,
          4751,
          4328,
          3971,
          3960,
          2755,
          2472,
          2456,
          1779,
          1216,
          817,
          682,
          531,
          448,
          360,
          1,
          0,
          0,
          0,
          0,
          0,
          0,
          0,
          0,
          0,
          0,
          0,
          0,
          0
         ]
        }
       ],
       "layout": {
        "legend": {
         "bgcolor": "#F5F6F9",
         "font": {
          "color": "#4D5663"
         }
        },
        "paper_bgcolor": "#F5F6F9",
        "plot_bgcolor": "#F5F6F9",
        "template": {
         "data": {
          "bar": [
           {
            "error_x": {
             "color": "#2a3f5f"
            },
            "error_y": {
             "color": "#2a3f5f"
            },
            "marker": {
             "line": {
              "color": "#E5ECF6",
              "width": 0.5
             }
            },
            "type": "bar"
           }
          ],
          "barpolar": [
           {
            "marker": {
             "line": {
              "color": "#E5ECF6",
              "width": 0.5
             }
            },
            "type": "barpolar"
           }
          ],
          "carpet": [
           {
            "aaxis": {
             "endlinecolor": "#2a3f5f",
             "gridcolor": "white",
             "linecolor": "white",
             "minorgridcolor": "white",
             "startlinecolor": "#2a3f5f"
            },
            "baxis": {
             "endlinecolor": "#2a3f5f",
             "gridcolor": "white",
             "linecolor": "white",
             "minorgridcolor": "white",
             "startlinecolor": "#2a3f5f"
            },
            "type": "carpet"
           }
          ],
          "choropleth": [
           {
            "colorbar": {
             "outlinewidth": 0,
             "ticks": ""
            },
            "type": "choropleth"
           }
          ],
          "contour": [
           {
            "colorbar": {
             "outlinewidth": 0,
             "ticks": ""
            },
            "colorscale": [
             [
              0,
              "#0d0887"
             ],
             [
              0.1111111111111111,
              "#46039f"
             ],
             [
              0.2222222222222222,
              "#7201a8"
             ],
             [
              0.3333333333333333,
              "#9c179e"
             ],
             [
              0.4444444444444444,
              "#bd3786"
             ],
             [
              0.5555555555555556,
              "#d8576b"
             ],
             [
              0.6666666666666666,
              "#ed7953"
             ],
             [
              0.7777777777777778,
              "#fb9f3a"
             ],
             [
              0.8888888888888888,
              "#fdca26"
             ],
             [
              1,
              "#f0f921"
             ]
            ],
            "type": "contour"
           }
          ],
          "contourcarpet": [
           {
            "colorbar": {
             "outlinewidth": 0,
             "ticks": ""
            },
            "type": "contourcarpet"
           }
          ],
          "heatmap": [
           {
            "colorbar": {
             "outlinewidth": 0,
             "ticks": ""
            },
            "colorscale": [
             [
              0,
              "#0d0887"
             ],
             [
              0.1111111111111111,
              "#46039f"
             ],
             [
              0.2222222222222222,
              "#7201a8"
             ],
             [
              0.3333333333333333,
              "#9c179e"
             ],
             [
              0.4444444444444444,
              "#bd3786"
             ],
             [
              0.5555555555555556,
              "#d8576b"
             ],
             [
              0.6666666666666666,
              "#ed7953"
             ],
             [
              0.7777777777777778,
              "#fb9f3a"
             ],
             [
              0.8888888888888888,
              "#fdca26"
             ],
             [
              1,
              "#f0f921"
             ]
            ],
            "type": "heatmap"
           }
          ],
          "heatmapgl": [
           {
            "colorbar": {
             "outlinewidth": 0,
             "ticks": ""
            },
            "colorscale": [
             [
              0,
              "#0d0887"
             ],
             [
              0.1111111111111111,
              "#46039f"
             ],
             [
              0.2222222222222222,
              "#7201a8"
             ],
             [
              0.3333333333333333,
              "#9c179e"
             ],
             [
              0.4444444444444444,
              "#bd3786"
             ],
             [
              0.5555555555555556,
              "#d8576b"
             ],
             [
              0.6666666666666666,
              "#ed7953"
             ],
             [
              0.7777777777777778,
              "#fb9f3a"
             ],
             [
              0.8888888888888888,
              "#fdca26"
             ],
             [
              1,
              "#f0f921"
             ]
            ],
            "type": "heatmapgl"
           }
          ],
          "histogram": [
           {
            "marker": {
             "colorbar": {
              "outlinewidth": 0,
              "ticks": ""
             }
            },
            "type": "histogram"
           }
          ],
          "histogram2d": [
           {
            "colorbar": {
             "outlinewidth": 0,
             "ticks": ""
            },
            "colorscale": [
             [
              0,
              "#0d0887"
             ],
             [
              0.1111111111111111,
              "#46039f"
             ],
             [
              0.2222222222222222,
              "#7201a8"
             ],
             [
              0.3333333333333333,
              "#9c179e"
             ],
             [
              0.4444444444444444,
              "#bd3786"
             ],
             [
              0.5555555555555556,
              "#d8576b"
             ],
             [
              0.6666666666666666,
              "#ed7953"
             ],
             [
              0.7777777777777778,
              "#fb9f3a"
             ],
             [
              0.8888888888888888,
              "#fdca26"
             ],
             [
              1,
              "#f0f921"
             ]
            ],
            "type": "histogram2d"
           }
          ],
          "histogram2dcontour": [
           {
            "colorbar": {
             "outlinewidth": 0,
             "ticks": ""
            },
            "colorscale": [
             [
              0,
              "#0d0887"
             ],
             [
              0.1111111111111111,
              "#46039f"
             ],
             [
              0.2222222222222222,
              "#7201a8"
             ],
             [
              0.3333333333333333,
              "#9c179e"
             ],
             [
              0.4444444444444444,
              "#bd3786"
             ],
             [
              0.5555555555555556,
              "#d8576b"
             ],
             [
              0.6666666666666666,
              "#ed7953"
             ],
             [
              0.7777777777777778,
              "#fb9f3a"
             ],
             [
              0.8888888888888888,
              "#fdca26"
             ],
             [
              1,
              "#f0f921"
             ]
            ],
            "type": "histogram2dcontour"
           }
          ],
          "mesh3d": [
           {
            "colorbar": {
             "outlinewidth": 0,
             "ticks": ""
            },
            "type": "mesh3d"
           }
          ],
          "parcoords": [
           {
            "line": {
             "colorbar": {
              "outlinewidth": 0,
              "ticks": ""
             }
            },
            "type": "parcoords"
           }
          ],
          "scatter": [
           {
            "marker": {
             "colorbar": {
              "outlinewidth": 0,
              "ticks": ""
             }
            },
            "type": "scatter"
           }
          ],
          "scatter3d": [
           {
            "line": {
             "colorbar": {
              "outlinewidth": 0,
              "ticks": ""
             }
            },
            "marker": {
             "colorbar": {
              "outlinewidth": 0,
              "ticks": ""
             }
            },
            "type": "scatter3d"
           }
          ],
          "scattercarpet": [
           {
            "marker": {
             "colorbar": {
              "outlinewidth": 0,
              "ticks": ""
             }
            },
            "type": "scattercarpet"
           }
          ],
          "scattergeo": [
           {
            "marker": {
             "colorbar": {
              "outlinewidth": 0,
              "ticks": ""
             }
            },
            "type": "scattergeo"
           }
          ],
          "scattergl": [
           {
            "marker": {
             "colorbar": {
              "outlinewidth": 0,
              "ticks": ""
             }
            },
            "type": "scattergl"
           }
          ],
          "scattermapbox": [
           {
            "marker": {
             "colorbar": {
              "outlinewidth": 0,
              "ticks": ""
             }
            },
            "type": "scattermapbox"
           }
          ],
          "scatterpolar": [
           {
            "marker": {
             "colorbar": {
              "outlinewidth": 0,
              "ticks": ""
             }
            },
            "type": "scatterpolar"
           }
          ],
          "scatterpolargl": [
           {
            "marker": {
             "colorbar": {
              "outlinewidth": 0,
              "ticks": ""
             }
            },
            "type": "scatterpolargl"
           }
          ],
          "scatterternary": [
           {
            "marker": {
             "colorbar": {
              "outlinewidth": 0,
              "ticks": ""
             }
            },
            "type": "scatterternary"
           }
          ],
          "surface": [
           {
            "colorbar": {
             "outlinewidth": 0,
             "ticks": ""
            },
            "colorscale": [
             [
              0,
              "#0d0887"
             ],
             [
              0.1111111111111111,
              "#46039f"
             ],
             [
              0.2222222222222222,
              "#7201a8"
             ],
             [
              0.3333333333333333,
              "#9c179e"
             ],
             [
              0.4444444444444444,
              "#bd3786"
             ],
             [
              0.5555555555555556,
              "#d8576b"
             ],
             [
              0.6666666666666666,
              "#ed7953"
             ],
             [
              0.7777777777777778,
              "#fb9f3a"
             ],
             [
              0.8888888888888888,
              "#fdca26"
             ],
             [
              1,
              "#f0f921"
             ]
            ],
            "type": "surface"
           }
          ],
          "table": [
           {
            "cells": {
             "fill": {
              "color": "#EBF0F8"
             },
             "line": {
              "color": "white"
             }
            },
            "header": {
             "fill": {
              "color": "#C8D4E3"
             },
             "line": {
              "color": "white"
             }
            },
            "type": "table"
           }
          ]
         },
         "layout": {
          "annotationdefaults": {
           "arrowcolor": "#2a3f5f",
           "arrowhead": 0,
           "arrowwidth": 1
          },
          "colorscale": {
           "diverging": [
            [
             0,
             "#8e0152"
            ],
            [
             0.1,
             "#c51b7d"
            ],
            [
             0.2,
             "#de77ae"
            ],
            [
             0.3,
             "#f1b6da"
            ],
            [
             0.4,
             "#fde0ef"
            ],
            [
             0.5,
             "#f7f7f7"
            ],
            [
             0.6,
             "#e6f5d0"
            ],
            [
             0.7,
             "#b8e186"
            ],
            [
             0.8,
             "#7fbc41"
            ],
            [
             0.9,
             "#4d9221"
            ],
            [
             1,
             "#276419"
            ]
           ],
           "sequential": [
            [
             0,
             "#0d0887"
            ],
            [
             0.1111111111111111,
             "#46039f"
            ],
            [
             0.2222222222222222,
             "#7201a8"
            ],
            [
             0.3333333333333333,
             "#9c179e"
            ],
            [
             0.4444444444444444,
             "#bd3786"
            ],
            [
             0.5555555555555556,
             "#d8576b"
            ],
            [
             0.6666666666666666,
             "#ed7953"
            ],
            [
             0.7777777777777778,
             "#fb9f3a"
            ],
            [
             0.8888888888888888,
             "#fdca26"
            ],
            [
             1,
             "#f0f921"
            ]
           ],
           "sequentialminus": [
            [
             0,
             "#0d0887"
            ],
            [
             0.1111111111111111,
             "#46039f"
            ],
            [
             0.2222222222222222,
             "#7201a8"
            ],
            [
             0.3333333333333333,
             "#9c179e"
            ],
            [
             0.4444444444444444,
             "#bd3786"
            ],
            [
             0.5555555555555556,
             "#d8576b"
            ],
            [
             0.6666666666666666,
             "#ed7953"
            ],
            [
             0.7777777777777778,
             "#fb9f3a"
            ],
            [
             0.8888888888888888,
             "#fdca26"
            ],
            [
             1,
             "#f0f921"
            ]
           ]
          },
          "colorway": [
           "#636efa",
           "#EF553B",
           "#00cc96",
           "#ab63fa",
           "#FFA15A",
           "#19d3f3",
           "#FF6692",
           "#B6E880",
           "#FF97FF",
           "#FECB52"
          ],
          "font": {
           "color": "#2a3f5f"
          },
          "geo": {
           "bgcolor": "white",
           "lakecolor": "white",
           "landcolor": "#E5ECF6",
           "showlakes": true,
           "showland": true,
           "subunitcolor": "white"
          },
          "hoverlabel": {
           "align": "left"
          },
          "hovermode": "closest",
          "mapbox": {
           "style": "light"
          },
          "paper_bgcolor": "white",
          "plot_bgcolor": "#E5ECF6",
          "polar": {
           "angularaxis": {
            "gridcolor": "white",
            "linecolor": "white",
            "ticks": ""
           },
           "bgcolor": "#E5ECF6",
           "radialaxis": {
            "gridcolor": "white",
            "linecolor": "white",
            "ticks": ""
           }
          },
          "scene": {
           "xaxis": {
            "backgroundcolor": "#E5ECF6",
            "gridcolor": "white",
            "gridwidth": 2,
            "linecolor": "white",
            "showbackground": true,
            "ticks": "",
            "zerolinecolor": "white"
           },
           "yaxis": {
            "backgroundcolor": "#E5ECF6",
            "gridcolor": "white",
            "gridwidth": 2,
            "linecolor": "white",
            "showbackground": true,
            "ticks": "",
            "zerolinecolor": "white"
           },
           "zaxis": {
            "backgroundcolor": "#E5ECF6",
            "gridcolor": "white",
            "gridwidth": 2,
            "linecolor": "white",
            "showbackground": true,
            "ticks": "",
            "zerolinecolor": "white"
           }
          },
          "shapedefaults": {
           "line": {
            "color": "#2a3f5f"
           }
          },
          "ternary": {
           "aaxis": {
            "gridcolor": "white",
            "linecolor": "white",
            "ticks": ""
           },
           "baxis": {
            "gridcolor": "white",
            "linecolor": "white",
            "ticks": ""
           },
           "bgcolor": "#E5ECF6",
           "caxis": {
            "gridcolor": "white",
            "linecolor": "white",
            "ticks": ""
           }
          },
          "title": {
           "x": 0.05
          },
          "xaxis": {
           "automargin": true,
           "gridcolor": "white",
           "linecolor": "white",
           "ticks": "",
           "zerolinecolor": "white",
           "zerolinewidth": 2
          },
          "yaxis": {
           "automargin": true,
           "gridcolor": "white",
           "linecolor": "white",
           "ticks": "",
           "zerolinecolor": "white",
           "zerolinewidth": 2
          }
         }
        },
        "title": {
         "font": {
          "color": "#4D5663"
         }
        },
        "xaxis": {
         "gridcolor": "#E1E5ED",
         "showgrid": true,
         "tickfont": {
          "color": "#4D5663"
         },
         "title": {
          "font": {
           "color": "#4D5663"
          },
          "text": ""
         },
         "zerolinecolor": "#E1E5ED"
        },
        "yaxis": {
         "gridcolor": "#E1E5ED",
         "showgrid": true,
         "tickfont": {
          "color": "#4D5663"
         },
         "title": {
          "font": {
           "color": "#4D5663"
          },
          "text": ""
         },
         "zerolinecolor": "#E1E5ED"
        }
       }
      },
      "text/html": [
       "<div>\n",
       "        \n",
       "        \n",
       "            <div id=\"f2a610d3-268d-483f-b767-4fecb6f71512\" class=\"plotly-graph-div\" style=\"height:525px; width:100%;\"></div>\n",
       "            <script type=\"text/javascript\">\n",
       "                require([\"plotly\"], function(Plotly) {\n",
       "                    window.PLOTLYENV=window.PLOTLYENV || {};\n",
       "                    window.PLOTLYENV.BASE_URL='https://plot.ly';\n",
       "                    \n",
       "                if (document.getElementById(\"f2a610d3-268d-483f-b767-4fecb6f71512\")) {\n",
       "                    Plotly.newPlot(\n",
       "                        'f2a610d3-268d-483f-b767-4fecb6f71512',\n",
       "                        [{\"marker\": {\"color\": \"rgba(255, 153, 51, 0.6)\", \"line\": {\"color\": \"rgba(255, 153, 51, 1.0)\", \"width\": 1}}, \"name\": \"Importance\", \"orientation\": \"v\", \"text\": \"\", \"type\": \"bar\", \"x\": [\"odometer_readingLog\", \"Duration\", \"engineTransmission_engine_cc_value_0\", \"engineTransmission_engineSound_cc_value_1\", \"engineTransmission_engineSound_cc_value_0\", \"engineTransmission_comments_value_0\", \"engineTransmission_exhaustSmoke_cc_value_0\", \"engineTransmission_clutch_cc_value_0\", \"engineTransmission_engine_cc_value_1\", \"engineTransmission_engineBlowByBackCompression_cc_value_0\", \"engineTransmission_clutch_cc_value_1\", \"engineTransmission_engineSound_cc_value_2\", \"engineTransmission_engine_cc_value_2\", \"engineTransmission_engineOil_cc_value_0\", \"engineTransmission_battery_cc_value_0\", \"engineTransmission_gearShifting_cc_value_0\", \"engineTransmission_engineOil_cc_value_1\", \"engineTransmission_engineOil_cc_value_2\", \"fuel_type\", \"engineTransmission_engineMounting_cc_value_0\", \"engineTransmission_comments_value_1\", \"engineTransmission_engineSound_cc_value_3\", \"engineTransmission_engine_cc_value_3\", \"engineTransmission_coolant_cc_value_0\", \"engineTransmission_coolant_cc_value_1\", \"engineTransmission_clutch_cc_value_2\", \"engineTransmission_engineOil_cc_value_3\", \"engineTransmission_engineSound_value\", \"engineTransmission_clutch_value\", \"engineTransmission_engineBlowByBackCompression_value\", \"engineTransmission_gearShifting_cc_value_1\", \"engineTransmission_battery_cc_value_1\", \"engineTransmission_engine_value\", \"engineTransmission_engineOil_cc_value_4\", \"engineTransmission_engineOil\", \"engineTransmission_exhaustSmoke_value\", \"engineTransmission_engineMounting_value\", \"engineTransmission_coolant_value\", \"engineTransmission_engineSound_cc_value_4\", \"engineTransmission_engineoilLevelDipstick_value\", \"engineTransmission_gearShifting_value\", \"engineTransmission_comments_value_2\", \"engineTransmission_engine_cc_value_4\", \"engineTransmission_battery_value\", \"engineTransmission_engineOil_cc_value_5\", \"engineTransmission_clutch_cc_value_3\", \"engineTransmission_coolant_cc_value_2\", \"engineTransmission_engineSound_cc_value_5\", \"engineTransmission_engineOil_cc_value_6\", \"engineTransmission_engineOilLevelDipstick_cc_value_0\", \"engineTransmission_battery_cc_value_2\", \"engineTransmission_engine_cc_value_5\", \"engineTransmission_gearShifting_cc_value_2\", \"engineTransmission_clutch_cc_value_4\", \"engineTransmission_comments_value_3\", \"engineTransmission_engine_cc_value_6\", \"engineTransmission_engine_cc_value_8\", \"engineTransmission_engine_cc_value_10\", \"engineTransmission_battery_cc_value_3\", \"engineTransmission_comments_value_4\", \"engineTransmission_battery_cc_value_4\", \"engineTransmission_engineOil_cc_value_7\", \"engineTransmission_engine_cc_value_7\", \"engineTransmission_engineOil_cc_value_8\", \"engineTransmission_coolant_cc_value_3\", \"engineTransmission_clutch_cc_value_5\", \"engineTransmission_engine_cc_value_9\", \"engineTransmission_engineOil_cc_value_9\", \"engineTransmission_clutch_cc_value_6\"], \"y\": [351905, 89630, 74547, 63454, 61570, 51872, 50963, 49056, 48374, 45171, 43683, 38447, 33765, 32628, 27057, 23892, 22859, 22422, 22228, 19936, 18733, 17731, 15056, 14240, 12911, 12133, 12104, 11434, 10758, 10085, 9680, 8447, 7937, 7820, 7052, 6979, 6734, 6698, 5939, 5897, 5375, 4751, 4328, 3971, 3960, 2755, 2472, 2456, 1779, 1216, 817, 682, 531, 448, 360, 1, 0, 0, 0, 0, 0, 0, 0, 0, 0, 0, 0, 0, 0]}],\n",
       "                        {\"legend\": {\"bgcolor\": \"#F5F6F9\", \"font\": {\"color\": \"#4D5663\"}}, \"paper_bgcolor\": \"#F5F6F9\", \"plot_bgcolor\": \"#F5F6F9\", \"template\": {\"data\": {\"bar\": [{\"error_x\": {\"color\": \"#2a3f5f\"}, \"error_y\": {\"color\": \"#2a3f5f\"}, \"marker\": {\"line\": {\"color\": \"#E5ECF6\", \"width\": 0.5}}, \"type\": \"bar\"}], \"barpolar\": [{\"marker\": {\"line\": {\"color\": \"#E5ECF6\", \"width\": 0.5}}, \"type\": \"barpolar\"}], \"carpet\": [{\"aaxis\": {\"endlinecolor\": \"#2a3f5f\", \"gridcolor\": \"white\", \"linecolor\": \"white\", \"minorgridcolor\": \"white\", \"startlinecolor\": \"#2a3f5f\"}, \"baxis\": {\"endlinecolor\": \"#2a3f5f\", \"gridcolor\": \"white\", \"linecolor\": \"white\", \"minorgridcolor\": \"white\", \"startlinecolor\": \"#2a3f5f\"}, \"type\": \"carpet\"}], \"choropleth\": [{\"colorbar\": {\"outlinewidth\": 0, \"ticks\": \"\"}, \"type\": \"choropleth\"}], \"contour\": [{\"colorbar\": {\"outlinewidth\": 0, \"ticks\": \"\"}, \"colorscale\": [[0.0, \"#0d0887\"], [0.1111111111111111, \"#46039f\"], [0.2222222222222222, \"#7201a8\"], [0.3333333333333333, \"#9c179e\"], [0.4444444444444444, \"#bd3786\"], [0.5555555555555556, \"#d8576b\"], [0.6666666666666666, \"#ed7953\"], [0.7777777777777778, \"#fb9f3a\"], [0.8888888888888888, \"#fdca26\"], [1.0, \"#f0f921\"]], \"type\": \"contour\"}], \"contourcarpet\": [{\"colorbar\": {\"outlinewidth\": 0, \"ticks\": \"\"}, \"type\": \"contourcarpet\"}], \"heatmap\": [{\"colorbar\": {\"outlinewidth\": 0, \"ticks\": \"\"}, \"colorscale\": [[0.0, \"#0d0887\"], [0.1111111111111111, \"#46039f\"], [0.2222222222222222, \"#7201a8\"], [0.3333333333333333, \"#9c179e\"], [0.4444444444444444, \"#bd3786\"], [0.5555555555555556, \"#d8576b\"], [0.6666666666666666, \"#ed7953\"], [0.7777777777777778, \"#fb9f3a\"], [0.8888888888888888, \"#fdca26\"], [1.0, \"#f0f921\"]], \"type\": \"heatmap\"}], \"heatmapgl\": [{\"colorbar\": {\"outlinewidth\": 0, \"ticks\": \"\"}, \"colorscale\": [[0.0, \"#0d0887\"], [0.1111111111111111, \"#46039f\"], [0.2222222222222222, \"#7201a8\"], [0.3333333333333333, \"#9c179e\"], [0.4444444444444444, \"#bd3786\"], [0.5555555555555556, \"#d8576b\"], [0.6666666666666666, \"#ed7953\"], [0.7777777777777778, \"#fb9f3a\"], [0.8888888888888888, \"#fdca26\"], [1.0, \"#f0f921\"]], \"type\": \"heatmapgl\"}], \"histogram\": [{\"marker\": {\"colorbar\": {\"outlinewidth\": 0, \"ticks\": \"\"}}, \"type\": \"histogram\"}], \"histogram2d\": [{\"colorbar\": {\"outlinewidth\": 0, \"ticks\": \"\"}, \"colorscale\": [[0.0, \"#0d0887\"], [0.1111111111111111, \"#46039f\"], [0.2222222222222222, \"#7201a8\"], [0.3333333333333333, \"#9c179e\"], [0.4444444444444444, \"#bd3786\"], [0.5555555555555556, \"#d8576b\"], [0.6666666666666666, \"#ed7953\"], [0.7777777777777778, \"#fb9f3a\"], [0.8888888888888888, \"#fdca26\"], [1.0, \"#f0f921\"]], \"type\": \"histogram2d\"}], \"histogram2dcontour\": [{\"colorbar\": {\"outlinewidth\": 0, \"ticks\": \"\"}, \"colorscale\": [[0.0, \"#0d0887\"], [0.1111111111111111, \"#46039f\"], [0.2222222222222222, \"#7201a8\"], [0.3333333333333333, \"#9c179e\"], [0.4444444444444444, \"#bd3786\"], [0.5555555555555556, \"#d8576b\"], [0.6666666666666666, \"#ed7953\"], [0.7777777777777778, \"#fb9f3a\"], [0.8888888888888888, \"#fdca26\"], [1.0, \"#f0f921\"]], \"type\": \"histogram2dcontour\"}], \"mesh3d\": [{\"colorbar\": {\"outlinewidth\": 0, \"ticks\": \"\"}, \"type\": \"mesh3d\"}], \"parcoords\": [{\"line\": {\"colorbar\": {\"outlinewidth\": 0, \"ticks\": \"\"}}, \"type\": \"parcoords\"}], \"scatter\": [{\"marker\": {\"colorbar\": {\"outlinewidth\": 0, \"ticks\": \"\"}}, \"type\": \"scatter\"}], \"scatter3d\": [{\"line\": {\"colorbar\": {\"outlinewidth\": 0, \"ticks\": \"\"}}, \"marker\": {\"colorbar\": {\"outlinewidth\": 0, \"ticks\": \"\"}}, \"type\": \"scatter3d\"}], \"scattercarpet\": [{\"marker\": {\"colorbar\": {\"outlinewidth\": 0, \"ticks\": \"\"}}, \"type\": \"scattercarpet\"}], \"scattergeo\": [{\"marker\": {\"colorbar\": {\"outlinewidth\": 0, \"ticks\": \"\"}}, \"type\": \"scattergeo\"}], \"scattergl\": [{\"marker\": {\"colorbar\": {\"outlinewidth\": 0, \"ticks\": \"\"}}, \"type\": \"scattergl\"}], \"scattermapbox\": [{\"marker\": {\"colorbar\": {\"outlinewidth\": 0, \"ticks\": \"\"}}, \"type\": \"scattermapbox\"}], \"scatterpolar\": [{\"marker\": {\"colorbar\": {\"outlinewidth\": 0, \"ticks\": \"\"}}, \"type\": \"scatterpolar\"}], \"scatterpolargl\": [{\"marker\": {\"colorbar\": {\"outlinewidth\": 0, \"ticks\": \"\"}}, \"type\": \"scatterpolargl\"}], \"scatterternary\": [{\"marker\": {\"colorbar\": {\"outlinewidth\": 0, \"ticks\": \"\"}}, \"type\": \"scatterternary\"}], \"surface\": [{\"colorbar\": {\"outlinewidth\": 0, \"ticks\": \"\"}, \"colorscale\": [[0.0, \"#0d0887\"], [0.1111111111111111, \"#46039f\"], [0.2222222222222222, \"#7201a8\"], [0.3333333333333333, \"#9c179e\"], [0.4444444444444444, \"#bd3786\"], [0.5555555555555556, \"#d8576b\"], [0.6666666666666666, \"#ed7953\"], [0.7777777777777778, \"#fb9f3a\"], [0.8888888888888888, \"#fdca26\"], [1.0, \"#f0f921\"]], \"type\": \"surface\"}], \"table\": [{\"cells\": {\"fill\": {\"color\": \"#EBF0F8\"}, \"line\": {\"color\": \"white\"}}, \"header\": {\"fill\": {\"color\": \"#C8D4E3\"}, \"line\": {\"color\": \"white\"}}, \"type\": \"table\"}]}, \"layout\": {\"annotationdefaults\": {\"arrowcolor\": \"#2a3f5f\", \"arrowhead\": 0, \"arrowwidth\": 1}, \"colorscale\": {\"diverging\": [[0, \"#8e0152\"], [0.1, \"#c51b7d\"], [0.2, \"#de77ae\"], [0.3, \"#f1b6da\"], [0.4, \"#fde0ef\"], [0.5, \"#f7f7f7\"], [0.6, \"#e6f5d0\"], [0.7, \"#b8e186\"], [0.8, \"#7fbc41\"], [0.9, \"#4d9221\"], [1, \"#276419\"]], \"sequential\": [[0.0, \"#0d0887\"], [0.1111111111111111, \"#46039f\"], [0.2222222222222222, \"#7201a8\"], [0.3333333333333333, \"#9c179e\"], [0.4444444444444444, \"#bd3786\"], [0.5555555555555556, \"#d8576b\"], [0.6666666666666666, \"#ed7953\"], [0.7777777777777778, \"#fb9f3a\"], [0.8888888888888888, \"#fdca26\"], [1.0, \"#f0f921\"]], \"sequentialminus\": [[0.0, \"#0d0887\"], [0.1111111111111111, \"#46039f\"], [0.2222222222222222, \"#7201a8\"], [0.3333333333333333, \"#9c179e\"], [0.4444444444444444, \"#bd3786\"], [0.5555555555555556, \"#d8576b\"], [0.6666666666666666, \"#ed7953\"], [0.7777777777777778, \"#fb9f3a\"], [0.8888888888888888, \"#fdca26\"], [1.0, \"#f0f921\"]]}, \"colorway\": [\"#636efa\", \"#EF553B\", \"#00cc96\", \"#ab63fa\", \"#FFA15A\", \"#19d3f3\", \"#FF6692\", \"#B6E880\", \"#FF97FF\", \"#FECB52\"], \"font\": {\"color\": \"#2a3f5f\"}, \"geo\": {\"bgcolor\": \"white\", \"lakecolor\": \"white\", \"landcolor\": \"#E5ECF6\", \"showlakes\": true, \"showland\": true, \"subunitcolor\": \"white\"}, \"hoverlabel\": {\"align\": \"left\"}, \"hovermode\": \"closest\", \"mapbox\": {\"style\": \"light\"}, \"paper_bgcolor\": \"white\", \"plot_bgcolor\": \"#E5ECF6\", \"polar\": {\"angularaxis\": {\"gridcolor\": \"white\", \"linecolor\": \"white\", \"ticks\": \"\"}, \"bgcolor\": \"#E5ECF6\", \"radialaxis\": {\"gridcolor\": \"white\", \"linecolor\": \"white\", \"ticks\": \"\"}}, \"scene\": {\"xaxis\": {\"backgroundcolor\": \"#E5ECF6\", \"gridcolor\": \"white\", \"gridwidth\": 2, \"linecolor\": \"white\", \"showbackground\": true, \"ticks\": \"\", \"zerolinecolor\": \"white\"}, \"yaxis\": {\"backgroundcolor\": \"#E5ECF6\", \"gridcolor\": \"white\", \"gridwidth\": 2, \"linecolor\": \"white\", \"showbackground\": true, \"ticks\": \"\", \"zerolinecolor\": \"white\"}, \"zaxis\": {\"backgroundcolor\": \"#E5ECF6\", \"gridcolor\": \"white\", \"gridwidth\": 2, \"linecolor\": \"white\", \"showbackground\": true, \"ticks\": \"\", \"zerolinecolor\": \"white\"}}, \"shapedefaults\": {\"line\": {\"color\": \"#2a3f5f\"}}, \"ternary\": {\"aaxis\": {\"gridcolor\": \"white\", \"linecolor\": \"white\", \"ticks\": \"\"}, \"baxis\": {\"gridcolor\": \"white\", \"linecolor\": \"white\", \"ticks\": \"\"}, \"bgcolor\": \"#E5ECF6\", \"caxis\": {\"gridcolor\": \"white\", \"linecolor\": \"white\", \"ticks\": \"\"}}, \"title\": {\"x\": 0.05}, \"xaxis\": {\"automargin\": true, \"gridcolor\": \"white\", \"linecolor\": \"white\", \"ticks\": \"\", \"zerolinecolor\": \"white\", \"zerolinewidth\": 2}, \"yaxis\": {\"automargin\": true, \"gridcolor\": \"white\", \"linecolor\": \"white\", \"ticks\": \"\", \"zerolinecolor\": \"white\", \"zerolinewidth\": 2}}}, \"title\": {\"font\": {\"color\": \"#4D5663\"}}, \"xaxis\": {\"gridcolor\": \"#E1E5ED\", \"showgrid\": true, \"tickfont\": {\"color\": \"#4D5663\"}, \"title\": {\"font\": {\"color\": \"#4D5663\"}, \"text\": \"\"}, \"zerolinecolor\": \"#E1E5ED\"}, \"yaxis\": {\"gridcolor\": \"#E1E5ED\", \"showgrid\": true, \"tickfont\": {\"color\": \"#4D5663\"}, \"title\": {\"font\": {\"color\": \"#4D5663\"}, \"text\": \"\"}, \"zerolinecolor\": \"#E1E5ED\"}},\n",
       "                        {\"showLink\": true, \"linkText\": \"Export to plot.ly\", \"plotlyServerURL\": \"https://plot.ly\", \"responsive\": true}\n",
       "                    ).then(function(){\n",
       "                            \n",
       "var gd = document.getElementById('f2a610d3-268d-483f-b767-4fecb6f71512');\n",
       "var x = new MutationObserver(function (mutations, observer) {{\n",
       "        var display = window.getComputedStyle(gd).display;\n",
       "        if (!display || display === 'none') {{\n",
       "            console.log([gd, 'removed!']);\n",
       "            Plotly.purge(gd);\n",
       "            observer.disconnect();\n",
       "        }}\n",
       "}});\n",
       "\n",
       "// Listen for the removal of the full notebook cells\n",
       "var notebookContainer = gd.closest('#notebook-container');\n",
       "if (notebookContainer) {{\n",
       "    x.observe(notebookContainer, {childList: true});\n",
       "}}\n",
       "\n",
       "// Listen for the clearing of the current output cell\n",
       "var outputEl = gd.closest('.output');\n",
       "if (outputEl) {{\n",
       "    x.observe(outputEl, {childList: true});\n",
       "}}\n",
       "\n",
       "                        })\n",
       "                };\n",
       "                });\n",
       "            </script>\n",
       "        </div>"
      ]
     },
     "metadata": {},
     "output_type": "display_data"
    }
   ],
   "source": [
    "importances.iplot(kind='bar')"
   ]
  },
  {
   "cell_type": "code",
   "execution_count": 120,
   "metadata": {},
   "outputs": [
    {
     "name": "stdout",
     "output_type": "stream",
     "text": [
      "Accuracy: 0.6659953970080552\n",
      "Precision: 0.655018527815979\n",
      "Recall: 0.6659953970080552\n"
     ]
    }
   ],
   "source": [
    "print('Accuracy:' ,accuracy_score(y_test,[np.argmax(i) for i in  y_pred]))\n",
    "print('Precision:', precision_score(y_test, [np.argmax(i) for i in  y_pred], average='weighted'))\n",
    "print('Recall:', recall_score(y_test, [np.argmax(i) for i in  y_pred], average='weighted'))"
   ]
  },
  {
   "cell_type": "code",
   "execution_count": 125,
   "metadata": {},
   "outputs": [
    {
     "name": "stdout",
     "output_type": "stream",
     "text": [
      "Accuracy: 0.8084733614716891\n",
      "Precision: 0.8171116271759202\n",
      "Recall: 0.8084733614716891\n"
     ]
    }
   ],
   "source": [
    "'''\n",
    "on original dataset before upsampling\n",
    "'''\n",
    "print('Accuracy:' ,accuracy_score(target,[np.argmax(i) for i in  gbm.predict(data)]))\n",
    "print('Precision:', precision_score(target, [np.argmax(i) for i in  gbm.predict(data)], average='weighted'))\n",
    "print('Recall:', recall_score(target, [np.argmax(i) for i in  gbm.predict(data)], average='weighted'))"
   ]
  },
  {
   "cell_type": "code",
   "execution_count": 122,
   "metadata": {},
   "outputs": [
    {
     "name": "stdout",
     "output_type": "stream",
     "text": [
      "              precision    recall  f1-score   support\n",
      "\n",
      "           0       1.00      1.00      1.00       964\n",
      "           1       0.64      0.73      0.68       154\n",
      "           2       0.76      0.80      0.78       142\n",
      "           3       0.00      0.00      0.00         0\n",
      "           4       0.00      0.00      0.00        11\n",
      "           5       0.21      0.07      0.11        40\n",
      "           6       0.47      0.44      0.45       420\n",
      "           7       0.42      0.35      0.38       569\n",
      "           8       0.58      0.72      0.64       964\n",
      "           9       0.47      0.22      0.30       212\n",
      "\n",
      "    accuracy                           0.67      3476\n",
      "   macro avg       0.46      0.43      0.43      3476\n",
      "weighted avg       0.66      0.67      0.65      3476\n",
      "\n"
     ]
    }
   ],
   "source": [
    "from sklearn.metrics import classification_report\n",
    "print(classification_report(y_test, [np.argmax(i) for i in  y_pred]))"
   ]
  },
  {
   "cell_type": "code",
   "execution_count": 123,
   "metadata": {},
   "outputs": [
    {
     "data": {
      "image/png": "[encoded data removed]",
      "text/plain": [
       "<Figure size 864x864 with 2 Axes>"
      ]
     },
     "metadata": {
      "needs_background": "light"
     },
     "output_type": "display_data"
    }
   ],
   "source": [
    "mat=confusion_matrix(y_test,[np.argmax(i) for i in  y_pred])\n",
    "plt.figure(figsize = (12,12))\n",
    "sns.set(font_scale=1.4) # for label size\n",
    "sns.heatmap( mat,annot=True, annot_kws={\"size\": 12}) # font size\n",
    "plt.show()\n",
    "\n"
   ]
  },
  {
   "cell_type": "code",
   "execution_count": null,
   "metadata": {},
   "outputs": [],
   "source": []
  }
 ],
 "metadata": {
  "kernelspec": {
   "display_name": "Python 3",
   "language": "python",
   "name": "python3"
  },
  "language_info": {
   "codemirror_mode": {
    "name": "ipython",
    "version": 3
   },
   "file_extension": ".py",
   "mimetype": "text/x-python",
   "name": "python",
   "nbconvert_exporter": "python",
   "pygments_lexer": "ipython3",
   "version": "3.7.4"
  },
  "widgets": {
   "application/vnd.jupyter.widget-state+json": {
    "state": {},
    "version_major": 2,
    "version_minor": 0
   }
  }
 },
 "nbformat": 4,
 "nbformat_minor": 2
}
