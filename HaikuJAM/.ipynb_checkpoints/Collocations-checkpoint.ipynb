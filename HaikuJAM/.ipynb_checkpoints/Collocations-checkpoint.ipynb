{
 "cells": [
  {
   "cell_type": "markdown",
   "metadata": {},
   "source": [
    "## Import Dependencies"
   ]
  },
  {
   "cell_type": "code",
   "execution_count": 16,
   "metadata": {
    "ExecuteTime": {
     "end_time": "2020-05-18T13:22:48.506473Z",
     "start_time": "2020-05-18T13:22:48.491231Z"
    }
   },
   "outputs": [],
   "source": [
    "import re \n",
    "import pandas as pd\n",
    "import requests\n",
    "from bs4 import BeautifulSoup\n",
    "import html2text\n",
    "import stanza\n",
    "import spacy\n",
    "from spacy_stanza import StanzaLanguage\n",
    "from nltk.corpus import stopwords\n",
    "stop_words = stopwords.words('english')\n",
    "import wordninja"
   ]
  },
  {
   "cell_type": "code",
   "execution_count": 17,
   "metadata": {
    "ExecuteTime": {
     "end_time": "2020-05-18T13:22:49.220590Z",
     "start_time": "2020-05-18T13:22:49.189548Z"
    }
   },
   "outputs": [],
   "source": [
    "data = pd.read_csv('data - data.csv')\n",
    "data = data[['text']]\n",
    "data['clean_text'] = data.text"
   ]
  },
  {
   "cell_type": "code",
   "execution_count": 18,
   "metadata": {
    "ExecuteTime": {
     "end_time": "2020-05-18T13:22:50.135061Z",
     "start_time": "2020-05-18T13:22:49.871788Z"
    }
   },
   "outputs": [],
   "source": [
    "#function to remove non-ascii characters\n",
    "def _removeNonAscii(s): return \"\".join(i for i in s if ord(i)<128)\n",
    "#remove non-ascii characters\n",
    "data.clean_text = data.clean_text.map(lambda x: _removeNonAscii(x))\n"
   ]
  },
  {
   "cell_type": "code",
   "execution_count": 19,
   "metadata": {
    "ExecuteTime": {
     "end_time": "2020-05-18T13:22:51.277725Z",
     "start_time": "2020-05-18T13:22:50.517157Z"
    }
   },
   "outputs": [],
   "source": [
    "# remove special characters, numbers, punctuations\n",
    "import contractions\n",
    "\n",
    "# data['clean_text'] = data['clean_text'].apply(lambda x: re.sub(r'^https?:\\/\\/.*[\\r\\n]*', '', x, flags=re.MULTILINE) )\n",
    "data['clean_text'] = data['clean_text'].apply(lambda x: re.sub(r'http\\S+', '', x))\n",
    "data['clean_text'] = data['clean_text'].apply(\n",
    "    lambda x: [contractions.fix(word) for word in x.split()])\n"
   ]
  },
  {
   "cell_type": "code",
   "execution_count": 20,
   "metadata": {
    "ExecuteTime": {
     "end_time": "2020-05-18T13:22:52.171131Z",
     "start_time": "2020-05-18T13:22:52.147010Z"
    }
   },
   "outputs": [],
   "source": [
    "data['clean_text'] = data['clean_text'].apply(lambda x: ' '.join(x))"
   ]
  },
  {
   "cell_type": "code",
   "execution_count": 21,
   "metadata": {
    "ExecuteTime": {
     "end_time": "2020-05-18T13:22:52.877510Z",
     "start_time": "2020-05-18T13:22:52.777867Z"
    }
   },
   "outputs": [],
   "source": [
    "data['clean_text'] = data['clean_text'].str.replace(\"[^a-zA-Z0-9]\", \" \")"
   ]
  },
  {
   "cell_type": "code",
   "execution_count": 22,
   "metadata": {
    "ExecuteTime": {
     "end_time": "2020-05-18T13:23:00.484365Z",
     "start_time": "2020-05-18T13:22:53.390770Z"
    }
   },
   "outputs": [],
   "source": [
    "data.clean_text = data.clean_text.apply(lambda x: [wordninja.split(word) for word in x.split()])"
   ]
  },
  {
   "cell_type": "code",
   "execution_count": 23,
   "metadata": {
    "ExecuteTime": {
     "end_time": "2020-05-18T13:23:00.706531Z",
     "start_time": "2020-05-18T13:23:00.632781Z"
    }
   },
   "outputs": [],
   "source": [
    "data.clean_text = data.clean_text.apply(lambda x:[item for sublist in x for item in sublist] )"
   ]
  },
  {
   "cell_type": "code",
   "execution_count": 24,
   "metadata": {
    "ExecuteTime": {
     "end_time": "2020-05-18T13:23:00.818436Z",
     "start_time": "2020-05-18T13:23:00.778668Z"
    }
   },
   "outputs": [],
   "source": [
    "data.clean_text = data.clean_text.apply(lambda x:' '.join(x))"
   ]
  },
  {
   "cell_type": "code",
   "execution_count": 25,
   "metadata": {
    "ExecuteTime": {
     "end_time": "2020-05-18T13:23:18.562277Z",
     "start_time": "2020-05-18T13:23:00.905710Z"
    }
   },
   "outputs": [],
   "source": [
    "import spacy\n",
    "nlp = spacy.load('en_core_web_lg', disable=['parser', 'ner'])"
   ]
  },
  {
   "cell_type": "code",
   "execution_count": 26,
   "metadata": {
    "ExecuteTime": {
     "end_time": "2020-05-18T13:24:09.463293Z",
     "start_time": "2020-05-18T13:23:18.668077Z"
    }
   },
   "outputs": [
    {
     "name": "stdout",
     "output_type": "stream",
     "text": [
      "CPU times: user 44.1 s, sys: 599 ms, total: 44.7 s\n",
      "Wall time: 50.8 s\n"
     ]
    }
   ],
   "source": [
    "%%time\n",
    "# function to lemmatize text\n",
    "def lemmatization(texts):\n",
    "    output = []\n",
    "    for i in texts:\n",
    "        s = [token.lemma_ for token in nlp(i)]\n",
    "        output.append(' '.join(s))\n",
    "    return output\n",
    "data.clean_text = lemmatization(data.clean_text)"
   ]
  },
  {
   "cell_type": "code",
   "execution_count": 27,
   "metadata": {
    "ExecuteTime": {
     "end_time": "2020-05-18T13:24:09.707583Z",
     "start_time": "2020-05-18T13:24:09.669124Z"
    }
   },
   "outputs": [
    {
     "data": {
      "text/html": [
       "<div>\n",
       "<style scoped>\n",
       "    .dataframe tbody tr th:only-of-type {\n",
       "        vertical-align: middle;\n",
       "    }\n",
       "\n",
       "    .dataframe tbody tr th {\n",
       "        vertical-align: top;\n",
       "    }\n",
       "\n",
       "    .dataframe thead th {\n",
       "        text-align: right;\n",
       "    }\n",
       "</style>\n",
       "<table border=\"1\" class=\"dataframe\">\n",
       "  <thead>\n",
       "    <tr style=\"text-align: right;\">\n",
       "      <th></th>\n",
       "      <th>text</th>\n",
       "      <th>clean_text</th>\n",
       "    </tr>\n",
       "  </thead>\n",
       "  <tbody>\n",
       "    <tr>\n",
       "      <th>0</th>\n",
       "      <td>Just happened a terrible car crash</td>\n",
       "      <td>just happen a terrible car crash</td>\n",
       "    </tr>\n",
       "    <tr>\n",
       "      <th>1</th>\n",
       "      <td>Our Deeds are the Reason of this #earthquake M...</td>\n",
       "      <td>-PRON- deed be the reason of this earthquake M...</td>\n",
       "    </tr>\n",
       "    <tr>\n",
       "      <th>2</th>\n",
       "      <td>Heard about #earthquake is different cities, s...</td>\n",
       "      <td>hear about earthquake be different city stay s...</td>\n",
       "    </tr>\n",
       "    <tr>\n",
       "      <th>3</th>\n",
       "      <td>there is a forest fire at spot pond, geese are...</td>\n",
       "      <td>there be a forest fire at spot pond goose be f...</td>\n",
       "    </tr>\n",
       "    <tr>\n",
       "      <th>4</th>\n",
       "      <td>Forest fire near La Ronge Sask. Canada</td>\n",
       "      <td>forest fire near La Rong e S ask Canada</td>\n",
       "    </tr>\n",
       "    <tr>\n",
       "      <th>...</th>\n",
       "      <td>...</td>\n",
       "      <td>...</td>\n",
       "    </tr>\n",
       "    <tr>\n",
       "      <th>10871</th>\n",
       "      <td>M1.94 [01:04 UTC]?5km S of Volcano Hawaii. htt...</td>\n",
       "      <td>m 1 94 01 04 UTC 5 km S of Volcano Hawaii</td>\n",
       "    </tr>\n",
       "    <tr>\n",
       "      <th>10872</th>\n",
       "      <td>Police investigating after an e-bike collided ...</td>\n",
       "      <td>Police investigate after an e bike collide wit...</td>\n",
       "    </tr>\n",
       "    <tr>\n",
       "      <th>10873</th>\n",
       "      <td>The Latest: More Homes Razed by Northern Calif...</td>\n",
       "      <td>the late More home raze by Northern California...</td>\n",
       "    </tr>\n",
       "    <tr>\n",
       "      <th>10874</th>\n",
       "      <td>MEG issues Hazardous Weather Outlook (HWO) htt...</td>\n",
       "      <td>MEG issue Hazardous Weather Outlook H wo</td>\n",
       "    </tr>\n",
       "    <tr>\n",
       "      <th>10875</th>\n",
       "      <td>#CityofCalgary has activated its Municipal Eme...</td>\n",
       "      <td>City of Calgary have activate -PRON- Municipal...</td>\n",
       "    </tr>\n",
       "  </tbody>\n",
       "</table>\n",
       "<p>10876 rows × 2 columns</p>\n",
       "</div>"
      ],
      "text/plain": [
       "                                                    text  \\\n",
       "0                     Just happened a terrible car crash   \n",
       "1      Our Deeds are the Reason of this #earthquake M...   \n",
       "2      Heard about #earthquake is different cities, s...   \n",
       "3      there is a forest fire at spot pond, geese are...   \n",
       "4                 Forest fire near La Ronge Sask. Canada   \n",
       "...                                                  ...   \n",
       "10871  M1.94 [01:04 UTC]?5km S of Volcano Hawaii. htt...   \n",
       "10872  Police investigating after an e-bike collided ...   \n",
       "10873  The Latest: More Homes Razed by Northern Calif...   \n",
       "10874  MEG issues Hazardous Weather Outlook (HWO) htt...   \n",
       "10875  #CityofCalgary has activated its Municipal Eme...   \n",
       "\n",
       "                                              clean_text  \n",
       "0                       just happen a terrible car crash  \n",
       "1      -PRON- deed be the reason of this earthquake M...  \n",
       "2      hear about earthquake be different city stay s...  \n",
       "3      there be a forest fire at spot pond goose be f...  \n",
       "4                forest fire near La Rong e S ask Canada  \n",
       "...                                                  ...  \n",
       "10871          m 1 94 01 04 UTC 5 km S of Volcano Hawaii  \n",
       "10872  Police investigate after an e bike collide wit...  \n",
       "10873  the late More home raze by Northern California...  \n",
       "10874           MEG issue Hazardous Weather Outlook H wo  \n",
       "10875  City of Calgary have activate -PRON- Municipal...  \n",
       "\n",
       "[10876 rows x 2 columns]"
      ]
     },
     "execution_count": 27,
     "metadata": {},
     "output_type": "execute_result"
    }
   ],
   "source": [
    "data"
   ]
  },
  {
   "cell_type": "code",
   "execution_count": 28,
   "metadata": {
    "ExecuteTime": {
     "end_time": "2020-05-18T13:24:11.043489Z",
     "start_time": "2020-05-18T13:24:09.863549Z"
    }
   },
   "outputs": [],
   "source": [
    "#turn all comments' tokens into one single list\n",
    "data.clean_text  = data.clean_text.apply(lambda x: x.split())\n",
    "unlist_comments = [item for items in data.clean_text for item in items]"
   ]
  },
  {
   "cell_type": "markdown",
   "metadata": {},
   "source": [
    "> We will then use NLTK’s tools to generate all possible bigrams and trigrams"
   ]
  },
  {
   "cell_type": "code",
   "execution_count": 29,
   "metadata": {
    "ExecuteTime": {
     "end_time": "2020-05-18T13:24:14.058116Z",
     "start_time": "2020-05-18T13:24:11.201959Z"
    }
   },
   "outputs": [],
   "source": [
    "import nltk\n",
    "bigrams = nltk.collocations.BigramAssocMeasures()\n",
    "trigrams = nltk.collocations.TrigramAssocMeasures()\n",
    "bigramFinder = nltk.collocations.BigramCollocationFinder.from_words(unlist_comments)\n",
    "trigramFinder = nltk.collocations.TrigramCollocationFinder.from_words(unlist_comments)"
   ]
  },
  {
   "cell_type": "markdown",
   "metadata": {},
   "source": [
    "## Methods to Rank Collocations"
   ]
  },
  {
   "cell_type": "markdown",
   "metadata": {},
   "source": [
    "### Counting frequencies of adjacent words with part of speech filters:"
   ]
  },
  {
   "cell_type": "code",
   "execution_count": 30,
   "metadata": {
    "ExecuteTime": {
     "end_time": "2020-05-18T13:24:14.186418Z",
     "start_time": "2020-05-18T13:24:14.174680Z"
    }
   },
   "outputs": [],
   "source": [
    "bigram_freq = bigramFinder.ngram_fd.items()"
   ]
  },
  {
   "cell_type": "code",
   "execution_count": 31,
   "metadata": {
    "ExecuteTime": {
     "end_time": "2020-05-18T13:24:14.650189Z",
     "start_time": "2020-05-18T13:24:14.569085Z"
    }
   },
   "outputs": [],
   "source": [
    "bigramFreqTable = pd.DataFrame(list(bigram_freq), columns=['bigram','freq']).sort_values(by='freq', ascending=False)"
   ]
  },
  {
   "cell_type": "code",
   "execution_count": 32,
   "metadata": {
    "ExecuteTime": {
     "end_time": "2020-05-18T13:24:15.008512Z",
     "start_time": "2020-05-18T13:24:14.992554Z"
    }
   },
   "outputs": [
    {
     "data": {
      "text/html": [
       "<div>\n",
       "<style scoped>\n",
       "    .dataframe tbody tr th:only-of-type {\n",
       "        vertical-align: middle;\n",
       "    }\n",
       "\n",
       "    .dataframe tbody tr th {\n",
       "        vertical-align: top;\n",
       "    }\n",
       "\n",
       "    .dataframe thead th {\n",
       "        text-align: right;\n",
       "    }\n",
       "</style>\n",
       "<table border=\"1\" class=\"dataframe\">\n",
       "  <thead>\n",
       "    <tr style=\"text-align: right;\">\n",
       "      <th></th>\n",
       "      <th>bigram</th>\n",
       "      <th>freq</th>\n",
       "    </tr>\n",
       "  </thead>\n",
       "  <tbody>\n",
       "    <tr>\n",
       "      <th>0</th>\n",
       "      <td>(-PRON-, be)</td>\n",
       "      <td>1552</td>\n",
       "    </tr>\n",
       "    <tr>\n",
       "      <th>1</th>\n",
       "      <td>(in, the)</td>\n",
       "      <td>430</td>\n",
       "    </tr>\n",
       "    <tr>\n",
       "      <th>2</th>\n",
       "      <td>(do, not)</td>\n",
       "      <td>405</td>\n",
       "    </tr>\n",
       "    <tr>\n",
       "      <th>3</th>\n",
       "      <td>(be, a)</td>\n",
       "      <td>391</td>\n",
       "    </tr>\n",
       "    <tr>\n",
       "      <th>4</th>\n",
       "      <td>(of, the)</td>\n",
       "      <td>375</td>\n",
       "    </tr>\n",
       "  </tbody>\n",
       "</table>\n",
       "</div>"
      ],
      "text/plain": [
       "         bigram  freq\n",
       "0  (-PRON-, be)  1552\n",
       "1     (in, the)   430\n",
       "2     (do, not)   405\n",
       "3       (be, a)   391\n",
       "4     (of, the)   375"
      ]
     },
     "execution_count": 32,
     "metadata": {},
     "output_type": "execute_result"
    }
   ],
   "source": [
    "bigramFreqTable.head().reset_index(drop=True)"
   ]
  },
  {
   "cell_type": "code",
   "execution_count": 33,
   "metadata": {
    "ExecuteTime": {
     "end_time": "2020-05-18T13:24:15.942159Z",
     "start_time": "2020-05-18T13:24:15.924627Z"
    }
   },
   "outputs": [
    {
     "data": {
      "text/html": [
       "<div>\n",
       "<style scoped>\n",
       "    .dataframe tbody tr th:only-of-type {\n",
       "        vertical-align: middle;\n",
       "    }\n",
       "\n",
       "    .dataframe tbody tr th {\n",
       "        vertical-align: top;\n",
       "    }\n",
       "\n",
       "    .dataframe thead th {\n",
       "        text-align: right;\n",
       "    }\n",
       "</style>\n",
       "<table border=\"1\" class=\"dataframe\">\n",
       "  <thead>\n",
       "    <tr style=\"text-align: right;\">\n",
       "      <th></th>\n",
       "      <th>bigram</th>\n",
       "      <th>freq</th>\n",
       "    </tr>\n",
       "  </thead>\n",
       "  <tbody>\n",
       "    <tr>\n",
       "      <th>149</th>\n",
       "      <td>(-PRON-, be)</td>\n",
       "      <td>1552</td>\n",
       "    </tr>\n",
       "    <tr>\n",
       "      <th>166</th>\n",
       "      <td>(in, the)</td>\n",
       "      <td>430</td>\n",
       "    </tr>\n",
       "    <tr>\n",
       "      <th>298</th>\n",
       "      <td>(do, not)</td>\n",
       "      <td>405</td>\n",
       "    </tr>\n",
       "    <tr>\n",
       "      <th>29</th>\n",
       "      <td>(be, a)</td>\n",
       "      <td>391</td>\n",
       "    </tr>\n",
       "    <tr>\n",
       "      <th>158</th>\n",
       "      <td>(of, the)</td>\n",
       "      <td>375</td>\n",
       "    </tr>\n",
       "    <tr>\n",
       "      <th>231</th>\n",
       "      <td>(-PRON-, have)</td>\n",
       "      <td>361</td>\n",
       "    </tr>\n",
       "    <tr>\n",
       "      <th>161</th>\n",
       "      <td>(and, -PRON-)</td>\n",
       "      <td>329</td>\n",
       "    </tr>\n",
       "    <tr>\n",
       "      <th>1243</th>\n",
       "      <td>(be, not)</td>\n",
       "      <td>229</td>\n",
       "    </tr>\n",
       "    <tr>\n",
       "      <th>297</th>\n",
       "      <td>(-PRON-, do)</td>\n",
       "      <td>227</td>\n",
       "    </tr>\n",
       "    <tr>\n",
       "      <th>452</th>\n",
       "      <td>(-PRON-, will)</td>\n",
       "      <td>226</td>\n",
       "    </tr>\n",
       "  </tbody>\n",
       "</table>\n",
       "</div>"
      ],
      "text/plain": [
       "              bigram  freq\n",
       "149     (-PRON-, be)  1552\n",
       "166        (in, the)   430\n",
       "298        (do, not)   405\n",
       "29           (be, a)   391\n",
       "158        (of, the)   375\n",
       "231   (-PRON-, have)   361\n",
       "161    (and, -PRON-)   329\n",
       "1243       (be, not)   229\n",
       "297     (-PRON-, do)   227\n",
       "452   (-PRON-, will)   226"
      ]
     },
     "execution_count": 33,
     "metadata": {},
     "output_type": "execute_result"
    }
   ],
   "source": [
    "bigramFreqTable[:10]"
   ]
  },
  {
   "cell_type": "code",
   "execution_count": 85,
   "metadata": {
    "ExecuteTime": {
     "end_time": "2020-05-18T13:45:36.900807Z",
     "start_time": "2020-05-18T13:45:36.893979Z"
    }
   },
   "outputs": [],
   "source": [
    "### issue with this is adjacent spaces, stop words, articles, prepositions or pronouns are common and are not meaningful\n",
    "### To fix this, we filter out for collocations not containing stop words and filter for only the following structures:\n",
    "### Bigrams: (Noun, Noun), (Adjective, Noun)\n",
    "### Trigrams: (Adjective/Noun, Anything, Adjective/Noun)\n",
    "### This is a common structure used in literature and generally works well."
   ]
  },
  {
   "cell_type": "code",
   "execution_count": 34,
   "metadata": {
    "ExecuteTime": {
     "end_time": "2020-05-18T13:24:16.958951Z",
     "start_time": "2020-05-18T13:24:16.913736Z"
    }
   },
   "outputs": [],
   "source": [
    "en_stopwords = set(stopwords.words('english'))\n",
    "#function to filter for ADJ/NN bigrams\n",
    "def rightTypes(ngram):\n",
    "    if '-pron-' in ngram or '' in ngram or ' 'in ngram or 't' in ngram:\n",
    "        return False\n",
    "    for word in ngram:\n",
    "        if word in en_stopwords:\n",
    "            return False\n",
    "    acceptable_types = ('JJ', 'JJR', 'JJS', 'NN', 'NNS', 'NNP', 'NNPS')\n",
    "    second_type = ('NN', 'NNS', 'NNP', 'NNPS')\n",
    "    tags = nltk.pos_tag(ngram)\n",
    "    if tags[0][1] in acceptable_types and tags[1][1] in second_type:\n",
    "        return True\n",
    "    else:\n",
    "        return False"
   ]
  },
  {
   "cell_type": "code",
   "execution_count": 35,
   "metadata": {
    "ExecuteTime": {
     "end_time": "2020-05-18T13:24:38.986934Z",
     "start_time": "2020-05-18T13:24:17.526522Z"
    }
   },
   "outputs": [],
   "source": [
    "filtered_bi = bigramFreqTable[bigramFreqTable.bigram.map(lambda x: rightTypes(x))]"
   ]
  },
  {
   "cell_type": "code",
   "execution_count": 36,
   "metadata": {
    "ExecuteTime": {
     "end_time": "2020-05-18T13:24:39.404822Z",
     "start_time": "2020-05-18T13:24:39.379543Z"
    }
   },
   "outputs": [
    {
     "data": {
      "text/html": [
       "<div>\n",
       "<style scoped>\n",
       "    .dataframe tbody tr th:only-of-type {\n",
       "        vertical-align: middle;\n",
       "    }\n",
       "\n",
       "    .dataframe tbody tr th {\n",
       "        vertical-align: top;\n",
       "    }\n",
       "\n",
       "    .dataframe thead th {\n",
       "        text-align: right;\n",
       "    }\n",
       "</style>\n",
       "<table border=\"1\" class=\"dataframe\">\n",
       "  <thead>\n",
       "    <tr style=\"text-align: right;\">\n",
       "      <th></th>\n",
       "      <th>bigram</th>\n",
       "      <th>freq</th>\n",
       "    </tr>\n",
       "  </thead>\n",
       "  <tbody>\n",
       "    <tr>\n",
       "      <th>621</th>\n",
       "      <td>(-PRON-, -PRON-)</td>\n",
       "      <td>155</td>\n",
       "    </tr>\n",
       "    <tr>\n",
       "      <th>3282</th>\n",
       "      <td>(-PRON-, think)</td>\n",
       "      <td>83</td>\n",
       "    </tr>\n",
       "    <tr>\n",
       "      <th>13904</th>\n",
       "      <td>(suicide, bomber)</td>\n",
       "      <td>79</td>\n",
       "    </tr>\n",
       "    <tr>\n",
       "      <th>1395</th>\n",
       "      <td>(-PRON-, feel)</td>\n",
       "      <td>73</td>\n",
       "    </tr>\n",
       "    <tr>\n",
       "      <th>2126</th>\n",
       "      <td>(think, -PRON-)</td>\n",
       "      <td>72</td>\n",
       "    </tr>\n",
       "    <tr>\n",
       "      <th>4155</th>\n",
       "      <td>(YouTube, video)</td>\n",
       "      <td>62</td>\n",
       "    </tr>\n",
       "    <tr>\n",
       "      <th>17538</th>\n",
       "      <td>(burn, building)</td>\n",
       "      <td>57</td>\n",
       "    </tr>\n",
       "    <tr>\n",
       "      <th>646</th>\n",
       "      <td>(-PRON-, S)</td>\n",
       "      <td>57</td>\n",
       "    </tr>\n",
       "    <tr>\n",
       "      <th>5590</th>\n",
       "      <td>(Northern, California)</td>\n",
       "      <td>54</td>\n",
       "    </tr>\n",
       "    <tr>\n",
       "      <th>20523</th>\n",
       "      <td>(tis, ed)</td>\n",
       "      <td>50</td>\n",
       "    </tr>\n",
       "  </tbody>\n",
       "</table>\n",
       "</div>"
      ],
      "text/plain": [
       "                       bigram  freq\n",
       "621          (-PRON-, -PRON-)   155\n",
       "3282          (-PRON-, think)    83\n",
       "13904       (suicide, bomber)    79\n",
       "1395           (-PRON-, feel)    73\n",
       "2126          (think, -PRON-)    72\n",
       "4155         (YouTube, video)    62\n",
       "17538        (burn, building)    57\n",
       "646               (-PRON-, S)    57\n",
       "5590   (Northern, California)    54\n",
       "20523               (tis, ed)    50"
      ]
     },
     "execution_count": 36,
     "metadata": {},
     "output_type": "execute_result"
    }
   ],
   "source": [
    "filtered_bi[:10]"
   ]
  },
  {
   "cell_type": "code",
   "execution_count": 37,
   "metadata": {
    "ExecuteTime": {
     "end_time": "2020-05-18T13:24:39.942714Z",
     "start_time": "2020-05-18T13:24:39.936951Z"
    }
   },
   "outputs": [],
   "source": [
    "\n",
    "trigram_freq = trigramFinder.ngram_fd.items()"
   ]
  },
  {
   "cell_type": "code",
   "execution_count": 38,
   "metadata": {
    "ExecuteTime": {
     "end_time": "2020-05-18T13:24:40.875306Z",
     "start_time": "2020-05-18T13:24:40.751487Z"
    }
   },
   "outputs": [],
   "source": [
    "trigramFreqTable = pd.DataFrame(list(trigram_freq), columns=['trigram','freq']).sort_values(by='freq', ascending=False)"
   ]
  },
  {
   "cell_type": "code",
   "execution_count": 39,
   "metadata": {
    "ExecuteTime": {
     "end_time": "2020-05-18T13:24:41.678759Z",
     "start_time": "2020-05-18T13:24:41.659804Z"
    }
   },
   "outputs": [
    {
     "data": {
      "text/html": [
       "<div>\n",
       "<style scoped>\n",
       "    .dataframe tbody tr th:only-of-type {\n",
       "        vertical-align: middle;\n",
       "    }\n",
       "\n",
       "    .dataframe tbody tr th {\n",
       "        vertical-align: top;\n",
       "    }\n",
       "\n",
       "    .dataframe thead th {\n",
       "        text-align: right;\n",
       "    }\n",
       "</style>\n",
       "<table border=\"1\" class=\"dataframe\">\n",
       "  <thead>\n",
       "    <tr style=\"text-align: right;\">\n",
       "      <th></th>\n",
       "      <th>trigram</th>\n",
       "      <th>freq</th>\n",
       "    </tr>\n",
       "  </thead>\n",
       "  <tbody>\n",
       "    <tr>\n",
       "      <th>0</th>\n",
       "      <td>(-PRON-, do, not)</td>\n",
       "      <td>157</td>\n",
       "    </tr>\n",
       "    <tr>\n",
       "      <th>1</th>\n",
       "      <td>(-PRON-, be, a)</td>\n",
       "      <td>108</td>\n",
       "    </tr>\n",
       "    <tr>\n",
       "      <th>2</th>\n",
       "      <td>(be, go, to)</td>\n",
       "      <td>102</td>\n",
       "    </tr>\n",
       "    <tr>\n",
       "      <th>3</th>\n",
       "      <td>(-PRON-, be, not)</td>\n",
       "      <td>99</td>\n",
       "    </tr>\n",
       "    <tr>\n",
       "      <th>4</th>\n",
       "      <td>(-PRON-, can, not)</td>\n",
       "      <td>93</td>\n",
       "    </tr>\n",
       "  </tbody>\n",
       "</table>\n",
       "</div>"
      ],
      "text/plain": [
       "              trigram  freq\n",
       "0   (-PRON-, do, not)   157\n",
       "1     (-PRON-, be, a)   108\n",
       "2        (be, go, to)   102\n",
       "3   (-PRON-, be, not)    99\n",
       "4  (-PRON-, can, not)    93"
      ]
     },
     "execution_count": 39,
     "metadata": {},
     "output_type": "execute_result"
    }
   ],
   "source": [
    "trigramFreqTable.head().reset_index(drop=True)"
   ]
  },
  {
   "cell_type": "code",
   "execution_count": 40,
   "metadata": {
    "ExecuteTime": {
     "end_time": "2020-05-18T13:24:42.556656Z",
     "start_time": "2020-05-18T13:24:42.531802Z"
    }
   },
   "outputs": [
    {
     "data": {
      "text/html": [
       "<div>\n",
       "<style scoped>\n",
       "    .dataframe tbody tr th:only-of-type {\n",
       "        vertical-align: middle;\n",
       "    }\n",
       "\n",
       "    .dataframe tbody tr th {\n",
       "        vertical-align: top;\n",
       "    }\n",
       "\n",
       "    .dataframe thead th {\n",
       "        text-align: right;\n",
       "    }\n",
       "</style>\n",
       "<table border=\"1\" class=\"dataframe\">\n",
       "  <thead>\n",
       "    <tr style=\"text-align: right;\">\n",
       "      <th></th>\n",
       "      <th>trigram</th>\n",
       "      <th>freq</th>\n",
       "    </tr>\n",
       "  </thead>\n",
       "  <tbody>\n",
       "    <tr>\n",
       "      <th>311</th>\n",
       "      <td>(-PRON-, do, not)</td>\n",
       "      <td>157</td>\n",
       "    </tr>\n",
       "    <tr>\n",
       "      <th>5017</th>\n",
       "      <td>(-PRON-, be, a)</td>\n",
       "      <td>108</td>\n",
       "    </tr>\n",
       "    <tr>\n",
       "      <th>1530</th>\n",
       "      <td>(be, go, to)</td>\n",
       "      <td>102</td>\n",
       "    </tr>\n",
       "    <tr>\n",
       "      <th>1902</th>\n",
       "      <td>(-PRON-, be, not)</td>\n",
       "      <td>99</td>\n",
       "    </tr>\n",
       "    <tr>\n",
       "      <th>42</th>\n",
       "      <td>(-PRON-, can, not)</td>\n",
       "      <td>93</td>\n",
       "    </tr>\n",
       "    <tr>\n",
       "      <th>2634</th>\n",
       "      <td>(and, -PRON-, be)</td>\n",
       "      <td>91</td>\n",
       "    </tr>\n",
       "    <tr>\n",
       "      <th>1529</th>\n",
       "      <td>(-PRON-, be, go)</td>\n",
       "      <td>75</td>\n",
       "    </tr>\n",
       "    <tr>\n",
       "      <th>4839</th>\n",
       "      <td>(-PRON-, like, a)</td>\n",
       "      <td>67</td>\n",
       "    </tr>\n",
       "    <tr>\n",
       "      <th>4840</th>\n",
       "      <td>(like, a, YouTube)</td>\n",
       "      <td>61</td>\n",
       "    </tr>\n",
       "    <tr>\n",
       "      <th>4841</th>\n",
       "      <td>(a, YouTube, video)</td>\n",
       "      <td>61</td>\n",
       "    </tr>\n",
       "  </tbody>\n",
       "</table>\n",
       "</div>"
      ],
      "text/plain": [
       "                  trigram  freq\n",
       "311     (-PRON-, do, not)   157\n",
       "5017      (-PRON-, be, a)   108\n",
       "1530         (be, go, to)   102\n",
       "1902    (-PRON-, be, not)    99\n",
       "42     (-PRON-, can, not)    93\n",
       "2634    (and, -PRON-, be)    91\n",
       "1529     (-PRON-, be, go)    75\n",
       "4839    (-PRON-, like, a)    67\n",
       "4840   (like, a, YouTube)    61\n",
       "4841  (a, YouTube, video)    61"
      ]
     },
     "execution_count": 40,
     "metadata": {},
     "output_type": "execute_result"
    }
   ],
   "source": [
    "trigramFreqTable[:10]"
   ]
  },
  {
   "cell_type": "code",
   "execution_count": 41,
   "metadata": {
    "ExecuteTime": {
     "end_time": "2020-05-18T13:24:43.396524Z",
     "start_time": "2020-05-18T13:24:43.385933Z"
    }
   },
   "outputs": [],
   "source": [
    "def rightTypesTri(ngram):\n",
    "    if '-pron-' in ngram or '' in ngram or ' 'in ngram or '  ' in ngram or 't' in ngram:\n",
    "        return False\n",
    "    for word in ngram:\n",
    "        if word in en_stopwords:\n",
    "            return False\n",
    "    first_type = ('JJ', 'JJR', 'JJS', 'NN', 'NNS', 'NNP', 'NNPS')\n",
    "    third_type = ('JJ', 'JJR', 'JJS', 'NN', 'NNS', 'NNP', 'NNPS')\n",
    "    tags = nltk.pos_tag(ngram)\n",
    "    if tags[0][1] in first_type and tags[2][1] in third_type:\n",
    "        return True\n",
    "    else:\n",
    "        return False"
   ]
  },
  {
   "cell_type": "code",
   "execution_count": 42,
   "metadata": {
    "ExecuteTime": {
     "end_time": "2020-05-18T13:25:13.490016Z",
     "start_time": "2020-05-18T13:24:44.163170Z"
    }
   },
   "outputs": [],
   "source": [
    "filtered_tri = trigramFreqTable[trigramFreqTable.trigram.map(lambda x: rightTypesTri(x))]"
   ]
  },
  {
   "cell_type": "code",
   "execution_count": 43,
   "metadata": {
    "ExecuteTime": {
     "end_time": "2020-05-18T13:25:14.368074Z",
     "start_time": "2020-05-18T13:25:14.338209Z"
    }
   },
   "outputs": [
    {
     "data": {
      "text/html": [
       "<div>\n",
       "<style scoped>\n",
       "    .dataframe tbody tr th:only-of-type {\n",
       "        vertical-align: middle;\n",
       "    }\n",
       "\n",
       "    .dataframe tbody tr th {\n",
       "        vertical-align: top;\n",
       "    }\n",
       "\n",
       "    .dataframe thead th {\n",
       "        text-align: right;\n",
       "    }\n",
       "</style>\n",
       "<table border=\"1\" class=\"dataframe\">\n",
       "  <thead>\n",
       "    <tr style=\"text-align: right;\">\n",
       "      <th></th>\n",
       "      <th>trigram</th>\n",
       "      <th>freq</th>\n",
       "    </tr>\n",
       "  </thead>\n",
       "  <tbody>\n",
       "    <tr>\n",
       "      <th>25909</th>\n",
       "      <td>(trauma, tis, ed)</td>\n",
       "      <td>50</td>\n",
       "    </tr>\n",
       "    <tr>\n",
       "      <th>114177</th>\n",
       "      <td>(PKK, suicide, bomber)</td>\n",
       "      <td>42</td>\n",
       "    </tr>\n",
       "    <tr>\n",
       "      <th>114176</th>\n",
       "      <td>(old, PKK, suicide)</td>\n",
       "      <td>41</td>\n",
       "    </tr>\n",
       "    <tr>\n",
       "      <th>80974</th>\n",
       "      <td>(pre, break, good)</td>\n",
       "      <td>41</td>\n",
       "    </tr>\n",
       "    <tr>\n",
       "      <th>41511</th>\n",
       "      <td>(MH, 370, Malaysia)</td>\n",
       "      <td>36</td>\n",
       "    </tr>\n",
       "    <tr>\n",
       "      <th>114193</th>\n",
       "      <td>(Turkey, Army, trench)</td>\n",
       "      <td>34</td>\n",
       "    </tr>\n",
       "    <tr>\n",
       "      <th>105973</th>\n",
       "      <td>(airport, get, swallow)</td>\n",
       "      <td>34</td>\n",
       "    </tr>\n",
       "    <tr>\n",
       "      <th>51413</th>\n",
       "      <td>(Obama, declare, disaster)</td>\n",
       "      <td>32</td>\n",
       "    </tr>\n",
       "    <tr>\n",
       "      <th>114194</th>\n",
       "      <td>(Army, trench, release)</td>\n",
       "      <td>32</td>\n",
       "    </tr>\n",
       "    <tr>\n",
       "      <th>100088</th>\n",
       "      <td>(Quarantine, Offensive, Content)</td>\n",
       "      <td>28</td>\n",
       "    </tr>\n",
       "  </tbody>\n",
       "</table>\n",
       "</div>"
      ],
      "text/plain": [
       "                                 trigram  freq\n",
       "25909                  (trauma, tis, ed)    50\n",
       "114177            (PKK, suicide, bomber)    42\n",
       "114176               (old, PKK, suicide)    41\n",
       "80974                 (pre, break, good)    41\n",
       "41511                (MH, 370, Malaysia)    36\n",
       "114193            (Turkey, Army, trench)    34\n",
       "105973           (airport, get, swallow)    34\n",
       "51413         (Obama, declare, disaster)    32\n",
       "114194           (Army, trench, release)    32\n",
       "100088  (Quarantine, Offensive, Content)    28"
      ]
     },
     "execution_count": 43,
     "metadata": {},
     "output_type": "execute_result"
    }
   ],
   "source": [
    "filtered_tri[:10]"
   ]
  },
  {
   "cell_type": "markdown",
   "metadata": {},
   "source": [
    "## PMI \n",
    "### The main intuition is that it measures how much more likely the words co-occur than if they were independent."
   ]
  },
  {
   "cell_type": "code",
   "execution_count": 44,
   "metadata": {
    "ExecuteTime": {
     "end_time": "2020-05-18T13:25:15.275952Z",
     "start_time": "2020-05-18T13:25:15.268636Z"
    }
   },
   "outputs": [],
   "source": [
    "freq_bi = filtered_bi[:20].bigram.values"
   ]
  },
  {
   "cell_type": "code",
   "execution_count": 45,
   "metadata": {
    "ExecuteTime": {
     "end_time": "2020-05-18T13:25:16.082397Z",
     "start_time": "2020-05-18T13:25:16.073855Z"
    }
   },
   "outputs": [],
   "source": [
    "freq_tri = filtered_tri[:20].trigram.values"
   ]
  },
  {
   "cell_type": "code",
   "execution_count": 46,
   "metadata": {
    "ExecuteTime": {
     "end_time": "2020-05-18T13:25:16.941515Z",
     "start_time": "2020-05-18T13:25:16.910500Z"
    }
   },
   "outputs": [],
   "source": [
    "bigramFinder.apply_freq_filter(20)"
   ]
  },
  {
   "cell_type": "code",
   "execution_count": 47,
   "metadata": {
    "ExecuteTime": {
     "end_time": "2020-05-18T13:25:17.744796Z",
     "start_time": "2020-05-18T13:25:17.724768Z"
    }
   },
   "outputs": [],
   "source": [
    "bigramPMITable = pd.DataFrame(list(bigramFinder.score_ngrams(bigrams.pmi)), columns=['bigram','PMI']).sort_values(by='PMI', ascending=False)"
   ]
  },
  {
   "cell_type": "code",
   "execution_count": 48,
   "metadata": {
    "ExecuteTime": {
     "end_time": "2020-05-18T13:25:18.819126Z",
     "start_time": "2020-05-18T13:25:18.743688Z"
    }
   },
   "outputs": [
    {
     "data": {
      "text/html": [
       "<div>\n",
       "<style scoped>\n",
       "    .dataframe tbody tr th:only-of-type {\n",
       "        vertical-align: middle;\n",
       "    }\n",
       "\n",
       "    .dataframe tbody tr th {\n",
       "        vertical-align: top;\n",
       "    }\n",
       "\n",
       "    .dataframe thead th {\n",
       "        text-align: right;\n",
       "    }\n",
       "</style>\n",
       "<table border=\"1\" class=\"dataframe\">\n",
       "  <thead>\n",
       "    <tr style=\"text-align: right;\">\n",
       "      <th></th>\n",
       "      <th>bigram</th>\n",
       "      <th>PMI</th>\n",
       "    </tr>\n",
       "  </thead>\n",
       "  <tbody>\n",
       "    <tr>\n",
       "      <th>0</th>\n",
       "      <td>(Madhya, Pradesh)</td>\n",
       "      <td>12.963405</td>\n",
       "    </tr>\n",
       "    <tr>\n",
       "      <th>1</th>\n",
       "      <td>(GB, BO)</td>\n",
       "      <td>12.963405</td>\n",
       "    </tr>\n",
       "    <tr>\n",
       "      <th>2</th>\n",
       "      <td>(Pamela, Geller)</td>\n",
       "      <td>12.899275</td>\n",
       "    </tr>\n",
       "    <tr>\n",
       "      <th>3</th>\n",
       "      <td>(Virgin, galactic)</td>\n",
       "      <td>12.577347</td>\n",
       "    </tr>\n",
       "    <tr>\n",
       "      <th>4</th>\n",
       "      <td>(Temple, Mount)</td>\n",
       "      <td>12.529752</td>\n",
       "    </tr>\n",
       "    <tr>\n",
       "      <th>5</th>\n",
       "      <td>(Quarantine, Offensive)</td>\n",
       "      <td>12.515946</td>\n",
       "    </tr>\n",
       "    <tr>\n",
       "      <th>6</th>\n",
       "      <td>(Offensive, Content)</td>\n",
       "      <td>12.468640</td>\n",
       "    </tr>\n",
       "    <tr>\n",
       "      <th>7</th>\n",
       "      <td>(Fun, tenn)</td>\n",
       "      <td>12.422837</td>\n",
       "    </tr>\n",
       "    <tr>\n",
       "      <th>8</th>\n",
       "      <td>(Stock, Market)</td>\n",
       "      <td>12.280926</td>\n",
       "    </tr>\n",
       "    <tr>\n",
       "      <th>9</th>\n",
       "      <td>(recount, horror)</td>\n",
       "      <td>12.137435</td>\n",
       "    </tr>\n",
       "  </tbody>\n",
       "</table>\n",
       "</div>"
      ],
      "text/plain": [
       "                    bigram        PMI\n",
       "0        (Madhya, Pradesh)  12.963405\n",
       "1                 (GB, BO)  12.963405\n",
       "2         (Pamela, Geller)  12.899275\n",
       "3       (Virgin, galactic)  12.577347\n",
       "4          (Temple, Mount)  12.529752\n",
       "5  (Quarantine, Offensive)  12.515946\n",
       "6     (Offensive, Content)  12.468640\n",
       "7              (Fun, tenn)  12.422837\n",
       "8          (Stock, Market)  12.280926\n",
       "9        (recount, horror)  12.137435"
      ]
     },
     "execution_count": 48,
     "metadata": {},
     "output_type": "execute_result"
    }
   ],
   "source": [
    "bigramPMITable[:10]"
   ]
  },
  {
   "cell_type": "code",
   "execution_count": 49,
   "metadata": {
    "ExecuteTime": {
     "end_time": "2020-05-18T13:25:19.971295Z",
     "start_time": "2020-05-18T13:25:19.924179Z"
    }
   },
   "outputs": [],
   "source": [
    "trigramFinder.apply_freq_filter(20)"
   ]
  },
  {
   "cell_type": "code",
   "execution_count": 50,
   "metadata": {
    "ExecuteTime": {
     "end_time": "2020-05-18T13:25:20.948898Z",
     "start_time": "2020-05-18T13:25:20.933110Z"
    }
   },
   "outputs": [],
   "source": [
    "trigramPMITable = pd.DataFrame(list(trigramFinder.score_ngrams(trigrams.pmi)), columns=['trigram','PMI']).sort_values(by='PMI', ascending=False)"
   ]
  },
  {
   "cell_type": "code",
   "execution_count": 51,
   "metadata": {
    "ExecuteTime": {
     "end_time": "2020-05-18T13:25:21.881152Z",
     "start_time": "2020-05-18T13:25:21.856089Z"
    }
   },
   "outputs": [
    {
     "data": {
      "text/html": [
       "<div>\n",
       "<style scoped>\n",
       "    .dataframe tbody tr th:only-of-type {\n",
       "        vertical-align: middle;\n",
       "    }\n",
       "\n",
       "    .dataframe tbody tr th {\n",
       "        vertical-align: top;\n",
       "    }\n",
       "\n",
       "    .dataframe thead th {\n",
       "        text-align: right;\n",
       "    }\n",
       "</style>\n",
       "<table border=\"1\" class=\"dataframe\">\n",
       "  <thead>\n",
       "    <tr style=\"text-align: right;\">\n",
       "      <th></th>\n",
       "      <th>trigram</th>\n",
       "      <th>PMI</th>\n",
       "    </tr>\n",
       "  </thead>\n",
       "  <tbody>\n",
       "    <tr>\n",
       "      <th>0</th>\n",
       "      <td>(Quarantine, Offensive, Content)</td>\n",
       "      <td>24.984587</td>\n",
       "    </tr>\n",
       "    <tr>\n",
       "      <th>1</th>\n",
       "      <td>(anthrax, lab, mishap)</td>\n",
       "      <td>24.637439</td>\n",
       "    </tr>\n",
       "    <tr>\n",
       "      <th>2</th>\n",
       "      <td>(Stock, Market, Crash)</td>\n",
       "      <td>24.031338</td>\n",
       "    </tr>\n",
       "    <tr>\n",
       "      <th>3</th>\n",
       "      <td>(Salt, River, Wild)</td>\n",
       "      <td>23.896408</td>\n",
       "    </tr>\n",
       "    <tr>\n",
       "      <th>4</th>\n",
       "      <td>(River, Wild, Horse)</td>\n",
       "      <td>23.740289</td>\n",
       "    </tr>\n",
       "    <tr>\n",
       "      <th>5</th>\n",
       "      <td>(Turkey, Army, trench)</td>\n",
       "      <td>23.144749</td>\n",
       "    </tr>\n",
       "    <tr>\n",
       "      <th>6</th>\n",
       "      <td>(Malaysia, PM, Investigators)</td>\n",
       "      <td>22.965325</td>\n",
       "    </tr>\n",
       "    <tr>\n",
       "      <th>7</th>\n",
       "      <td>(hot, Fun, tenn)</td>\n",
       "      <td>22.943600</td>\n",
       "    </tr>\n",
       "    <tr>\n",
       "      <th>8</th>\n",
       "      <td>(horrible, sub, reddit)</td>\n",
       "      <td>22.914535</td>\n",
       "    </tr>\n",
       "    <tr>\n",
       "      <th>9</th>\n",
       "      <td>(wreckage, conclusively, confirm)</td>\n",
       "      <td>22.860673</td>\n",
       "    </tr>\n",
       "  </tbody>\n",
       "</table>\n",
       "</div>"
      ],
      "text/plain": [
       "                             trigram        PMI\n",
       "0   (Quarantine, Offensive, Content)  24.984587\n",
       "1             (anthrax, lab, mishap)  24.637439\n",
       "2             (Stock, Market, Crash)  24.031338\n",
       "3                (Salt, River, Wild)  23.896408\n",
       "4               (River, Wild, Horse)  23.740289\n",
       "5             (Turkey, Army, trench)  23.144749\n",
       "6      (Malaysia, PM, Investigators)  22.965325\n",
       "7                   (hot, Fun, tenn)  22.943600\n",
       "8            (horrible, sub, reddit)  22.914535\n",
       "9  (wreckage, conclusively, confirm)  22.860673"
      ]
     },
     "execution_count": 51,
     "metadata": {},
     "output_type": "execute_result"
    }
   ],
   "source": [
    "trigramPMITable[:10]"
   ]
  },
  {
   "cell_type": "code",
   "execution_count": 52,
   "metadata": {
    "ExecuteTime": {
     "end_time": "2020-05-18T13:25:22.891036Z",
     "start_time": "2020-05-18T13:25:22.877178Z"
    }
   },
   "outputs": [],
   "source": [
    "pmi_bi = bigramPMITable[:20].bigram.values\n",
    "pmi_tri = trigramPMITable[:20].trigram.values"
   ]
  },
  {
   "cell_type": "code",
   "execution_count": 53,
   "metadata": {
    "ExecuteTime": {
     "end_time": "2020-05-18T13:25:23.879756Z",
     "start_time": "2020-05-18T13:25:23.866536Z"
    }
   },
   "outputs": [],
   "source": [
    "bigramTtable = pd.DataFrame(list(bigramFinder.score_ngrams(bigrams.student_t)), columns=['bigram','t']).sort_values(by='t', ascending=False)"
   ]
  },
  {
   "cell_type": "code",
   "execution_count": 54,
   "metadata": {
    "ExecuteTime": {
     "end_time": "2020-05-18T13:25:24.817683Z",
     "start_time": "2020-05-18T13:25:24.790543Z"
    }
   },
   "outputs": [
    {
     "data": {
      "text/html": [
       "<div>\n",
       "<style scoped>\n",
       "    .dataframe tbody tr th:only-of-type {\n",
       "        vertical-align: middle;\n",
       "    }\n",
       "\n",
       "    .dataframe tbody tr th {\n",
       "        vertical-align: top;\n",
       "    }\n",
       "\n",
       "    .dataframe thead th {\n",
       "        text-align: right;\n",
       "    }\n",
       "</style>\n",
       "<table border=\"1\" class=\"dataframe\">\n",
       "  <thead>\n",
       "    <tr style=\"text-align: right;\">\n",
       "      <th></th>\n",
       "      <th>bigram</th>\n",
       "      <th>t</th>\n",
       "    </tr>\n",
       "  </thead>\n",
       "  <tbody>\n",
       "    <tr>\n",
       "      <th>0</th>\n",
       "      <td>(-PRON-, be)</td>\n",
       "      <td>31.899863</td>\n",
       "    </tr>\n",
       "    <tr>\n",
       "      <th>1</th>\n",
       "      <td>(do, not)</td>\n",
       "      <td>19.809452</td>\n",
       "    </tr>\n",
       "    <tr>\n",
       "      <th>2</th>\n",
       "      <td>(in, the)</td>\n",
       "      <td>16.646294</td>\n",
       "    </tr>\n",
       "    <tr>\n",
       "      <th>3</th>\n",
       "      <td>(of, the)</td>\n",
       "      <td>15.552997</td>\n",
       "    </tr>\n",
       "    <tr>\n",
       "      <th>4</th>\n",
       "      <td>(-PRON-, have)</td>\n",
       "      <td>15.458100</td>\n",
       "    </tr>\n",
       "  </tbody>\n",
       "</table>\n",
       "</div>"
      ],
      "text/plain": [
       "           bigram          t\n",
       "0    (-PRON-, be)  31.899863\n",
       "1       (do, not)  19.809452\n",
       "2       (in, the)  16.646294\n",
       "3       (of, the)  15.552997\n",
       "4  (-PRON-, have)  15.458100"
      ]
     },
     "execution_count": 54,
     "metadata": {},
     "output_type": "execute_result"
    }
   ],
   "source": [
    "bigramTtable.head()"
   ]
  },
  {
   "cell_type": "code",
   "execution_count": 55,
   "metadata": {
    "ExecuteTime": {
     "end_time": "2020-05-18T13:25:26.077717Z",
     "start_time": "2020-05-18T13:25:25.964474Z"
    }
   },
   "outputs": [],
   "source": [
    "filteredT_bi = bigramTtable[bigramTtable.bigram.map(lambda x: rightTypes(x))]"
   ]
  },
  {
   "cell_type": "code",
   "execution_count": 56,
   "metadata": {
    "ExecuteTime": {
     "end_time": "2020-05-18T13:25:26.825016Z",
     "start_time": "2020-05-18T13:25:26.804311Z"
    }
   },
   "outputs": [
    {
     "data": {
      "text/html": [
       "<div>\n",
       "<style scoped>\n",
       "    .dataframe tbody tr th:only-of-type {\n",
       "        vertical-align: middle;\n",
       "    }\n",
       "\n",
       "    .dataframe tbody tr th {\n",
       "        vertical-align: top;\n",
       "    }\n",
       "\n",
       "    .dataframe thead th {\n",
       "        text-align: right;\n",
       "    }\n",
       "</style>\n",
       "<table border=\"1\" class=\"dataframe\">\n",
       "  <thead>\n",
       "    <tr style=\"text-align: right;\">\n",
       "      <th></th>\n",
       "      <th>bigram</th>\n",
       "      <th>t</th>\n",
       "    </tr>\n",
       "  </thead>\n",
       "  <tbody>\n",
       "    <tr>\n",
       "      <th>31</th>\n",
       "      <td>(suicide, bomber)</td>\n",
       "      <td>8.879703</td>\n",
       "    </tr>\n",
       "    <tr>\n",
       "      <th>42</th>\n",
       "      <td>(-PRON-, think)</td>\n",
       "      <td>7.930487</td>\n",
       "    </tr>\n",
       "    <tr>\n",
       "      <th>44</th>\n",
       "      <td>(YouTube, video)</td>\n",
       "      <td>7.854063</td>\n",
       "    </tr>\n",
       "    <tr>\n",
       "      <th>46</th>\n",
       "      <td>(-PRON-, feel)</td>\n",
       "      <td>7.690244</td>\n",
       "    </tr>\n",
       "    <tr>\n",
       "      <th>52</th>\n",
       "      <td>(burn, building)</td>\n",
       "      <td>7.517279</td>\n",
       "    </tr>\n",
       "    <tr>\n",
       "      <th>55</th>\n",
       "      <td>(Northern, California)</td>\n",
       "      <td>7.338377</td>\n",
       "    </tr>\n",
       "    <tr>\n",
       "      <th>59</th>\n",
       "      <td>(think, -PRON-)</td>\n",
       "      <td>7.218402</td>\n",
       "    </tr>\n",
       "    <tr>\n",
       "      <th>62</th>\n",
       "      <td>(tis, ed)</td>\n",
       "      <td>7.068331</td>\n",
       "    </tr>\n",
       "    <tr>\n",
       "      <th>63</th>\n",
       "      <td>(trauma, tis)</td>\n",
       "      <td>7.067245</td>\n",
       "    </tr>\n",
       "    <tr>\n",
       "      <th>72</th>\n",
       "      <td>(Full, read)</td>\n",
       "      <td>6.919996</td>\n",
       "    </tr>\n",
       "  </tbody>\n",
       "</table>\n",
       "</div>"
      ],
      "text/plain": [
       "                    bigram         t\n",
       "31       (suicide, bomber)  8.879703\n",
       "42         (-PRON-, think)  7.930487\n",
       "44        (YouTube, video)  7.854063\n",
       "46          (-PRON-, feel)  7.690244\n",
       "52        (burn, building)  7.517279\n",
       "55  (Northern, California)  7.338377\n",
       "59         (think, -PRON-)  7.218402\n",
       "62               (tis, ed)  7.068331\n",
       "63           (trauma, tis)  7.067245\n",
       "72            (Full, read)  6.919996"
      ]
     },
     "execution_count": 56,
     "metadata": {},
     "output_type": "execute_result"
    }
   ],
   "source": [
    "filteredT_bi[:10]"
   ]
  },
  {
   "cell_type": "code",
   "execution_count": 57,
   "metadata": {
    "ExecuteTime": {
     "end_time": "2020-05-18T13:25:27.748884Z",
     "start_time": "2020-05-18T13:25:27.738432Z"
    }
   },
   "outputs": [],
   "source": [
    "trigramTtable = pd.DataFrame(list(trigramFinder.score_ngrams(trigrams.student_t)), columns=['trigram','t']).sort_values(by='t', ascending=False)"
   ]
  },
  {
   "cell_type": "code",
   "execution_count": 58,
   "metadata": {
    "ExecuteTime": {
     "end_time": "2020-05-18T13:25:28.878942Z",
     "start_time": "2020-05-18T13:25:28.857649Z"
    }
   },
   "outputs": [
    {
     "data": {
      "text/html": [
       "<div>\n",
       "<style scoped>\n",
       "    .dataframe tbody tr th:only-of-type {\n",
       "        vertical-align: middle;\n",
       "    }\n",
       "\n",
       "    .dataframe tbody tr th {\n",
       "        vertical-align: top;\n",
       "    }\n",
       "\n",
       "    .dataframe thead th {\n",
       "        text-align: right;\n",
       "    }\n",
       "</style>\n",
       "<table border=\"1\" class=\"dataframe\">\n",
       "  <thead>\n",
       "    <tr style=\"text-align: right;\">\n",
       "      <th></th>\n",
       "      <th>trigram</th>\n",
       "      <th>t</th>\n",
       "    </tr>\n",
       "  </thead>\n",
       "  <tbody>\n",
       "    <tr>\n",
       "      <th>0</th>\n",
       "      <td>(-PRON-, do, not)</td>\n",
       "      <td>12.502202</td>\n",
       "    </tr>\n",
       "    <tr>\n",
       "      <th>1</th>\n",
       "      <td>(be, go, to)</td>\n",
       "      <td>10.072797</td>\n",
       "    </tr>\n",
       "    <tr>\n",
       "      <th>2</th>\n",
       "      <td>(-PRON-, be, a)</td>\n",
       "      <td>9.795103</td>\n",
       "    </tr>\n",
       "    <tr>\n",
       "      <th>3</th>\n",
       "      <td>(-PRON-, be, not)</td>\n",
       "      <td>9.742800</td>\n",
       "    </tr>\n",
       "    <tr>\n",
       "      <th>4</th>\n",
       "      <td>(-PRON-, can, not)</td>\n",
       "      <td>9.628492</td>\n",
       "    </tr>\n",
       "  </tbody>\n",
       "</table>\n",
       "</div>"
      ],
      "text/plain": [
       "              trigram          t\n",
       "0   (-PRON-, do, not)  12.502202\n",
       "1        (be, go, to)  10.072797\n",
       "2     (-PRON-, be, a)   9.795103\n",
       "3   (-PRON-, be, not)   9.742800\n",
       "4  (-PRON-, can, not)   9.628492"
      ]
     },
     "execution_count": 58,
     "metadata": {},
     "output_type": "execute_result"
    }
   ],
   "source": [
    "trigramTtable.head()"
   ]
  },
  {
   "cell_type": "code",
   "execution_count": 59,
   "metadata": {
    "ExecuteTime": {
     "end_time": "2020-05-18T13:25:30.561392Z",
     "start_time": "2020-05-18T13:25:30.505566Z"
    }
   },
   "outputs": [],
   "source": [
    "filteredT_tri = trigramTtable[trigramTtable.trigram.map(lambda x: rightTypesTri(x))]"
   ]
  },
  {
   "cell_type": "code",
   "execution_count": 60,
   "metadata": {
    "ExecuteTime": {
     "end_time": "2020-05-18T13:25:31.904243Z",
     "start_time": "2020-05-18T13:25:31.854909Z"
    }
   },
   "outputs": [
    {
     "data": {
      "text/html": [
       "<div>\n",
       "<style scoped>\n",
       "    .dataframe tbody tr th:only-of-type {\n",
       "        vertical-align: middle;\n",
       "    }\n",
       "\n",
       "    .dataframe tbody tr th {\n",
       "        vertical-align: top;\n",
       "    }\n",
       "\n",
       "    .dataframe thead th {\n",
       "        text-align: right;\n",
       "    }\n",
       "</style>\n",
       "<table border=\"1\" class=\"dataframe\">\n",
       "  <thead>\n",
       "    <tr style=\"text-align: right;\">\n",
       "      <th></th>\n",
       "      <th>trigram</th>\n",
       "      <th>t</th>\n",
       "    </tr>\n",
       "  </thead>\n",
       "  <tbody>\n",
       "    <tr>\n",
       "      <th>13</th>\n",
       "      <td>(trauma, tis, ed)</td>\n",
       "      <td>7.071066</td>\n",
       "    </tr>\n",
       "    <tr>\n",
       "      <th>20</th>\n",
       "      <td>(PKK, suicide, bomber)</td>\n",
       "      <td>6.480738</td>\n",
       "    </tr>\n",
       "    <tr>\n",
       "      <th>26</th>\n",
       "      <td>(old, PKK, suicide)</td>\n",
       "      <td>6.403120</td>\n",
       "    </tr>\n",
       "    <tr>\n",
       "      <th>27</th>\n",
       "      <td>(pre, break, good)</td>\n",
       "      <td>6.403113</td>\n",
       "    </tr>\n",
       "    <tr>\n",
       "      <th>38</th>\n",
       "      <td>(MH, 370, Malaysia)</td>\n",
       "      <td>5.999996</td>\n",
       "    </tr>\n",
       "    <tr>\n",
       "      <th>42</th>\n",
       "      <td>(Turkey, Army, trench)</td>\n",
       "      <td>5.830951</td>\n",
       "    </tr>\n",
       "    <tr>\n",
       "      <th>45</th>\n",
       "      <td>(airport, get, swallow)</td>\n",
       "      <td>5.830945</td>\n",
       "    </tr>\n",
       "    <tr>\n",
       "      <th>71</th>\n",
       "      <td>(Army, trench, release)</td>\n",
       "      <td>5.656853</td>\n",
       "    </tr>\n",
       "    <tr>\n",
       "      <th>75</th>\n",
       "      <td>(Obama, declare, disaster)</td>\n",
       "      <td>5.656850</td>\n",
       "    </tr>\n",
       "    <tr>\n",
       "      <th>95</th>\n",
       "      <td>(Quarantine, Offensive, Content)</td>\n",
       "      <td>5.291502</td>\n",
       "    </tr>\n",
       "  </tbody>\n",
       "</table>\n",
       "</div>"
      ],
      "text/plain": [
       "                             trigram         t\n",
       "13                 (trauma, tis, ed)  7.071066\n",
       "20            (PKK, suicide, bomber)  6.480738\n",
       "26               (old, PKK, suicide)  6.403120\n",
       "27                (pre, break, good)  6.403113\n",
       "38               (MH, 370, Malaysia)  5.999996\n",
       "42            (Turkey, Army, trench)  5.830951\n",
       "45           (airport, get, swallow)  5.830945\n",
       "71           (Army, trench, release)  5.656853\n",
       "75        (Obama, declare, disaster)  5.656850\n",
       "95  (Quarantine, Offensive, Content)  5.291502"
      ]
     },
     "execution_count": 60,
     "metadata": {},
     "output_type": "execute_result"
    }
   ],
   "source": [
    "filteredT_tri.head(10)"
   ]
  },
  {
   "cell_type": "code",
   "execution_count": 61,
   "metadata": {
    "ExecuteTime": {
     "end_time": "2020-05-18T13:25:32.775674Z",
     "start_time": "2020-05-18T13:25:32.771146Z"
    }
   },
   "outputs": [],
   "source": [
    "\n",
    "t_bi = filteredT_bi[:20].bigram.values"
   ]
  },
  {
   "cell_type": "code",
   "execution_count": 62,
   "metadata": {
    "ExecuteTime": {
     "end_time": "2020-05-18T13:25:33.704630Z",
     "start_time": "2020-05-18T13:25:33.691768Z"
    }
   },
   "outputs": [],
   "source": [
    "t_tri = filteredT_tri[:20].trigram.values"
   ]
  },
  {
   "cell_type": "code",
   "execution_count": 63,
   "metadata": {
    "ExecuteTime": {
     "end_time": "2020-05-18T13:25:34.456462Z",
     "start_time": "2020-05-18T13:25:34.443298Z"
    }
   },
   "outputs": [],
   "source": [
    "bigramChiTable = pd.DataFrame(list(bigramFinder.score_ngrams(bigrams.chi_sq)), columns=['bigram','chi-sq']).sort_values(by='chi-sq', ascending=False)"
   ]
  },
  {
   "cell_type": "code",
   "execution_count": 64,
   "metadata": {
    "ExecuteTime": {
     "end_time": "2020-05-18T13:25:35.211885Z",
     "start_time": "2020-05-18T13:25:35.193124Z"
    }
   },
   "outputs": [
    {
     "data": {
      "text/html": [
       "<div>\n",
       "<style scoped>\n",
       "    .dataframe tbody tr th:only-of-type {\n",
       "        vertical-align: middle;\n",
       "    }\n",
       "\n",
       "    .dataframe tbody tr th {\n",
       "        vertical-align: top;\n",
       "    }\n",
       "\n",
       "    .dataframe thead th {\n",
       "        text-align: right;\n",
       "    }\n",
       "</style>\n",
       "<table border=\"1\" class=\"dataframe\">\n",
       "  <thead>\n",
       "    <tr style=\"text-align: right;\">\n",
       "      <th></th>\n",
       "      <th>bigram</th>\n",
       "      <th>chi-sq</th>\n",
       "    </tr>\n",
       "  </thead>\n",
       "  <tbody>\n",
       "    <tr>\n",
       "      <th>0</th>\n",
       "      <td>(Madhya, Pradesh)</td>\n",
       "      <td>175710.000000</td>\n",
       "    </tr>\n",
       "    <tr>\n",
       "      <th>1</th>\n",
       "      <td>(GB, BO)</td>\n",
       "      <td>167722.227159</td>\n",
       "    </tr>\n",
       "    <tr>\n",
       "      <th>2</th>\n",
       "      <td>(Quarantine, Offensive)</td>\n",
       "      <td>163994.133036</td>\n",
       "    </tr>\n",
       "    <tr>\n",
       "      <th>3</th>\n",
       "      <td>(Pamela, Geller)</td>\n",
       "      <td>160429.043260</td>\n",
       "    </tr>\n",
       "    <tr>\n",
       "      <th>4</th>\n",
       "      <td>(Offensive, Content)</td>\n",
       "      <td>158703.096342</td>\n",
       "    </tr>\n",
       "    <tr>\n",
       "      <th>5</th>\n",
       "      <td>(MH, 370)</td>\n",
       "      <td>152422.109417</td>\n",
       "    </tr>\n",
       "    <tr>\n",
       "      <th>6</th>\n",
       "      <td>(Fun, tenn)</td>\n",
       "      <td>142759.499279</td>\n",
       "    </tr>\n",
       "    <tr>\n",
       "      <th>7</th>\n",
       "      <td>(Stock, Market)</td>\n",
       "      <td>129382.852949</td>\n",
       "    </tr>\n",
       "    <tr>\n",
       "      <th>8</th>\n",
       "      <td>(tis, ed)</td>\n",
       "      <td>129185.290350</td>\n",
       "    </tr>\n",
       "    <tr>\n",
       "      <th>9</th>\n",
       "      <td>(Temple, Mount)</td>\n",
       "      <td>124172.999145</td>\n",
       "    </tr>\n",
       "    <tr>\n",
       "      <th>10</th>\n",
       "      <td>(Virgin, galactic)</td>\n",
       "      <td>122226.433973</td>\n",
       "    </tr>\n",
       "    <tr>\n",
       "      <th>11</th>\n",
       "      <td>(wreckage, conclusively)</td>\n",
       "      <td>111560.624915</td>\n",
       "    </tr>\n",
       "    <tr>\n",
       "      <th>12</th>\n",
       "      <td>(Apollo, Brown)</td>\n",
       "      <td>110885.509918</td>\n",
       "    </tr>\n",
       "    <tr>\n",
       "      <th>13</th>\n",
       "      <td>(na, ija)</td>\n",
       "      <td>110236.860349</td>\n",
       "    </tr>\n",
       "    <tr>\n",
       "      <th>14</th>\n",
       "      <td>(lab, mishap)</td>\n",
       "      <td>108292.577434</td>\n",
       "    </tr>\n",
       "    <tr>\n",
       "      <th>15</th>\n",
       "      <td>(Cross, Body)</td>\n",
       "      <td>102579.510168</td>\n",
       "    </tr>\n",
       "    <tr>\n",
       "      <th>16</th>\n",
       "      <td>(content, policy)</td>\n",
       "      <td>101952.557615</td>\n",
       "    </tr>\n",
       "    <tr>\n",
       "      <th>17</th>\n",
       "      <td>(anthrax, lab)</td>\n",
       "      <td>92669.536571</td>\n",
       "    </tr>\n",
       "    <tr>\n",
       "      <th>18</th>\n",
       "      <td>(trauma, tis)</td>\n",
       "      <td>92455.256416</td>\n",
       "    </tr>\n",
       "    <tr>\n",
       "      <th>19</th>\n",
       "      <td>(recount, horror)</td>\n",
       "      <td>90097.947609</td>\n",
       "    </tr>\n",
       "  </tbody>\n",
       "</table>\n",
       "</div>"
      ],
      "text/plain": [
       "                      bigram         chi-sq\n",
       "0          (Madhya, Pradesh)  175710.000000\n",
       "1                   (GB, BO)  167722.227159\n",
       "2    (Quarantine, Offensive)  163994.133036\n",
       "3           (Pamela, Geller)  160429.043260\n",
       "4       (Offensive, Content)  158703.096342\n",
       "5                  (MH, 370)  152422.109417\n",
       "6                (Fun, tenn)  142759.499279\n",
       "7            (Stock, Market)  129382.852949\n",
       "8                  (tis, ed)  129185.290350\n",
       "9            (Temple, Mount)  124172.999145\n",
       "10        (Virgin, galactic)  122226.433973\n",
       "11  (wreckage, conclusively)  111560.624915\n",
       "12           (Apollo, Brown)  110885.509918\n",
       "13                 (na, ija)  110236.860349\n",
       "14             (lab, mishap)  108292.577434\n",
       "15             (Cross, Body)  102579.510168\n",
       "16         (content, policy)  101952.557615\n",
       "17            (anthrax, lab)   92669.536571\n",
       "18             (trauma, tis)   92455.256416\n",
       "19         (recount, horror)   90097.947609"
      ]
     },
     "execution_count": 64,
     "metadata": {},
     "output_type": "execute_result"
    }
   ],
   "source": [
    "bigramChiTable.head(20)"
   ]
  },
  {
   "cell_type": "code",
   "execution_count": 65,
   "metadata": {
    "ExecuteTime": {
     "end_time": "2020-05-18T13:25:36.104024Z",
     "start_time": "2020-05-18T13:25:36.065452Z"
    }
   },
   "outputs": [],
   "source": [
    "trigramChiTable = pd.DataFrame(list(trigramFinder.score_ngrams(trigrams.chi_sq)), columns=['trigram','chi-sq']).sort_values(by='chi-sq', ascending=False)"
   ]
  },
  {
   "cell_type": "code",
   "execution_count": 66,
   "metadata": {
    "ExecuteTime": {
     "end_time": "2020-05-18T13:25:36.850347Z",
     "start_time": "2020-05-18T13:25:36.827158Z"
    }
   },
   "outputs": [
    {
     "data": {
      "text/html": [
       "<div>\n",
       "<style scoped>\n",
       "    .dataframe tbody tr th:only-of-type {\n",
       "        vertical-align: middle;\n",
       "    }\n",
       "\n",
       "    .dataframe tbody tr th {\n",
       "        vertical-align: top;\n",
       "    }\n",
       "\n",
       "    .dataframe thead th {\n",
       "        text-align: right;\n",
       "    }\n",
       "</style>\n",
       "<table border=\"1\" class=\"dataframe\">\n",
       "  <thead>\n",
       "    <tr style=\"text-align: right;\">\n",
       "      <th></th>\n",
       "      <th>trigram</th>\n",
       "      <th>chi-sq</th>\n",
       "    </tr>\n",
       "  </thead>\n",
       "  <tbody>\n",
       "    <tr>\n",
       "      <th>0</th>\n",
       "      <td>(Quarantine, Offensive, Content)</td>\n",
       "      <td>9.295399e+08</td>\n",
       "    </tr>\n",
       "    <tr>\n",
       "      <th>1</th>\n",
       "      <td>(anthrax, lab, mishap)</td>\n",
       "      <td>6.263536e+08</td>\n",
       "    </tr>\n",
       "    <tr>\n",
       "      <th>2</th>\n",
       "      <td>(Stock, Market, Crash)</td>\n",
       "      <td>4.457864e+08</td>\n",
       "    </tr>\n",
       "    <tr>\n",
       "      <th>3</th>\n",
       "      <td>(Salt, River, Wild)</td>\n",
       "      <td>4.059841e+08</td>\n",
       "    </tr>\n",
       "    <tr>\n",
       "      <th>4</th>\n",
       "      <td>(Turkey, Army, trench)</td>\n",
       "      <td>3.153136e+08</td>\n",
       "    </tr>\n",
       "    <tr>\n",
       "      <th>5</th>\n",
       "      <td>(River, Wild, Horse)</td>\n",
       "      <td>2.802685e+08</td>\n",
       "    </tr>\n",
       "    <tr>\n",
       "      <th>6</th>\n",
       "      <td>(wreckage, conclusively, confirm)</td>\n",
       "      <td>2.513403e+08</td>\n",
       "    </tr>\n",
       "    <tr>\n",
       "      <th>7</th>\n",
       "      <td>(trauma, tis, ed)</td>\n",
       "      <td>2.389629e+08</td>\n",
       "    </tr>\n",
       "    <tr>\n",
       "      <th>8</th>\n",
       "      <td>(hot, Fun, tenn)</td>\n",
       "      <td>2.016751e+08</td>\n",
       "    </tr>\n",
       "    <tr>\n",
       "      <th>9</th>\n",
       "      <td>(Malaysia, PM, Investigators)</td>\n",
       "      <td>1.965492e+08</td>\n",
       "    </tr>\n",
       "    <tr>\n",
       "      <th>10</th>\n",
       "      <td>(horrible, sub, reddit)</td>\n",
       "      <td>1.818404e+08</td>\n",
       "    </tr>\n",
       "    <tr>\n",
       "      <th>11</th>\n",
       "      <td>(bio, terror, germ)</td>\n",
       "      <td>1.789874e+08</td>\n",
       "    </tr>\n",
       "    <tr>\n",
       "      <th>12</th>\n",
       "      <td>(Typhoon, devastate, Saipan)</td>\n",
       "      <td>1.679245e+08</td>\n",
       "    </tr>\n",
       "    <tr>\n",
       "      <th>13</th>\n",
       "      <td>(Legionnaires, di, sea)</td>\n",
       "      <td>1.649252e+08</td>\n",
       "    </tr>\n",
       "    <tr>\n",
       "      <th>14</th>\n",
       "      <td>(loud, bang, nearby)</td>\n",
       "      <td>1.646719e+08</td>\n",
       "    </tr>\n",
       "    <tr>\n",
       "      <th>15</th>\n",
       "      <td>(yr, old, PKK)</td>\n",
       "      <td>1.603134e+08</td>\n",
       "    </tr>\n",
       "    <tr>\n",
       "      <th>16</th>\n",
       "      <td>(wave, israeli, Flag)</td>\n",
       "      <td>1.515251e+08</td>\n",
       "    </tr>\n",
       "    <tr>\n",
       "      <th>17</th>\n",
       "      <td>(Army, trench, release)</td>\n",
       "      <td>1.503974e+08</td>\n",
       "    </tr>\n",
       "    <tr>\n",
       "      <th>18</th>\n",
       "      <td>(transport, bio, terror)</td>\n",
       "      <td>1.320676e+08</td>\n",
       "    </tr>\n",
       "    <tr>\n",
       "      <th>19</th>\n",
       "      <td>(Cross, Body, Bag)</td>\n",
       "      <td>1.155911e+08</td>\n",
       "    </tr>\n",
       "  </tbody>\n",
       "</table>\n",
       "</div>"
      ],
      "text/plain": [
       "                              trigram        chi-sq\n",
       "0    (Quarantine, Offensive, Content)  9.295399e+08\n",
       "1              (anthrax, lab, mishap)  6.263536e+08\n",
       "2              (Stock, Market, Crash)  4.457864e+08\n",
       "3                 (Salt, River, Wild)  4.059841e+08\n",
       "4              (Turkey, Army, trench)  3.153136e+08\n",
       "5                (River, Wild, Horse)  2.802685e+08\n",
       "6   (wreckage, conclusively, confirm)  2.513403e+08\n",
       "7                   (trauma, tis, ed)  2.389629e+08\n",
       "8                    (hot, Fun, tenn)  2.016751e+08\n",
       "9       (Malaysia, PM, Investigators)  1.965492e+08\n",
       "10            (horrible, sub, reddit)  1.818404e+08\n",
       "11                (bio, terror, germ)  1.789874e+08\n",
       "12       (Typhoon, devastate, Saipan)  1.679245e+08\n",
       "13            (Legionnaires, di, sea)  1.649252e+08\n",
       "14               (loud, bang, nearby)  1.646719e+08\n",
       "15                     (yr, old, PKK)  1.603134e+08\n",
       "16              (wave, israeli, Flag)  1.515251e+08\n",
       "17            (Army, trench, release)  1.503974e+08\n",
       "18           (transport, bio, terror)  1.320676e+08\n",
       "19                 (Cross, Body, Bag)  1.155911e+08"
      ]
     },
     "execution_count": 66,
     "metadata": {},
     "output_type": "execute_result"
    }
   ],
   "source": [
    "trigramChiTable.head(20)"
   ]
  },
  {
   "cell_type": "code",
   "execution_count": 67,
   "metadata": {
    "ExecuteTime": {
     "end_time": "2020-05-18T13:25:38.030619Z",
     "start_time": "2020-05-18T13:25:38.026801Z"
    }
   },
   "outputs": [],
   "source": [
    "chi_bi = bigramChiTable[:20].bigram.values"
   ]
  },
  {
   "cell_type": "code",
   "execution_count": 68,
   "metadata": {
    "ExecuteTime": {
     "end_time": "2020-05-18T13:25:39.990279Z",
     "start_time": "2020-05-18T13:25:39.964384Z"
    }
   },
   "outputs": [],
   "source": [
    "chi_tri = trigramChiTable[:20].trigram.values"
   ]
  },
  {
   "cell_type": "code",
   "execution_count": 69,
   "metadata": {
    "ExecuteTime": {
     "end_time": "2020-05-18T13:25:41.126129Z",
     "start_time": "2020-05-18T13:25:41.110096Z"
    }
   },
   "outputs": [],
   "source": [
    "bigramLikTable = pd.DataFrame(list(bigramFinder.score_ngrams(bigrams.likelihood_ratio)), columns=['bigram','likelihood ratio']).sort_values(by='likelihood ratio', ascending=False)"
   ]
  },
  {
   "cell_type": "code",
   "execution_count": 70,
   "metadata": {
    "ExecuteTime": {
     "end_time": "2020-05-18T13:25:41.824314Z",
     "start_time": "2020-05-18T13:25:41.811436Z"
    }
   },
   "outputs": [
    {
     "data": {
      "text/html": [
       "<div>\n",
       "<style scoped>\n",
       "    .dataframe tbody tr th:only-of-type {\n",
       "        vertical-align: middle;\n",
       "    }\n",
       "\n",
       "    .dataframe tbody tr th {\n",
       "        vertical-align: top;\n",
       "    }\n",
       "\n",
       "    .dataframe thead th {\n",
       "        text-align: right;\n",
       "    }\n",
       "</style>\n",
       "<table border=\"1\" class=\"dataframe\">\n",
       "  <thead>\n",
       "    <tr style=\"text-align: right;\">\n",
       "      <th></th>\n",
       "      <th>bigram</th>\n",
       "      <th>likelihood ratio</th>\n",
       "    </tr>\n",
       "  </thead>\n",
       "  <tbody>\n",
       "    <tr>\n",
       "      <th>0</th>\n",
       "      <td>(-PRON-, be)</td>\n",
       "      <td>3163.770741</td>\n",
       "    </tr>\n",
       "    <tr>\n",
       "      <th>1</th>\n",
       "      <td>(do, not)</td>\n",
       "      <td>2927.755745</td>\n",
       "    </tr>\n",
       "    <tr>\n",
       "      <th>2</th>\n",
       "      <td>(MH, 370)</td>\n",
       "      <td>1517.501582</td>\n",
       "    </tr>\n",
       "    <tr>\n",
       "      <th>3</th>\n",
       "      <td>(can, not)</td>\n",
       "      <td>1190.329246</td>\n",
       "    </tr>\n",
       "    <tr>\n",
       "      <th>4</th>\n",
       "      <td>(suicide, bomber)</td>\n",
       "      <td>1107.134222</td>\n",
       "    </tr>\n",
       "  </tbody>\n",
       "</table>\n",
       "</div>"
      ],
      "text/plain": [
       "              bigram  likelihood ratio\n",
       "0       (-PRON-, be)       3163.770741\n",
       "1          (do, not)       2927.755745\n",
       "2          (MH, 370)       1517.501582\n",
       "3         (can, not)       1190.329246\n",
       "4  (suicide, bomber)       1107.134222"
      ]
     },
     "execution_count": 70,
     "metadata": {},
     "output_type": "execute_result"
    }
   ],
   "source": [
    "bigramLikTable.head()"
   ]
  },
  {
   "cell_type": "code",
   "execution_count": 71,
   "metadata": {
    "ExecuteTime": {
     "end_time": "2020-05-18T13:25:42.700080Z",
     "start_time": "2020-05-18T13:25:42.620397Z"
    }
   },
   "outputs": [],
   "source": [
    "\n",
    "filteredLik_bi = bigramLikTable[bigramLikTable.bigram.map(lambda x: rightTypes(x))]"
   ]
  },
  {
   "cell_type": "code",
   "execution_count": 72,
   "metadata": {
    "ExecuteTime": {
     "end_time": "2020-05-18T13:25:43.409650Z",
     "start_time": "2020-05-18T13:25:43.392525Z"
    }
   },
   "outputs": [
    {
     "data": {
      "text/html": [
       "<div>\n",
       "<style scoped>\n",
       "    .dataframe tbody tr th:only-of-type {\n",
       "        vertical-align: middle;\n",
       "    }\n",
       "\n",
       "    .dataframe tbody tr th {\n",
       "        vertical-align: top;\n",
       "    }\n",
       "\n",
       "    .dataframe thead th {\n",
       "        text-align: right;\n",
       "    }\n",
       "</style>\n",
       "<table border=\"1\" class=\"dataframe\">\n",
       "  <thead>\n",
       "    <tr style=\"text-align: right;\">\n",
       "      <th></th>\n",
       "      <th>bigram</th>\n",
       "      <th>likelihood ratio</th>\n",
       "    </tr>\n",
       "  </thead>\n",
       "  <tbody>\n",
       "    <tr>\n",
       "      <th>4</th>\n",
       "      <td>(suicide, bomber)</td>\n",
       "      <td>1107.134222</td>\n",
       "    </tr>\n",
       "    <tr>\n",
       "      <th>6</th>\n",
       "      <td>(tis, ed)</td>\n",
       "      <td>837.845125</td>\n",
       "    </tr>\n",
       "    <tr>\n",
       "      <th>10</th>\n",
       "      <td>(trauma, tis)</td>\n",
       "      <td>785.007804</td>\n",
       "    </tr>\n",
       "    <tr>\n",
       "      <th>17</th>\n",
       "      <td>(YouTube, video)</td>\n",
       "      <td>674.196210</td>\n",
       "    </tr>\n",
       "    <tr>\n",
       "      <th>19</th>\n",
       "      <td>(Northern, California)</td>\n",
       "      <td>671.968048</td>\n",
       "    </tr>\n",
       "    <tr>\n",
       "      <th>20</th>\n",
       "      <td>(Cross, Body)</td>\n",
       "      <td>664.626077</td>\n",
       "    </tr>\n",
       "    <tr>\n",
       "      <th>23</th>\n",
       "      <td>(mass, murderer)</td>\n",
       "      <td>620.140891</td>\n",
       "    </tr>\n",
       "    <tr>\n",
       "      <th>24</th>\n",
       "      <td>(loud, bang)</td>\n",
       "      <td>614.354159</td>\n",
       "    </tr>\n",
       "    <tr>\n",
       "      <th>25</th>\n",
       "      <td>(Full, read)</td>\n",
       "      <td>606.962473</td>\n",
       "    </tr>\n",
       "    <tr>\n",
       "      <th>27</th>\n",
       "      <td>(mass, murder)</td>\n",
       "      <td>596.386279</td>\n",
       "    </tr>\n",
       "  </tbody>\n",
       "</table>\n",
       "</div>"
      ],
      "text/plain": [
       "                    bigram  likelihood ratio\n",
       "4        (suicide, bomber)       1107.134222\n",
       "6                (tis, ed)        837.845125\n",
       "10           (trauma, tis)        785.007804\n",
       "17        (YouTube, video)        674.196210\n",
       "19  (Northern, California)        671.968048\n",
       "20           (Cross, Body)        664.626077\n",
       "23        (mass, murderer)        620.140891\n",
       "24            (loud, bang)        614.354159\n",
       "25            (Full, read)        606.962473\n",
       "27          (mass, murder)        596.386279"
      ]
     },
     "execution_count": 72,
     "metadata": {},
     "output_type": "execute_result"
    }
   ],
   "source": [
    "filteredLik_bi.head(10)"
   ]
  },
  {
   "cell_type": "code",
   "execution_count": 73,
   "metadata": {
    "ExecuteTime": {
     "end_time": "2020-05-18T13:25:44.267816Z",
     "start_time": "2020-05-18T13:25:44.234008Z"
    }
   },
   "outputs": [],
   "source": [
    "trigramLikTable = pd.DataFrame(list(trigramFinder.score_ngrams(trigrams.likelihood_ratio)), columns=['trigram','likelihood ratio']).sort_values(by='likelihood ratio', ascending=False)"
   ]
  },
  {
   "cell_type": "code",
   "execution_count": 74,
   "metadata": {
    "ExecuteTime": {
     "end_time": "2020-05-18T13:25:45.138837Z",
     "start_time": "2020-05-18T13:25:45.124905Z"
    }
   },
   "outputs": [
    {
     "data": {
      "text/html": [
       "<div>\n",
       "<style scoped>\n",
       "    .dataframe tbody tr th:only-of-type {\n",
       "        vertical-align: middle;\n",
       "    }\n",
       "\n",
       "    .dataframe tbody tr th {\n",
       "        vertical-align: top;\n",
       "    }\n",
       "\n",
       "    .dataframe thead th {\n",
       "        text-align: right;\n",
       "    }\n",
       "</style>\n",
       "<table border=\"1\" class=\"dataframe\">\n",
       "  <thead>\n",
       "    <tr style=\"text-align: right;\">\n",
       "      <th></th>\n",
       "      <th>trigram</th>\n",
       "      <th>likelihood ratio</th>\n",
       "    </tr>\n",
       "  </thead>\n",
       "  <tbody>\n",
       "    <tr>\n",
       "      <th>0</th>\n",
       "      <td>(-PRON-, be, not)</td>\n",
       "      <td>6830.205838</td>\n",
       "    </tr>\n",
       "    <tr>\n",
       "      <th>1</th>\n",
       "      <td>(-PRON-, do, not)</td>\n",
       "      <td>6075.703805</td>\n",
       "    </tr>\n",
       "    <tr>\n",
       "      <th>2</th>\n",
       "      <td>(if, -PRON-, be)</td>\n",
       "      <td>6022.415118</td>\n",
       "    </tr>\n",
       "    <tr>\n",
       "      <th>3</th>\n",
       "      <td>(when, -PRON-, be)</td>\n",
       "      <td>5758.108735</td>\n",
       "    </tr>\n",
       "    <tr>\n",
       "      <th>4</th>\n",
       "      <td>(-PRON-, be, a)</td>\n",
       "      <td>5572.981828</td>\n",
       "    </tr>\n",
       "  </tbody>\n",
       "</table>\n",
       "</div>"
      ],
      "text/plain": [
       "              trigram  likelihood ratio\n",
       "0   (-PRON-, be, not)       6830.205838\n",
       "1   (-PRON-, do, not)       6075.703805\n",
       "2    (if, -PRON-, be)       6022.415118\n",
       "3  (when, -PRON-, be)       5758.108735\n",
       "4     (-PRON-, be, a)       5572.981828"
      ]
     },
     "execution_count": 74,
     "metadata": {},
     "output_type": "execute_result"
    }
   ],
   "source": [
    "trigramLikTable.head()"
   ]
  },
  {
   "cell_type": "code",
   "execution_count": 75,
   "metadata": {
    "ExecuteTime": {
     "end_time": "2020-05-18T13:25:46.117185Z",
     "start_time": "2020-05-18T13:25:46.079454Z"
    }
   },
   "outputs": [],
   "source": [
    "filteredLik_tri = trigramLikTable[trigramLikTable.trigram.map(lambda x: rightTypesTri(x))]"
   ]
  },
  {
   "cell_type": "code",
   "execution_count": 76,
   "metadata": {
    "ExecuteTime": {
     "end_time": "2020-05-18T13:25:46.862816Z",
     "start_time": "2020-05-18T13:25:46.842846Z"
    }
   },
   "outputs": [
    {
     "data": {
      "text/html": [
       "<div>\n",
       "<style scoped>\n",
       "    .dataframe tbody tr th:only-of-type {\n",
       "        vertical-align: middle;\n",
       "    }\n",
       "\n",
       "    .dataframe tbody tr th {\n",
       "        vertical-align: top;\n",
       "    }\n",
       "\n",
       "    .dataframe thead th {\n",
       "        text-align: right;\n",
       "    }\n",
       "</style>\n",
       "<table border=\"1\" class=\"dataframe\">\n",
       "  <thead>\n",
       "    <tr style=\"text-align: right;\">\n",
       "      <th></th>\n",
       "      <th>trigram</th>\n",
       "      <th>likelihood ratio</th>\n",
       "    </tr>\n",
       "  </thead>\n",
       "  <tbody>\n",
       "    <tr>\n",
       "      <th>33</th>\n",
       "      <td>(MH, 370, Malaysia)</td>\n",
       "      <td>2995.523069</td>\n",
       "    </tr>\n",
       "    <tr>\n",
       "      <th>36</th>\n",
       "      <td>(PKK, suicide, bomber)</td>\n",
       "      <td>2625.816507</td>\n",
       "    </tr>\n",
       "    <tr>\n",
       "      <th>37</th>\n",
       "      <td>(trauma, tis, ed)</td>\n",
       "      <td>2434.293229</td>\n",
       "    </tr>\n",
       "    <tr>\n",
       "      <th>49</th>\n",
       "      <td>(Obama, declare, disaster)</td>\n",
       "      <td>1767.823010</td>\n",
       "    </tr>\n",
       "    <tr>\n",
       "      <th>50</th>\n",
       "      <td>(old, PKK, suicide)</td>\n",
       "      <td>1765.820099</td>\n",
       "    </tr>\n",
       "    <tr>\n",
       "      <th>51</th>\n",
       "      <td>(Turkey, Army, trench)</td>\n",
       "      <td>1714.724621</td>\n",
       "    </tr>\n",
       "    <tr>\n",
       "      <th>57</th>\n",
       "      <td>(Cross, Body, Bag)</td>\n",
       "      <td>1624.771643</td>\n",
       "    </tr>\n",
       "    <tr>\n",
       "      <th>62</th>\n",
       "      <td>(pre, break, good)</td>\n",
       "      <td>1596.264121</td>\n",
       "    </tr>\n",
       "    <tr>\n",
       "      <th>63</th>\n",
       "      <td>(Quarantine, Offensive, Content)</td>\n",
       "      <td>1585.431687</td>\n",
       "    </tr>\n",
       "    <tr>\n",
       "      <th>64</th>\n",
       "      <td>(Obama, sign, disaster)</td>\n",
       "      <td>1551.781748</td>\n",
       "    </tr>\n",
       "    <tr>\n",
       "      <th>66</th>\n",
       "      <td>(bio, terror, germ)</td>\n",
       "      <td>1543.903077</td>\n",
       "    </tr>\n",
       "    <tr>\n",
       "      <th>67</th>\n",
       "      <td>(Army, trench, release)</td>\n",
       "      <td>1543.399517</td>\n",
       "    </tr>\n",
       "    <tr>\n",
       "      <th>69</th>\n",
       "      <td>(Northern, California, Wildfire)</td>\n",
       "      <td>1537.430990</td>\n",
       "    </tr>\n",
       "    <tr>\n",
       "      <th>75</th>\n",
       "      <td>(transport, bio, terror)</td>\n",
       "      <td>1503.746108</td>\n",
       "    </tr>\n",
       "    <tr>\n",
       "      <th>88</th>\n",
       "      <td>(airport, get, swallow)</td>\n",
       "      <td>1401.723546</td>\n",
       "    </tr>\n",
       "    <tr>\n",
       "      <th>93</th>\n",
       "      <td>(Salt, River, Wild)</td>\n",
       "      <td>1364.361813</td>\n",
       "    </tr>\n",
       "    <tr>\n",
       "      <th>95</th>\n",
       "      <td>(Stock, Market, Crash)</td>\n",
       "      <td>1357.173438</td>\n",
       "    </tr>\n",
       "    <tr>\n",
       "      <th>96</th>\n",
       "      <td>(Malaysia, PM, Investigators)</td>\n",
       "      <td>1349.025167</td>\n",
       "    </tr>\n",
       "    <tr>\n",
       "      <th>103</th>\n",
       "      <td>(Typhoon, devastate, Saipan)</td>\n",
       "      <td>1328.053682</td>\n",
       "    </tr>\n",
       "    <tr>\n",
       "      <th>105</th>\n",
       "      <td>(anthrax, lab, mishap)</td>\n",
       "      <td>1315.872231</td>\n",
       "    </tr>\n",
       "  </tbody>\n",
       "</table>\n",
       "</div>"
      ],
      "text/plain": [
       "                              trigram  likelihood ratio\n",
       "33                (MH, 370, Malaysia)       2995.523069\n",
       "36             (PKK, suicide, bomber)       2625.816507\n",
       "37                  (trauma, tis, ed)       2434.293229\n",
       "49         (Obama, declare, disaster)       1767.823010\n",
       "50                (old, PKK, suicide)       1765.820099\n",
       "51             (Turkey, Army, trench)       1714.724621\n",
       "57                 (Cross, Body, Bag)       1624.771643\n",
       "62                 (pre, break, good)       1596.264121\n",
       "63   (Quarantine, Offensive, Content)       1585.431687\n",
       "64            (Obama, sign, disaster)       1551.781748\n",
       "66                (bio, terror, germ)       1543.903077\n",
       "67            (Army, trench, release)       1543.399517\n",
       "69   (Northern, California, Wildfire)       1537.430990\n",
       "75           (transport, bio, terror)       1503.746108\n",
       "88            (airport, get, swallow)       1401.723546\n",
       "93                (Salt, River, Wild)       1364.361813\n",
       "95             (Stock, Market, Crash)       1357.173438\n",
       "96      (Malaysia, PM, Investigators)       1349.025167\n",
       "103      (Typhoon, devastate, Saipan)       1328.053682\n",
       "105            (anthrax, lab, mishap)       1315.872231"
      ]
     },
     "execution_count": 76,
     "metadata": {},
     "output_type": "execute_result"
    }
   ],
   "source": [
    "filteredLik_tri.head(20)"
   ]
  },
  {
   "cell_type": "code",
   "execution_count": 77,
   "metadata": {
    "ExecuteTime": {
     "end_time": "2020-05-18T13:25:47.717477Z",
     "start_time": "2020-05-18T13:25:47.710520Z"
    }
   },
   "outputs": [],
   "source": [
    "\n",
    "lik_bi = filteredLik_bi[:20].bigram.values"
   ]
  },
  {
   "cell_type": "code",
   "execution_count": 78,
   "metadata": {
    "ExecuteTime": {
     "end_time": "2020-05-18T13:25:48.476190Z",
     "start_time": "2020-05-18T13:25:48.466535Z"
    }
   },
   "outputs": [],
   "source": [
    "lik_tri = filteredLik_tri[:20].trigram.values"
   ]
  },
  {
   "cell_type": "code",
   "execution_count": 79,
   "metadata": {
    "ExecuteTime": {
     "end_time": "2020-05-18T13:25:49.200526Z",
     "start_time": "2020-05-18T13:25:49.188919Z"
    }
   },
   "outputs": [],
   "source": [
    "bigramsCompare = pd.DataFrame([freq_bi, pmi_bi, t_bi, chi_bi, lik_bi]).T"
   ]
  },
  {
   "cell_type": "code",
   "execution_count": 80,
   "metadata": {
    "ExecuteTime": {
     "end_time": "2020-05-18T13:25:50.003407Z",
     "start_time": "2020-05-18T13:25:49.992922Z"
    }
   },
   "outputs": [],
   "source": [
    "bigramsCompare.columns = ['Frequency With Filter', 'PMI', 'T-test With Filter', 'Chi-Sq Test', 'Likeihood Ratio Test With Filter']"
   ]
  },
  {
   "cell_type": "code",
   "execution_count": 81,
   "metadata": {
    "ExecuteTime": {
     "end_time": "2020-05-18T13:25:50.919665Z",
     "start_time": "2020-05-18T13:25:50.873990Z"
    }
   },
   "outputs": [
    {
     "data": {
      "text/html": [
       "<div>\n",
       "<style scoped>\n",
       "    .dataframe tbody tr th:only-of-type {\n",
       "        vertical-align: middle;\n",
       "    }\n",
       "\n",
       "    .dataframe tbody tr th {\n",
       "        vertical-align: top;\n",
       "    }\n",
       "\n",
       "    .dataframe thead th {\n",
       "        text-align: right;\n",
       "    }\n",
       "</style>\n",
       "<table border=\"1\" class=\"dataframe\">\n",
       "  <thead>\n",
       "    <tr style=\"text-align: right;\">\n",
       "      <th></th>\n",
       "      <th>Frequency With Filter</th>\n",
       "      <th>PMI</th>\n",
       "      <th>T-test With Filter</th>\n",
       "      <th>Chi-Sq Test</th>\n",
       "      <th>Likeihood Ratio Test With Filter</th>\n",
       "    </tr>\n",
       "  </thead>\n",
       "  <tbody>\n",
       "    <tr>\n",
       "      <th>0</th>\n",
       "      <td>(-PRON-, -PRON-)</td>\n",
       "      <td>(Madhya, Pradesh)</td>\n",
       "      <td>(suicide, bomber)</td>\n",
       "      <td>(Madhya, Pradesh)</td>\n",
       "      <td>(suicide, bomber)</td>\n",
       "    </tr>\n",
       "    <tr>\n",
       "      <th>1</th>\n",
       "      <td>(-PRON-, think)</td>\n",
       "      <td>(GB, BO)</td>\n",
       "      <td>(-PRON-, think)</td>\n",
       "      <td>(GB, BO)</td>\n",
       "      <td>(tis, ed)</td>\n",
       "    </tr>\n",
       "    <tr>\n",
       "      <th>2</th>\n",
       "      <td>(suicide, bomber)</td>\n",
       "      <td>(Pamela, Geller)</td>\n",
       "      <td>(YouTube, video)</td>\n",
       "      <td>(Quarantine, Offensive)</td>\n",
       "      <td>(trauma, tis)</td>\n",
       "    </tr>\n",
       "    <tr>\n",
       "      <th>3</th>\n",
       "      <td>(-PRON-, feel)</td>\n",
       "      <td>(Virgin, galactic)</td>\n",
       "      <td>(-PRON-, feel)</td>\n",
       "      <td>(Pamela, Geller)</td>\n",
       "      <td>(YouTube, video)</td>\n",
       "    </tr>\n",
       "    <tr>\n",
       "      <th>4</th>\n",
       "      <td>(think, -PRON-)</td>\n",
       "      <td>(Temple, Mount)</td>\n",
       "      <td>(burn, building)</td>\n",
       "      <td>(Offensive, Content)</td>\n",
       "      <td>(Northern, California)</td>\n",
       "    </tr>\n",
       "    <tr>\n",
       "      <th>5</th>\n",
       "      <td>(YouTube, video)</td>\n",
       "      <td>(Quarantine, Offensive)</td>\n",
       "      <td>(Northern, California)</td>\n",
       "      <td>(MH, 370)</td>\n",
       "      <td>(Cross, Body)</td>\n",
       "    </tr>\n",
       "    <tr>\n",
       "      <th>6</th>\n",
       "      <td>(burn, building)</td>\n",
       "      <td>(Offensive, Content)</td>\n",
       "      <td>(think, -PRON-)</td>\n",
       "      <td>(Fun, tenn)</td>\n",
       "      <td>(mass, murderer)</td>\n",
       "    </tr>\n",
       "    <tr>\n",
       "      <th>7</th>\n",
       "      <td>(-PRON-, S)</td>\n",
       "      <td>(Fun, tenn)</td>\n",
       "      <td>(tis, ed)</td>\n",
       "      <td>(Stock, Market)</td>\n",
       "      <td>(loud, bang)</td>\n",
       "    </tr>\n",
       "    <tr>\n",
       "      <th>8</th>\n",
       "      <td>(Northern, California)</td>\n",
       "      <td>(Stock, Market)</td>\n",
       "      <td>(trauma, tis)</td>\n",
       "      <td>(tis, ed)</td>\n",
       "      <td>(Full, read)</td>\n",
       "    </tr>\n",
       "    <tr>\n",
       "      <th>9</th>\n",
       "      <td>(tis, ed)</td>\n",
       "      <td>(recount, horror)</td>\n",
       "      <td>(Full, read)</td>\n",
       "      <td>(Temple, Mount)</td>\n",
       "      <td>(mass, murder)</td>\n",
       "    </tr>\n",
       "    <tr>\n",
       "      <th>10</th>\n",
       "      <td>(trauma, tis)</td>\n",
       "      <td>(lab, mishap)</td>\n",
       "      <td>(body, bag)</td>\n",
       "      <td>(Virgin, galactic)</td>\n",
       "      <td>(PKK, suicide)</td>\n",
       "    </tr>\n",
       "    <tr>\n",
       "      <th>11</th>\n",
       "      <td>(Full, read)</td>\n",
       "      <td>(Wild, Horse)</td>\n",
       "      <td>(mass, murder)</td>\n",
       "      <td>(wreckage, conclusively)</td>\n",
       "      <td>(old, PKK)</td>\n",
       "    </tr>\n",
       "    <tr>\n",
       "      <th>12</th>\n",
       "      <td>(love, -PRON-)</td>\n",
       "      <td>(israeli, Flag)</td>\n",
       "      <td>(suicide, bombing)</td>\n",
       "      <td>(Apollo, Brown)</td>\n",
       "      <td>(oil, spill)</td>\n",
       "    </tr>\n",
       "    <tr>\n",
       "      <th>13</th>\n",
       "      <td>(body, bag)</td>\n",
       "      <td>(anthrax, lab)</td>\n",
       "      <td>(Cross, Body)</td>\n",
       "      <td>(na, ija)</td>\n",
       "      <td>(bio, terror)</td>\n",
       "    </tr>\n",
       "    <tr>\n",
       "      <th>14</th>\n",
       "      <td>(electrocute, -PRON-)</td>\n",
       "      <td>(Islamic, State)</td>\n",
       "      <td>(mass, murderer)</td>\n",
       "      <td>(lab, mishap)</td>\n",
       "      <td>(body, bag)</td>\n",
       "    </tr>\n",
       "    <tr>\n",
       "      <th>15</th>\n",
       "      <td>(tell, -PRON-)</td>\n",
       "      <td>(Apollo, Brown)</td>\n",
       "      <td>(PKK, suicide)</td>\n",
       "      <td>(Cross, Body)</td>\n",
       "      <td>(burn, building)</td>\n",
       "    </tr>\n",
       "    <tr>\n",
       "      <th>16</th>\n",
       "      <td>(mass, murder)</td>\n",
       "      <td>(Knock, detonation)</td>\n",
       "      <td>(detonate, bomb)</td>\n",
       "      <td>(content, policy)</td>\n",
       "      <td>(Army, trench)</td>\n",
       "    </tr>\n",
       "    <tr>\n",
       "      <th>17</th>\n",
       "      <td>(suicide, bombing)</td>\n",
       "      <td>(na, ija)</td>\n",
       "      <td>(wild, fire)</td>\n",
       "      <td>(anthrax, lab)</td>\n",
       "      <td>(Quarantine, Offensive)</td>\n",
       "    </tr>\n",
       "    <tr>\n",
       "      <th>18</th>\n",
       "      <td>(wild, fire)</td>\n",
       "      <td>(detonation, Sensor)</td>\n",
       "      <td>(old, PKK)</td>\n",
       "      <td>(trauma, tis)</td>\n",
       "      <td>(Offensive, Content)</td>\n",
       "    </tr>\n",
       "    <tr>\n",
       "      <th>19</th>\n",
       "      <td>(PKK, suicide)</td>\n",
       "      <td>(wreckage, conclusively)</td>\n",
       "      <td>(pre, break)</td>\n",
       "      <td>(recount, horror)</td>\n",
       "      <td>(pre, break)</td>\n",
       "    </tr>\n",
       "  </tbody>\n",
       "</table>\n",
       "</div>"
      ],
      "text/plain": [
       "     Frequency With Filter                       PMI      T-test With Filter  \\\n",
       "0         (-PRON-, -PRON-)         (Madhya, Pradesh)       (suicide, bomber)   \n",
       "1          (-PRON-, think)                  (GB, BO)         (-PRON-, think)   \n",
       "2        (suicide, bomber)          (Pamela, Geller)        (YouTube, video)   \n",
       "3           (-PRON-, feel)        (Virgin, galactic)          (-PRON-, feel)   \n",
       "4          (think, -PRON-)           (Temple, Mount)        (burn, building)   \n",
       "5         (YouTube, video)   (Quarantine, Offensive)  (Northern, California)   \n",
       "6         (burn, building)      (Offensive, Content)         (think, -PRON-)   \n",
       "7              (-PRON-, S)               (Fun, tenn)               (tis, ed)   \n",
       "8   (Northern, California)           (Stock, Market)           (trauma, tis)   \n",
       "9                (tis, ed)         (recount, horror)            (Full, read)   \n",
       "10           (trauma, tis)             (lab, mishap)             (body, bag)   \n",
       "11            (Full, read)             (Wild, Horse)          (mass, murder)   \n",
       "12          (love, -PRON-)           (israeli, Flag)      (suicide, bombing)   \n",
       "13             (body, bag)            (anthrax, lab)           (Cross, Body)   \n",
       "14   (electrocute, -PRON-)          (Islamic, State)        (mass, murderer)   \n",
       "15          (tell, -PRON-)           (Apollo, Brown)          (PKK, suicide)   \n",
       "16          (mass, murder)       (Knock, detonation)        (detonate, bomb)   \n",
       "17      (suicide, bombing)                 (na, ija)            (wild, fire)   \n",
       "18            (wild, fire)      (detonation, Sensor)              (old, PKK)   \n",
       "19          (PKK, suicide)  (wreckage, conclusively)            (pre, break)   \n",
       "\n",
       "                 Chi-Sq Test Likeihood Ratio Test With Filter  \n",
       "0          (Madhya, Pradesh)                (suicide, bomber)  \n",
       "1                   (GB, BO)                        (tis, ed)  \n",
       "2    (Quarantine, Offensive)                    (trauma, tis)  \n",
       "3           (Pamela, Geller)                 (YouTube, video)  \n",
       "4       (Offensive, Content)           (Northern, California)  \n",
       "5                  (MH, 370)                    (Cross, Body)  \n",
       "6                (Fun, tenn)                 (mass, murderer)  \n",
       "7            (Stock, Market)                     (loud, bang)  \n",
       "8                  (tis, ed)                     (Full, read)  \n",
       "9            (Temple, Mount)                   (mass, murder)  \n",
       "10        (Virgin, galactic)                   (PKK, suicide)  \n",
       "11  (wreckage, conclusively)                       (old, PKK)  \n",
       "12           (Apollo, Brown)                     (oil, spill)  \n",
       "13                 (na, ija)                    (bio, terror)  \n",
       "14             (lab, mishap)                      (body, bag)  \n",
       "15             (Cross, Body)                 (burn, building)  \n",
       "16         (content, policy)                   (Army, trench)  \n",
       "17            (anthrax, lab)          (Quarantine, Offensive)  \n",
       "18             (trauma, tis)             (Offensive, Content)  \n",
       "19         (recount, horror)                     (pre, break)  "
      ]
     },
     "execution_count": 81,
     "metadata": {},
     "output_type": "execute_result"
    }
   ],
   "source": [
    "bigramsCompare"
   ]
  },
  {
   "cell_type": "code",
   "execution_count": 82,
   "metadata": {
    "ExecuteTime": {
     "end_time": "2020-05-18T13:25:51.816744Z",
     "start_time": "2020-05-18T13:25:51.809645Z"
    }
   },
   "outputs": [],
   "source": [
    "trigramsCompare = pd.DataFrame([freq_tri, pmi_tri, t_tri, chi_tri, lik_tri]).T"
   ]
  },
  {
   "cell_type": "code",
   "execution_count": 83,
   "metadata": {
    "ExecuteTime": {
     "end_time": "2020-05-18T13:25:52.669460Z",
     "start_time": "2020-05-18T13:25:52.659818Z"
    }
   },
   "outputs": [],
   "source": [
    "trigramsCompare.columns = ['Frequency With Filter', 'PMI', 'T-test With Filter', 'Chi-Sq Test', 'Likeihood Ratio Test With Filter']"
   ]
  },
  {
   "cell_type": "code",
   "execution_count": 84,
   "metadata": {
    "ExecuteTime": {
     "end_time": "2020-05-18T13:25:53.656102Z",
     "start_time": "2020-05-18T13:25:53.601195Z"
    }
   },
   "outputs": [
    {
     "data": {
      "text/html": [
       "<div>\n",
       "<style scoped>\n",
       "    .dataframe tbody tr th:only-of-type {\n",
       "        vertical-align: middle;\n",
       "    }\n",
       "\n",
       "    .dataframe tbody tr th {\n",
       "        vertical-align: top;\n",
       "    }\n",
       "\n",
       "    .dataframe thead th {\n",
       "        text-align: right;\n",
       "    }\n",
       "</style>\n",
       "<table border=\"1\" class=\"dataframe\">\n",
       "  <thead>\n",
       "    <tr style=\"text-align: right;\">\n",
       "      <th></th>\n",
       "      <th>Frequency With Filter</th>\n",
       "      <th>PMI</th>\n",
       "      <th>T-test With Filter</th>\n",
       "      <th>Chi-Sq Test</th>\n",
       "      <th>Likeihood Ratio Test With Filter</th>\n",
       "    </tr>\n",
       "  </thead>\n",
       "  <tbody>\n",
       "    <tr>\n",
       "      <th>0</th>\n",
       "      <td>(trauma, tis, ed)</td>\n",
       "      <td>(Quarantine, Offensive, Content)</td>\n",
       "      <td>(trauma, tis, ed)</td>\n",
       "      <td>(Quarantine, Offensive, Content)</td>\n",
       "      <td>(MH, 370, Malaysia)</td>\n",
       "    </tr>\n",
       "    <tr>\n",
       "      <th>1</th>\n",
       "      <td>(PKK, suicide, bomber)</td>\n",
       "      <td>(anthrax, lab, mishap)</td>\n",
       "      <td>(PKK, suicide, bomber)</td>\n",
       "      <td>(anthrax, lab, mishap)</td>\n",
       "      <td>(PKK, suicide, bomber)</td>\n",
       "    </tr>\n",
       "    <tr>\n",
       "      <th>2</th>\n",
       "      <td>(old, PKK, suicide)</td>\n",
       "      <td>(Stock, Market, Crash)</td>\n",
       "      <td>(old, PKK, suicide)</td>\n",
       "      <td>(Stock, Market, Crash)</td>\n",
       "      <td>(trauma, tis, ed)</td>\n",
       "    </tr>\n",
       "    <tr>\n",
       "      <th>3</th>\n",
       "      <td>(pre, break, good)</td>\n",
       "      <td>(Salt, River, Wild)</td>\n",
       "      <td>(pre, break, good)</td>\n",
       "      <td>(Salt, River, Wild)</td>\n",
       "      <td>(Obama, declare, disaster)</td>\n",
       "    </tr>\n",
       "    <tr>\n",
       "      <th>4</th>\n",
       "      <td>(MH, 370, Malaysia)</td>\n",
       "      <td>(River, Wild, Horse)</td>\n",
       "      <td>(MH, 370, Malaysia)</td>\n",
       "      <td>(Turkey, Army, trench)</td>\n",
       "      <td>(old, PKK, suicide)</td>\n",
       "    </tr>\n",
       "    <tr>\n",
       "      <th>5</th>\n",
       "      <td>(Turkey, Army, trench)</td>\n",
       "      <td>(Turkey, Army, trench)</td>\n",
       "      <td>(Turkey, Army, trench)</td>\n",
       "      <td>(River, Wild, Horse)</td>\n",
       "      <td>(Turkey, Army, trench)</td>\n",
       "    </tr>\n",
       "    <tr>\n",
       "      <th>6</th>\n",
       "      <td>(airport, get, swallow)</td>\n",
       "      <td>(Malaysia, PM, Investigators)</td>\n",
       "      <td>(airport, get, swallow)</td>\n",
       "      <td>(wreckage, conclusively, confirm)</td>\n",
       "      <td>(Cross, Body, Bag)</td>\n",
       "    </tr>\n",
       "    <tr>\n",
       "      <th>7</th>\n",
       "      <td>(Obama, declare, disaster)</td>\n",
       "      <td>(hot, Fun, tenn)</td>\n",
       "      <td>(Army, trench, release)</td>\n",
       "      <td>(trauma, tis, ed)</td>\n",
       "      <td>(pre, break, good)</td>\n",
       "    </tr>\n",
       "    <tr>\n",
       "      <th>8</th>\n",
       "      <td>(Army, trench, release)</td>\n",
       "      <td>(horrible, sub, reddit)</td>\n",
       "      <td>(Obama, declare, disaster)</td>\n",
       "      <td>(hot, Fun, tenn)</td>\n",
       "      <td>(Quarantine, Offensive, Content)</td>\n",
       "    </tr>\n",
       "    <tr>\n",
       "      <th>9</th>\n",
       "      <td>(Quarantine, Offensive, Content)</td>\n",
       "      <td>(wreckage, conclusively, confirm)</td>\n",
       "      <td>(Quarantine, Offensive, Content)</td>\n",
       "      <td>(Malaysia, PM, Investigators)</td>\n",
       "      <td>(Obama, sign, disaster)</td>\n",
       "    </tr>\n",
       "    <tr>\n",
       "      <th>10</th>\n",
       "      <td>(feel, like, -PRON-)</td>\n",
       "      <td>(wave, israeli, Flag)</td>\n",
       "      <td>(transport, bio, terror)</td>\n",
       "      <td>(horrible, sub, reddit)</td>\n",
       "      <td>(bio, terror, germ)</td>\n",
       "    </tr>\n",
       "    <tr>\n",
       "      <th>11</th>\n",
       "      <td>(-PRON-, think, -PRON-)</td>\n",
       "      <td>(bio, terror, germ)</td>\n",
       "      <td>(feel, like, -PRON-)</td>\n",
       "      <td>(bio, terror, germ)</td>\n",
       "      <td>(Army, trench, release)</td>\n",
       "    </tr>\n",
       "    <tr>\n",
       "      <th>12</th>\n",
       "      <td>(transport, bio, terror)</td>\n",
       "      <td>(Typhoon, devastate, Saipan)</td>\n",
       "      <td>(Stock, Market, Crash)</td>\n",
       "      <td>(Typhoon, devastate, Saipan)</td>\n",
       "      <td>(Northern, California, Wildfire)</td>\n",
       "    </tr>\n",
       "    <tr>\n",
       "      <th>13</th>\n",
       "      <td>(bio, terror, germ)</td>\n",
       "      <td>(Legionnaires, di, sea)</td>\n",
       "      <td>(Salt, River, Wild)</td>\n",
       "      <td>(Legionnaires, di, sea)</td>\n",
       "      <td>(transport, bio, terror)</td>\n",
       "    </tr>\n",
       "    <tr>\n",
       "      <th>14</th>\n",
       "      <td>(sound, wave, Black)</td>\n",
       "      <td>(loud, bang, nearby)</td>\n",
       "      <td>(bio, terror, germ)</td>\n",
       "      <td>(loud, bang, nearby)</td>\n",
       "      <td>(airport, get, swallow)</td>\n",
       "    </tr>\n",
       "    <tr>\n",
       "      <th>15</th>\n",
       "      <td>(Salt, River, Wild)</td>\n",
       "      <td>(Cross, Body, Bag)</td>\n",
       "      <td>(sound, wave, Black)</td>\n",
       "      <td>(yr, old, PKK)</td>\n",
       "      <td>(Salt, River, Wild)</td>\n",
       "    </tr>\n",
       "    <tr>\n",
       "      <th>16</th>\n",
       "      <td>(Obama, sign, disaster)</td>\n",
       "      <td>(transport, bio, terror)</td>\n",
       "      <td>(Obama, sign, disaster)</td>\n",
       "      <td>(wave, israeli, Flag)</td>\n",
       "      <td>(Stock, Market, Crash)</td>\n",
       "    </tr>\n",
       "    <tr>\n",
       "      <th>17</th>\n",
       "      <td>(Stock, Market, Crash)</td>\n",
       "      <td>(trauma, tis, ed)</td>\n",
       "      <td>(-PRON-, think, -PRON-)</td>\n",
       "      <td>(Army, trench, release)</td>\n",
       "      <td>(Malaysia, PM, Investigators)</td>\n",
       "    </tr>\n",
       "    <tr>\n",
       "      <th>18</th>\n",
       "      <td>(Legionnaires, di, sea)</td>\n",
       "      <td>(Army, trench, release)</td>\n",
       "      <td>(hot, Fun, tenn)</td>\n",
       "      <td>(transport, bio, terror)</td>\n",
       "      <td>(Typhoon, devastate, Saipan)</td>\n",
       "    </tr>\n",
       "    <tr>\n",
       "      <th>19</th>\n",
       "      <td>(Typhoon, devastate, Saipan)</td>\n",
       "      <td>(via, Pamela, Geller)</td>\n",
       "      <td>(Typhoon, devastate, Saipan)</td>\n",
       "      <td>(Cross, Body, Bag)</td>\n",
       "      <td>(anthrax, lab, mishap)</td>\n",
       "    </tr>\n",
       "  </tbody>\n",
       "</table>\n",
       "</div>"
      ],
      "text/plain": [
       "               Frequency With Filter                                PMI  \\\n",
       "0                  (trauma, tis, ed)   (Quarantine, Offensive, Content)   \n",
       "1             (PKK, suicide, bomber)             (anthrax, lab, mishap)   \n",
       "2                (old, PKK, suicide)             (Stock, Market, Crash)   \n",
       "3                 (pre, break, good)                (Salt, River, Wild)   \n",
       "4                (MH, 370, Malaysia)               (River, Wild, Horse)   \n",
       "5             (Turkey, Army, trench)             (Turkey, Army, trench)   \n",
       "6            (airport, get, swallow)      (Malaysia, PM, Investigators)   \n",
       "7         (Obama, declare, disaster)                   (hot, Fun, tenn)   \n",
       "8            (Army, trench, release)            (horrible, sub, reddit)   \n",
       "9   (Quarantine, Offensive, Content)  (wreckage, conclusively, confirm)   \n",
       "10              (feel, like, -PRON-)              (wave, israeli, Flag)   \n",
       "11           (-PRON-, think, -PRON-)                (bio, terror, germ)   \n",
       "12          (transport, bio, terror)       (Typhoon, devastate, Saipan)   \n",
       "13               (bio, terror, germ)            (Legionnaires, di, sea)   \n",
       "14              (sound, wave, Black)               (loud, bang, nearby)   \n",
       "15               (Salt, River, Wild)                 (Cross, Body, Bag)   \n",
       "16           (Obama, sign, disaster)           (transport, bio, terror)   \n",
       "17            (Stock, Market, Crash)                  (trauma, tis, ed)   \n",
       "18           (Legionnaires, di, sea)            (Army, trench, release)   \n",
       "19      (Typhoon, devastate, Saipan)              (via, Pamela, Geller)   \n",
       "\n",
       "                  T-test With Filter                        Chi-Sq Test  \\\n",
       "0                  (trauma, tis, ed)   (Quarantine, Offensive, Content)   \n",
       "1             (PKK, suicide, bomber)             (anthrax, lab, mishap)   \n",
       "2                (old, PKK, suicide)             (Stock, Market, Crash)   \n",
       "3                 (pre, break, good)                (Salt, River, Wild)   \n",
       "4                (MH, 370, Malaysia)             (Turkey, Army, trench)   \n",
       "5             (Turkey, Army, trench)               (River, Wild, Horse)   \n",
       "6            (airport, get, swallow)  (wreckage, conclusively, confirm)   \n",
       "7            (Army, trench, release)                  (trauma, tis, ed)   \n",
       "8         (Obama, declare, disaster)                   (hot, Fun, tenn)   \n",
       "9   (Quarantine, Offensive, Content)      (Malaysia, PM, Investigators)   \n",
       "10          (transport, bio, terror)            (horrible, sub, reddit)   \n",
       "11              (feel, like, -PRON-)                (bio, terror, germ)   \n",
       "12            (Stock, Market, Crash)       (Typhoon, devastate, Saipan)   \n",
       "13               (Salt, River, Wild)            (Legionnaires, di, sea)   \n",
       "14               (bio, terror, germ)               (loud, bang, nearby)   \n",
       "15              (sound, wave, Black)                     (yr, old, PKK)   \n",
       "16           (Obama, sign, disaster)              (wave, israeli, Flag)   \n",
       "17           (-PRON-, think, -PRON-)            (Army, trench, release)   \n",
       "18                  (hot, Fun, tenn)           (transport, bio, terror)   \n",
       "19      (Typhoon, devastate, Saipan)                 (Cross, Body, Bag)   \n",
       "\n",
       "    Likeihood Ratio Test With Filter  \n",
       "0                (MH, 370, Malaysia)  \n",
       "1             (PKK, suicide, bomber)  \n",
       "2                  (trauma, tis, ed)  \n",
       "3         (Obama, declare, disaster)  \n",
       "4                (old, PKK, suicide)  \n",
       "5             (Turkey, Army, trench)  \n",
       "6                 (Cross, Body, Bag)  \n",
       "7                 (pre, break, good)  \n",
       "8   (Quarantine, Offensive, Content)  \n",
       "9            (Obama, sign, disaster)  \n",
       "10               (bio, terror, germ)  \n",
       "11           (Army, trench, release)  \n",
       "12  (Northern, California, Wildfire)  \n",
       "13          (transport, bio, terror)  \n",
       "14           (airport, get, swallow)  \n",
       "15               (Salt, River, Wild)  \n",
       "16            (Stock, Market, Crash)  \n",
       "17     (Malaysia, PM, Investigators)  \n",
       "18      (Typhoon, devastate, Saipan)  \n",
       "19            (anthrax, lab, mishap)  "
      ]
     },
     "execution_count": 84,
     "metadata": {},
     "output_type": "execute_result"
    }
   ],
   "source": [
    "trigramsCompare"
   ]
  },
  {
   "cell_type": "code",
   "execution_count": null,
   "metadata": {},
   "outputs": [],
   "source": []
  }
 ],
 "metadata": {
  "kernelspec": {
   "display_name": "Python 3.7.4 64-bit",
   "language": "python",
   "name": "python37464bitd354516f517147279a113529c8fe5e5f"
  },
  "language_info": {
   "codemirror_mode": {
    "name": "ipython",
    "version": 3
   },
   "file_extension": ".py",
   "mimetype": "text/x-python",
   "name": "python",
   "nbconvert_exporter": "python",
   "pygments_lexer": "ipython3",
   "version": "3.7.7"
  },
  "toc": {
   "base_numbering": 1,
   "nav_menu": {},
   "number_sections": true,
   "sideBar": true,
   "skip_h1_title": false,
   "title_cell": "Table of Contents",
   "title_sidebar": "Contents",
   "toc_cell": false,
   "toc_position": {},
   "toc_section_display": true,
   "toc_window_display": true
  },
  "varInspector": {
   "cols": {
    "lenName": 16,
    "lenType": 16,
    "lenVar": 40
   },
   "kernels_config": {
    "python": {
     "delete_cmd_postfix": "",
     "delete_cmd_prefix": "del ",
     "library": "var_list.py",
     "varRefreshCmd": "print(var_dic_list())"
    },
    "r": {
     "delete_cmd_postfix": ") ",
     "delete_cmd_prefix": "rm(",
     "library": "var_list.r",
     "varRefreshCmd": "cat(var_dic_list()) "
    }
   },
   "types_to_exclude": [
    "module",
    "function",
    "builtin_function_or_method",
    "instance",
    "_Feature"
   ],
   "window_display": false
  }
 },
 "nbformat": 4,
 "nbformat_minor": 2
}
