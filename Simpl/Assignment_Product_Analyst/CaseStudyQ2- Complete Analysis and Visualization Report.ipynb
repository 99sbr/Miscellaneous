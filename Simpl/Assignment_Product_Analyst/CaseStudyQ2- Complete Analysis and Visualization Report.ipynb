{
 "cells": [
  {
   "cell_type": "code",
   "execution_count": 1,
   "metadata": {},
   "outputs": [
    {
     "name": "stderr",
     "output_type": "stream",
     "text": [
      "/Users/subir/pythonenv/default/lib/python3.7/site-packages/tqdm/std.py:648: FutureWarning: The Panel class is removed from pandas. Accessing it from the top-level namespace will also be removed in the next version\n",
      "  from pandas import Panel\n"
     ]
    }
   ],
   "source": [
    "import pandas as pd\n",
    "import numpy as np\n",
    "import matplotlib.pyplot as plt\n",
    "from datetime import datetime\n",
    "from tqdm.notebook import tqdm\n",
    "tqdm.pandas()"
   ]
  },
  {
   "cell_type": "code",
   "execution_count": null,
   "metadata": {},
   "outputs": [],
   "source": [
    "# Standard plotly imports\n",
    "import chart_studio.plotly as py\n",
    "import plotly.graph_objs as go\n",
    "from plotly.offline import iplot, init_notebook_mode\n",
    "# Using plotly + cufflinks in offline mode\n",
    "import cufflinks\n",
    "cufflinks.go_offline(connected=True)\n",
    "init_notebook_mode(connected=True)"
   ]
  },
  {
   "cell_type": "code",
   "execution_count": null,
   "metadata": {},
   "outputs": [],
   "source": [
    "cycle_df = pd.read_csv('cycle_table.csv')\n",
    "settlement_df = pd.read_csv('settlement_table.csv')"
   ]
  },
  {
   "cell_type": "code",
   "execution_count": null,
   "metadata": {},
   "outputs": [],
   "source": [
    "'''\n",
    "Converting all Date to standard Datetime Format\n",
    "\n",
    "'''\n",
    "\n",
    "cycle_df['start_date']= cycle_df.start_date.apply(lambda x: datetime.strptime(x, '%d/%m/%y %H:%M'))\n",
    "cycle_df['end_date']= cycle_df.end_date.apply(lambda x: datetime.strptime(x, '%d/%m/%y %H:%M'))\n",
    "settlement_df['created_at']= settlement_df.created_at.apply(lambda x: datetime.strptime(x, '%d/%m/%y %H:%M'))"
   ]
  },
  {
   "cell_type": "code",
   "execution_count": null,
   "metadata": {},
   "outputs": [],
   "source": [
    "'''\n",
    "Function to map Creation Date for Billing Cycle\n",
    "'''\n",
    "\n",
    "def get_cycle_daterange(value):\n",
    "    for row in cycle_df.iterrows():\n",
    "        if row[1]['start_date']<=value['created_at']<=row[1]['end_date']:\n",
    "            value['start_date']=row[1]['start_date']\n",
    "            value['end_date']=row[1]['end_date']\n",
    "            value['billing_cycle_id']=row[1]['id']\n",
    "            return value\n",
    "        else:\n",
    "            pass"
   ]
  },
  {
   "cell_type": "code",
   "execution_count": null,
   "metadata": {
    "scrolled": true
   },
   "outputs": [],
   "source": [
    "# combined_df = settlement_df.progress_apply(get_cycle_daterange,axis=1)\n",
    "combined_df = pd.read_csv('combined_data.csv')"
   ]
  },
  {
   "cell_type": "code",
   "execution_count": null,
   "metadata": {},
   "outputs": [],
   "source": [
    "'''\n",
    "Frequency of Bill Creation on every Billing Cycle\n",
    "'''\n",
    "\n",
    "def month_wise_billcreation_count(df):\n",
    "    df = df[df.status=='billcreated']\n",
    "    df.billing_cycle_id.value_counts().iplot(kind='bar', xTitle='Billing Cycle ID',\n",
    "                  yTitle='count', title='Bill Creation Frequency Distribution')\n",
    "\n"
   ]
  },
  {
   "cell_type": "code",
   "execution_count": null,
   "metadata": {
    "scrolled": false
   },
   "outputs": [],
   "source": [
    "month_wise_billcreation_count(combined_df)"
   ]
  },
  {
   "cell_type": "code",
   "execution_count": null,
   "metadata": {},
   "outputs": [],
   "source": [
    "'''\n",
    "Frequency of Bill Paying on every Billing Cycle\n",
    "\n",
    "'''\n",
    "\n",
    "def month_wise_billpaid_count(df):\n",
    "    df = df[df.status=='billpaid']\n",
    "    df.billing_cycle_id.value_counts().iplot(kind='bar', xTitle='Billing Cycle ID',\n",
    "                  yTitle='count', title='Bill Paid Frequency Distribution')\n",
    "    "
   ]
  },
  {
   "cell_type": "code",
   "execution_count": null,
   "metadata": {},
   "outputs": [],
   "source": [
    "month_wise_billpaid_count(combined_df)"
   ]
  },
  {
   "cell_type": "code",
   "execution_count": null,
   "metadata": {},
   "outputs": [],
   "source": [
    "combined_df.user_id.value_counts()[:20].iplot(kind='bar',title='Top 20 user_id interaction frequency',xTitle='userid',yTitle='count')"
   ]
  },
  {
   "cell_type": "code",
   "execution_count": null,
   "metadata": {},
   "outputs": [],
   "source": [
    "'''\n",
    "Function to Find out all bill created and paid\n",
    "during each payment cycle\n",
    "\n",
    "'''\n",
    "\n",
    "def total_bill_status_cyclewise(combined_df):\n",
    "    set_of_billing_cycle_ids = set(combined_df['billing_cycle_id'].values)\n",
    "    total_bill_created = []\n",
    "    total_bill_paid = []\n",
    "    count_bill_created = []\n",
    "    count_bill_paid = []\n",
    "    for cycle_id in tqdm(set_of_billing_cycle_ids):\n",
    "        df = combined_df[combined_df.billing_cycle_id==cycle_id]\n",
    "        created_df = df[df.status=='billcreated']\n",
    "        paid_df = df[df.status=='billpaid']\n",
    "        \n",
    "        count_bill_created.append(len(created_df))\n",
    "        count_bill_paid.append(len(paid_df))\n",
    "        \n",
    "        total_bill_created.append(created_df.amount.sum())\n",
    "        total_bill_paid.append(paid_df.amount.sum())\n",
    "        \n",
    "    settlement_df = pd.DataFrame()\n",
    "    settlement_df['total_bill_created']=total_bill_created\n",
    "    settlement_df['total_bill_paid']=total_bill_paid\n",
    "    settlement_df['bill_cycle_id']=set_of_billing_cycle_ids\n",
    "    \n",
    "    \n",
    "    settlement_df.iplot(x='bill_cycle_id',kind='bar',y=['total_bill_paid','total_bill_created'],xTitle='Bill cycle id',yTitle='Amount',title='Billing Transactioon Details for Each Cycle')\n",
    "    return settlement_df\n"
   ]
  },
  {
   "cell_type": "code",
   "execution_count": null,
   "metadata": {
    "scrolled": false
   },
   "outputs": [],
   "source": [
    "total_bill_status_cyclewise(combined_df)"
   ]
  },
  {
   "cell_type": "code",
   "execution_count": null,
   "metadata": {},
   "outputs": [],
   "source": [
    "def create_empty_user_information_df():\n",
    "    user_information_df = pd.DataFrame()\n",
    "    user_information_df['user_id']=list(set(combined_df['user_id'].values))\n",
    "    user_information_df['netAmount']=0\n",
    "    return user_information_df"
   ]
  },
  {
   "cell_type": "code",
   "execution_count": null,
   "metadata": {},
   "outputs": [],
   "source": [
    "def userid_wise_billingcycle_update_fn(df,user_information_df):\n",
    "    paid_count = 0\n",
    "    created_count = 0\n",
    "    paid_amount = 0\n",
    "    created_amount = 0\n",
    "    \n",
    "    for row in df.iterrows():\n",
    "        if row[1]['status']=='billpaid':\n",
    "            user_information_df.loc[user_information_df.user_id==row[1]['user_id'],'netAmount']+=row[1]['amount']\n",
    "            paid_count+=1\n",
    "            paid_amount+=row[1]['amount']\n",
    "            \n",
    "        elif row[1]['status']=='billcreated':\n",
    "            user_information_df.loc[user_information_df.user_id==row[1]['user_id'],'netAmount']-=row[1]['amount']\n",
    "            created_count+=1\n",
    "            created_amount+=row[1]['amount']\n",
    "    \n",
    "    return paid_count,paid_amount,created_count,created_amount"
   ]
  },
  {
   "cell_type": "code",
   "execution_count": null,
   "metadata": {
    "scrolled": false
   },
   "outputs": [],
   "source": [
    "set_of_billing_cycle_ids = set(combined_df['billing_cycle_id'].values)\n",
    "\n",
    "user_information_df = create_empty_user_information_df()\n",
    "paid_count_list = []\n",
    "created_count_list = []\n",
    "\n",
    "paid_amount_list = []\n",
    "created_amount_list = []\n",
    "\n",
    "for cycle_id in tqdm(set_of_billing_cycle_ids):\n",
    "    df = combined_df[combined_df.billing_cycle_id==cycle_id]\n",
    "    paid_count,paid_amount,created_count,created_amount=userid_wise_billingcycle_update_fn(df,user_information_df)\n",
    "    \n",
    "    paid_count_list.append(paid_count)\n",
    "    paid_amount_list.append(paid_amount)\n",
    "    created_count_list.append(created_count)\n",
    "    created_amount_list.append(created_amount)\n",
    "    \n",
    "    print('Completed Cycle ID:{}'.format(cycle_id))\n",
    "    print('Paid Count:{}  created Count:{}'.format(paid_count,created_count))\n",
    "    print('paid Amount:{} created Amount:{}'.format(paid_amount,created_amount))\n",
    "    print('\\n')\n",
    "    \n",
    "\n",
    "result_df = pd.DataFrame()\n",
    "result_df['cycle_id']=list(set_of_billing_cycle_ids)\n",
    "result_df['paid_count']=paid_count_list\n",
    "result_df['created_count']=created_count_list\n",
    "result_df['paid_amount']=paid_amount_list\n",
    "result_df['created_amount']=created_amount_list"
   ]
  },
  {
   "cell_type": "code",
   "execution_count": null,
   "metadata": {},
   "outputs": [],
   "source": [
    "result_df.iplot(x='cycle_id',y=['paid_amount','created_amount'],xTitle='Billing Cycle id',yTitle='Amount',title='Cycle wise Amount')"
   ]
  },
  {
   "cell_type": "code",
   "execution_count": null,
   "metadata": {},
   "outputs": [],
   "source": [
    "result_df.iplot(x='cycle_id',y=['paid_count','created_count'],xTitle='Billing Cycle id',yTitle='Amount',title='Cycle wise user_id Count')"
   ]
  },
  {
   "cell_type": "code",
   "execution_count": null,
   "metadata": {},
   "outputs": [],
   "source": [
    "def user_id_performance_over_entire_billcycle(userid):\n",
    "    df = combined_df[combined_df.user_id==userid]\n",
    "    set_of_billing_cycle_ids = set(combined_df['billing_cycle_id'].values)\n",
    "    \n",
    "    paid_count_list = []\n",
    "    created_count_list = []\n",
    "\n",
    "    paid_amount_list = []\n",
    "    created_amount_list = []\n",
    "    for cycle_id in set_of_billing_cycle_ids:\n",
    "        \n",
    "        paid_count=0\n",
    "        created_count=0\n",
    "        paid_amount = 0\n",
    "        created_amount = 0\n",
    "        \n",
    "        if len(df[df.billing_cycle_id==cycle_id]):\n",
    "            for row in df[df.billing_cycle_id==cycle_id].iterrows():\n",
    "                if row[1]['status']=='billpaid':\n",
    "                    paid_count+=1\n",
    "                    paid_amount+=row[1]['amount']\n",
    "\n",
    "                elif row[1]['status']=='billcreated':\n",
    "                    created_count+=1\n",
    "                    created_amount+=row[1]['amount']\n",
    "\n",
    "        else:\n",
    "            pass\n",
    "        \n",
    "        paid_count_list.append(paid_count)\n",
    "        created_count_list.append(created_count)\n",
    "        paid_amount_list.append(paid_amount)\n",
    "        created_amount_list.append(created_amount)\n",
    "        \n",
    "    \n",
    "    result_df = pd.DataFrame()\n",
    "    result_df['cycle_id']=list(set_of_billing_cycle_ids)\n",
    "    result_df['paid_count']=paid_count_list\n",
    "    result_df['created_count']=created_count_list\n",
    "    result_df['paid_amount']=paid_amount_list\n",
    "    result_df['created_amount']=created_amount_list\n",
    "    \n",
    "    result_df.iplot(x='cycle_id',kind='bar',y=['paid_amount','created_amount'],xTitle='Billing Cycle id',yTitle='Amount',title='Cycle wise Amount')\n",
    "    result_df.iplot(x='cycle_id',kind='bar',y=['paid_count','created_count'],xTitle='Billing Cycle id',yTitle='Amount',title='Cycle wise user_id Count')\n",
    "    \n",
    "    return result_df"
   ]
  },
  {
   "cell_type": "code",
   "execution_count": null,
   "metadata": {
    "scrolled": false
   },
   "outputs": [],
   "source": [
    "result = user_id_performance_over_entire_billcycle(2378)"
   ]
  },
  {
   "cell_type": "code",
   "execution_count": null,
   "metadata": {},
   "outputs": [],
   "source": []
  }
 ],
 "metadata": {
  "kernelspec": {
   "display_name": "Python 3",
   "language": "python",
   "name": "python3"
  },
  "language_info": {
   "codemirror_mode": {
    "name": "ipython",
    "version": 3
   },
   "file_extension": ".py",
   "mimetype": "text/x-python",
   "name": "python",
   "nbconvert_exporter": "python",
   "pygments_lexer": "ipython3",
   "version": "3.7.4"
  }
 },
 "nbformat": 4,
 "nbformat_minor": 2
}
