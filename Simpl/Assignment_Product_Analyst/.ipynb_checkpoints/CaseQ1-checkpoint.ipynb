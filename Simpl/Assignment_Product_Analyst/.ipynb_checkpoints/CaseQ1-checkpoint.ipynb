{
 "cells": [
  {
   "cell_type": "code",
   "execution_count": 1,
   "metadata": {},
   "outputs": [],
   "source": [
    "file_list =[ 'mallika_1.jpg', 'dog005.jpg', \n",
    "            'grandson_2018_01_01.png', 'dog008.jpg',\n",
    "            'mallika_6.jpg', 'grandson_2018_5_23.png', 'd o g01.png', \n",
    "            'mallika_11.jpg', 'mallika2.jpg', 'grandson_2018_02_5.png',\n",
    "            'grandson_2019_08_23.jpg', 'dog9.jpg', 'mallika05.jpg' ]"
   ]
  },
  {
   "cell_type": "code",
   "execution_count": 2,
   "metadata": {},
   "outputs": [],
   "source": [
    "import re \n",
    "\n",
    "def sorted_nicely( l ): \n",
    "    \"\"\"\n",
    "    Sort the given iterable in the way that humans expect.\n",
    "    \"\"\" \n",
    "    convert = lambda text: int(text) if text.isdigit() else text \n",
    "    alphanum_key = lambda key: [ convert(c) for c in re.split('([0-9]+)', key) ] \n",
    "    return sorted(l, key = alphanum_key)"
   ]
  },
  {
   "cell_type": "code",
   "execution_count": 3,
   "metadata": {},
   "outputs": [
    {
     "data": {
      "text/plain": [
       "['d o g01.png',\n",
       " 'dog005.jpg',\n",
       " 'dog008.jpg',\n",
       " 'dog9.jpg',\n",
       " 'grandson_2018_01_01.png',\n",
       " 'grandson_2018_02_5.png',\n",
       " 'grandson_2018_5_23.png',\n",
       " 'grandson_2019_08_23.jpg',\n",
       " 'mallika2.jpg',\n",
       " 'mallika05.jpg',\n",
       " 'mallika_1.jpg',\n",
       " 'mallika_6.jpg',\n",
       " 'mallika_11.jpg']"
      ]
     },
     "execution_count": 3,
     "metadata": {},
     "output_type": "execute_result"
    }
   ],
   "source": [
    "sorted_nicely(file_list)"
   ]
  },
  {
   "cell_type": "code",
   "execution_count": 5,
   "metadata": {},
   "outputs": [
    {
     "data": {
      "text/plain": [
       "('d o g01.png',\n",
       " 'dog005.jpg',\n",
       " 'dog008.jpg',\n",
       " 'dog9.jpg',\n",
       " 'grandson_2018_01_01.png',\n",
       " 'grandson_2018_02_5.png',\n",
       " 'grandson_2018_5_23.png',\n",
       " 'grandson_2019_08_23.jpg',\n",
       " 'mallika2.jpg',\n",
       " 'mallika05.jpg',\n",
       " 'mallika_1.jpg',\n",
       " 'mallika_6.jpg',\n",
       " 'mallika_11.jpg')"
      ]
     },
     "execution_count": 5,
     "metadata": {},
     "output_type": "execute_result"
    }
   ],
   "source": [
    "'''\n",
    "Here is one liner\n",
    "'''\n",
    "\n",
    "from tkinter import Tcl\n",
    "Tcl().call('lsort', '-dict', file_list)"
   ]
  },
  {
   "cell_type": "code",
   "execution_count": null,
   "metadata": {},
   "outputs": [],
   "source": []
  }
 ],
 "metadata": {
  "kernelspec": {
   "display_name": "Python 3",
   "language": "python",
   "name": "python3"
  },
  "language_info": {
   "codemirror_mode": {
    "name": "ipython",
    "version": 3
   },
   "file_extension": ".py",
   "mimetype": "text/x-python",
   "name": "python",
   "nbconvert_exporter": "python",
   "pygments_lexer": "ipython3",
   "version": "3.7.4"
  }
 },
 "nbformat": 4,
 "nbformat_minor": 2
}
