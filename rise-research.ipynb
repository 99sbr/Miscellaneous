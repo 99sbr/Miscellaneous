{
 "cells": [
  {
   "cell_type": "code",
   "execution_count": 1,
   "id": "70b4a897",
   "metadata": {
    "_cell_guid": "b1076dfc-b9ad-4769-8c92-a6c4dae69d19",
    "_uuid": "8f2839f25d086af736a60e9eeb907d3b93b6e0e5",
    "execution": {
     "iopub.execute_input": "2022-03-23T08:15:39.623332Z",
     "iopub.status.busy": "2022-03-23T08:15:39.621788Z",
     "iopub.status.idle": "2022-03-23T08:15:39.646407Z",
     "shell.execute_reply": "2022-03-23T08:15:39.646965Z",
     "shell.execute_reply.started": "2022-03-23T06:43:16.300436Z"
    },
    "papermill": {
     "duration": 0.044354,
     "end_time": "2022-03-23T08:15:39.647230",
     "exception": false,
     "start_time": "2022-03-23T08:15:39.602876",
     "status": "completed"
    },
    "tags": []
   },
   "outputs": [
    {
     "name": "stdout",
     "output_type": "stream",
     "text": [
      "/kaggle/input/risedata/dataset/user.csv\n",
      "/kaggle/input/risedata/dataset/relationship.csv\n",
      "/kaggle/input/risedata/dataset/sample_submission.json\n",
      "/kaggle/input/risedata/dataset/test.csv\n",
      "/kaggle/input/risedata/dataset/content.csv\n"
     ]
    }
   ],
   "source": [
    "# This Python 3 environment comes with many helpful analytics libraries installed\n",
    "# It is defined by the kaggle/python Docker image: https://github.com/kaggle/docker-python\n",
    "# For example, here's several helpful packages to load\n",
    "\n",
    "import numpy as np # linear algebra\n",
    "import pandas as pd # data processing, CSV file I/O (e.g. pd.read_csv)\n",
    "\n",
    "# Input data files are available in the read-only \"../input/\" directory\n",
    "# For example, running this (by clicking run or pressing Shift+Enter) will list all files under the input directory\n",
    "\n",
    "import os\n",
    "for dirname, _, filenames in os.walk('/kaggle/input'):\n",
    "    for filename in filenames:\n",
    "        print(os.path.join(dirname, filename))\n",
    "\n",
    "# You can write up to 20GB to the current directory (/kaggle/working/) that gets preserved as output when you create a version using \"Save & Run All\" \n",
    "# You can also write temporary files to /kaggle/temp/, but they won't be saved outside of the current session"
   ]
  },
  {
   "cell_type": "code",
   "execution_count": 2,
   "id": "516ec981",
   "metadata": {
    "execution": {
     "iopub.execute_input": "2022-03-23T08:15:39.682827Z",
     "iopub.status.busy": "2022-03-23T08:15:39.682099Z",
     "iopub.status.idle": "2022-03-23T08:15:48.257123Z",
     "shell.execute_reply": "2022-03-23T08:15:48.256360Z",
     "shell.execute_reply.started": "2022-03-23T06:50:27.765547Z"
    },
    "papermill": {
     "duration": 8.592856,
     "end_time": "2022-03-23T08:15:48.257259",
     "exception": false,
     "start_time": "2022-03-23T08:15:39.664403",
     "status": "completed"
    },
    "tags": []
   },
   "outputs": [
    {
     "name": "stdout",
     "output_type": "stream",
     "text": [
      "Requirement already satisfied: category_encoders in /opt/conda/lib/python3.7/site-packages (2.4.0)\r\n",
      "Requirement already satisfied: scipy>=1.0.0 in /opt/conda/lib/python3.7/site-packages (from category_encoders) (1.7.3)\r\n",
      "Requirement already satisfied: patsy>=0.5.1 in /opt/conda/lib/python3.7/site-packages (from category_encoders) (0.5.2)\r\n",
      "Requirement already satisfied: numpy>=1.14.0 in /opt/conda/lib/python3.7/site-packages (from category_encoders) (1.20.3)\r\n",
      "Requirement already satisfied: statsmodels>=0.9.0 in /opt/conda/lib/python3.7/site-packages (from category_encoders) (0.13.1)\r\n",
      "Requirement already satisfied: scikit-learn>=0.20.0 in /opt/conda/lib/python3.7/site-packages (from category_encoders) (1.0.1)\r\n",
      "Requirement already satisfied: pandas>=0.21.1 in /opt/conda/lib/python3.7/site-packages (from category_encoders) (1.3.5)\r\n",
      "Requirement already satisfied: python-dateutil>=2.7.3 in /opt/conda/lib/python3.7/site-packages (from pandas>=0.21.1->category_encoders) (2.8.2)\r\n",
      "Requirement already satisfied: pytz>=2017.3 in /opt/conda/lib/python3.7/site-packages (from pandas>=0.21.1->category_encoders) (2021.3)\r\n",
      "Requirement already satisfied: six in /opt/conda/lib/python3.7/site-packages (from patsy>=0.5.1->category_encoders) (1.16.0)\r\n",
      "Requirement already satisfied: threadpoolctl>=2.0.0 in /opt/conda/lib/python3.7/site-packages (from scikit-learn>=0.20.0->category_encoders) (3.0.0)\r\n",
      "Requirement already satisfied: joblib>=0.11 in /opt/conda/lib/python3.7/site-packages (from scikit-learn>=0.20.0->category_encoders) (1.1.0)\r\n",
      "\u001b[33mWARNING: Running pip as the 'root' user can result in broken permissions and conflicting behaviour with the system package manager. It is recommended to use a virtual environment instead: https://pip.pypa.io/warnings/venv\u001b[0m\r\n"
     ]
    }
   ],
   "source": [
    "!pip install category_encoders"
   ]
  },
  {
   "cell_type": "code",
   "execution_count": 3,
   "id": "3761a430",
   "metadata": {
    "execution": {
     "iopub.execute_input": "2022-03-23T08:15:48.294349Z",
     "iopub.status.busy": "2022-03-23T08:15:48.293699Z",
     "iopub.status.idle": "2022-03-23T08:15:50.303986Z",
     "shell.execute_reply": "2022-03-23T08:15:50.303463Z",
     "shell.execute_reply.started": "2022-03-23T06:53:01.232741Z"
    },
    "papermill": {
     "duration": 2.030691,
     "end_time": "2022-03-23T08:15:50.304118",
     "exception": false,
     "start_time": "2022-03-23T08:15:48.273427",
     "status": "completed"
    },
    "tags": []
   },
   "outputs": [],
   "source": [
    "import pandas_profiling\n",
    "import pandas as pd\n",
    "import numpy as np\n",
    "from sklearn_pandas import DataFrameMapper\n",
    "from sklearn import preprocessing\n",
    "from lightfm import LightFM\n",
    "from lightfm.evaluation import precision_at_k,recall_at_k\n",
    "from lightfm.evaluation import auc_score\n",
    "from scipy.sparse import csr_matrix\n",
    "from lightfm.data import Dataset\n",
    "import category_encoders as ce\n"
   ]
  },
  {
   "cell_type": "code",
   "execution_count": 4,
   "id": "e489af4a",
   "metadata": {
    "execution": {
     "iopub.execute_input": "2022-03-23T08:15:50.340378Z",
     "iopub.status.busy": "2022-03-23T08:15:50.339816Z",
     "iopub.status.idle": "2022-03-23T08:15:54.210965Z",
     "shell.execute_reply": "2022-03-23T08:15:54.210416Z",
     "shell.execute_reply.started": "2022-03-23T07:01:52.986146Z"
    },
    "papermill": {
     "duration": 3.890689,
     "end_time": "2022-03-23T08:15:54.211095",
     "exception": false,
     "start_time": "2022-03-23T08:15:50.320406",
     "status": "completed"
    },
    "tags": []
   },
   "outputs": [],
   "source": [
    "content = pd.read_csv('../input/risedata/dataset/content.csv')\n",
    "relationship = pd.read_csv('../input/risedata/dataset/relationship.csv')\n",
    "user = pd.read_csv('../input/risedata/dataset/user.csv')\n",
    "test = pd.read_csv('../input/risedata/dataset/test.csv')"
   ]
  },
  {
   "cell_type": "code",
   "execution_count": 5,
   "id": "75316723",
   "metadata": {
    "execution": {
     "iopub.execute_input": "2022-03-23T08:15:54.252402Z",
     "iopub.status.busy": "2022-03-23T08:15:54.251652Z",
     "iopub.status.idle": "2022-03-23T08:15:54.254098Z",
     "shell.execute_reply": "2022-03-23T08:15:54.253675Z",
     "shell.execute_reply.started": "2022-03-23T07:08:14.441122Z"
    },
    "papermill": {
     "duration": 0.027131,
     "end_time": "2022-03-23T08:15:54.254199",
     "exception": false,
     "start_time": "2022-03-23T08:15:54.227068",
     "status": "completed"
    },
    "tags": []
   },
   "outputs": [],
   "source": [
    "def pre_process_data(content, relationship, user):\n",
    "\n",
    "    encoder = ce.CatBoostEncoder(cols=['content_type','language','genre'])\n",
    "    content = content.sample(frac=1)\n",
    "    content_df = encoder.fit_transform(content, content['rating'])\n",
    "    content_df['content_duration_hrs'] = content.duration.apply(lambda x: (x/(1000*60*60))%24)\n",
    "    content_features_csr = csr_matrix(content_df.drop(['content_id','release_date'],1).values)\n",
    "    \n",
    "    user_df = user[['user_id','user_age','gender','location']]\n",
    "    user_df = user_df.sample(frac=1)\n",
    "    encoder = ce.CatBoostEncoder(cols=['gender','location'])\n",
    "    user_df = encoder.fit_transform(user_df, user_df['user_age'])\n",
    "    user_features_csr = csr_matrix(user_df.drop(['user_id'],1).values)\n",
    "    \n",
    "    \n",
    "    relationship['watch_duration_hrs'] = relationship.duration.apply(lambda x: (x/(1000*60*60))%24)\n",
    "    relationship_df = relationship.drop(['duration','date','start_time','end_time'],1)\n",
    "    relationship_df = relationship_df.groupby(['user_id','content_id']).watch_duration_hrs.mean().reset_index()\n",
    "    interaction_df = relationship_df.merge(user_df, how='outer',on='user_id')\n",
    "    interaction_df = interaction_df[['user_id','content_id','watch_duration_hrs']]\n",
    "    interaction_df.fillna(0, inplace=True)\n",
    "\n",
    "\n",
    "    \n",
    "    \n",
    "    return content_df, content_features_csr, interaction_df, user_df, user_features_csr"
   ]
  },
  {
   "cell_type": "code",
   "execution_count": 6,
   "id": "3d10e18c",
   "metadata": {
    "execution": {
     "iopub.execute_input": "2022-03-23T08:15:54.289399Z",
     "iopub.status.busy": "2022-03-23T08:15:54.288907Z",
     "iopub.status.idle": "2022-03-23T08:15:57.324592Z",
     "shell.execute_reply": "2022-03-23T08:15:57.323701Z",
     "shell.execute_reply.started": "2022-03-23T07:08:14.963848Z"
    },
    "papermill": {
     "duration": 3.055322,
     "end_time": "2022-03-23T08:15:57.324745",
     "exception": false,
     "start_time": "2022-03-23T08:15:54.269423",
     "status": "completed"
    },
    "tags": []
   },
   "outputs": [
    {
     "name": "stderr",
     "output_type": "stream",
     "text": [
      "/opt/conda/lib/python3.7/site-packages/ipykernel_launcher.py:7: FutureWarning: In a future version of pandas all arguments of DataFrame.drop except for the argument 'labels' will be keyword-only\n",
      "  import sys\n",
      "/opt/conda/lib/python3.7/site-packages/ipykernel_launcher.py:13: FutureWarning: In a future version of pandas all arguments of DataFrame.drop except for the argument 'labels' will be keyword-only\n",
      "  del sys.path[0]\n",
      "/opt/conda/lib/python3.7/site-packages/ipykernel_launcher.py:17: FutureWarning: In a future version of pandas all arguments of DataFrame.drop except for the argument 'labels' will be keyword-only\n"
     ]
    }
   ],
   "source": [
    "content_df, content_features_csr, interaction_df, user_df, user_features_csr = pre_process_data(content, relationship, user)"
   ]
  },
  {
   "cell_type": "code",
   "execution_count": 7,
   "id": "13d9e650",
   "metadata": {
    "execution": {
     "iopub.execute_input": "2022-03-23T08:15:57.364016Z",
     "iopub.status.busy": "2022-03-23T08:15:57.362544Z",
     "iopub.status.idle": "2022-03-23T08:16:13.412720Z",
     "shell.execute_reply": "2022-03-23T08:16:13.413126Z",
     "shell.execute_reply.started": "2022-03-23T07:08:34.203296Z"
    },
    "papermill": {
     "duration": 16.072167,
     "end_time": "2022-03-23T08:16:13.413265",
     "exception": false,
     "start_time": "2022-03-23T08:15:57.341098",
     "status": "completed"
    },
    "tags": []
   },
   "outputs": [
    {
     "data": {
      "text/html": [
       "<div>\n",
       "<style scoped>\n",
       "    .dataframe tbody tr th:only-of-type {\n",
       "        vertical-align: middle;\n",
       "    }\n",
       "\n",
       "    .dataframe tbody tr th {\n",
       "        vertical-align: top;\n",
       "    }\n",
       "\n",
       "    .dataframe thead th {\n",
       "        text-align: right;\n",
       "    }\n",
       "</style>\n",
       "<table border=\"1\" class=\"dataframe\">\n",
       "  <thead>\n",
       "    <tr style=\"text-align: right;\">\n",
       "      <th>content_id</th>\n",
       "      <th>0</th>\n",
       "      <th>cont_1000_1_10</th>\n",
       "      <th>cont_1000_1_12</th>\n",
       "      <th>cont_1000_1_16</th>\n",
       "      <th>cont_1000_1_25</th>\n",
       "      <th>cont_1000_2_1</th>\n",
       "      <th>cont_1000_2_10</th>\n",
       "      <th>cont_1000_2_13</th>\n",
       "      <th>cont_1000_2_18</th>\n",
       "      <th>cont_1000_3_1</th>\n",
       "      <th>...</th>\n",
       "      <th>cont_994_1_5</th>\n",
       "      <th>cont_996_1_5</th>\n",
       "      <th>cont_996_1_6</th>\n",
       "      <th>cont_996_1_7</th>\n",
       "      <th>cont_998_1_4</th>\n",
       "      <th>cont_999_1_6</th>\n",
       "      <th>cont_99_1_6</th>\n",
       "      <th>cont_99_1_7</th>\n",
       "      <th>cont_9_1_4</th>\n",
       "      <th>cont_9_1_8</th>\n",
       "    </tr>\n",
       "    <tr>\n",
       "      <th>user_id</th>\n",
       "      <th></th>\n",
       "      <th></th>\n",
       "      <th></th>\n",
       "      <th></th>\n",
       "      <th></th>\n",
       "      <th></th>\n",
       "      <th></th>\n",
       "      <th></th>\n",
       "      <th></th>\n",
       "      <th></th>\n",
       "      <th></th>\n",
       "      <th></th>\n",
       "      <th></th>\n",
       "      <th></th>\n",
       "      <th></th>\n",
       "      <th></th>\n",
       "      <th></th>\n",
       "      <th></th>\n",
       "      <th></th>\n",
       "      <th></th>\n",
       "      <th></th>\n",
       "    </tr>\n",
       "  </thead>\n",
       "  <tbody>\n",
       "    <tr>\n",
       "      <th>user_10013@domain.com</th>\n",
       "      <td>0.0</td>\n",
       "      <td>0.0</td>\n",
       "      <td>0.0</td>\n",
       "      <td>0.0</td>\n",
       "      <td>0.0</td>\n",
       "      <td>0.0</td>\n",
       "      <td>0.0</td>\n",
       "      <td>0.0</td>\n",
       "      <td>0.0</td>\n",
       "      <td>0.0</td>\n",
       "      <td>...</td>\n",
       "      <td>0.0</td>\n",
       "      <td>0.0</td>\n",
       "      <td>0.0</td>\n",
       "      <td>0.0</td>\n",
       "      <td>0.0</td>\n",
       "      <td>0.0</td>\n",
       "      <td>0.0</td>\n",
       "      <td>0.0</td>\n",
       "      <td>0.0</td>\n",
       "      <td>0.0</td>\n",
       "    </tr>\n",
       "    <tr>\n",
       "      <th>user_10034@domain.com</th>\n",
       "      <td>0.0</td>\n",
       "      <td>0.0</td>\n",
       "      <td>0.0</td>\n",
       "      <td>0.0</td>\n",
       "      <td>0.0</td>\n",
       "      <td>0.0</td>\n",
       "      <td>0.0</td>\n",
       "      <td>0.0</td>\n",
       "      <td>0.0</td>\n",
       "      <td>0.0</td>\n",
       "      <td>...</td>\n",
       "      <td>0.0</td>\n",
       "      <td>0.0</td>\n",
       "      <td>0.0</td>\n",
       "      <td>0.0</td>\n",
       "      <td>0.0</td>\n",
       "      <td>0.0</td>\n",
       "      <td>0.0</td>\n",
       "      <td>0.0</td>\n",
       "      <td>0.0</td>\n",
       "      <td>0.0</td>\n",
       "    </tr>\n",
       "    <tr>\n",
       "      <th>user_10036@domain.com</th>\n",
       "      <td>0.0</td>\n",
       "      <td>0.0</td>\n",
       "      <td>0.0</td>\n",
       "      <td>0.0</td>\n",
       "      <td>0.0</td>\n",
       "      <td>0.0</td>\n",
       "      <td>0.0</td>\n",
       "      <td>0.0</td>\n",
       "      <td>0.0</td>\n",
       "      <td>0.0</td>\n",
       "      <td>...</td>\n",
       "      <td>0.0</td>\n",
       "      <td>0.0</td>\n",
       "      <td>0.0</td>\n",
       "      <td>0.0</td>\n",
       "      <td>0.0</td>\n",
       "      <td>0.0</td>\n",
       "      <td>0.0</td>\n",
       "      <td>0.0</td>\n",
       "      <td>0.0</td>\n",
       "      <td>0.0</td>\n",
       "    </tr>\n",
       "    <tr>\n",
       "      <th>user_10042@domain.com</th>\n",
       "      <td>0.0</td>\n",
       "      <td>0.0</td>\n",
       "      <td>0.0</td>\n",
       "      <td>0.0</td>\n",
       "      <td>0.0</td>\n",
       "      <td>0.0</td>\n",
       "      <td>0.0</td>\n",
       "      <td>0.0</td>\n",
       "      <td>0.0</td>\n",
       "      <td>0.0</td>\n",
       "      <td>...</td>\n",
       "      <td>0.0</td>\n",
       "      <td>0.0</td>\n",
       "      <td>0.0</td>\n",
       "      <td>0.0</td>\n",
       "      <td>0.0</td>\n",
       "      <td>0.0</td>\n",
       "      <td>0.0</td>\n",
       "      <td>0.0</td>\n",
       "      <td>0.0</td>\n",
       "      <td>0.0</td>\n",
       "    </tr>\n",
       "    <tr>\n",
       "      <th>user_10052@domain.com</th>\n",
       "      <td>0.0</td>\n",
       "      <td>0.0</td>\n",
       "      <td>0.0</td>\n",
       "      <td>0.0</td>\n",
       "      <td>0.0</td>\n",
       "      <td>0.0</td>\n",
       "      <td>0.0</td>\n",
       "      <td>0.0</td>\n",
       "      <td>0.0</td>\n",
       "      <td>0.0</td>\n",
       "      <td>...</td>\n",
       "      <td>0.0</td>\n",
       "      <td>0.0</td>\n",
       "      <td>0.0</td>\n",
       "      <td>0.0</td>\n",
       "      <td>0.0</td>\n",
       "      <td>0.0</td>\n",
       "      <td>0.0</td>\n",
       "      <td>0.0</td>\n",
       "      <td>0.0</td>\n",
       "      <td>0.0</td>\n",
       "    </tr>\n",
       "    <tr>\n",
       "      <th>user_10069@domain.com</th>\n",
       "      <td>0.0</td>\n",
       "      <td>0.0</td>\n",
       "      <td>0.0</td>\n",
       "      <td>0.0</td>\n",
       "      <td>0.0</td>\n",
       "      <td>0.0</td>\n",
       "      <td>0.0</td>\n",
       "      <td>0.0</td>\n",
       "      <td>0.0</td>\n",
       "      <td>0.0</td>\n",
       "      <td>...</td>\n",
       "      <td>0.0</td>\n",
       "      <td>0.0</td>\n",
       "      <td>0.0</td>\n",
       "      <td>0.0</td>\n",
       "      <td>0.0</td>\n",
       "      <td>0.0</td>\n",
       "      <td>0.0</td>\n",
       "      <td>0.0</td>\n",
       "      <td>0.0</td>\n",
       "      <td>0.0</td>\n",
       "    </tr>\n",
       "    <tr>\n",
       "      <th>user_10070@domain.com</th>\n",
       "      <td>0.0</td>\n",
       "      <td>0.0</td>\n",
       "      <td>0.0</td>\n",
       "      <td>0.0</td>\n",
       "      <td>0.0</td>\n",
       "      <td>0.0</td>\n",
       "      <td>0.0</td>\n",
       "      <td>0.0</td>\n",
       "      <td>0.0</td>\n",
       "      <td>0.0</td>\n",
       "      <td>...</td>\n",
       "      <td>0.0</td>\n",
       "      <td>0.0</td>\n",
       "      <td>0.0</td>\n",
       "      <td>0.0</td>\n",
       "      <td>0.0</td>\n",
       "      <td>0.0</td>\n",
       "      <td>0.0</td>\n",
       "      <td>0.0</td>\n",
       "      <td>0.0</td>\n",
       "      <td>0.0</td>\n",
       "    </tr>\n",
       "    <tr>\n",
       "      <th>user_10076@domain.com</th>\n",
       "      <td>0.0</td>\n",
       "      <td>0.0</td>\n",
       "      <td>0.0</td>\n",
       "      <td>0.0</td>\n",
       "      <td>0.0</td>\n",
       "      <td>0.0</td>\n",
       "      <td>0.0</td>\n",
       "      <td>0.0</td>\n",
       "      <td>0.0</td>\n",
       "      <td>0.0</td>\n",
       "      <td>...</td>\n",
       "      <td>0.0</td>\n",
       "      <td>0.0</td>\n",
       "      <td>0.0</td>\n",
       "      <td>0.0</td>\n",
       "      <td>0.0</td>\n",
       "      <td>0.0</td>\n",
       "      <td>0.0</td>\n",
       "      <td>0.0</td>\n",
       "      <td>0.0</td>\n",
       "      <td>0.0</td>\n",
       "    </tr>\n",
       "    <tr>\n",
       "      <th>user_10082@domain.com</th>\n",
       "      <td>0.0</td>\n",
       "      <td>0.0</td>\n",
       "      <td>0.0</td>\n",
       "      <td>0.0</td>\n",
       "      <td>0.0</td>\n",
       "      <td>0.0</td>\n",
       "      <td>0.0</td>\n",
       "      <td>0.0</td>\n",
       "      <td>0.0</td>\n",
       "      <td>0.0</td>\n",
       "      <td>...</td>\n",
       "      <td>0.0</td>\n",
       "      <td>0.0</td>\n",
       "      <td>0.0</td>\n",
       "      <td>0.0</td>\n",
       "      <td>0.0</td>\n",
       "      <td>0.0</td>\n",
       "      <td>0.0</td>\n",
       "      <td>0.0</td>\n",
       "      <td>0.0</td>\n",
       "      <td>0.0</td>\n",
       "    </tr>\n",
       "    <tr>\n",
       "      <th>user_10086@domain.com</th>\n",
       "      <td>0.0</td>\n",
       "      <td>0.0</td>\n",
       "      <td>0.0</td>\n",
       "      <td>0.0</td>\n",
       "      <td>0.0</td>\n",
       "      <td>0.0</td>\n",
       "      <td>0.0</td>\n",
       "      <td>0.0</td>\n",
       "      <td>0.0</td>\n",
       "      <td>0.0</td>\n",
       "      <td>...</td>\n",
       "      <td>0.0</td>\n",
       "      <td>0.0</td>\n",
       "      <td>0.0</td>\n",
       "      <td>0.0</td>\n",
       "      <td>0.0</td>\n",
       "      <td>0.0</td>\n",
       "      <td>0.0</td>\n",
       "      <td>0.0</td>\n",
       "      <td>0.0</td>\n",
       "      <td>0.0</td>\n",
       "    </tr>\n",
       "  </tbody>\n",
       "</table>\n",
       "<p>10 rows × 44224 columns</p>\n",
       "</div>"
      ],
      "text/plain": [
       "content_id               0  cont_1000_1_10  cont_1000_1_12  cont_1000_1_16  \\\n",
       "user_id                                                                      \n",
       "user_10013@domain.com  0.0             0.0             0.0             0.0   \n",
       "user_10034@domain.com  0.0             0.0             0.0             0.0   \n",
       "user_10036@domain.com  0.0             0.0             0.0             0.0   \n",
       "user_10042@domain.com  0.0             0.0             0.0             0.0   \n",
       "user_10052@domain.com  0.0             0.0             0.0             0.0   \n",
       "user_10069@domain.com  0.0             0.0             0.0             0.0   \n",
       "user_10070@domain.com  0.0             0.0             0.0             0.0   \n",
       "user_10076@domain.com  0.0             0.0             0.0             0.0   \n",
       "user_10082@domain.com  0.0             0.0             0.0             0.0   \n",
       "user_10086@domain.com  0.0             0.0             0.0             0.0   \n",
       "\n",
       "content_id             cont_1000_1_25  cont_1000_2_1  cont_1000_2_10  \\\n",
       "user_id                                                                \n",
       "user_10013@domain.com             0.0            0.0             0.0   \n",
       "user_10034@domain.com             0.0            0.0             0.0   \n",
       "user_10036@domain.com             0.0            0.0             0.0   \n",
       "user_10042@domain.com             0.0            0.0             0.0   \n",
       "user_10052@domain.com             0.0            0.0             0.0   \n",
       "user_10069@domain.com             0.0            0.0             0.0   \n",
       "user_10070@domain.com             0.0            0.0             0.0   \n",
       "user_10076@domain.com             0.0            0.0             0.0   \n",
       "user_10082@domain.com             0.0            0.0             0.0   \n",
       "user_10086@domain.com             0.0            0.0             0.0   \n",
       "\n",
       "content_id             cont_1000_2_13  cont_1000_2_18  cont_1000_3_1  ...  \\\n",
       "user_id                                                               ...   \n",
       "user_10013@domain.com             0.0             0.0            0.0  ...   \n",
       "user_10034@domain.com             0.0             0.0            0.0  ...   \n",
       "user_10036@domain.com             0.0             0.0            0.0  ...   \n",
       "user_10042@domain.com             0.0             0.0            0.0  ...   \n",
       "user_10052@domain.com             0.0             0.0            0.0  ...   \n",
       "user_10069@domain.com             0.0             0.0            0.0  ...   \n",
       "user_10070@domain.com             0.0             0.0            0.0  ...   \n",
       "user_10076@domain.com             0.0             0.0            0.0  ...   \n",
       "user_10082@domain.com             0.0             0.0            0.0  ...   \n",
       "user_10086@domain.com             0.0             0.0            0.0  ...   \n",
       "\n",
       "content_id             cont_994_1_5  cont_996_1_5  cont_996_1_6  cont_996_1_7  \\\n",
       "user_id                                                                         \n",
       "user_10013@domain.com           0.0           0.0           0.0           0.0   \n",
       "user_10034@domain.com           0.0           0.0           0.0           0.0   \n",
       "user_10036@domain.com           0.0           0.0           0.0           0.0   \n",
       "user_10042@domain.com           0.0           0.0           0.0           0.0   \n",
       "user_10052@domain.com           0.0           0.0           0.0           0.0   \n",
       "user_10069@domain.com           0.0           0.0           0.0           0.0   \n",
       "user_10070@domain.com           0.0           0.0           0.0           0.0   \n",
       "user_10076@domain.com           0.0           0.0           0.0           0.0   \n",
       "user_10082@domain.com           0.0           0.0           0.0           0.0   \n",
       "user_10086@domain.com           0.0           0.0           0.0           0.0   \n",
       "\n",
       "content_id             cont_998_1_4  cont_999_1_6  cont_99_1_6  cont_99_1_7  \\\n",
       "user_id                                                                       \n",
       "user_10013@domain.com           0.0           0.0          0.0          0.0   \n",
       "user_10034@domain.com           0.0           0.0          0.0          0.0   \n",
       "user_10036@domain.com           0.0           0.0          0.0          0.0   \n",
       "user_10042@domain.com           0.0           0.0          0.0          0.0   \n",
       "user_10052@domain.com           0.0           0.0          0.0          0.0   \n",
       "user_10069@domain.com           0.0           0.0          0.0          0.0   \n",
       "user_10070@domain.com           0.0           0.0          0.0          0.0   \n",
       "user_10076@domain.com           0.0           0.0          0.0          0.0   \n",
       "user_10082@domain.com           0.0           0.0          0.0          0.0   \n",
       "user_10086@domain.com           0.0           0.0          0.0          0.0   \n",
       "\n",
       "content_id             cont_9_1_4  cont_9_1_8  \n",
       "user_id                                        \n",
       "user_10013@domain.com         0.0         0.0  \n",
       "user_10034@domain.com         0.0         0.0  \n",
       "user_10036@domain.com         0.0         0.0  \n",
       "user_10042@domain.com         0.0         0.0  \n",
       "user_10052@domain.com         0.0         0.0  \n",
       "user_10069@domain.com         0.0         0.0  \n",
       "user_10070@domain.com         0.0         0.0  \n",
       "user_10076@domain.com         0.0         0.0  \n",
       "user_10082@domain.com         0.0         0.0  \n",
       "user_10086@domain.com         0.0         0.0  \n",
       "\n",
       "[10 rows x 44224 columns]"
      ]
     },
     "execution_count": 7,
     "metadata": {},
     "output_type": "execute_result"
    }
   ],
   "source": [
    "user_content_interaction = pd.pivot_table(interaction_df, index='user_id', columns='content_id', values='watch_duration_hrs')\n",
    "user_content_interaction.fillna(0,inplace=True)\n",
    "user_content_interaction.head(10)"
   ]
  },
  {
   "cell_type": "code",
   "execution_count": 8,
   "id": "f24fb479",
   "metadata": {
    "execution": {
     "iopub.execute_input": "2022-03-23T08:16:13.451040Z",
     "iopub.status.busy": "2022-03-23T08:16:13.450270Z",
     "iopub.status.idle": "2022-03-23T08:16:24.062550Z",
     "shell.execute_reply": "2022-03-23T08:16:24.062109Z",
     "shell.execute_reply.started": "2022-03-23T07:09:29.756743Z"
    },
    "papermill": {
     "duration": 10.632288,
     "end_time": "2022-03-23T08:16:24.062690",
     "exception": false,
     "start_time": "2022-03-23T08:16:13.430402",
     "status": "completed"
    },
    "tags": []
   },
   "outputs": [],
   "source": [
    "user_content_interaction_csr = csr_matrix(user_content_interaction.values)"
   ]
  },
  {
   "cell_type": "code",
   "execution_count": 9,
   "id": "ab3b2857",
   "metadata": {
    "execution": {
     "iopub.execute_input": "2022-03-23T08:16:24.103663Z",
     "iopub.status.busy": "2022-03-23T08:16:24.100663Z",
     "iopub.status.idle": "2022-03-23T08:25:10.883134Z",
     "shell.execute_reply": "2022-03-23T08:25:10.883535Z",
     "shell.execute_reply.started": "2022-03-23T07:38:19.418492Z"
    },
    "papermill": {
     "duration": 526.802329,
     "end_time": "2022-03-23T08:25:10.883723",
     "exception": false,
     "start_time": "2022-03-23T08:16:24.081394",
     "status": "completed"
    },
    "tags": []
   },
   "outputs": [
    {
     "name": "stderr",
     "output_type": "stream",
     "text": [
      "Epoch: 100%|██████████| 150/150 [08:46<00:00,  3.51s/it]\n"
     ]
    }
   ],
   "source": [
    "model = LightFM(loss='warp',\n",
    "                random_state=2016,\n",
    "                learning_rate=0.01,\n",
    "                no_components=100,learning_schedule='adadelta')\n",
    "\n",
    "model = model.fit(interactions=user_content_interaction_csr,\n",
    "                  epochs=150,\n",
    "                  num_threads=16, verbose=True)"
   ]
  },
  {
   "cell_type": "code",
   "execution_count": 10,
   "id": "53068c63",
   "metadata": {
    "execution": {
     "iopub.execute_input": "2022-03-23T08:25:11.024289Z",
     "iopub.status.busy": "2022-03-23T08:25:11.022709Z",
     "iopub.status.idle": "2022-03-23T08:25:11.024952Z",
     "shell.execute_reply": "2022-03-23T08:25:11.025373Z",
     "shell.execute_reply.started": "2022-03-23T07:20:51.535235Z"
    },
    "papermill": {
     "duration": 0.078392,
     "end_time": "2022-03-23T08:25:11.025504",
     "exception": false,
     "start_time": "2022-03-23T08:25:10.947112",
     "status": "completed"
    },
    "tags": []
   },
   "outputs": [],
   "source": [
    "user_id = list(user_content_interaction.index)\n",
    "user_dict = {}\n",
    "counter = 0 \n",
    "for i in user_id:\n",
    "    user_dict[i] = counter\n",
    "    counter += 1"
   ]
  },
  {
   "cell_type": "code",
   "execution_count": 11,
   "id": "09523afd",
   "metadata": {
    "execution": {
     "iopub.execute_input": "2022-03-23T08:25:11.157481Z",
     "iopub.status.busy": "2022-03-23T08:25:11.156974Z",
     "iopub.status.idle": "2022-03-23T08:25:11.160865Z",
     "shell.execute_reply": "2022-03-23T08:25:11.161234Z",
     "shell.execute_reply.started": "2022-03-23T07:20:51.688600Z"
    },
    "papermill": {
     "duration": 0.072112,
     "end_time": "2022-03-23T08:25:11.161377",
     "exception": false,
     "start_time": "2022-03-23T08:25:11.089265",
     "status": "completed"
    },
    "tags": []
   },
   "outputs": [
    {
     "data": {
      "text/plain": [
       "12100"
      ]
     },
     "execution_count": 11,
     "metadata": {},
     "output_type": "execute_result"
    }
   ],
   "source": [
    "user_dict['user_88625@domain.com']"
   ]
  },
  {
   "cell_type": "code",
   "execution_count": 12,
   "id": "580528e5",
   "metadata": {
    "execution": {
     "iopub.execute_input": "2022-03-23T08:25:11.298064Z",
     "iopub.status.busy": "2022-03-23T08:25:11.297267Z",
     "iopub.status.idle": "2022-03-23T08:25:11.299751Z",
     "shell.execute_reply": "2022-03-23T08:25:11.299308Z",
     "shell.execute_reply.started": "2022-03-23T07:33:30.069217Z"
    },
    "papermill": {
     "duration": 0.073807,
     "end_time": "2022-03-23T08:25:11.299866",
     "exception": false,
     "start_time": "2022-03-23T08:25:11.226059",
     "status": "completed"
    },
    "tags": []
   },
   "outputs": [],
   "source": [
    "def sample_recommendation_user(model, interactions, user_id, user_dict,threshold = 0,nrec_items = 10, show = True):\n",
    "    \n",
    "    n_users, n_items = interactions.shape\n",
    "    try:\n",
    "        user_x = user_dict[user_id]\n",
    "    except:\n",
    "        user_x = 0\n",
    "    scores = pd.Series(model.predict(user_x,np.arange(n_items)))\n",
    "    scores.index = interactions.columns\n",
    "    scores = list(pd.Series(scores.sort_values(ascending=False).index))\n",
    "    \n",
    "    known_items = list(pd.Series(interactions.loc[user_id,:] \\\n",
    "                                 [interactions.loc[user_id,:] > threshold].index).sort_values(ascending=False))\n",
    "    \n",
    "    scores = [x for x in scores if x not in known_items]\n",
    "    return_score_list = scores[0:nrec_items]\n",
    "    known_items = list(known_items)\n",
    "    scores = list(return_score_list)\n",
    "    return scores"
   ]
  },
  {
   "cell_type": "code",
   "execution_count": 13,
   "id": "3cd66058",
   "metadata": {
    "execution": {
     "iopub.execute_input": "2022-03-23T08:25:11.430632Z",
     "iopub.status.busy": "2022-03-23T08:25:11.429832Z",
     "iopub.status.idle": "2022-03-23T08:25:11.459806Z",
     "shell.execute_reply": "2022-03-23T08:25:11.460189Z",
     "shell.execute_reply.started": "2022-03-23T07:33:30.481517Z"
    },
    "papermill": {
     "duration": 0.096777,
     "end_time": "2022-03-23T08:25:11.460323",
     "exception": false,
     "start_time": "2022-03-23T08:25:11.363546",
     "status": "completed"
    },
    "tags": []
   },
   "outputs": [
    {
     "data": {
      "text/plain": [
       "['cont_2853_2_8',\n",
       " 'cont_4499_5_10',\n",
       " 'cont_2069_1_18',\n",
       " 'cont_4434_4_12',\n",
       " 'cont_475_15_7',\n",
       " 'cont_303_1_1',\n",
       " 'cont_2307_7_13',\n",
       " 'cont_1287_23_19',\n",
       " 'cont_1077_3_23',\n",
       " 'cont_1972_3_17']"
      ]
     },
     "execution_count": 13,
     "metadata": {},
     "output_type": "execute_result"
    }
   ],
   "source": [
    "sample_recommendation_user(model, user_content_interaction, 'user_88625@domain.com', user_dict)"
   ]
  },
  {
   "cell_type": "code",
   "execution_count": 14,
   "id": "f0d6e38f",
   "metadata": {
    "execution": {
     "iopub.execute_input": "2022-03-23T08:25:11.594201Z",
     "iopub.status.busy": "2022-03-23T08:25:11.593355Z",
     "iopub.status.idle": "2022-03-23T08:27:19.234842Z",
     "shell.execute_reply": "2022-03-23T08:27:19.233889Z",
     "shell.execute_reply.started": "2022-03-23T07:48:48.203032Z"
    },
    "papermill": {
     "duration": 127.710591,
     "end_time": "2022-03-23T08:27:19.234998",
     "exception": false,
     "start_time": "2022-03-23T08:25:11.524407",
     "status": "completed"
    },
    "tags": []
   },
   "outputs": [],
   "source": [
    "results = {}\n",
    "for row in test.itertuples():\n",
    "    results.update({row.user_id: sample_recommendation_user(model, user_content_interaction, row.user_id, user_dict)})"
   ]
  },
  {
   "cell_type": "code",
   "execution_count": 15,
   "id": "fe8b7022",
   "metadata": {
    "execution": {
     "iopub.execute_input": "2022-03-23T08:27:19.372489Z",
     "iopub.status.busy": "2022-03-23T08:27:19.371602Z",
     "iopub.status.idle": "2022-03-23T08:27:19.390238Z",
     "shell.execute_reply": "2022-03-23T08:27:19.389832Z",
     "shell.execute_reply.started": "2022-03-23T07:51:07.151125Z"
    },
    "papermill": {
     "duration": 0.089404,
     "end_time": "2022-03-23T08:27:19.390358",
     "exception": false,
     "start_time": "2022-03-23T08:27:19.300954",
     "status": "completed"
    },
    "tags": []
   },
   "outputs": [],
   "source": [
    "import json\n",
    "with open('submission_1.json','w') as fp:\n",
    "    json.dump(results, fp, sort_keys=True, indent=4)"
   ]
  },
  {
   "cell_type": "code",
   "execution_count": null,
   "id": "eac65de6",
   "metadata": {
    "papermill": {
     "duration": 0.063917,
     "end_time": "2022-03-23T08:27:19.519269",
     "exception": false,
     "start_time": "2022-03-23T08:27:19.455352",
     "status": "completed"
    },
    "tags": []
   },
   "outputs": [],
   "source": []
  }
 ],
 "metadata": {
  "kernelspec": {
   "display_name": "Python 3",
   "language": "python",
   "name": "python3"
  },
  "language_info": {
   "codemirror_mode": {
    "name": "ipython",
    "version": 3
   },
   "file_extension": ".py",
   "mimetype": "text/x-python",
   "name": "python",
   "nbconvert_exporter": "python",
   "pygments_lexer": "ipython3",
   "version": "3.7.12"
  },
  "papermill": {
   "default_parameters": {},
   "duration": 708.895423,
   "end_time": "2022-03-23T08:27:20.495086",
   "environment_variables": {},
   "exception": null,
   "input_path": "__notebook__.ipynb",
   "output_path": "__notebook__.ipynb",
   "parameters": {},
   "start_time": "2022-03-23T08:15:31.599663",
   "version": "2.3.3"
  }
 },
 "nbformat": 4,
 "nbformat_minor": 5
}
