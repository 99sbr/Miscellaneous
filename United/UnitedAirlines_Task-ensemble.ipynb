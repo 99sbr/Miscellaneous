{
 "cells": [
  {
   "cell_type": "code",
   "execution_count": 1,
   "metadata": {
    "slideshow": {
     "slide_type": "slide"
    }
   },
   "outputs": [
    {
     "data": {
      "text/html": [
       "        <script type=\"text/javascript\">\n",
       "        window.PlotlyConfig = {MathJaxConfig: 'local'};\n",
       "        if (window.MathJax) {MathJax.Hub.Config({SVG: {font: \"STIX-Web\"}});}\n",
       "        if (typeof require !== 'undefined') {\n",
       "        require.undef(\"plotly\");\n",
       "        requirejs.config({\n",
       "            paths: {\n",
       "                'plotly': ['https://cdn.plot.ly/plotly-latest.min']\n",
       "            }\n",
       "        });\n",
       "        require(['plotly'], function(Plotly) {\n",
       "            window._Plotly = Plotly;\n",
       "        });\n",
       "        }\n",
       "        </script>\n",
       "        "
      ]
     },
     "metadata": {},
     "output_type": "display_data"
    },
    {
     "data": {
      "text/html": [
       "        <script type=\"text/javascript\">\n",
       "        window.PlotlyConfig = {MathJaxConfig: 'local'};\n",
       "        if (window.MathJax) {MathJax.Hub.Config({SVG: {font: \"STIX-Web\"}});}\n",
       "        if (typeof require !== 'undefined') {\n",
       "        require.undef(\"plotly\");\n",
       "        requirejs.config({\n",
       "            paths: {\n",
       "                'plotly': ['https://cdn.plot.ly/plotly-latest.min']\n",
       "            }\n",
       "        });\n",
       "        require(['plotly'], function(Plotly) {\n",
       "            window._Plotly = Plotly;\n",
       "        });\n",
       "        }\n",
       "        </script>\n",
       "        "
      ]
     },
     "metadata": {},
     "output_type": "display_data"
    }
   ],
   "source": [
    "# Import all Libraries\n",
    "'''\n",
    "Problem statement: Predict total fare for each flight for carriers L1, L2 and L3 on a given date\n",
    "\n",
    "'''\n",
    "import os\n",
    "import numpy as np\n",
    "import pandas as pd\n",
    "from datetime import datetime\n",
    "\n",
    "pd.set_option('display.max_rows', 500)\n",
    "pd.set_option('display.max_columns', 500)\n",
    "pd.set_option('display.width', 1000)\n",
    "from sklearn.model_selection import train_test_split\n",
    "from sklearn import metrics\n",
    "# Import matplotlib for plotting and use magic command for Jupyter Notebooks\n",
    "import matplotlib.pyplot as plt\n",
    "# Standard plotly imports\n",
    "import chart_studio.plotly as py\n",
    "import plotly.graph_objs as go\n",
    "from plotly.offline import iplot, init_notebook_mode\n",
    "# Using plotly + cufflinks in offline mode\n",
    "import cufflinks\n",
    "cufflinks.go_offline(connected=True)\n",
    "init_notebook_mode(connected=True)"
   ]
  },
  {
   "cell_type": "code",
   "execution_count": 65,
   "metadata": {},
   "outputs": [],
   "source": [
    "train_folder = './training/'\n",
    "test_folder = './test/'"
   ]
  },
  {
   "cell_type": "code",
   "execution_count": 66,
   "metadata": {},
   "outputs": [],
   "source": [
    "service_index_df = pd.read_csv(os.path.join(train_folder,'service_index.csv'))\n",
    "train_schedules_df = pd.read_csv(os.path.join(train_folder,'train_schedules.csv'))\n",
    "train_fares_df = pd.read_csv(os.path.join(train_folder,'train_fares.csv'))"
   ]
  },
  {
   "cell_type": "code",
   "execution_count": 67,
   "metadata": {},
   "outputs": [],
   "source": [
    "# service_index_df = pd.read_csv(os.path.join(train_folder,'service_index.csv'))\n",
    "test_schedules_df = pd.read_csv(os.path.join(test_folder,'test_schedules.csv'))\n",
    "test_fares_df = pd.read_csv(os.path.join(test_folder,'test_fares_data.csv'))"
   ]
  },
  {
   "cell_type": "code",
   "execution_count": 68,
   "metadata": {},
   "outputs": [],
   "source": [
    "test_fares_df_org = test_fares_df.copy()"
   ]
  },
  {
   "cell_type": "code",
   "execution_count": 69,
   "metadata": {
    "scrolled": true
   },
   "outputs": [],
   "source": [
    "service_index_df = service_index_df[service_index_df['carrier'].isin(['L1', 'L2','L3'])]\n",
    "train_schedules_df = train_schedules_df[train_schedules_df['carrier'].isin(['L1', 'L2','L3'])]\n",
    "train_fares_df = train_fares_df[train_fares_df['carrier'].isin(['L1', 'L2','L3'])]\n"
   ]
  },
  {
   "cell_type": "code",
   "execution_count": 70,
   "metadata": {},
   "outputs": [],
   "source": [
    "# test dataset\n",
    "test_schedules_df = test_schedules_df[test_schedules_df['carrier'].isin(['L1', 'L2','L3'])]\n",
    "test_fares_df = test_fares_df[test_fares_df['carrier'].isin(['L1', 'L2','L3'])]"
   ]
  },
  {
   "cell_type": "code",
   "execution_count": 71,
   "metadata": {},
   "outputs": [],
   "source": [
    "service_index_df.drop('Unnamed: 0',1,inplace=True)\n",
    "train_schedules_df.drop('Unnamed: 0',1,inplace=True)\n",
    "train_fares_df.drop('Unnamed: 0',1,inplace=True)"
   ]
  },
  {
   "cell_type": "code",
   "execution_count": 72,
   "metadata": {},
   "outputs": [],
   "source": [
    "#test dataset\n",
    "test_schedules_df.drop('Unnamed: 0',1,inplace=True)\n",
    "test_fares_df.drop('Unnamed: 0',1,inplace=True)"
   ]
  },
  {
   "cell_type": "code",
   "execution_count": 73,
   "metadata": {},
   "outputs": [],
   "source": [
    "# convert mm/dd/yyyy to yyyy-mm-dd\n",
    "test_fares_df['observation_date']=test_fares_df['observation_date'].apply(lambda x :datetime.strptime(x, '%m/%d/%Y').strftime('%Y-%m-%d')) \n",
    "test_fares_df['flt_departure_dt']=test_fares_df['flt_departure_dt'].apply(lambda x :datetime.strptime(x, '%m/%d/%Y').strftime('%Y-%m-%d')) "
   ]
  },
  {
   "cell_type": "code",
   "execution_count": 12,
   "metadata": {},
   "outputs": [
    {
     "data": {
      "text/plain": [
       "origin              object\n",
       "destination         object\n",
       "carrier             object\n",
       "flt_num              int64\n",
       "flt_departure_dt    object\n",
       "observation_date    object\n",
       "total_fare           int64\n",
       "origin_city         object\n",
       "destination_city    object\n",
       "dtype: object"
      ]
     },
     "execution_count": 12,
     "metadata": {},
     "output_type": "execute_result"
    }
   ],
   "source": [
    "train_fares_df.dtypes"
   ]
  },
  {
   "cell_type": "code",
   "execution_count": 13,
   "metadata": {},
   "outputs": [
    {
     "data": {
      "text/plain": [
       "(1493689, 9)"
      ]
     },
     "execution_count": 13,
     "metadata": {},
     "output_type": "execute_result"
    }
   ],
   "source": [
    "train_fares_df.shape"
   ]
  },
  {
   "cell_type": "code",
   "execution_count": 14,
   "metadata": {
    "scrolled": true
   },
   "outputs": [
    {
     "data": {
      "text/plain": [
       "carrier                     object\n",
       "flt_num                      int64\n",
       "origin                      object\n",
       "destination                 object\n",
       "flt_departure_dt            object\n",
       "flt_departure_local_time    object\n",
       "flt_arrival_local_time      object\n",
       "flt_departure_gmt           object\n",
       "flt_arrival_gmt             object\n",
       "dtype: object"
      ]
     },
     "execution_count": 14,
     "metadata": {},
     "output_type": "execute_result"
    }
   ],
   "source": [
    "train_schedules_df.dtypes"
   ]
  },
  {
   "cell_type": "code",
   "execution_count": 15,
   "metadata": {},
   "outputs": [
    {
     "data": {
      "text/plain": [
       "(35374, 9)"
      ]
     },
     "execution_count": 15,
     "metadata": {},
     "output_type": "execute_result"
    }
   ],
   "source": [
    "train_schedules_df.shape"
   ]
  },
  {
   "cell_type": "code",
   "execution_count": 16,
   "metadata": {},
   "outputs": [
    {
     "data": {
      "text/plain": [
       "yr                int64\n",
       "mo                int64\n",
       "origin           object\n",
       "destination      object\n",
       "carrier          object\n",
       "scaled_demand     int64\n",
       "scaled_share      int64\n",
       "dtype: object"
      ]
     },
     "execution_count": 16,
     "metadata": {},
     "output_type": "execute_result"
    }
   ],
   "source": [
    "service_index_df.dtypes"
   ]
  },
  {
   "cell_type": "code",
   "execution_count": 17,
   "metadata": {},
   "outputs": [
    {
     "data": {
      "text/plain": [
       "(11546, 7)"
      ]
     },
     "execution_count": 17,
     "metadata": {},
     "output_type": "execute_result"
    }
   ],
   "source": [
    "service_index_df.shape"
   ]
  },
  {
   "cell_type": "code",
   "execution_count": 74,
   "metadata": {},
   "outputs": [],
   "source": [
    "train_merged_df = pd.merge(train_fares_df,train_schedules_df, on=['flt_num','flt_departure_dt','carrier','origin','destination'])"
   ]
  },
  {
   "cell_type": "code",
   "execution_count": 75,
   "metadata": {},
   "outputs": [],
   "source": [
    "#test dataset\n",
    "test_merged_df = pd.merge(test_fares_df,test_schedules_df, on=['flt_num','flt_departure_dt','carrier','origin','destination'])"
   ]
  },
  {
   "cell_type": "code",
   "execution_count": 76,
   "metadata": {},
   "outputs": [
    {
     "data": {
      "text/html": [
       "<div>\n",
       "<style scoped>\n",
       "    .dataframe tbody tr th:only-of-type {\n",
       "        vertical-align: middle;\n",
       "    }\n",
       "\n",
       "    .dataframe tbody tr th {\n",
       "        vertical-align: top;\n",
       "    }\n",
       "\n",
       "    .dataframe thead th {\n",
       "        text-align: right;\n",
       "    }\n",
       "</style>\n",
       "<table border=\"1\" class=\"dataframe\">\n",
       "  <thead>\n",
       "    <tr style=\"text-align: right;\">\n",
       "      <th></th>\n",
       "      <th>origin</th>\n",
       "      <th>destination</th>\n",
       "      <th>carrier</th>\n",
       "      <th>flt_num</th>\n",
       "      <th>flt_departure_dt</th>\n",
       "      <th>observation_date</th>\n",
       "      <th>total_fare</th>\n",
       "      <th>origin_city</th>\n",
       "      <th>destination_city</th>\n",
       "      <th>flt_departure_local_time</th>\n",
       "      <th>flt_arrival_local_time</th>\n",
       "      <th>flt_departure_gmt</th>\n",
       "      <th>flt_arrival_gmt</th>\n",
       "    </tr>\n",
       "  </thead>\n",
       "  <tbody>\n",
       "    <tr>\n",
       "      <td>0</td>\n",
       "      <td>Airport4</td>\n",
       "      <td>Airport43</td>\n",
       "      <td>L1</td>\n",
       "      <td>5911</td>\n",
       "      <td>2018-01-03</td>\n",
       "      <td>2017-11-29</td>\n",
       "      <td>538</td>\n",
       "      <td>City4</td>\n",
       "      <td>City39</td>\n",
       "      <td>2018-01-03 17:00:00.0</td>\n",
       "      <td>2018-01-03 19:37:00.0</td>\n",
       "      <td>2018-01-03 23:00:00.0</td>\n",
       "      <td>2018-01-04 01:37:00.0</td>\n",
       "    </tr>\n",
       "    <tr>\n",
       "      <td>1</td>\n",
       "      <td>Airport4</td>\n",
       "      <td>Airport43</td>\n",
       "      <td>L1</td>\n",
       "      <td>5911</td>\n",
       "      <td>2018-01-03</td>\n",
       "      <td>2017-12-12</td>\n",
       "      <td>538</td>\n",
       "      <td>City4</td>\n",
       "      <td>City39</td>\n",
       "      <td>2018-01-03 17:00:00.0</td>\n",
       "      <td>2018-01-03 19:37:00.0</td>\n",
       "      <td>2018-01-03 23:00:00.0</td>\n",
       "      <td>2018-01-04 01:37:00.0</td>\n",
       "    </tr>\n",
       "    <tr>\n",
       "      <td>2</td>\n",
       "      <td>Airport4</td>\n",
       "      <td>Airport43</td>\n",
       "      <td>L1</td>\n",
       "      <td>5911</td>\n",
       "      <td>2018-01-03</td>\n",
       "      <td>2017-12-23</td>\n",
       "      <td>651</td>\n",
       "      <td>City4</td>\n",
       "      <td>City39</td>\n",
       "      <td>2018-01-03 17:00:00.0</td>\n",
       "      <td>2018-01-03 19:37:00.0</td>\n",
       "      <td>2018-01-03 23:00:00.0</td>\n",
       "      <td>2018-01-04 01:37:00.0</td>\n",
       "    </tr>\n",
       "    <tr>\n",
       "      <td>3</td>\n",
       "      <td>Airport4</td>\n",
       "      <td>Airport43</td>\n",
       "      <td>L1</td>\n",
       "      <td>5911</td>\n",
       "      <td>2018-01-03</td>\n",
       "      <td>2017-11-30</td>\n",
       "      <td>714</td>\n",
       "      <td>City4</td>\n",
       "      <td>City39</td>\n",
       "      <td>2018-01-03 17:00:00.0</td>\n",
       "      <td>2018-01-03 19:37:00.0</td>\n",
       "      <td>2018-01-03 23:00:00.0</td>\n",
       "      <td>2018-01-04 01:37:00.0</td>\n",
       "    </tr>\n",
       "    <tr>\n",
       "      <td>4</td>\n",
       "      <td>Airport4</td>\n",
       "      <td>Airport43</td>\n",
       "      <td>L1</td>\n",
       "      <td>5911</td>\n",
       "      <td>2018-01-03</td>\n",
       "      <td>2017-12-02</td>\n",
       "      <td>538</td>\n",
       "      <td>City4</td>\n",
       "      <td>City39</td>\n",
       "      <td>2018-01-03 17:00:00.0</td>\n",
       "      <td>2018-01-03 19:37:00.0</td>\n",
       "      <td>2018-01-03 23:00:00.0</td>\n",
       "      <td>2018-01-04 01:37:00.0</td>\n",
       "    </tr>\n",
       "  </tbody>\n",
       "</table>\n",
       "</div>"
      ],
      "text/plain": [
       "     origin destination carrier  flt_num flt_departure_dt observation_date  total_fare origin_city destination_city flt_departure_local_time flt_arrival_local_time      flt_departure_gmt        flt_arrival_gmt\n",
       "0  Airport4   Airport43      L1     5911       2018-01-03       2017-11-29         538       City4           City39    2018-01-03 17:00:00.0  2018-01-03 19:37:00.0  2018-01-03 23:00:00.0  2018-01-04 01:37:00.0\n",
       "1  Airport4   Airport43      L1     5911       2018-01-03       2017-12-12         538       City4           City39    2018-01-03 17:00:00.0  2018-01-03 19:37:00.0  2018-01-03 23:00:00.0  2018-01-04 01:37:00.0\n",
       "2  Airport4   Airport43      L1     5911       2018-01-03       2017-12-23         651       City4           City39    2018-01-03 17:00:00.0  2018-01-03 19:37:00.0  2018-01-03 23:00:00.0  2018-01-04 01:37:00.0\n",
       "3  Airport4   Airport43      L1     5911       2018-01-03       2017-11-30         714       City4           City39    2018-01-03 17:00:00.0  2018-01-03 19:37:00.0  2018-01-03 23:00:00.0  2018-01-04 01:37:00.0\n",
       "4  Airport4   Airport43      L1     5911       2018-01-03       2017-12-02         538       City4           City39    2018-01-03 17:00:00.0  2018-01-03 19:37:00.0  2018-01-03 23:00:00.0  2018-01-04 01:37:00.0"
      ]
     },
     "execution_count": 76,
     "metadata": {},
     "output_type": "execute_result"
    }
   ],
   "source": [
    "train_merged_df.head()"
   ]
  },
  {
   "cell_type": "code",
   "execution_count": 21,
   "metadata": {},
   "outputs": [],
   "source": [
    "train_merged_df['departure_yr']=train_merged_df['flt_departure_dt'].apply(lambda x: int(x.split('-')[0]))\n",
    "train_merged_df['departure_mo']=train_merged_df['flt_departure_dt'].apply(lambda x: int(x.split('-')[1]))\n",
    "train_merged_df['departure_dt']=train_merged_df['flt_departure_dt'].apply(lambda x: int(x.split('-')[2]))"
   ]
  },
  {
   "cell_type": "code",
   "execution_count": 22,
   "metadata": {},
   "outputs": [],
   "source": [
    "train_merged_df['yr']=train_merged_df['observation_date'].apply(lambda x: int(x.split('-')[0]))\n",
    "train_merged_df['mo']=train_merged_df['observation_date'].apply(lambda x: int(x.split('-')[1]))\n",
    "train_merged_df['dt']=train_merged_df['observation_date'].apply(lambda x: int(x.split('-')[2]))"
   ]
  },
  {
   "cell_type": "code",
   "execution_count": 23,
   "metadata": {},
   "outputs": [],
   "source": [
    "# # test dataset\n",
    "\n",
    "test_merged_df['departure_yr']=test_merged_df['flt_departure_dt'].apply(lambda x: int(x.split('-')[0]))\n",
    "test_merged_df['departure_mo']=test_merged_df['flt_departure_dt'].apply(lambda x: int(x.split('-')[1]))\n",
    "test_merged_df['departure_dt']=test_merged_df['flt_departure_dt'].apply(lambda x: int(x.split('-')[2]))\n",
    "\n",
    "\n",
    "test_merged_df['yr']=test_merged_df['observation_date'].apply(lambda x: int(x.split('-')[0]))\n",
    "test_merged_df['mo']=test_merged_df['observation_date'].apply(lambda x: int(x.split('-')[1]))\n",
    "test_merged_df['dt']=test_merged_df['observation_date'].apply(lambda x: int(x.split('-')[2]))"
   ]
  },
  {
   "cell_type": "code",
   "execution_count": null,
   "metadata": {},
   "outputs": [],
   "source": []
  },
  {
   "cell_type": "code",
   "execution_count": 24,
   "metadata": {},
   "outputs": [],
   "source": [
    "train_df = pd.merge(train_merged_df, service_index_df, on=['yr','mo','carrier','origin','destination'])"
   ]
  },
  {
   "cell_type": "code",
   "execution_count": 25,
   "metadata": {},
   "outputs": [],
   "source": [
    "test_df = pd.merge(test_merged_df, service_index_df, on=['yr','mo','carrier','origin','destination'])"
   ]
  },
  {
   "cell_type": "code",
   "execution_count": 26,
   "metadata": {},
   "outputs": [
    {
     "data": {
      "text/html": [
       "<div>\n",
       "<style scoped>\n",
       "    .dataframe tbody tr th:only-of-type {\n",
       "        vertical-align: middle;\n",
       "    }\n",
       "\n",
       "    .dataframe tbody tr th {\n",
       "        vertical-align: top;\n",
       "    }\n",
       "\n",
       "    .dataframe thead th {\n",
       "        text-align: right;\n",
       "    }\n",
       "</style>\n",
       "<table border=\"1\" class=\"dataframe\">\n",
       "  <thead>\n",
       "    <tr style=\"text-align: right;\">\n",
       "      <th></th>\n",
       "      <th>origin</th>\n",
       "      <th>destination</th>\n",
       "      <th>carrier</th>\n",
       "      <th>flt_num</th>\n",
       "      <th>flt_departure_dt</th>\n",
       "      <th>observation_date</th>\n",
       "      <th>total_fare</th>\n",
       "      <th>origin_city</th>\n",
       "      <th>destination_city</th>\n",
       "      <th>flt_departure_local_time</th>\n",
       "      <th>flt_arrival_local_time</th>\n",
       "      <th>flt_departure_gmt</th>\n",
       "      <th>flt_arrival_gmt</th>\n",
       "      <th>departure_yr</th>\n",
       "      <th>departure_mo</th>\n",
       "      <th>departure_dt</th>\n",
       "      <th>yr</th>\n",
       "      <th>mo</th>\n",
       "      <th>dt</th>\n",
       "      <th>scaled_demand</th>\n",
       "      <th>scaled_share</th>\n",
       "    </tr>\n",
       "  </thead>\n",
       "  <tbody>\n",
       "    <tr>\n",
       "      <td>0</td>\n",
       "      <td>Airport4</td>\n",
       "      <td>Airport43</td>\n",
       "      <td>L1</td>\n",
       "      <td>5911</td>\n",
       "      <td>2018-01-03</td>\n",
       "      <td>2017-12-12</td>\n",
       "      <td>538</td>\n",
       "      <td>City4</td>\n",
       "      <td>City39</td>\n",
       "      <td>2018-01-03 17:00:00.0</td>\n",
       "      <td>2018-01-03 19:37:00.0</td>\n",
       "      <td>2018-01-03 23:00:00.0</td>\n",
       "      <td>2018-01-04 01:37:00.0</td>\n",
       "      <td>2018</td>\n",
       "      <td>1</td>\n",
       "      <td>3</td>\n",
       "      <td>2017</td>\n",
       "      <td>12</td>\n",
       "      <td>12</td>\n",
       "      <td>1649</td>\n",
       "      <td>322</td>\n",
       "    </tr>\n",
       "    <tr>\n",
       "      <td>1</td>\n",
       "      <td>Airport4</td>\n",
       "      <td>Airport43</td>\n",
       "      <td>L1</td>\n",
       "      <td>5911</td>\n",
       "      <td>2018-01-03</td>\n",
       "      <td>2017-12-23</td>\n",
       "      <td>651</td>\n",
       "      <td>City4</td>\n",
       "      <td>City39</td>\n",
       "      <td>2018-01-03 17:00:00.0</td>\n",
       "      <td>2018-01-03 19:37:00.0</td>\n",
       "      <td>2018-01-03 23:00:00.0</td>\n",
       "      <td>2018-01-04 01:37:00.0</td>\n",
       "      <td>2018</td>\n",
       "      <td>1</td>\n",
       "      <td>3</td>\n",
       "      <td>2017</td>\n",
       "      <td>12</td>\n",
       "      <td>23</td>\n",
       "      <td>1649</td>\n",
       "      <td>322</td>\n",
       "    </tr>\n",
       "    <tr>\n",
       "      <td>2</td>\n",
       "      <td>Airport4</td>\n",
       "      <td>Airport43</td>\n",
       "      <td>L1</td>\n",
       "      <td>5911</td>\n",
       "      <td>2018-01-03</td>\n",
       "      <td>2017-12-02</td>\n",
       "      <td>538</td>\n",
       "      <td>City4</td>\n",
       "      <td>City39</td>\n",
       "      <td>2018-01-03 17:00:00.0</td>\n",
       "      <td>2018-01-03 19:37:00.0</td>\n",
       "      <td>2018-01-03 23:00:00.0</td>\n",
       "      <td>2018-01-04 01:37:00.0</td>\n",
       "      <td>2018</td>\n",
       "      <td>1</td>\n",
       "      <td>3</td>\n",
       "      <td>2017</td>\n",
       "      <td>12</td>\n",
       "      <td>2</td>\n",
       "      <td>1649</td>\n",
       "      <td>322</td>\n",
       "    </tr>\n",
       "    <tr>\n",
       "      <td>3</td>\n",
       "      <td>Airport4</td>\n",
       "      <td>Airport43</td>\n",
       "      <td>L1</td>\n",
       "      <td>5911</td>\n",
       "      <td>2018-01-03</td>\n",
       "      <td>2017-12-06</td>\n",
       "      <td>538</td>\n",
       "      <td>City4</td>\n",
       "      <td>City39</td>\n",
       "      <td>2018-01-03 17:00:00.0</td>\n",
       "      <td>2018-01-03 19:37:00.0</td>\n",
       "      <td>2018-01-03 23:00:00.0</td>\n",
       "      <td>2018-01-04 01:37:00.0</td>\n",
       "      <td>2018</td>\n",
       "      <td>1</td>\n",
       "      <td>3</td>\n",
       "      <td>2017</td>\n",
       "      <td>12</td>\n",
       "      <td>6</td>\n",
       "      <td>1649</td>\n",
       "      <td>322</td>\n",
       "    </tr>\n",
       "    <tr>\n",
       "      <td>4</td>\n",
       "      <td>Airport4</td>\n",
       "      <td>Airport43</td>\n",
       "      <td>L1</td>\n",
       "      <td>5911</td>\n",
       "      <td>2018-01-03</td>\n",
       "      <td>2017-12-03</td>\n",
       "      <td>538</td>\n",
       "      <td>City4</td>\n",
       "      <td>City39</td>\n",
       "      <td>2018-01-03 17:00:00.0</td>\n",
       "      <td>2018-01-03 19:37:00.0</td>\n",
       "      <td>2018-01-03 23:00:00.0</td>\n",
       "      <td>2018-01-04 01:37:00.0</td>\n",
       "      <td>2018</td>\n",
       "      <td>1</td>\n",
       "      <td>3</td>\n",
       "      <td>2017</td>\n",
       "      <td>12</td>\n",
       "      <td>3</td>\n",
       "      <td>1649</td>\n",
       "      <td>322</td>\n",
       "    </tr>\n",
       "  </tbody>\n",
       "</table>\n",
       "</div>"
      ],
      "text/plain": [
       "     origin destination carrier  flt_num flt_departure_dt observation_date  total_fare origin_city destination_city flt_departure_local_time flt_arrival_local_time      flt_departure_gmt        flt_arrival_gmt  departure_yr  departure_mo  departure_dt    yr  mo  dt  scaled_demand  scaled_share\n",
       "0  Airport4   Airport43      L1     5911       2018-01-03       2017-12-12         538       City4           City39    2018-01-03 17:00:00.0  2018-01-03 19:37:00.0  2018-01-03 23:00:00.0  2018-01-04 01:37:00.0          2018             1             3  2017  12  12           1649           322\n",
       "1  Airport4   Airport43      L1     5911       2018-01-03       2017-12-23         651       City4           City39    2018-01-03 17:00:00.0  2018-01-03 19:37:00.0  2018-01-03 23:00:00.0  2018-01-04 01:37:00.0          2018             1             3  2017  12  23           1649           322\n",
       "2  Airport4   Airport43      L1     5911       2018-01-03       2017-12-02         538       City4           City39    2018-01-03 17:00:00.0  2018-01-03 19:37:00.0  2018-01-03 23:00:00.0  2018-01-04 01:37:00.0          2018             1             3  2017  12   2           1649           322\n",
       "3  Airport4   Airport43      L1     5911       2018-01-03       2017-12-06         538       City4           City39    2018-01-03 17:00:00.0  2018-01-03 19:37:00.0  2018-01-03 23:00:00.0  2018-01-04 01:37:00.0          2018             1             3  2017  12   6           1649           322\n",
       "4  Airport4   Airport43      L1     5911       2018-01-03       2017-12-03         538       City4           City39    2018-01-03 17:00:00.0  2018-01-03 19:37:00.0  2018-01-03 23:00:00.0  2018-01-04 01:37:00.0          2018             1             3  2017  12   3           1649           322"
      ]
     },
     "execution_count": 26,
     "metadata": {},
     "output_type": "execute_result"
    }
   ],
   "source": [
    "train_df.head()"
   ]
  },
  {
   "cell_type": "code",
   "execution_count": 27,
   "metadata": {},
   "outputs": [
    {
     "data": {
      "text/html": [
       "<div>\n",
       "<style scoped>\n",
       "    .dataframe tbody tr th:only-of-type {\n",
       "        vertical-align: middle;\n",
       "    }\n",
       "\n",
       "    .dataframe tbody tr th {\n",
       "        vertical-align: top;\n",
       "    }\n",
       "\n",
       "    .dataframe thead th {\n",
       "        text-align: right;\n",
       "    }\n",
       "</style>\n",
       "<table border=\"1\" class=\"dataframe\">\n",
       "  <thead>\n",
       "    <tr style=\"text-align: right;\">\n",
       "      <th></th>\n",
       "      <th>origin</th>\n",
       "      <th>destination</th>\n",
       "      <th>carrier</th>\n",
       "      <th>flt_num</th>\n",
       "      <th>flt_departure_dt</th>\n",
       "      <th>observation_date</th>\n",
       "      <th>origin_city</th>\n",
       "      <th>destination_city</th>\n",
       "      <th>flt_departure_local_time</th>\n",
       "      <th>flt_arrival_local_time</th>\n",
       "      <th>flt_departure_gmt</th>\n",
       "      <th>flt_arrival_gmt</th>\n",
       "      <th>departure_yr</th>\n",
       "      <th>departure_mo</th>\n",
       "      <th>departure_dt</th>\n",
       "      <th>yr</th>\n",
       "      <th>mo</th>\n",
       "      <th>dt</th>\n",
       "    </tr>\n",
       "  </thead>\n",
       "  <tbody>\n",
       "    <tr>\n",
       "      <td>0</td>\n",
       "      <td>Airport4</td>\n",
       "      <td>Airport43</td>\n",
       "      <td>L2</td>\n",
       "      <td>7465</td>\n",
       "      <td>2019-01-01</td>\n",
       "      <td>2018-11-27</td>\n",
       "      <td>City4</td>\n",
       "      <td>City39</td>\n",
       "      <td>2019-01-01 08:04:00.0</td>\n",
       "      <td>2019-01-01 10:49:00.0</td>\n",
       "      <td>2019-01-01 14:04:00.0</td>\n",
       "      <td>2019-01-01 16:49:00.0</td>\n",
       "      <td>2019</td>\n",
       "      <td>1</td>\n",
       "      <td>1</td>\n",
       "      <td>2018</td>\n",
       "      <td>11</td>\n",
       "      <td>27</td>\n",
       "    </tr>\n",
       "    <tr>\n",
       "      <td>1</td>\n",
       "      <td>Airport4</td>\n",
       "      <td>Airport43</td>\n",
       "      <td>L2</td>\n",
       "      <td>7465</td>\n",
       "      <td>2019-01-01</td>\n",
       "      <td>2018-11-28</td>\n",
       "      <td>City4</td>\n",
       "      <td>City39</td>\n",
       "      <td>2019-01-01 08:04:00.0</td>\n",
       "      <td>2019-01-01 10:49:00.0</td>\n",
       "      <td>2019-01-01 14:04:00.0</td>\n",
       "      <td>2019-01-01 16:49:00.0</td>\n",
       "      <td>2019</td>\n",
       "      <td>1</td>\n",
       "      <td>1</td>\n",
       "      <td>2018</td>\n",
       "      <td>11</td>\n",
       "      <td>28</td>\n",
       "    </tr>\n",
       "    <tr>\n",
       "      <td>2</td>\n",
       "      <td>Airport4</td>\n",
       "      <td>Airport43</td>\n",
       "      <td>L2</td>\n",
       "      <td>7465</td>\n",
       "      <td>2019-01-01</td>\n",
       "      <td>2018-12-07</td>\n",
       "      <td>City4</td>\n",
       "      <td>City39</td>\n",
       "      <td>2019-01-01 08:04:00.0</td>\n",
       "      <td>2019-01-01 10:49:00.0</td>\n",
       "      <td>2019-01-01 14:04:00.0</td>\n",
       "      <td>2019-01-01 16:49:00.0</td>\n",
       "      <td>2019</td>\n",
       "      <td>1</td>\n",
       "      <td>1</td>\n",
       "      <td>2018</td>\n",
       "      <td>12</td>\n",
       "      <td>7</td>\n",
       "    </tr>\n",
       "    <tr>\n",
       "      <td>3</td>\n",
       "      <td>Airport4</td>\n",
       "      <td>Airport43</td>\n",
       "      <td>L2</td>\n",
       "      <td>7465</td>\n",
       "      <td>2019-01-01</td>\n",
       "      <td>2018-12-05</td>\n",
       "      <td>City4</td>\n",
       "      <td>City39</td>\n",
       "      <td>2019-01-01 08:04:00.0</td>\n",
       "      <td>2019-01-01 10:49:00.0</td>\n",
       "      <td>2019-01-01 14:04:00.0</td>\n",
       "      <td>2019-01-01 16:49:00.0</td>\n",
       "      <td>2019</td>\n",
       "      <td>1</td>\n",
       "      <td>1</td>\n",
       "      <td>2018</td>\n",
       "      <td>12</td>\n",
       "      <td>5</td>\n",
       "    </tr>\n",
       "    <tr>\n",
       "      <td>4</td>\n",
       "      <td>Airport4</td>\n",
       "      <td>Airport43</td>\n",
       "      <td>L2</td>\n",
       "      <td>7465</td>\n",
       "      <td>2019-01-01</td>\n",
       "      <td>2018-12-01</td>\n",
       "      <td>City4</td>\n",
       "      <td>City39</td>\n",
       "      <td>2019-01-01 08:04:00.0</td>\n",
       "      <td>2019-01-01 10:49:00.0</td>\n",
       "      <td>2019-01-01 14:04:00.0</td>\n",
       "      <td>2019-01-01 16:49:00.0</td>\n",
       "      <td>2019</td>\n",
       "      <td>1</td>\n",
       "      <td>1</td>\n",
       "      <td>2018</td>\n",
       "      <td>12</td>\n",
       "      <td>1</td>\n",
       "    </tr>\n",
       "  </tbody>\n",
       "</table>\n",
       "</div>"
      ],
      "text/plain": [
       "     origin destination carrier  flt_num flt_departure_dt observation_date origin_city destination_city flt_departure_local_time flt_arrival_local_time      flt_departure_gmt        flt_arrival_gmt  departure_yr  departure_mo  departure_dt    yr  mo  dt\n",
       "0  Airport4   Airport43      L2     7465       2019-01-01       2018-11-27       City4           City39    2019-01-01 08:04:00.0  2019-01-01 10:49:00.0  2019-01-01 14:04:00.0  2019-01-01 16:49:00.0          2019             1             1  2018  11  27\n",
       "1  Airport4   Airport43      L2     7465       2019-01-01       2018-11-28       City4           City39    2019-01-01 08:04:00.0  2019-01-01 10:49:00.0  2019-01-01 14:04:00.0  2019-01-01 16:49:00.0          2019             1             1  2018  11  28\n",
       "2  Airport4   Airport43      L2     7465       2019-01-01       2018-12-07       City4           City39    2019-01-01 08:04:00.0  2019-01-01 10:49:00.0  2019-01-01 14:04:00.0  2019-01-01 16:49:00.0          2019             1             1  2018  12   7\n",
       "3  Airport4   Airport43      L2     7465       2019-01-01       2018-12-05       City4           City39    2019-01-01 08:04:00.0  2019-01-01 10:49:00.0  2019-01-01 14:04:00.0  2019-01-01 16:49:00.0          2019             1             1  2018  12   5\n",
       "4  Airport4   Airport43      L2     7465       2019-01-01       2018-12-01       City4           City39    2019-01-01 08:04:00.0  2019-01-01 10:49:00.0  2019-01-01 14:04:00.0  2019-01-01 16:49:00.0          2019             1             1  2018  12   1"
      ]
     },
     "execution_count": 27,
     "metadata": {},
     "output_type": "execute_result"
    }
   ],
   "source": [
    "test_merged_df.head()"
   ]
  },
  {
   "cell_type": "code",
   "execution_count": 28,
   "metadata": {},
   "outputs": [],
   "source": [
    "train_df['flt_departure_dt']=train_df['flt_departure_dt'].apply(lambda x:datetime.strptime(x, '%Y-%m-%d'))\n",
    "\n",
    "train_df['observation_date']=train_df['observation_date'].apply(lambda x:datetime.strptime(x, '%Y-%m-%d'))\n",
    "\n",
    "train_df['flt_departure_local_time']=train_df['flt_departure_local_time'].apply(lambda x :datetime.strptime(x, '%Y-%m-%d %H:%M:%S.%f'))\n",
    "\n",
    "train_df['flt_arrival_local_time']=train_df['flt_arrival_local_time'].apply(lambda x :datetime.strptime(x, '%Y-%m-%d %H:%M:%S.%f'))\n",
    "\n",
    "train_df['flt_departure_gmt']=train_df['flt_departure_gmt'].apply(lambda x :datetime.strptime(x, '%Y-%m-%d %H:%M:%S.%f'))\n",
    "                                                                                \n",
    "train_df['flt_arrival_gmt']=train_df['flt_arrival_gmt'].apply(lambda x :datetime.strptime(x, '%Y-%m-%d %H:%M:%S.%f'))\n",
    "                                                                                  "
   ]
  },
  {
   "cell_type": "code",
   "execution_count": 29,
   "metadata": {},
   "outputs": [],
   "source": [
    "# test dataset\n",
    "\n",
    "test_df['flt_departure_dt']=test_df['flt_departure_dt'].apply(lambda x:datetime.strptime(x, '%Y-%m-%d'))\n",
    "\n",
    "test_df['observation_date']=test_df['observation_date'].apply(lambda x:datetime.strptime(x, '%Y-%m-%d'))\n",
    "\n",
    "test_df['flt_departure_local_time']=test_df['flt_departure_local_time'].apply(lambda x :datetime.strptime(x, '%Y-%m-%d %H:%M:%S.%f'))\n",
    "\n",
    "test_df['flt_arrival_local_time']=test_df['flt_arrival_local_time'].apply(lambda x :datetime.strptime(x, '%Y-%m-%d %H:%M:%S.%f'))\n",
    "\n",
    "test_df['flt_departure_gmt']=test_df['flt_departure_gmt'].apply(lambda x :datetime.strptime(x, '%Y-%m-%d %H:%M:%S.%f'))\n",
    "                                                                                \n",
    "test_df['flt_arrival_gmt']=test_df['flt_arrival_gmt'].apply(lambda x :datetime.strptime(x, '%Y-%m-%d %H:%M:%S.%f'))\n",
    "                                                                                  "
   ]
  },
  {
   "cell_type": "code",
   "execution_count": 30,
   "metadata": {},
   "outputs": [],
   "source": [
    "train_df['flight_travel_duration'] = train_df['flt_arrival_gmt']-train_df['flt_departure_gmt']"
   ]
  },
  {
   "cell_type": "code",
   "execution_count": 31,
   "metadata": {},
   "outputs": [],
   "source": [
    "train_df['flight_travel_duration'] = train_df['flight_travel_duration'].apply(lambda x: x.seconds/3600)"
   ]
  },
  {
   "cell_type": "code",
   "execution_count": 32,
   "metadata": {},
   "outputs": [],
   "source": [
    "test_df['flight_travel_duration'] = test_df['flt_arrival_gmt']-test_df['flt_departure_gmt']\n",
    "test_df['flight_travel_duration'] = test_df['flight_travel_duration'].apply(lambda x: x.seconds/3600)"
   ]
  },
  {
   "cell_type": "code",
   "execution_count": 33,
   "metadata": {},
   "outputs": [
    {
     "data": {
      "text/html": [
       "<div>\n",
       "<style scoped>\n",
       "    .dataframe tbody tr th:only-of-type {\n",
       "        vertical-align: middle;\n",
       "    }\n",
       "\n",
       "    .dataframe tbody tr th {\n",
       "        vertical-align: top;\n",
       "    }\n",
       "\n",
       "    .dataframe thead th {\n",
       "        text-align: right;\n",
       "    }\n",
       "</style>\n",
       "<table border=\"1\" class=\"dataframe\">\n",
       "  <thead>\n",
       "    <tr style=\"text-align: right;\">\n",
       "      <th></th>\n",
       "      <th>origin</th>\n",
       "      <th>destination</th>\n",
       "      <th>carrier</th>\n",
       "      <th>flt_num</th>\n",
       "      <th>flt_departure_dt</th>\n",
       "      <th>observation_date</th>\n",
       "      <th>total_fare</th>\n",
       "      <th>origin_city</th>\n",
       "      <th>destination_city</th>\n",
       "      <th>flt_departure_local_time</th>\n",
       "      <th>flt_arrival_local_time</th>\n",
       "      <th>flt_departure_gmt</th>\n",
       "      <th>flt_arrival_gmt</th>\n",
       "      <th>departure_yr</th>\n",
       "      <th>departure_mo</th>\n",
       "      <th>departure_dt</th>\n",
       "      <th>yr</th>\n",
       "      <th>mo</th>\n",
       "      <th>dt</th>\n",
       "      <th>scaled_demand</th>\n",
       "      <th>scaled_share</th>\n",
       "      <th>flight_travel_duration</th>\n",
       "    </tr>\n",
       "  </thead>\n",
       "  <tbody>\n",
       "    <tr>\n",
       "      <td>1492090</td>\n",
       "      <td>Airport43</td>\n",
       "      <td>Airport4</td>\n",
       "      <td>L2</td>\n",
       "      <td>7092</td>\n",
       "      <td>2018-12-16</td>\n",
       "      <td>2018-12-04</td>\n",
       "      <td>844</td>\n",
       "      <td>City39</td>\n",
       "      <td>City4</td>\n",
       "      <td>2018-12-16 20:25:00</td>\n",
       "      <td>2018-12-16 23:11:00</td>\n",
       "      <td>2018-12-17 02:25:00</td>\n",
       "      <td>2018-12-17 05:11:00</td>\n",
       "      <td>2018</td>\n",
       "      <td>12</td>\n",
       "      <td>16</td>\n",
       "      <td>2018</td>\n",
       "      <td>12</td>\n",
       "      <td>4</td>\n",
       "      <td>1618</td>\n",
       "      <td>306</td>\n",
       "      <td>2.766667</td>\n",
       "    </tr>\n",
       "    <tr>\n",
       "      <td>1492091</td>\n",
       "      <td>Airport43</td>\n",
       "      <td>Airport4</td>\n",
       "      <td>L2</td>\n",
       "      <td>7092</td>\n",
       "      <td>2018-12-16</td>\n",
       "      <td>2018-12-08</td>\n",
       "      <td>1202</td>\n",
       "      <td>City39</td>\n",
       "      <td>City4</td>\n",
       "      <td>2018-12-16 20:25:00</td>\n",
       "      <td>2018-12-16 23:11:00</td>\n",
       "      <td>2018-12-17 02:25:00</td>\n",
       "      <td>2018-12-17 05:11:00</td>\n",
       "      <td>2018</td>\n",
       "      <td>12</td>\n",
       "      <td>16</td>\n",
       "      <td>2018</td>\n",
       "      <td>12</td>\n",
       "      <td>8</td>\n",
       "      <td>1618</td>\n",
       "      <td>306</td>\n",
       "      <td>2.766667</td>\n",
       "    </tr>\n",
       "    <tr>\n",
       "      <td>1492092</td>\n",
       "      <td>Airport43</td>\n",
       "      <td>Airport4</td>\n",
       "      <td>L2</td>\n",
       "      <td>7092</td>\n",
       "      <td>2018-12-16</td>\n",
       "      <td>2018-12-06</td>\n",
       "      <td>844</td>\n",
       "      <td>City39</td>\n",
       "      <td>City4</td>\n",
       "      <td>2018-12-16 20:25:00</td>\n",
       "      <td>2018-12-16 23:11:00</td>\n",
       "      <td>2018-12-17 02:25:00</td>\n",
       "      <td>2018-12-17 05:11:00</td>\n",
       "      <td>2018</td>\n",
       "      <td>12</td>\n",
       "      <td>16</td>\n",
       "      <td>2018</td>\n",
       "      <td>12</td>\n",
       "      <td>6</td>\n",
       "      <td>1618</td>\n",
       "      <td>306</td>\n",
       "      <td>2.766667</td>\n",
       "    </tr>\n",
       "    <tr>\n",
       "      <td>1492093</td>\n",
       "      <td>Airport43</td>\n",
       "      <td>Airport4</td>\n",
       "      <td>L2</td>\n",
       "      <td>7092</td>\n",
       "      <td>2018-12-16</td>\n",
       "      <td>2018-12-05</td>\n",
       "      <td>844</td>\n",
       "      <td>City39</td>\n",
       "      <td>City4</td>\n",
       "      <td>2018-12-16 20:25:00</td>\n",
       "      <td>2018-12-16 23:11:00</td>\n",
       "      <td>2018-12-17 02:25:00</td>\n",
       "      <td>2018-12-17 05:11:00</td>\n",
       "      <td>2018</td>\n",
       "      <td>12</td>\n",
       "      <td>16</td>\n",
       "      <td>2018</td>\n",
       "      <td>12</td>\n",
       "      <td>5</td>\n",
       "      <td>1618</td>\n",
       "      <td>306</td>\n",
       "      <td>2.766667</td>\n",
       "    </tr>\n",
       "    <tr>\n",
       "      <td>1492094</td>\n",
       "      <td>Airport43</td>\n",
       "      <td>Airport4</td>\n",
       "      <td>L2</td>\n",
       "      <td>7092</td>\n",
       "      <td>2018-12-16</td>\n",
       "      <td>2018-12-07</td>\n",
       "      <td>1202</td>\n",
       "      <td>City39</td>\n",
       "      <td>City4</td>\n",
       "      <td>2018-12-16 20:25:00</td>\n",
       "      <td>2018-12-16 23:11:00</td>\n",
       "      <td>2018-12-17 02:25:00</td>\n",
       "      <td>2018-12-17 05:11:00</td>\n",
       "      <td>2018</td>\n",
       "      <td>12</td>\n",
       "      <td>16</td>\n",
       "      <td>2018</td>\n",
       "      <td>12</td>\n",
       "      <td>7</td>\n",
       "      <td>1618</td>\n",
       "      <td>306</td>\n",
       "      <td>2.766667</td>\n",
       "    </tr>\n",
       "  </tbody>\n",
       "</table>\n",
       "</div>"
      ],
      "text/plain": [
       "            origin destination carrier  flt_num flt_departure_dt observation_date  total_fare origin_city destination_city flt_departure_local_time flt_arrival_local_time   flt_departure_gmt     flt_arrival_gmt  departure_yr  departure_mo  departure_dt    yr  mo  dt  scaled_demand  scaled_share  flight_travel_duration\n",
       "1492090  Airport43    Airport4      L2     7092       2018-12-16       2018-12-04         844      City39            City4      2018-12-16 20:25:00    2018-12-16 23:11:00 2018-12-17 02:25:00 2018-12-17 05:11:00          2018            12            16  2018  12   4           1618           306                2.766667\n",
       "1492091  Airport43    Airport4      L2     7092       2018-12-16       2018-12-08        1202      City39            City4      2018-12-16 20:25:00    2018-12-16 23:11:00 2018-12-17 02:25:00 2018-12-17 05:11:00          2018            12            16  2018  12   8           1618           306                2.766667\n",
       "1492092  Airport43    Airport4      L2     7092       2018-12-16       2018-12-06         844      City39            City4      2018-12-16 20:25:00    2018-12-16 23:11:00 2018-12-17 02:25:00 2018-12-17 05:11:00          2018            12            16  2018  12   6           1618           306                2.766667\n",
       "1492093  Airport43    Airport4      L2     7092       2018-12-16       2018-12-05         844      City39            City4      2018-12-16 20:25:00    2018-12-16 23:11:00 2018-12-17 02:25:00 2018-12-17 05:11:00          2018            12            16  2018  12   5           1618           306                2.766667\n",
       "1492094  Airport43    Airport4      L2     7092       2018-12-16       2018-12-07        1202      City39            City4      2018-12-16 20:25:00    2018-12-16 23:11:00 2018-12-17 02:25:00 2018-12-17 05:11:00          2018            12            16  2018  12   7           1618           306                2.766667"
      ]
     },
     "execution_count": 33,
     "metadata": {},
     "output_type": "execute_result"
    }
   ],
   "source": [
    "train_df.tail()"
   ]
  },
  {
   "cell_type": "code",
   "execution_count": 34,
   "metadata": {},
   "outputs": [
    {
     "data": {
      "text/plain": [
       "22"
      ]
     },
     "execution_count": 34,
     "metadata": {},
     "output_type": "execute_result"
    }
   ],
   "source": [
    "len(train_df.columns)"
   ]
  },
  {
   "cell_type": "code",
   "execution_count": 35,
   "metadata": {},
   "outputs": [],
   "source": [
    "train_df['flt_departure_dayofyear'] = train_df.flt_departure_dt.dt.dayofyear\n",
    "train_df['flt_departure_weekday'] = train_df.flt_departure_dt.dt.weekday\n",
    "train_df['flt_departure_week'] = train_df.flt_departure_dt.dt.week\n",
    "train_df['flt_departure_quarter'] = train_df.flt_departure_dt.dt.quarter\n",
    "\n",
    "train_df['observation_date_dayofyear'] = train_df.observation_date.dt.dayofyear\n",
    "train_df['observation_date_weekday'] = train_df.observation_date.dt.weekday\n",
    "train_df['observation_date_quarter'] = train_df.observation_date.dt.quarter\n",
    "train_df['observation_date_week'] = train_df.observation_date.dt.week"
   ]
  },
  {
   "cell_type": "code",
   "execution_count": 36,
   "metadata": {},
   "outputs": [],
   "source": [
    "test_df['flt_departure_dayofyear'] = test_df.flt_departure_dt.dt.dayofyear\n",
    "test_df['flt_departure_weekday'] = test_df.flt_departure_dt.dt.weekday\n",
    "test_df['flt_departure_week'] = test_df.flt_departure_dt.dt.week\n",
    "test_df['flt_departure_quarter'] = test_df.flt_departure_dt.dt.quarter\n",
    "\n",
    "test_df['observation_date_dayofyear'] = test_df.observation_date.dt.dayofyear\n",
    "test_df['observation_date_weekday'] = test_df.observation_date.dt.weekday\n",
    "test_df['observation_date_week'] = test_df.observation_date.dt.week\n",
    "test_df['observation_date_quarter'] = test_df.observation_date.dt.quarter"
   ]
  },
  {
   "cell_type": "code",
   "execution_count": 37,
   "metadata": {},
   "outputs": [],
   "source": [
    "def get_part_of_day(hour):\n",
    "    return (\n",
    "    \"morning\" if 5 <= hour <= 11\n",
    "    else\n",
    "    \"afternoon\" if 12 <= hour <= 17\n",
    "    else\n",
    "    \"evening\" if 18 <= hour <= 22\n",
    "    else\n",
    "    \"night\"\n",
    "        )"
   ]
  },
  {
   "cell_type": "code",
   "execution_count": 38,
   "metadata": {},
   "outputs": [],
   "source": [
    "train_df['_flt_departure_local_time'] = train_df.flt_departure_local_time.apply(lambda x: get_part_of_day(x.hour))\n",
    "train_df['_flt_arrival_local_time'] = train_df.flt_arrival_local_time.apply(lambda x: get_part_of_day(x.hour))\n",
    "train_df['_flt_departure_gmt'] = train_df.flt_departure_gmt.apply(lambda x: get_part_of_day(x.hour))\n",
    "train_df['_flt_arrival_gmt'] = train_df.flt_arrival_gmt.apply(lambda x: get_part_of_day(x.hour))"
   ]
  },
  {
   "cell_type": "code",
   "execution_count": 39,
   "metadata": {},
   "outputs": [],
   "source": [
    "# test dataset\n",
    "\n",
    "test_df['_flt_departure_local_time'] = test_df.flt_departure_local_time.apply(lambda x: get_part_of_day(x.hour))\n",
    "test_df['_flt_arrival_local_time'] = test_df.flt_arrival_local_time.apply(lambda x: get_part_of_day(x.hour))\n",
    "test_df['_flt_departure_gmt'] = test_df.flt_departure_gmt.apply(lambda x: get_part_of_day(x.hour))\n",
    "test_df['_flt_arrival_gmt'] = test_df.flt_arrival_gmt.apply(lambda x: get_part_of_day(x.hour))"
   ]
  },
  {
   "cell_type": "code",
   "execution_count": 40,
   "metadata": {},
   "outputs": [],
   "source": [
    "cols_to_drop = ['flt_departure_dt','observation_date','flt_departure_local_time','flt_arrival_local_time',\n",
    "                'flt_departure_gmt','flt_arrival_gmt']"
   ]
  },
  {
   "cell_type": "code",
   "execution_count": 41,
   "metadata": {},
   "outputs": [
    {
     "data": {
      "text/plain": [
       "[None, None, None, None, None, None]"
      ]
     },
     "execution_count": 41,
     "metadata": {},
     "output_type": "execute_result"
    }
   ],
   "source": [
    "[train_df.drop(col,1,inplace=True) for col in cols_to_drop]"
   ]
  },
  {
   "cell_type": "code",
   "execution_count": 42,
   "metadata": {},
   "outputs": [
    {
     "data": {
      "text/plain": [
       "[None, None, None, None, None, None]"
      ]
     },
     "execution_count": 42,
     "metadata": {},
     "output_type": "execute_result"
    }
   ],
   "source": [
    "[test_df.drop(col,1,inplace=True) for col in cols_to_drop]"
   ]
  },
  {
   "cell_type": "code",
   "execution_count": 43,
   "metadata": {},
   "outputs": [
    {
     "data": {
      "text/html": [
       "<div>\n",
       "<style scoped>\n",
       "    .dataframe tbody tr th:only-of-type {\n",
       "        vertical-align: middle;\n",
       "    }\n",
       "\n",
       "    .dataframe tbody tr th {\n",
       "        vertical-align: top;\n",
       "    }\n",
       "\n",
       "    .dataframe thead th {\n",
       "        text-align: right;\n",
       "    }\n",
       "</style>\n",
       "<table border=\"1\" class=\"dataframe\">\n",
       "  <thead>\n",
       "    <tr style=\"text-align: right;\">\n",
       "      <th></th>\n",
       "      <th>origin</th>\n",
       "      <th>destination</th>\n",
       "      <th>carrier</th>\n",
       "      <th>flt_num</th>\n",
       "      <th>total_fare</th>\n",
       "      <th>origin_city</th>\n",
       "      <th>destination_city</th>\n",
       "      <th>departure_yr</th>\n",
       "      <th>departure_mo</th>\n",
       "      <th>departure_dt</th>\n",
       "      <th>yr</th>\n",
       "      <th>mo</th>\n",
       "      <th>dt</th>\n",
       "      <th>scaled_demand</th>\n",
       "      <th>scaled_share</th>\n",
       "      <th>flight_travel_duration</th>\n",
       "      <th>flt_departure_dayofyear</th>\n",
       "      <th>flt_departure_weekday</th>\n",
       "      <th>flt_departure_week</th>\n",
       "      <th>flt_departure_quarter</th>\n",
       "      <th>observation_date_dayofyear</th>\n",
       "      <th>observation_date_weekday</th>\n",
       "      <th>observation_date_quarter</th>\n",
       "      <th>observation_date_week</th>\n",
       "      <th>_flt_departure_local_time</th>\n",
       "      <th>_flt_arrival_local_time</th>\n",
       "      <th>_flt_departure_gmt</th>\n",
       "      <th>_flt_arrival_gmt</th>\n",
       "    </tr>\n",
       "  </thead>\n",
       "  <tbody>\n",
       "    <tr>\n",
       "      <td>0</td>\n",
       "      <td>Airport4</td>\n",
       "      <td>Airport43</td>\n",
       "      <td>L1</td>\n",
       "      <td>5911</td>\n",
       "      <td>538</td>\n",
       "      <td>City4</td>\n",
       "      <td>City39</td>\n",
       "      <td>2018</td>\n",
       "      <td>1</td>\n",
       "      <td>3</td>\n",
       "      <td>2017</td>\n",
       "      <td>12</td>\n",
       "      <td>12</td>\n",
       "      <td>1649</td>\n",
       "      <td>322</td>\n",
       "      <td>2.616667</td>\n",
       "      <td>3</td>\n",
       "      <td>2</td>\n",
       "      <td>1</td>\n",
       "      <td>1</td>\n",
       "      <td>346</td>\n",
       "      <td>1</td>\n",
       "      <td>4</td>\n",
       "      <td>50</td>\n",
       "      <td>afternoon</td>\n",
       "      <td>evening</td>\n",
       "      <td>night</td>\n",
       "      <td>night</td>\n",
       "    </tr>\n",
       "    <tr>\n",
       "      <td>1</td>\n",
       "      <td>Airport4</td>\n",
       "      <td>Airport43</td>\n",
       "      <td>L1</td>\n",
       "      <td>5911</td>\n",
       "      <td>651</td>\n",
       "      <td>City4</td>\n",
       "      <td>City39</td>\n",
       "      <td>2018</td>\n",
       "      <td>1</td>\n",
       "      <td>3</td>\n",
       "      <td>2017</td>\n",
       "      <td>12</td>\n",
       "      <td>23</td>\n",
       "      <td>1649</td>\n",
       "      <td>322</td>\n",
       "      <td>2.616667</td>\n",
       "      <td>3</td>\n",
       "      <td>2</td>\n",
       "      <td>1</td>\n",
       "      <td>1</td>\n",
       "      <td>357</td>\n",
       "      <td>5</td>\n",
       "      <td>4</td>\n",
       "      <td>51</td>\n",
       "      <td>afternoon</td>\n",
       "      <td>evening</td>\n",
       "      <td>night</td>\n",
       "      <td>night</td>\n",
       "    </tr>\n",
       "    <tr>\n",
       "      <td>2</td>\n",
       "      <td>Airport4</td>\n",
       "      <td>Airport43</td>\n",
       "      <td>L1</td>\n",
       "      <td>5911</td>\n",
       "      <td>538</td>\n",
       "      <td>City4</td>\n",
       "      <td>City39</td>\n",
       "      <td>2018</td>\n",
       "      <td>1</td>\n",
       "      <td>3</td>\n",
       "      <td>2017</td>\n",
       "      <td>12</td>\n",
       "      <td>2</td>\n",
       "      <td>1649</td>\n",
       "      <td>322</td>\n",
       "      <td>2.616667</td>\n",
       "      <td>3</td>\n",
       "      <td>2</td>\n",
       "      <td>1</td>\n",
       "      <td>1</td>\n",
       "      <td>336</td>\n",
       "      <td>5</td>\n",
       "      <td>4</td>\n",
       "      <td>48</td>\n",
       "      <td>afternoon</td>\n",
       "      <td>evening</td>\n",
       "      <td>night</td>\n",
       "      <td>night</td>\n",
       "    </tr>\n",
       "    <tr>\n",
       "      <td>3</td>\n",
       "      <td>Airport4</td>\n",
       "      <td>Airport43</td>\n",
       "      <td>L1</td>\n",
       "      <td>5911</td>\n",
       "      <td>538</td>\n",
       "      <td>City4</td>\n",
       "      <td>City39</td>\n",
       "      <td>2018</td>\n",
       "      <td>1</td>\n",
       "      <td>3</td>\n",
       "      <td>2017</td>\n",
       "      <td>12</td>\n",
       "      <td>6</td>\n",
       "      <td>1649</td>\n",
       "      <td>322</td>\n",
       "      <td>2.616667</td>\n",
       "      <td>3</td>\n",
       "      <td>2</td>\n",
       "      <td>1</td>\n",
       "      <td>1</td>\n",
       "      <td>340</td>\n",
       "      <td>2</td>\n",
       "      <td>4</td>\n",
       "      <td>49</td>\n",
       "      <td>afternoon</td>\n",
       "      <td>evening</td>\n",
       "      <td>night</td>\n",
       "      <td>night</td>\n",
       "    </tr>\n",
       "    <tr>\n",
       "      <td>4</td>\n",
       "      <td>Airport4</td>\n",
       "      <td>Airport43</td>\n",
       "      <td>L1</td>\n",
       "      <td>5911</td>\n",
       "      <td>538</td>\n",
       "      <td>City4</td>\n",
       "      <td>City39</td>\n",
       "      <td>2018</td>\n",
       "      <td>1</td>\n",
       "      <td>3</td>\n",
       "      <td>2017</td>\n",
       "      <td>12</td>\n",
       "      <td>3</td>\n",
       "      <td>1649</td>\n",
       "      <td>322</td>\n",
       "      <td>2.616667</td>\n",
       "      <td>3</td>\n",
       "      <td>2</td>\n",
       "      <td>1</td>\n",
       "      <td>1</td>\n",
       "      <td>337</td>\n",
       "      <td>6</td>\n",
       "      <td>4</td>\n",
       "      <td>48</td>\n",
       "      <td>afternoon</td>\n",
       "      <td>evening</td>\n",
       "      <td>night</td>\n",
       "      <td>night</td>\n",
       "    </tr>\n",
       "  </tbody>\n",
       "</table>\n",
       "</div>"
      ],
      "text/plain": [
       "     origin destination carrier  flt_num  total_fare origin_city destination_city  departure_yr  departure_mo  departure_dt    yr  mo  dt  scaled_demand  scaled_share  flight_travel_duration  flt_departure_dayofyear  flt_departure_weekday  flt_departure_week  flt_departure_quarter  observation_date_dayofyear  observation_date_weekday  observation_date_quarter  observation_date_week _flt_departure_local_time _flt_arrival_local_time _flt_departure_gmt _flt_arrival_gmt\n",
       "0  Airport4   Airport43      L1     5911         538       City4           City39          2018             1             3  2017  12  12           1649           322                2.616667                        3                      2                   1                      1                         346                         1                         4                     50                 afternoon                 evening              night            night\n",
       "1  Airport4   Airport43      L1     5911         651       City4           City39          2018             1             3  2017  12  23           1649           322                2.616667                        3                      2                   1                      1                         357                         5                         4                     51                 afternoon                 evening              night            night\n",
       "2  Airport4   Airport43      L1     5911         538       City4           City39          2018             1             3  2017  12   2           1649           322                2.616667                        3                      2                   1                      1                         336                         5                         4                     48                 afternoon                 evening              night            night\n",
       "3  Airport4   Airport43      L1     5911         538       City4           City39          2018             1             3  2017  12   6           1649           322                2.616667                        3                      2                   1                      1                         340                         2                         4                     49                 afternoon                 evening              night            night\n",
       "4  Airport4   Airport43      L1     5911         538       City4           City39          2018             1             3  2017  12   3           1649           322                2.616667                        3                      2                   1                      1                         337                         6                         4                     48                 afternoon                 evening              night            night"
      ]
     },
     "execution_count": 43,
     "metadata": {},
     "output_type": "execute_result"
    }
   ],
   "source": [
    "train_df.head()"
   ]
  },
  {
   "cell_type": "code",
   "execution_count": 44,
   "metadata": {},
   "outputs": [],
   "source": [
    "target = train_df['total_fare']\n",
    "train_df.drop('total_fare',1,inplace=True)"
   ]
  },
  {
   "cell_type": "code",
   "execution_count": 45,
   "metadata": {},
   "outputs": [],
   "source": [
    "X = pd.get_dummies(train_df, prefix_sep='_', drop_first=True)"
   ]
  },
  {
   "cell_type": "code",
   "execution_count": 46,
   "metadata": {},
   "outputs": [
    {
     "data": {
      "text/html": [
       "<div>\n",
       "<style scoped>\n",
       "    .dataframe tbody tr th:only-of-type {\n",
       "        vertical-align: middle;\n",
       "    }\n",
       "\n",
       "    .dataframe tbody tr th {\n",
       "        vertical-align: top;\n",
       "    }\n",
       "\n",
       "    .dataframe thead th {\n",
       "        text-align: right;\n",
       "    }\n",
       "</style>\n",
       "<table border=\"1\" class=\"dataframe\">\n",
       "  <thead>\n",
       "    <tr style=\"text-align: right;\">\n",
       "      <th></th>\n",
       "      <th>flt_num</th>\n",
       "      <th>departure_yr</th>\n",
       "      <th>departure_mo</th>\n",
       "      <th>departure_dt</th>\n",
       "      <th>yr</th>\n",
       "      <th>mo</th>\n",
       "      <th>dt</th>\n",
       "      <th>scaled_demand</th>\n",
       "      <th>scaled_share</th>\n",
       "      <th>flight_travel_duration</th>\n",
       "      <th>flt_departure_dayofyear</th>\n",
       "      <th>flt_departure_weekday</th>\n",
       "      <th>flt_departure_week</th>\n",
       "      <th>flt_departure_quarter</th>\n",
       "      <th>observation_date_dayofyear</th>\n",
       "      <th>observation_date_weekday</th>\n",
       "      <th>observation_date_quarter</th>\n",
       "      <th>observation_date_week</th>\n",
       "      <th>origin_Airport20</th>\n",
       "      <th>origin_Airport26</th>\n",
       "      <th>origin_Airport30</th>\n",
       "      <th>origin_Airport31</th>\n",
       "      <th>origin_Airport4</th>\n",
       "      <th>origin_Airport43</th>\n",
       "      <th>origin_Airport60</th>\n",
       "      <th>destination_Airport20</th>\n",
       "      <th>destination_Airport26</th>\n",
       "      <th>destination_Airport30</th>\n",
       "      <th>destination_Airport31</th>\n",
       "      <th>destination_Airport4</th>\n",
       "      <th>destination_Airport43</th>\n",
       "      <th>destination_Airport60</th>\n",
       "      <th>carrier_L2</th>\n",
       "      <th>carrier_L3</th>\n",
       "      <th>origin_city_City19</th>\n",
       "      <th>origin_city_City24</th>\n",
       "      <th>origin_city_City27</th>\n",
       "      <th>origin_city_City28</th>\n",
       "      <th>origin_city_City39</th>\n",
       "      <th>origin_city_City4</th>\n",
       "      <th>origin_city_City56</th>\n",
       "      <th>destination_city_City19</th>\n",
       "      <th>destination_city_City24</th>\n",
       "      <th>destination_city_City27</th>\n",
       "      <th>destination_city_City28</th>\n",
       "      <th>destination_city_City39</th>\n",
       "      <th>destination_city_City4</th>\n",
       "      <th>destination_city_City56</th>\n",
       "      <th>_flt_departure_local_time_evening</th>\n",
       "      <th>_flt_departure_local_time_morning</th>\n",
       "      <th>_flt_departure_local_time_night</th>\n",
       "      <th>_flt_arrival_local_time_evening</th>\n",
       "      <th>_flt_arrival_local_time_morning</th>\n",
       "      <th>_flt_arrival_local_time_night</th>\n",
       "      <th>_flt_departure_gmt_evening</th>\n",
       "      <th>_flt_departure_gmt_morning</th>\n",
       "      <th>_flt_departure_gmt_night</th>\n",
       "      <th>_flt_arrival_gmt_evening</th>\n",
       "      <th>_flt_arrival_gmt_morning</th>\n",
       "      <th>_flt_arrival_gmt_night</th>\n",
       "    </tr>\n",
       "  </thead>\n",
       "  <tbody>\n",
       "    <tr>\n",
       "      <td>0</td>\n",
       "      <td>5911</td>\n",
       "      <td>2018</td>\n",
       "      <td>1</td>\n",
       "      <td>3</td>\n",
       "      <td>2017</td>\n",
       "      <td>12</td>\n",
       "      <td>12</td>\n",
       "      <td>1649</td>\n",
       "      <td>322</td>\n",
       "      <td>2.616667</td>\n",
       "      <td>3</td>\n",
       "      <td>2</td>\n",
       "      <td>1</td>\n",
       "      <td>1</td>\n",
       "      <td>346</td>\n",
       "      <td>1</td>\n",
       "      <td>4</td>\n",
       "      <td>50</td>\n",
       "      <td>0</td>\n",
       "      <td>0</td>\n",
       "      <td>0</td>\n",
       "      <td>0</td>\n",
       "      <td>1</td>\n",
       "      <td>0</td>\n",
       "      <td>0</td>\n",
       "      <td>0</td>\n",
       "      <td>0</td>\n",
       "      <td>0</td>\n",
       "      <td>0</td>\n",
       "      <td>0</td>\n",
       "      <td>1</td>\n",
       "      <td>0</td>\n",
       "      <td>0</td>\n",
       "      <td>0</td>\n",
       "      <td>0</td>\n",
       "      <td>0</td>\n",
       "      <td>0</td>\n",
       "      <td>0</td>\n",
       "      <td>0</td>\n",
       "      <td>1</td>\n",
       "      <td>0</td>\n",
       "      <td>0</td>\n",
       "      <td>0</td>\n",
       "      <td>0</td>\n",
       "      <td>0</td>\n",
       "      <td>1</td>\n",
       "      <td>0</td>\n",
       "      <td>0</td>\n",
       "      <td>0</td>\n",
       "      <td>0</td>\n",
       "      <td>0</td>\n",
       "      <td>1</td>\n",
       "      <td>0</td>\n",
       "      <td>0</td>\n",
       "      <td>0</td>\n",
       "      <td>0</td>\n",
       "      <td>1</td>\n",
       "      <td>0</td>\n",
       "      <td>0</td>\n",
       "      <td>1</td>\n",
       "    </tr>\n",
       "    <tr>\n",
       "      <td>1</td>\n",
       "      <td>5911</td>\n",
       "      <td>2018</td>\n",
       "      <td>1</td>\n",
       "      <td>3</td>\n",
       "      <td>2017</td>\n",
       "      <td>12</td>\n",
       "      <td>23</td>\n",
       "      <td>1649</td>\n",
       "      <td>322</td>\n",
       "      <td>2.616667</td>\n",
       "      <td>3</td>\n",
       "      <td>2</td>\n",
       "      <td>1</td>\n",
       "      <td>1</td>\n",
       "      <td>357</td>\n",
       "      <td>5</td>\n",
       "      <td>4</td>\n",
       "      <td>51</td>\n",
       "      <td>0</td>\n",
       "      <td>0</td>\n",
       "      <td>0</td>\n",
       "      <td>0</td>\n",
       "      <td>1</td>\n",
       "      <td>0</td>\n",
       "      <td>0</td>\n",
       "      <td>0</td>\n",
       "      <td>0</td>\n",
       "      <td>0</td>\n",
       "      <td>0</td>\n",
       "      <td>0</td>\n",
       "      <td>1</td>\n",
       "      <td>0</td>\n",
       "      <td>0</td>\n",
       "      <td>0</td>\n",
       "      <td>0</td>\n",
       "      <td>0</td>\n",
       "      <td>0</td>\n",
       "      <td>0</td>\n",
       "      <td>0</td>\n",
       "      <td>1</td>\n",
       "      <td>0</td>\n",
       "      <td>0</td>\n",
       "      <td>0</td>\n",
       "      <td>0</td>\n",
       "      <td>0</td>\n",
       "      <td>1</td>\n",
       "      <td>0</td>\n",
       "      <td>0</td>\n",
       "      <td>0</td>\n",
       "      <td>0</td>\n",
       "      <td>0</td>\n",
       "      <td>1</td>\n",
       "      <td>0</td>\n",
       "      <td>0</td>\n",
       "      <td>0</td>\n",
       "      <td>0</td>\n",
       "      <td>1</td>\n",
       "      <td>0</td>\n",
       "      <td>0</td>\n",
       "      <td>1</td>\n",
       "    </tr>\n",
       "    <tr>\n",
       "      <td>2</td>\n",
       "      <td>5911</td>\n",
       "      <td>2018</td>\n",
       "      <td>1</td>\n",
       "      <td>3</td>\n",
       "      <td>2017</td>\n",
       "      <td>12</td>\n",
       "      <td>2</td>\n",
       "      <td>1649</td>\n",
       "      <td>322</td>\n",
       "      <td>2.616667</td>\n",
       "      <td>3</td>\n",
       "      <td>2</td>\n",
       "      <td>1</td>\n",
       "      <td>1</td>\n",
       "      <td>336</td>\n",
       "      <td>5</td>\n",
       "      <td>4</td>\n",
       "      <td>48</td>\n",
       "      <td>0</td>\n",
       "      <td>0</td>\n",
       "      <td>0</td>\n",
       "      <td>0</td>\n",
       "      <td>1</td>\n",
       "      <td>0</td>\n",
       "      <td>0</td>\n",
       "      <td>0</td>\n",
       "      <td>0</td>\n",
       "      <td>0</td>\n",
       "      <td>0</td>\n",
       "      <td>0</td>\n",
       "      <td>1</td>\n",
       "      <td>0</td>\n",
       "      <td>0</td>\n",
       "      <td>0</td>\n",
       "      <td>0</td>\n",
       "      <td>0</td>\n",
       "      <td>0</td>\n",
       "      <td>0</td>\n",
       "      <td>0</td>\n",
       "      <td>1</td>\n",
       "      <td>0</td>\n",
       "      <td>0</td>\n",
       "      <td>0</td>\n",
       "      <td>0</td>\n",
       "      <td>0</td>\n",
       "      <td>1</td>\n",
       "      <td>0</td>\n",
       "      <td>0</td>\n",
       "      <td>0</td>\n",
       "      <td>0</td>\n",
       "      <td>0</td>\n",
       "      <td>1</td>\n",
       "      <td>0</td>\n",
       "      <td>0</td>\n",
       "      <td>0</td>\n",
       "      <td>0</td>\n",
       "      <td>1</td>\n",
       "      <td>0</td>\n",
       "      <td>0</td>\n",
       "      <td>1</td>\n",
       "    </tr>\n",
       "    <tr>\n",
       "      <td>3</td>\n",
       "      <td>5911</td>\n",
       "      <td>2018</td>\n",
       "      <td>1</td>\n",
       "      <td>3</td>\n",
       "      <td>2017</td>\n",
       "      <td>12</td>\n",
       "      <td>6</td>\n",
       "      <td>1649</td>\n",
       "      <td>322</td>\n",
       "      <td>2.616667</td>\n",
       "      <td>3</td>\n",
       "      <td>2</td>\n",
       "      <td>1</td>\n",
       "      <td>1</td>\n",
       "      <td>340</td>\n",
       "      <td>2</td>\n",
       "      <td>4</td>\n",
       "      <td>49</td>\n",
       "      <td>0</td>\n",
       "      <td>0</td>\n",
       "      <td>0</td>\n",
       "      <td>0</td>\n",
       "      <td>1</td>\n",
       "      <td>0</td>\n",
       "      <td>0</td>\n",
       "      <td>0</td>\n",
       "      <td>0</td>\n",
       "      <td>0</td>\n",
       "      <td>0</td>\n",
       "      <td>0</td>\n",
       "      <td>1</td>\n",
       "      <td>0</td>\n",
       "      <td>0</td>\n",
       "      <td>0</td>\n",
       "      <td>0</td>\n",
       "      <td>0</td>\n",
       "      <td>0</td>\n",
       "      <td>0</td>\n",
       "      <td>0</td>\n",
       "      <td>1</td>\n",
       "      <td>0</td>\n",
       "      <td>0</td>\n",
       "      <td>0</td>\n",
       "      <td>0</td>\n",
       "      <td>0</td>\n",
       "      <td>1</td>\n",
       "      <td>0</td>\n",
       "      <td>0</td>\n",
       "      <td>0</td>\n",
       "      <td>0</td>\n",
       "      <td>0</td>\n",
       "      <td>1</td>\n",
       "      <td>0</td>\n",
       "      <td>0</td>\n",
       "      <td>0</td>\n",
       "      <td>0</td>\n",
       "      <td>1</td>\n",
       "      <td>0</td>\n",
       "      <td>0</td>\n",
       "      <td>1</td>\n",
       "    </tr>\n",
       "    <tr>\n",
       "      <td>4</td>\n",
       "      <td>5911</td>\n",
       "      <td>2018</td>\n",
       "      <td>1</td>\n",
       "      <td>3</td>\n",
       "      <td>2017</td>\n",
       "      <td>12</td>\n",
       "      <td>3</td>\n",
       "      <td>1649</td>\n",
       "      <td>322</td>\n",
       "      <td>2.616667</td>\n",
       "      <td>3</td>\n",
       "      <td>2</td>\n",
       "      <td>1</td>\n",
       "      <td>1</td>\n",
       "      <td>337</td>\n",
       "      <td>6</td>\n",
       "      <td>4</td>\n",
       "      <td>48</td>\n",
       "      <td>0</td>\n",
       "      <td>0</td>\n",
       "      <td>0</td>\n",
       "      <td>0</td>\n",
       "      <td>1</td>\n",
       "      <td>0</td>\n",
       "      <td>0</td>\n",
       "      <td>0</td>\n",
       "      <td>0</td>\n",
       "      <td>0</td>\n",
       "      <td>0</td>\n",
       "      <td>0</td>\n",
       "      <td>1</td>\n",
       "      <td>0</td>\n",
       "      <td>0</td>\n",
       "      <td>0</td>\n",
       "      <td>0</td>\n",
       "      <td>0</td>\n",
       "      <td>0</td>\n",
       "      <td>0</td>\n",
       "      <td>0</td>\n",
       "      <td>1</td>\n",
       "      <td>0</td>\n",
       "      <td>0</td>\n",
       "      <td>0</td>\n",
       "      <td>0</td>\n",
       "      <td>0</td>\n",
       "      <td>1</td>\n",
       "      <td>0</td>\n",
       "      <td>0</td>\n",
       "      <td>0</td>\n",
       "      <td>0</td>\n",
       "      <td>0</td>\n",
       "      <td>1</td>\n",
       "      <td>0</td>\n",
       "      <td>0</td>\n",
       "      <td>0</td>\n",
       "      <td>0</td>\n",
       "      <td>1</td>\n",
       "      <td>0</td>\n",
       "      <td>0</td>\n",
       "      <td>1</td>\n",
       "    </tr>\n",
       "  </tbody>\n",
       "</table>\n",
       "</div>"
      ],
      "text/plain": [
       "   flt_num  departure_yr  departure_mo  departure_dt    yr  mo  dt  scaled_demand  scaled_share  flight_travel_duration  flt_departure_dayofyear  flt_departure_weekday  flt_departure_week  flt_departure_quarter  observation_date_dayofyear  observation_date_weekday  observation_date_quarter  observation_date_week  origin_Airport20  origin_Airport26  origin_Airport30  origin_Airport31  origin_Airport4  origin_Airport43  origin_Airport60  destination_Airport20  destination_Airport26  destination_Airport30  destination_Airport31  destination_Airport4  destination_Airport43  destination_Airport60  carrier_L2  carrier_L3  origin_city_City19  origin_city_City24  origin_city_City27  origin_city_City28  origin_city_City39  origin_city_City4  origin_city_City56  destination_city_City19  destination_city_City24  destination_city_City27  destination_city_City28  destination_city_City39  destination_city_City4  destination_city_City56  _flt_departure_local_time_evening  \\\n",
       "0     5911          2018             1             3  2017  12  12           1649           322                2.616667                        3                      2                   1                      1                         346                         1                         4                     50                 0                 0                 0                 0                1                 0                 0                      0                      0                      0                      0                     0                      1                      0           0           0                   0                   0                   0                   0                   0                  1                   0                        0                        0                        0                        0                        1                       0                        0                                  0   \n",
       "1     5911          2018             1             3  2017  12  23           1649           322                2.616667                        3                      2                   1                      1                         357                         5                         4                     51                 0                 0                 0                 0                1                 0                 0                      0                      0                      0                      0                     0                      1                      0           0           0                   0                   0                   0                   0                   0                  1                   0                        0                        0                        0                        0                        1                       0                        0                                  0   \n",
       "2     5911          2018             1             3  2017  12   2           1649           322                2.616667                        3                      2                   1                      1                         336                         5                         4                     48                 0                 0                 0                 0                1                 0                 0                      0                      0                      0                      0                     0                      1                      0           0           0                   0                   0                   0                   0                   0                  1                   0                        0                        0                        0                        0                        1                       0                        0                                  0   \n",
       "3     5911          2018             1             3  2017  12   6           1649           322                2.616667                        3                      2                   1                      1                         340                         2                         4                     49                 0                 0                 0                 0                1                 0                 0                      0                      0                      0                      0                     0                      1                      0           0           0                   0                   0                   0                   0                   0                  1                   0                        0                        0                        0                        0                        1                       0                        0                                  0   \n",
       "4     5911          2018             1             3  2017  12   3           1649           322                2.616667                        3                      2                   1                      1                         337                         6                         4                     48                 0                 0                 0                 0                1                 0                 0                      0                      0                      0                      0                     0                      1                      0           0           0                   0                   0                   0                   0                   0                  1                   0                        0                        0                        0                        0                        1                       0                        0                                  0   \n",
       "\n",
       "   _flt_departure_local_time_morning  _flt_departure_local_time_night  _flt_arrival_local_time_evening  _flt_arrival_local_time_morning  _flt_arrival_local_time_night  _flt_departure_gmt_evening  _flt_departure_gmt_morning  _flt_departure_gmt_night  _flt_arrival_gmt_evening  _flt_arrival_gmt_morning  _flt_arrival_gmt_night  \n",
       "0                                  0                                0                                1                                0                              0                           0                           0                         1                         0                         0                       1  \n",
       "1                                  0                                0                                1                                0                              0                           0                           0                         1                         0                         0                       1  \n",
       "2                                  0                                0                                1                                0                              0                           0                           0                         1                         0                         0                       1  \n",
       "3                                  0                                0                                1                                0                              0                           0                           0                         1                         0                         0                       1  \n",
       "4                                  0                                0                                1                                0                              0                           0                           0                         1                         0                         0                       1  "
      ]
     },
     "execution_count": 46,
     "metadata": {},
     "output_type": "execute_result"
    }
   ],
   "source": [
    "X.head()"
   ]
  },
  {
   "cell_type": "code",
   "execution_count": 47,
   "metadata": {},
   "outputs": [],
   "source": [
    "X_ = pd.get_dummies(test_df, prefix_sep='_', drop_first=True)"
   ]
  },
  {
   "cell_type": "code",
   "execution_count": 48,
   "metadata": {},
   "outputs": [],
   "source": [
    "X_train, X_test, y_train, y_test = train_test_split(X, target, test_size=0.1, random_state=42)"
   ]
  },
  {
   "cell_type": "code",
   "execution_count": 49,
   "metadata": {},
   "outputs": [],
   "source": [
    "import lightgbm as lgb\n",
    "lgb_model = lgb.Booster(model_file='light_gbm.txt')\n",
    "lgb_pred = lgb_model.predict(X_test)"
   ]
  },
  {
   "cell_type": "code",
   "execution_count": 50,
   "metadata": {},
   "outputs": [],
   "source": [
    "import pickle\n",
    "with open('randomforest_basemodel.pkl', 'rb') as f:\n",
    "    rf = pickle.load(f)"
   ]
  },
  {
   "cell_type": "code",
   "execution_count": 51,
   "metadata": {},
   "outputs": [],
   "source": [
    "rf_pred = rf.predict(X_test)"
   ]
  },
  {
   "cell_type": "code",
   "execution_count": 52,
   "metadata": {},
   "outputs": [
    {
     "data": {
      "text/plain": [
       "<catboost.core.CatBoostRegressor at 0x1318d5c50>"
      ]
     },
     "execution_count": 52,
     "metadata": {},
     "output_type": "execute_result"
    }
   ],
   "source": [
    "from catboost import CatBoostRegressor\n",
    "cb_model = CatBoostRegressor()      # parameters not required.\n",
    "cb_model.load_model('cb_best')"
   ]
  },
  {
   "cell_type": "code",
   "execution_count": 53,
   "metadata": {},
   "outputs": [],
   "source": [
    "cb_pred = cb_model.predict(X_test)"
   ]
  },
  {
   "cell_type": "code",
   "execution_count": 54,
   "metadata": {},
   "outputs": [
    {
     "name": "stdout",
     "output_type": "stream",
     "text": [
      "(0.4, 0.4, 0.2)\n",
      "Root Mean Squared Error: 91.0538645626682\n",
      "\n",
      "\n",
      "(0.4, 0.2, 0.4)\n",
      "Root Mean Squared Error: 91.2079353458314\n",
      "\n",
      "\n",
      "(0.4, 0.4, 0.2)\n",
      "Root Mean Squared Error: 91.0538645626682\n",
      "\n",
      "\n",
      "(0.4, 0.2, 0.4)\n",
      "Root Mean Squared Error: 91.2079353458314\n",
      "\n",
      "\n",
      "(0.2, 0.4, 0.4)\n",
      "Root Mean Squared Error: 90.54036487181907\n",
      "\n",
      "\n",
      "(0.2, 0.4, 0.4)\n",
      "Root Mean Squared Error: 90.54036487181907\n",
      "\n",
      "\n"
     ]
    }
   ],
   "source": [
    "'''\n",
    "Finding optimal weights for model to get min RMSE on test set\n",
    "'''\n",
    "\n",
    "from itertools import permutations \n",
    "perm = permutations([0.4,0.4,0.2]) \n",
    "for i in list(perm):\n",
    "    y = i[0]*rf_pred+i[1]*lgb_pred+i[2]*cb_pred\n",
    "    print(i)\n",
    "    print('Root Mean Squared Error:', np.sqrt(metrics.mean_squared_error(y_test, y)))\n",
    "    print('\\n')\n"
   ]
  },
  {
   "cell_type": "code",
   "execution_count": 56,
   "metadata": {},
   "outputs": [
    {
     "name": "stdout",
     "output_type": "stream",
     "text": [
      "(0.5, 0.3, 0.2)\n",
      "Root Mean Squared Error: 92.44639343307023\n",
      "\n",
      "\n",
      "(0.5, 0.2, 0.3)\n",
      "Root Mean Squared Error: 92.48577920017516\n",
      "\n",
      "\n",
      "(0.3, 0.5, 0.2)\n",
      "Root Mean Squared Error: 90.66354093525123\n",
      "\n",
      "\n",
      "(0.3, 0.2, 0.5)\n",
      "Root Mean Squared Error: 91.00697898090715\n",
      "\n",
      "\n",
      "(0.2, 0.5, 0.3)\n",
      "Root Mean Squared Error: 90.65196358695214\n",
      "\n",
      "\n",
      "(0.2, 0.3, 0.5)\n",
      "Root Mean Squared Error: 90.95541421488804\n",
      "\n",
      "\n"
     ]
    }
   ],
   "source": [
    "perm = permutations([0.5,0.3,0.2]) \n",
    "for i in list(perm):\n",
    "    y = i[0]*rf_pred+i[1]*lgb_pred+i[2]*cb_pred\n",
    "    print(i)\n",
    "    print('Root Mean Squared Error:', np.sqrt(metrics.mean_squared_error(y_test, y)))\n",
    "    print('\\n')\n",
    "\n"
   ]
  },
  {
   "cell_type": "code",
   "execution_count": 57,
   "metadata": {},
   "outputs": [],
   "source": [
    "def ensemble(test):\n",
    "    return 0.2*rf.predict(test)+0.4*lgb_model.predict(test)+0.4*cb_model.predict(test)\n",
    "    \n",
    "y_ensmbl = ensemble(X_test)"
   ]
  },
  {
   "cell_type": "code",
   "execution_count": 58,
   "metadata": {},
   "outputs": [
    {
     "name": "stdout",
     "output_type": "stream",
     "text": [
      "Mean Absolute Error: 46.89670755257803\n",
      "Mean Squared Error: 8197.557671122127\n",
      "Root Mean Squared Error: 90.54036487181907\n"
     ]
    }
   ],
   "source": [
    "print('Mean Absolute Error:', metrics.mean_absolute_error(y_test, y_ensmbl))\n",
    "print('Mean Squared Error:', metrics.mean_squared_error(y_test, y_ensmbl))\n",
    "print('Root Mean Squared Error:', np.sqrt(metrics.mean_squared_error(y_test, y_ensmbl)))"
   ]
  },
  {
   "cell_type": "code",
   "execution_count": 59,
   "metadata": {},
   "outputs": [],
   "source": [
    "target_y_test = ensemble(X_)"
   ]
  },
  {
   "cell_type": "code",
   "execution_count": 60,
   "metadata": {},
   "outputs": [
    {
     "data": {
      "text/plain": [
       "((20397, 60), (20397,))"
      ]
     },
     "execution_count": 60,
     "metadata": {},
     "output_type": "execute_result"
    }
   ],
   "source": [
    "X_.shape , target_y_test.shape"
   ]
  },
  {
   "cell_type": "code",
   "execution_count": 123,
   "metadata": {},
   "outputs": [
    {
     "data": {
      "text/plain": [
       "(20397, 28)"
      ]
     },
     "execution_count": 123,
     "metadata": {},
     "output_type": "execute_result"
    }
   ],
   "source": [
    "test_df.shape"
   ]
  },
  {
   "cell_type": "code",
   "execution_count": 78,
   "metadata": {},
   "outputs": [
    {
     "data": {
      "text/html": [
       "<div>\n",
       "<style scoped>\n",
       "    .dataframe tbody tr th:only-of-type {\n",
       "        vertical-align: middle;\n",
       "    }\n",
       "\n",
       "    .dataframe tbody tr th {\n",
       "        vertical-align: top;\n",
       "    }\n",
       "\n",
       "    .dataframe thead th {\n",
       "        text-align: right;\n",
       "    }\n",
       "</style>\n",
       "<table border=\"1\" class=\"dataframe\">\n",
       "  <thead>\n",
       "    <tr style=\"text-align: right;\">\n",
       "      <th></th>\n",
       "      <th>origin</th>\n",
       "      <th>destination</th>\n",
       "      <th>carrier</th>\n",
       "      <th>flt_num</th>\n",
       "      <th>flt_departure_dt</th>\n",
       "      <th>observation_date</th>\n",
       "      <th>origin_city</th>\n",
       "      <th>destination_city</th>\n",
       "      <th>flt_departure_local_time</th>\n",
       "      <th>flt_arrival_local_time</th>\n",
       "      <th>flt_departure_gmt</th>\n",
       "      <th>flt_arrival_gmt</th>\n",
       "    </tr>\n",
       "  </thead>\n",
       "  <tbody>\n",
       "    <tr>\n",
       "      <td>0</td>\n",
       "      <td>Airport4</td>\n",
       "      <td>Airport43</td>\n",
       "      <td>L2</td>\n",
       "      <td>7465</td>\n",
       "      <td>2019-01-01</td>\n",
       "      <td>2018-11-27</td>\n",
       "      <td>City4</td>\n",
       "      <td>City39</td>\n",
       "      <td>2019-01-01 08:04:00.0</td>\n",
       "      <td>2019-01-01 10:49:00.0</td>\n",
       "      <td>2019-01-01 14:04:00.0</td>\n",
       "      <td>2019-01-01 16:49:00.0</td>\n",
       "    </tr>\n",
       "    <tr>\n",
       "      <td>1</td>\n",
       "      <td>Airport4</td>\n",
       "      <td>Airport43</td>\n",
       "      <td>L2</td>\n",
       "      <td>7465</td>\n",
       "      <td>2019-01-01</td>\n",
       "      <td>2018-11-28</td>\n",
       "      <td>City4</td>\n",
       "      <td>City39</td>\n",
       "      <td>2019-01-01 08:04:00.0</td>\n",
       "      <td>2019-01-01 10:49:00.0</td>\n",
       "      <td>2019-01-01 14:04:00.0</td>\n",
       "      <td>2019-01-01 16:49:00.0</td>\n",
       "    </tr>\n",
       "    <tr>\n",
       "      <td>2</td>\n",
       "      <td>Airport4</td>\n",
       "      <td>Airport43</td>\n",
       "      <td>L2</td>\n",
       "      <td>7465</td>\n",
       "      <td>2019-01-01</td>\n",
       "      <td>2018-12-07</td>\n",
       "      <td>City4</td>\n",
       "      <td>City39</td>\n",
       "      <td>2019-01-01 08:04:00.0</td>\n",
       "      <td>2019-01-01 10:49:00.0</td>\n",
       "      <td>2019-01-01 14:04:00.0</td>\n",
       "      <td>2019-01-01 16:49:00.0</td>\n",
       "    </tr>\n",
       "    <tr>\n",
       "      <td>3</td>\n",
       "      <td>Airport4</td>\n",
       "      <td>Airport43</td>\n",
       "      <td>L2</td>\n",
       "      <td>7465</td>\n",
       "      <td>2019-01-01</td>\n",
       "      <td>2018-12-05</td>\n",
       "      <td>City4</td>\n",
       "      <td>City39</td>\n",
       "      <td>2019-01-01 08:04:00.0</td>\n",
       "      <td>2019-01-01 10:49:00.0</td>\n",
       "      <td>2019-01-01 14:04:00.0</td>\n",
       "      <td>2019-01-01 16:49:00.0</td>\n",
       "    </tr>\n",
       "    <tr>\n",
       "      <td>4</td>\n",
       "      <td>Airport4</td>\n",
       "      <td>Airport43</td>\n",
       "      <td>L2</td>\n",
       "      <td>7465</td>\n",
       "      <td>2019-01-01</td>\n",
       "      <td>2018-12-01</td>\n",
       "      <td>City4</td>\n",
       "      <td>City39</td>\n",
       "      <td>2019-01-01 08:04:00.0</td>\n",
       "      <td>2019-01-01 10:49:00.0</td>\n",
       "      <td>2019-01-01 14:04:00.0</td>\n",
       "      <td>2019-01-01 16:49:00.0</td>\n",
       "    </tr>\n",
       "  </tbody>\n",
       "</table>\n",
       "</div>"
      ],
      "text/plain": [
       "     origin destination carrier  flt_num flt_departure_dt observation_date origin_city destination_city flt_departure_local_time flt_arrival_local_time      flt_departure_gmt        flt_arrival_gmt\n",
       "0  Airport4   Airport43      L2     7465       2019-01-01       2018-11-27       City4           City39    2019-01-01 08:04:00.0  2019-01-01 10:49:00.0  2019-01-01 14:04:00.0  2019-01-01 16:49:00.0\n",
       "1  Airport4   Airport43      L2     7465       2019-01-01       2018-11-28       City4           City39    2019-01-01 08:04:00.0  2019-01-01 10:49:00.0  2019-01-01 14:04:00.0  2019-01-01 16:49:00.0\n",
       "2  Airport4   Airport43      L2     7465       2019-01-01       2018-12-07       City4           City39    2019-01-01 08:04:00.0  2019-01-01 10:49:00.0  2019-01-01 14:04:00.0  2019-01-01 16:49:00.0\n",
       "3  Airport4   Airport43      L2     7465       2019-01-01       2018-12-05       City4           City39    2019-01-01 08:04:00.0  2019-01-01 10:49:00.0  2019-01-01 14:04:00.0  2019-01-01 16:49:00.0\n",
       "4  Airport4   Airport43      L2     7465       2019-01-01       2018-12-01       City4           City39    2019-01-01 08:04:00.0  2019-01-01 10:49:00.0  2019-01-01 14:04:00.0  2019-01-01 16:49:00.0"
      ]
     },
     "execution_count": 78,
     "metadata": {},
     "output_type": "execute_result"
    }
   ],
   "source": [
    "test_merged_df.head()"
   ]
  },
  {
   "cell_type": "code",
   "execution_count": 79,
   "metadata": {},
   "outputs": [],
   "source": [
    "test_merged_df['total_fare']=target_y_test"
   ]
  },
  {
   "cell_type": "code",
   "execution_count": 80,
   "metadata": {},
   "outputs": [],
   "source": [
    "test_merged_df.to_csv('test_fares_data_subir_verma.csv',index=False)"
   ]
  },
  {
   "cell_type": "code",
   "execution_count": 86,
   "metadata": {},
   "outputs": [
    {
     "data": {
      "text/plain": [
       "(6354, 4725.621308840489)"
      ]
     },
     "execution_count": 86,
     "metadata": {},
     "output_type": "execute_result"
    }
   ],
   "source": [
    "max(target),max(target_y_test)"
   ]
  },
  {
   "cell_type": "code",
   "execution_count": 87,
   "metadata": {},
   "outputs": [
    {
     "data": {
      "text/plain": [
       "(734.6453275428173, 1711.2662028536988)"
      ]
     },
     "execution_count": 87,
     "metadata": {},
     "output_type": "execute_result"
    }
   ],
   "source": [
    "np.mean(target),np.mean(target_y_test)"
   ]
  },
  {
   "cell_type": "code",
   "execution_count": 88,
   "metadata": {},
   "outputs": [
    {
     "data": {
      "text/plain": [
       "(258, 401.0735701061491)"
      ]
     },
     "execution_count": 88,
     "metadata": {},
     "output_type": "execute_result"
    }
   ],
   "source": [
    "min(target),min(target_y_test)"
   ]
  },
  {
   "cell_type": "code",
   "execution_count": null,
   "metadata": {},
   "outputs": [],
   "source": []
  }
 ],
 "metadata": {
  "kernelspec": {
   "display_name": "Python 3",
   "language": "python",
   "name": "python3"
  },
  "language_info": {
   "codemirror_mode": {
    "name": "ipython",
    "version": 3
   },
   "file_extension": ".py",
   "mimetype": "text/x-python",
   "name": "python",
   "nbconvert_exporter": "python",
   "pygments_lexer": "ipython3",
   "version": "3.7.4"
  }
 },
 "nbformat": 4,
 "nbformat_minor": 4
}
