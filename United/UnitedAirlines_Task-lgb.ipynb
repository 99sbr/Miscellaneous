{
 "cells": [
  {
   "cell_type": "code",
   "execution_count": 1,
   "metadata": {
    "slideshow": {
     "slide_type": "slide"
    }
   },
   "outputs": [
    {
     "data": {
      "text/html": [
       "        <script type=\"text/javascript\">\n",
       "        window.PlotlyConfig = {MathJaxConfig: 'local'};\n",
       "        if (window.MathJax) {MathJax.Hub.Config({SVG: {font: \"STIX-Web\"}});}\n",
       "        if (typeof require !== 'undefined') {\n",
       "        require.undef(\"plotly\");\n",
       "        requirejs.config({\n",
       "            paths: {\n",
       "                'plotly': ['https://cdn.plot.ly/plotly-latest.min']\n",
       "            }\n",
       "        });\n",
       "        require(['plotly'], function(Plotly) {\n",
       "            window._Plotly = Plotly;\n",
       "        });\n",
       "        }\n",
       "        </script>\n",
       "        "
      ]
     },
     "metadata": {},
     "output_type": "display_data"
    },
    {
     "data": {
      "text/html": [
       "        <script type=\"text/javascript\">\n",
       "        window.PlotlyConfig = {MathJaxConfig: 'local'};\n",
       "        if (window.MathJax) {MathJax.Hub.Config({SVG: {font: \"STIX-Web\"}});}\n",
       "        if (typeof require !== 'undefined') {\n",
       "        require.undef(\"plotly\");\n",
       "        requirejs.config({\n",
       "            paths: {\n",
       "                'plotly': ['https://cdn.plot.ly/plotly-latest.min']\n",
       "            }\n",
       "        });\n",
       "        require(['plotly'], function(Plotly) {\n",
       "            window._Plotly = Plotly;\n",
       "        });\n",
       "        }\n",
       "        </script>\n",
       "        "
      ]
     },
     "metadata": {},
     "output_type": "display_data"
    }
   ],
   "source": [
    "# Import all Libraries\n",
    "'''\n",
    "Problem statement: Predict total fare for each flight for carriers L1, L2 and L3 on a given date\n",
    "\n",
    "'''\n",
    "import os\n",
    "import numpy as np\n",
    "import pandas as pd\n",
    "from datetime import datetime\n",
    "\n",
    "pd.set_option('display.max_rows', 500)\n",
    "pd.set_option('display.max_columns', 500)\n",
    "pd.set_option('display.width', 1000)\n",
    "from sklearn.model_selection import train_test_split\n",
    "import lightgbm as lgb\n",
    "from sklearn import metrics\n",
    "# Import matplotlib for plotting and use magic command for Jupyter Notebooks\n",
    "import matplotlib.pyplot as plt\n",
    "# Standard plotly imports\n",
    "import chart_studio.plotly as py\n",
    "import plotly.graph_objs as go\n",
    "from plotly.offline import iplot, init_notebook_mode\n",
    "# Using plotly + cufflinks in offline mode\n",
    "import cufflinks\n",
    "cufflinks.go_offline(connected=True)\n",
    "init_notebook_mode(connected=True)"
   ]
  },
  {
   "cell_type": "code",
   "execution_count": 2,
   "metadata": {},
   "outputs": [],
   "source": [
    "train_folder = './training/'\n",
    "test_folder = './test/'"
   ]
  },
  {
   "cell_type": "code",
   "execution_count": 3,
   "metadata": {},
   "outputs": [],
   "source": [
    "service_index_df = pd.read_csv(os.path.join(train_folder,'service_index.csv'))\n",
    "train_schedules_df = pd.read_csv(os.path.join(train_folder,'train_schedules.csv'))\n",
    "train_fares_df = pd.read_csv(os.path.join(train_folder,'train_fares.csv'))"
   ]
  },
  {
   "cell_type": "code",
   "execution_count": 4,
   "metadata": {},
   "outputs": [],
   "source": [
    "# service_index_df = pd.read_csv(os.path.join(train_folder,'service_index.csv'))\n",
    "test_schedules_df = pd.read_csv(os.path.join(test_folder,'test_schedules.csv'))\n",
    "test_fares_df = pd.read_csv(os.path.join(test_folder,'test_fares_data.csv'))"
   ]
  },
  {
   "cell_type": "code",
   "execution_count": 5,
   "metadata": {
    "scrolled": true
   },
   "outputs": [],
   "source": [
    "service_index_df = service_index_df[service_index_df['carrier'].isin(['L1', 'L2','L3'])]\n",
    "train_schedules_df = train_schedules_df[train_schedules_df['carrier'].isin(['L1', 'L2','L3'])]\n",
    "train_fares_df = train_fares_df[train_fares_df['carrier'].isin(['L1', 'L2','L3'])]\n"
   ]
  },
  {
   "cell_type": "code",
   "execution_count": 6,
   "metadata": {},
   "outputs": [],
   "source": [
    "# test dataset\n",
    "test_schedules_df = test_schedules_df[test_schedules_df['carrier'].isin(['L1', 'L2','L3'])]\n",
    "test_fares_df = test_fares_df[test_fares_df['carrier'].isin(['L1', 'L2','L3'])]"
   ]
  },
  {
   "cell_type": "code",
   "execution_count": 7,
   "metadata": {},
   "outputs": [],
   "source": [
    "service_index_df.drop('Unnamed: 0',1,inplace=True)\n",
    "train_schedules_df.drop('Unnamed: 0',1,inplace=True)\n",
    "train_fares_df.drop('Unnamed: 0',1,inplace=True)"
   ]
  },
  {
   "cell_type": "code",
   "execution_count": 8,
   "metadata": {},
   "outputs": [],
   "source": [
    "#test dataset\n",
    "\n",
    "test_schedules_df.drop('Unnamed: 0',1,inplace=True)\n",
    "test_fares_df.drop('Unnamed: 0',1,inplace=True)"
   ]
  },
  {
   "cell_type": "code",
   "execution_count": 9,
   "metadata": {},
   "outputs": [],
   "source": [
    "# convert mm/dd/yyyy to yyyy-mm-dd\n",
    "test_fares_df['observation_date']=test_fares_df['observation_date'].apply(lambda x :datetime.strptime(x, '%m/%d/%Y').strftime('%Y-%m-%d')) \n",
    "test_fares_df['flt_departure_dt']=test_fares_df['flt_departure_dt'].apply(lambda x :datetime.strptime(x, '%m/%d/%Y').strftime('%Y-%m-%d')) "
   ]
  },
  {
   "cell_type": "code",
   "execution_count": 10,
   "metadata": {},
   "outputs": [
    {
     "data": {
      "text/html": [
       "<div>\n",
       "<style scoped>\n",
       "    .dataframe tbody tr th:only-of-type {\n",
       "        vertical-align: middle;\n",
       "    }\n",
       "\n",
       "    .dataframe tbody tr th {\n",
       "        vertical-align: top;\n",
       "    }\n",
       "\n",
       "    .dataframe thead th {\n",
       "        text-align: right;\n",
       "    }\n",
       "</style>\n",
       "<table border=\"1\" class=\"dataframe\">\n",
       "  <thead>\n",
       "    <tr style=\"text-align: right;\">\n",
       "      <th></th>\n",
       "      <th>carrier</th>\n",
       "      <th>flt_num</th>\n",
       "      <th>origin</th>\n",
       "      <th>destination</th>\n",
       "      <th>flt_departure_dt</th>\n",
       "      <th>flt_departure_local_time</th>\n",
       "      <th>flt_arrival_local_time</th>\n",
       "      <th>flt_departure_gmt</th>\n",
       "      <th>flt_arrival_gmt</th>\n",
       "    </tr>\n",
       "  </thead>\n",
       "  <tbody>\n",
       "    <tr>\n",
       "      <td>0</td>\n",
       "      <td>L1</td>\n",
       "      <td>3437</td>\n",
       "      <td>Airport26</td>\n",
       "      <td>Airport30</td>\n",
       "      <td>2019-01-01</td>\n",
       "      <td>2019-01-01 18:28:00.0</td>\n",
       "      <td>2019-01-01 19:49:00.0</td>\n",
       "      <td>2019-01-02 00:28:00.0</td>\n",
       "      <td>2019-01-02 03:49:00.0</td>\n",
       "    </tr>\n",
       "    <tr>\n",
       "      <td>1</td>\n",
       "      <td>L1</td>\n",
       "      <td>7760</td>\n",
       "      <td>Airport26</td>\n",
       "      <td>Airport30</td>\n",
       "      <td>2019-01-01</td>\n",
       "      <td>2019-01-01 07:50:00.0</td>\n",
       "      <td>2019-01-01 09:12:00.0</td>\n",
       "      <td>2019-01-01 13:50:00.0</td>\n",
       "      <td>2019-01-01 17:12:00.0</td>\n",
       "    </tr>\n",
       "    <tr>\n",
       "      <td>2</td>\n",
       "      <td>L1</td>\n",
       "      <td>1609</td>\n",
       "      <td>Airport26</td>\n",
       "      <td>Airport30</td>\n",
       "      <td>2019-01-01</td>\n",
       "      <td>2019-01-01 11:55:00.0</td>\n",
       "      <td>2019-01-01 13:19:00.0</td>\n",
       "      <td>2019-01-01 17:55:00.0</td>\n",
       "      <td>2019-01-01 21:19:00.0</td>\n",
       "    </tr>\n",
       "    <tr>\n",
       "      <td>3</td>\n",
       "      <td>L1</td>\n",
       "      <td>1487</td>\n",
       "      <td>Airport26</td>\n",
       "      <td>Airport30</td>\n",
       "      <td>2019-01-01</td>\n",
       "      <td>2019-01-01 14:20:00.0</td>\n",
       "      <td>2019-01-01 15:41:00.0</td>\n",
       "      <td>2019-01-01 20:20:00.0</td>\n",
       "      <td>2019-01-01 23:41:00.0</td>\n",
       "    </tr>\n",
       "    <tr>\n",
       "      <td>4</td>\n",
       "      <td>L1</td>\n",
       "      <td>5701</td>\n",
       "      <td>Airport26</td>\n",
       "      <td>Airport30</td>\n",
       "      <td>2019-01-01</td>\n",
       "      <td>2019-01-01 22:05:00.0</td>\n",
       "      <td>2019-01-01 23:26:00.0</td>\n",
       "      <td>2019-01-02 04:05:00.0</td>\n",
       "      <td>2019-01-02 07:26:00.0</td>\n",
       "    </tr>\n",
       "  </tbody>\n",
       "</table>\n",
       "</div>"
      ],
      "text/plain": [
       "  carrier  flt_num     origin destination flt_departure_dt flt_departure_local_time flt_arrival_local_time      flt_departure_gmt        flt_arrival_gmt\n",
       "0      L1     3437  Airport26   Airport30       2019-01-01    2019-01-01 18:28:00.0  2019-01-01 19:49:00.0  2019-01-02 00:28:00.0  2019-01-02 03:49:00.0\n",
       "1      L1     7760  Airport26   Airport30       2019-01-01    2019-01-01 07:50:00.0  2019-01-01 09:12:00.0  2019-01-01 13:50:00.0  2019-01-01 17:12:00.0\n",
       "2      L1     1609  Airport26   Airport30       2019-01-01    2019-01-01 11:55:00.0  2019-01-01 13:19:00.0  2019-01-01 17:55:00.0  2019-01-01 21:19:00.0\n",
       "3      L1     1487  Airport26   Airport30       2019-01-01    2019-01-01 14:20:00.0  2019-01-01 15:41:00.0  2019-01-01 20:20:00.0  2019-01-01 23:41:00.0\n",
       "4      L1     5701  Airport26   Airport30       2019-01-01    2019-01-01 22:05:00.0  2019-01-01 23:26:00.0  2019-01-02 04:05:00.0  2019-01-02 07:26:00.0"
      ]
     },
     "execution_count": 10,
     "metadata": {},
     "output_type": "execute_result"
    }
   ],
   "source": [
    "test_schedules_df.head()"
   ]
  },
  {
   "cell_type": "code",
   "execution_count": 11,
   "metadata": {},
   "outputs": [
    {
     "data": {
      "text/html": [
       "<div>\n",
       "<style scoped>\n",
       "    .dataframe tbody tr th:only-of-type {\n",
       "        vertical-align: middle;\n",
       "    }\n",
       "\n",
       "    .dataframe tbody tr th {\n",
       "        vertical-align: top;\n",
       "    }\n",
       "\n",
       "    .dataframe thead th {\n",
       "        text-align: right;\n",
       "    }\n",
       "</style>\n",
       "<table border=\"1\" class=\"dataframe\">\n",
       "  <thead>\n",
       "    <tr style=\"text-align: right;\">\n",
       "      <th></th>\n",
       "      <th>yr</th>\n",
       "      <th>mo</th>\n",
       "      <th>origin</th>\n",
       "      <th>destination</th>\n",
       "      <th>carrier</th>\n",
       "      <th>scaled_demand</th>\n",
       "      <th>scaled_share</th>\n",
       "    </tr>\n",
       "  </thead>\n",
       "  <tbody>\n",
       "    <tr>\n",
       "      <td>1</td>\n",
       "      <td>2017</td>\n",
       "      <td>12</td>\n",
       "      <td>Airport10</td>\n",
       "      <td>Airport43</td>\n",
       "      <td>L3</td>\n",
       "      <td>1708</td>\n",
       "      <td>169</td>\n",
       "    </tr>\n",
       "    <tr>\n",
       "      <td>2</td>\n",
       "      <td>2017</td>\n",
       "      <td>12</td>\n",
       "      <td>Airport10</td>\n",
       "      <td>Airport60</td>\n",
       "      <td>L2</td>\n",
       "      <td>1071</td>\n",
       "      <td>180</td>\n",
       "    </tr>\n",
       "    <tr>\n",
       "      <td>6</td>\n",
       "      <td>2017</td>\n",
       "      <td>12</td>\n",
       "      <td>Airport17</td>\n",
       "      <td>Airport37</td>\n",
       "      <td>L2</td>\n",
       "      <td>1639</td>\n",
       "      <td>160</td>\n",
       "    </tr>\n",
       "    <tr>\n",
       "      <td>9</td>\n",
       "      <td>2017</td>\n",
       "      <td>12</td>\n",
       "      <td>Airport17</td>\n",
       "      <td>Airport46</td>\n",
       "      <td>L2</td>\n",
       "      <td>2527</td>\n",
       "      <td>242</td>\n",
       "    </tr>\n",
       "    <tr>\n",
       "      <td>10</td>\n",
       "      <td>2017</td>\n",
       "      <td>12</td>\n",
       "      <td>Airport17</td>\n",
       "      <td>Airport51</td>\n",
       "      <td>L3</td>\n",
       "      <td>1287</td>\n",
       "      <td>170</td>\n",
       "    </tr>\n",
       "  </tbody>\n",
       "</table>\n",
       "</div>"
      ],
      "text/plain": [
       "      yr  mo     origin destination carrier  scaled_demand  scaled_share\n",
       "1   2017  12  Airport10   Airport43      L3           1708           169\n",
       "2   2017  12  Airport10   Airport60      L2           1071           180\n",
       "6   2017  12  Airport17   Airport37      L2           1639           160\n",
       "9   2017  12  Airport17   Airport46      L2           2527           242\n",
       "10  2017  12  Airport17   Airport51      L3           1287           170"
      ]
     },
     "execution_count": 11,
     "metadata": {},
     "output_type": "execute_result"
    }
   ],
   "source": [
    "service_index_df.head()"
   ]
  },
  {
   "cell_type": "code",
   "execution_count": 12,
   "metadata": {
    "scrolled": true
   },
   "outputs": [
    {
     "data": {
      "text/html": [
       "<div>\n",
       "<style scoped>\n",
       "    .dataframe tbody tr th:only-of-type {\n",
       "        vertical-align: middle;\n",
       "    }\n",
       "\n",
       "    .dataframe tbody tr th {\n",
       "        vertical-align: top;\n",
       "    }\n",
       "\n",
       "    .dataframe thead th {\n",
       "        text-align: right;\n",
       "    }\n",
       "</style>\n",
       "<table border=\"1\" class=\"dataframe\">\n",
       "  <thead>\n",
       "    <tr style=\"text-align: right;\">\n",
       "      <th></th>\n",
       "      <th>carrier</th>\n",
       "      <th>flt_num</th>\n",
       "      <th>origin</th>\n",
       "      <th>destination</th>\n",
       "      <th>flt_departure_dt</th>\n",
       "      <th>flt_departure_local_time</th>\n",
       "      <th>flt_arrival_local_time</th>\n",
       "      <th>flt_departure_gmt</th>\n",
       "      <th>flt_arrival_gmt</th>\n",
       "    </tr>\n",
       "  </thead>\n",
       "  <tbody>\n",
       "    <tr>\n",
       "      <td>0</td>\n",
       "      <td>L1</td>\n",
       "      <td>6800</td>\n",
       "      <td>Airport26</td>\n",
       "      <td>Airport30</td>\n",
       "      <td>2018-02-01</td>\n",
       "      <td>2018-02-01 18:43:00.0</td>\n",
       "      <td>2018-02-01 20:09:00.0</td>\n",
       "      <td>2018-02-02 00:43:00.0</td>\n",
       "      <td>2018-02-02 04:09:00.0</td>\n",
       "    </tr>\n",
       "    <tr>\n",
       "      <td>2</td>\n",
       "      <td>L1</td>\n",
       "      <td>799</td>\n",
       "      <td>Airport26</td>\n",
       "      <td>Airport30</td>\n",
       "      <td>2018-02-01</td>\n",
       "      <td>2018-02-01 12:00:00.0</td>\n",
       "      <td>2018-02-01 13:26:00.0</td>\n",
       "      <td>2018-02-01 18:00:00.0</td>\n",
       "      <td>2018-02-01 21:26:00.0</td>\n",
       "    </tr>\n",
       "    <tr>\n",
       "      <td>3</td>\n",
       "      <td>L1</td>\n",
       "      <td>7760</td>\n",
       "      <td>Airport26</td>\n",
       "      <td>Airport30</td>\n",
       "      <td>2018-02-01</td>\n",
       "      <td>2018-02-01 07:35:00.0</td>\n",
       "      <td>2018-02-01 09:02:00.0</td>\n",
       "      <td>2018-02-01 13:35:00.0</td>\n",
       "      <td>2018-02-01 17:02:00.0</td>\n",
       "    </tr>\n",
       "    <tr>\n",
       "      <td>4</td>\n",
       "      <td>L1</td>\n",
       "      <td>3443</td>\n",
       "      <td>Airport26</td>\n",
       "      <td>Airport30</td>\n",
       "      <td>2018-02-01</td>\n",
       "      <td>2018-02-01 09:48:00.0</td>\n",
       "      <td>2018-02-01 11:14:00.0</td>\n",
       "      <td>2018-02-01 15:48:00.0</td>\n",
       "      <td>2018-02-01 19:14:00.0</td>\n",
       "    </tr>\n",
       "    <tr>\n",
       "      <td>7</td>\n",
       "      <td>L1</td>\n",
       "      <td>6759</td>\n",
       "      <td>Airport26</td>\n",
       "      <td>Airport30</td>\n",
       "      <td>2018-02-01</td>\n",
       "      <td>2018-02-01 16:27:00.0</td>\n",
       "      <td>2018-02-01 17:54:00.0</td>\n",
       "      <td>2018-02-01 22:27:00.0</td>\n",
       "      <td>2018-02-02 01:54:00.0</td>\n",
       "    </tr>\n",
       "  </tbody>\n",
       "</table>\n",
       "</div>"
      ],
      "text/plain": [
       "  carrier  flt_num     origin destination flt_departure_dt flt_departure_local_time flt_arrival_local_time      flt_departure_gmt        flt_arrival_gmt\n",
       "0      L1     6800  Airport26   Airport30       2018-02-01    2018-02-01 18:43:00.0  2018-02-01 20:09:00.0  2018-02-02 00:43:00.0  2018-02-02 04:09:00.0\n",
       "2      L1      799  Airport26   Airport30       2018-02-01    2018-02-01 12:00:00.0  2018-02-01 13:26:00.0  2018-02-01 18:00:00.0  2018-02-01 21:26:00.0\n",
       "3      L1     7760  Airport26   Airport30       2018-02-01    2018-02-01 07:35:00.0  2018-02-01 09:02:00.0  2018-02-01 13:35:00.0  2018-02-01 17:02:00.0\n",
       "4      L1     3443  Airport26   Airport30       2018-02-01    2018-02-01 09:48:00.0  2018-02-01 11:14:00.0  2018-02-01 15:48:00.0  2018-02-01 19:14:00.0\n",
       "7      L1     6759  Airport26   Airport30       2018-02-01    2018-02-01 16:27:00.0  2018-02-01 17:54:00.0  2018-02-01 22:27:00.0  2018-02-02 01:54:00.0"
      ]
     },
     "execution_count": 12,
     "metadata": {},
     "output_type": "execute_result"
    }
   ],
   "source": [
    "train_schedules_df.head()"
   ]
  },
  {
   "cell_type": "code",
   "execution_count": 13,
   "metadata": {},
   "outputs": [
    {
     "data": {
      "text/html": [
       "<div>\n",
       "<style scoped>\n",
       "    .dataframe tbody tr th:only-of-type {\n",
       "        vertical-align: middle;\n",
       "    }\n",
       "\n",
       "    .dataframe tbody tr th {\n",
       "        vertical-align: top;\n",
       "    }\n",
       "\n",
       "    .dataframe thead th {\n",
       "        text-align: right;\n",
       "    }\n",
       "</style>\n",
       "<table border=\"1\" class=\"dataframe\">\n",
       "  <thead>\n",
       "    <tr style=\"text-align: right;\">\n",
       "      <th></th>\n",
       "      <th>origin</th>\n",
       "      <th>destination</th>\n",
       "      <th>carrier</th>\n",
       "      <th>flt_num</th>\n",
       "      <th>flt_departure_dt</th>\n",
       "      <th>observation_date</th>\n",
       "      <th>total_fare</th>\n",
       "      <th>origin_city</th>\n",
       "      <th>destination_city</th>\n",
       "    </tr>\n",
       "  </thead>\n",
       "  <tbody>\n",
       "    <tr>\n",
       "      <td>0</td>\n",
       "      <td>Airport4</td>\n",
       "      <td>Airport43</td>\n",
       "      <td>L1</td>\n",
       "      <td>5911</td>\n",
       "      <td>2018-01-03</td>\n",
       "      <td>2017-11-29</td>\n",
       "      <td>538</td>\n",
       "      <td>City4</td>\n",
       "      <td>City39</td>\n",
       "    </tr>\n",
       "    <tr>\n",
       "      <td>1</td>\n",
       "      <td>Airport4</td>\n",
       "      <td>Airport43</td>\n",
       "      <td>L1</td>\n",
       "      <td>6589</td>\n",
       "      <td>2018-01-03</td>\n",
       "      <td>2017-11-29</td>\n",
       "      <td>538</td>\n",
       "      <td>City4</td>\n",
       "      <td>City39</td>\n",
       "    </tr>\n",
       "    <tr>\n",
       "      <td>2</td>\n",
       "      <td>Airport4</td>\n",
       "      <td>Airport43</td>\n",
       "      <td>L1</td>\n",
       "      <td>2689</td>\n",
       "      <td>2018-01-03</td>\n",
       "      <td>2017-11-29</td>\n",
       "      <td>538</td>\n",
       "      <td>City4</td>\n",
       "      <td>City39</td>\n",
       "    </tr>\n",
       "    <tr>\n",
       "      <td>3</td>\n",
       "      <td>Airport4</td>\n",
       "      <td>Airport43</td>\n",
       "      <td>L2</td>\n",
       "      <td>8244</td>\n",
       "      <td>2018-01-03</td>\n",
       "      <td>2017-11-29</td>\n",
       "      <td>557</td>\n",
       "      <td>City4</td>\n",
       "      <td>City39</td>\n",
       "    </tr>\n",
       "    <tr>\n",
       "      <td>4</td>\n",
       "      <td>Airport4</td>\n",
       "      <td>Airport43</td>\n",
       "      <td>L2</td>\n",
       "      <td>8523</td>\n",
       "      <td>2018-01-03</td>\n",
       "      <td>2017-11-29</td>\n",
       "      <td>557</td>\n",
       "      <td>City4</td>\n",
       "      <td>City39</td>\n",
       "    </tr>\n",
       "  </tbody>\n",
       "</table>\n",
       "</div>"
      ],
      "text/plain": [
       "     origin destination carrier  flt_num flt_departure_dt observation_date  total_fare origin_city destination_city\n",
       "0  Airport4   Airport43      L1     5911       2018-01-03       2017-11-29         538       City4           City39\n",
       "1  Airport4   Airport43      L1     6589       2018-01-03       2017-11-29         538       City4           City39\n",
       "2  Airport4   Airport43      L1     2689       2018-01-03       2017-11-29         538       City4           City39\n",
       "3  Airport4   Airport43      L2     8244       2018-01-03       2017-11-29         557       City4           City39\n",
       "4  Airport4   Airport43      L2     8523       2018-01-03       2017-11-29         557       City4           City39"
      ]
     },
     "execution_count": 13,
     "metadata": {},
     "output_type": "execute_result"
    }
   ],
   "source": [
    "train_fares_df.head()"
   ]
  },
  {
   "cell_type": "code",
   "execution_count": 14,
   "metadata": {},
   "outputs": [],
   "source": [
    "train_merged_df = pd.merge(train_fares_df,train_schedules_df, on=['flt_num','flt_departure_dt','carrier','origin','destination'])"
   ]
  },
  {
   "cell_type": "code",
   "execution_count": 15,
   "metadata": {},
   "outputs": [],
   "source": [
    "#test dataset\n",
    "test_merged_df = pd.merge(test_fares_df,test_schedules_df, on=['flt_num','flt_departure_dt','carrier','origin','destination'])"
   ]
  },
  {
   "cell_type": "code",
   "execution_count": 16,
   "metadata": {},
   "outputs": [
    {
     "data": {
      "text/html": [
       "<div>\n",
       "<style scoped>\n",
       "    .dataframe tbody tr th:only-of-type {\n",
       "        vertical-align: middle;\n",
       "    }\n",
       "\n",
       "    .dataframe tbody tr th {\n",
       "        vertical-align: top;\n",
       "    }\n",
       "\n",
       "    .dataframe thead th {\n",
       "        text-align: right;\n",
       "    }\n",
       "</style>\n",
       "<table border=\"1\" class=\"dataframe\">\n",
       "  <thead>\n",
       "    <tr style=\"text-align: right;\">\n",
       "      <th></th>\n",
       "      <th>origin</th>\n",
       "      <th>destination</th>\n",
       "      <th>carrier</th>\n",
       "      <th>flt_num</th>\n",
       "      <th>flt_departure_dt</th>\n",
       "      <th>observation_date</th>\n",
       "      <th>origin_city</th>\n",
       "      <th>destination_city</th>\n",
       "      <th>flt_departure_local_time</th>\n",
       "      <th>flt_arrival_local_time</th>\n",
       "      <th>flt_departure_gmt</th>\n",
       "      <th>flt_arrival_gmt</th>\n",
       "    </tr>\n",
       "  </thead>\n",
       "  <tbody>\n",
       "    <tr>\n",
       "      <td>0</td>\n",
       "      <td>Airport4</td>\n",
       "      <td>Airport43</td>\n",
       "      <td>L2</td>\n",
       "      <td>7465</td>\n",
       "      <td>2019-01-01</td>\n",
       "      <td>2018-11-27</td>\n",
       "      <td>City4</td>\n",
       "      <td>City39</td>\n",
       "      <td>2019-01-01 08:04:00.0</td>\n",
       "      <td>2019-01-01 10:49:00.0</td>\n",
       "      <td>2019-01-01 14:04:00.0</td>\n",
       "      <td>2019-01-01 16:49:00.0</td>\n",
       "    </tr>\n",
       "    <tr>\n",
       "      <td>1</td>\n",
       "      <td>Airport4</td>\n",
       "      <td>Airport43</td>\n",
       "      <td>L2</td>\n",
       "      <td>7465</td>\n",
       "      <td>2019-01-01</td>\n",
       "      <td>2018-11-28</td>\n",
       "      <td>City4</td>\n",
       "      <td>City39</td>\n",
       "      <td>2019-01-01 08:04:00.0</td>\n",
       "      <td>2019-01-01 10:49:00.0</td>\n",
       "      <td>2019-01-01 14:04:00.0</td>\n",
       "      <td>2019-01-01 16:49:00.0</td>\n",
       "    </tr>\n",
       "    <tr>\n",
       "      <td>2</td>\n",
       "      <td>Airport4</td>\n",
       "      <td>Airport43</td>\n",
       "      <td>L2</td>\n",
       "      <td>7465</td>\n",
       "      <td>2019-01-01</td>\n",
       "      <td>2018-12-07</td>\n",
       "      <td>City4</td>\n",
       "      <td>City39</td>\n",
       "      <td>2019-01-01 08:04:00.0</td>\n",
       "      <td>2019-01-01 10:49:00.0</td>\n",
       "      <td>2019-01-01 14:04:00.0</td>\n",
       "      <td>2019-01-01 16:49:00.0</td>\n",
       "    </tr>\n",
       "    <tr>\n",
       "      <td>3</td>\n",
       "      <td>Airport4</td>\n",
       "      <td>Airport43</td>\n",
       "      <td>L2</td>\n",
       "      <td>7465</td>\n",
       "      <td>2019-01-01</td>\n",
       "      <td>2018-12-05</td>\n",
       "      <td>City4</td>\n",
       "      <td>City39</td>\n",
       "      <td>2019-01-01 08:04:00.0</td>\n",
       "      <td>2019-01-01 10:49:00.0</td>\n",
       "      <td>2019-01-01 14:04:00.0</td>\n",
       "      <td>2019-01-01 16:49:00.0</td>\n",
       "    </tr>\n",
       "    <tr>\n",
       "      <td>4</td>\n",
       "      <td>Airport4</td>\n",
       "      <td>Airport43</td>\n",
       "      <td>L2</td>\n",
       "      <td>7465</td>\n",
       "      <td>2019-01-01</td>\n",
       "      <td>2018-12-01</td>\n",
       "      <td>City4</td>\n",
       "      <td>City39</td>\n",
       "      <td>2019-01-01 08:04:00.0</td>\n",
       "      <td>2019-01-01 10:49:00.0</td>\n",
       "      <td>2019-01-01 14:04:00.0</td>\n",
       "      <td>2019-01-01 16:49:00.0</td>\n",
       "    </tr>\n",
       "  </tbody>\n",
       "</table>\n",
       "</div>"
      ],
      "text/plain": [
       "     origin destination carrier  flt_num flt_departure_dt observation_date origin_city destination_city flt_departure_local_time flt_arrival_local_time      flt_departure_gmt        flt_arrival_gmt\n",
       "0  Airport4   Airport43      L2     7465       2019-01-01       2018-11-27       City4           City39    2019-01-01 08:04:00.0  2019-01-01 10:49:00.0  2019-01-01 14:04:00.0  2019-01-01 16:49:00.0\n",
       "1  Airport4   Airport43      L2     7465       2019-01-01       2018-11-28       City4           City39    2019-01-01 08:04:00.0  2019-01-01 10:49:00.0  2019-01-01 14:04:00.0  2019-01-01 16:49:00.0\n",
       "2  Airport4   Airport43      L2     7465       2019-01-01       2018-12-07       City4           City39    2019-01-01 08:04:00.0  2019-01-01 10:49:00.0  2019-01-01 14:04:00.0  2019-01-01 16:49:00.0\n",
       "3  Airport4   Airport43      L2     7465       2019-01-01       2018-12-05       City4           City39    2019-01-01 08:04:00.0  2019-01-01 10:49:00.0  2019-01-01 14:04:00.0  2019-01-01 16:49:00.0\n",
       "4  Airport4   Airport43      L2     7465       2019-01-01       2018-12-01       City4           City39    2019-01-01 08:04:00.0  2019-01-01 10:49:00.0  2019-01-01 14:04:00.0  2019-01-01 16:49:00.0"
      ]
     },
     "execution_count": 16,
     "metadata": {},
     "output_type": "execute_result"
    }
   ],
   "source": [
    "test_merged_df.head()"
   ]
  },
  {
   "cell_type": "code",
   "execution_count": 17,
   "metadata": {},
   "outputs": [],
   "source": [
    "train_merged_df['departure_yr']=train_merged_df['flt_departure_dt'].apply(lambda x: int(x.split('-')[0]))\n",
    "train_merged_df['departure_mo']=train_merged_df['flt_departure_dt'].apply(lambda x: int(x.split('-')[1]))\n",
    "train_merged_df['departure_dt']=train_merged_df['flt_departure_dt'].apply(lambda x: int(x.split('-')[2]))"
   ]
  },
  {
   "cell_type": "code",
   "execution_count": 18,
   "metadata": {},
   "outputs": [],
   "source": [
    "train_merged_df['yr']=train_merged_df['observation_date'].apply(lambda x: int(x.split('-')[0]))\n",
    "train_merged_df['mo']=train_merged_df['observation_date'].apply(lambda x: int(x.split('-')[1]))\n",
    "train_merged_df['dt']=train_merged_df['observation_date'].apply(lambda x: int(x.split('-')[2]))"
   ]
  },
  {
   "cell_type": "code",
   "execution_count": 19,
   "metadata": {},
   "outputs": [],
   "source": [
    "# test dataset\n",
    "\n",
    "test_merged_df['departure_yr']=test_merged_df['flt_departure_dt'].apply(lambda x: int(x.split('-')[0]))\n",
    "test_merged_df['departure_mo']=test_merged_df['flt_departure_dt'].apply(lambda x: int(x.split('-')[1]))\n",
    "test_merged_df['departure_dt']=test_merged_df['flt_departure_dt'].apply(lambda x: int(x.split('-')[2]))\n",
    "\n",
    "\n",
    "test_merged_df['yr']=test_merged_df['observation_date'].apply(lambda x: int(x.split('-')[0]))\n",
    "test_merged_df['mo']=test_merged_df['observation_date'].apply(lambda x: int(x.split('-')[1]))\n",
    "test_merged_df['dt']=test_merged_df['observation_date'].apply(lambda x: int(x.split('-')[2]))"
   ]
  },
  {
   "cell_type": "code",
   "execution_count": 20,
   "metadata": {},
   "outputs": [],
   "source": [
    "train_df = pd.merge(train_merged_df, service_index_df, on=['yr','mo','carrier','origin','destination'])"
   ]
  },
  {
   "cell_type": "code",
   "execution_count": 21,
   "metadata": {},
   "outputs": [],
   "source": [
    "test_df = pd.merge(test_merged_df, service_index_df, on=['yr','mo','carrier','origin','destination'])"
   ]
  },
  {
   "cell_type": "code",
   "execution_count": 22,
   "metadata": {},
   "outputs": [],
   "source": [
    "train_df['flt_departure_dt']=train_df['flt_departure_dt'].apply(lambda x:datetime.strptime(x, '%Y-%m-%d'))\n",
    "\n",
    "train_df['observation_date']=train_df['observation_date'].apply(lambda x:datetime.strptime(x, '%Y-%m-%d'))\n",
    "\n",
    "train_df['flt_departure_local_time']=train_df['flt_departure_local_time'].apply(lambda x :datetime.strptime(x, '%Y-%m-%d %H:%M:%S.%f'))\n",
    "\n",
    "train_df['flt_arrival_local_time']=train_df['flt_arrival_local_time'].apply(lambda x :datetime.strptime(x, '%Y-%m-%d %H:%M:%S.%f'))\n",
    "\n",
    "train_df['flt_departure_gmt']=train_df['flt_departure_gmt'].apply(lambda x :datetime.strptime(x, '%Y-%m-%d %H:%M:%S.%f'))\n",
    "                                                                                \n",
    "train_df['flt_arrival_gmt']=train_df['flt_arrival_gmt'].apply(lambda x :datetime.strptime(x, '%Y-%m-%d %H:%M:%S.%f'))\n",
    "                                                                                  "
   ]
  },
  {
   "cell_type": "code",
   "execution_count": 23,
   "metadata": {},
   "outputs": [],
   "source": [
    "# test dataset\n",
    "\n",
    "test_df['flt_departure_dt']=test_df['flt_departure_dt'].apply(lambda x:datetime.strptime(x, '%Y-%m-%d'))\n",
    "\n",
    "test_df['observation_date']=test_df['observation_date'].apply(lambda x:datetime.strptime(x, '%Y-%m-%d'))\n",
    "\n",
    "test_df['flt_departure_local_time']=test_df['flt_departure_local_time'].apply(lambda x :datetime.strptime(x, '%Y-%m-%d %H:%M:%S.%f'))\n",
    "\n",
    "test_df['flt_arrival_local_time']=test_df['flt_arrival_local_time'].apply(lambda x :datetime.strptime(x, '%Y-%m-%d %H:%M:%S.%f'))\n",
    "\n",
    "test_df['flt_departure_gmt']=test_df['flt_departure_gmt'].apply(lambda x :datetime.strptime(x, '%Y-%m-%d %H:%M:%S.%f'))\n",
    "                                                                                \n",
    "test_df['flt_arrival_gmt']=test_df['flt_arrival_gmt'].apply(lambda x :datetime.strptime(x, '%Y-%m-%d %H:%M:%S.%f'))\n",
    "                                                                                  "
   ]
  },
  {
   "cell_type": "code",
   "execution_count": 24,
   "metadata": {},
   "outputs": [],
   "source": [
    "train_df['flight_travel_duration'] = train_df['flt_arrival_gmt']-train_df['flt_departure_gmt']"
   ]
  },
  {
   "cell_type": "code",
   "execution_count": 25,
   "metadata": {},
   "outputs": [],
   "source": [
    "train_df['flight_travel_duration'] = train_df['flight_travel_duration'].apply(lambda x: x.seconds/3600)"
   ]
  },
  {
   "cell_type": "code",
   "execution_count": 26,
   "metadata": {},
   "outputs": [],
   "source": [
    "test_df['flight_travel_duration'] = test_df['flt_arrival_gmt']-test_df['flt_departure_gmt']\n",
    "test_df['flight_travel_duration'] = test_df['flight_travel_duration'].apply(lambda x: x.seconds/3600)"
   ]
  },
  {
   "cell_type": "code",
   "execution_count": 27,
   "metadata": {},
   "outputs": [],
   "source": [
    "def get_part_of_day(hour):\n",
    "    return (\n",
    "    \"morning\" if 5 <= hour <= 11\n",
    "    else\n",
    "    \"afternoon\" if 12 <= hour <= 17\n",
    "    else\n",
    "    \"evening\" if 18 <= hour <= 22\n",
    "    else\n",
    "    \"night\"\n",
    "        )"
   ]
  },
  {
   "cell_type": "code",
   "execution_count": 28,
   "metadata": {},
   "outputs": [],
   "source": [
    "train_df['_flt_departure_local_time'] = train_df.flt_departure_local_time.apply(lambda x: get_part_of_day(x.hour))\n",
    "train_df['_flt_arrival_local_time'] = train_df.flt_arrival_local_time.apply(lambda x: get_part_of_day(x.hour))\n",
    "train_df['_flt_departure_gmt'] = train_df.flt_departure_gmt.apply(lambda x: get_part_of_day(x.hour))\n",
    "train_df['_flt_arrival_gmt'] = train_df.flt_arrival_gmt.apply(lambda x: get_part_of_day(x.hour))"
   ]
  },
  {
   "cell_type": "code",
   "execution_count": 29,
   "metadata": {},
   "outputs": [],
   "source": [
    "# test dataset\n",
    "\n",
    "test_df['_flt_departure_local_time'] = test_df.flt_departure_local_time.apply(lambda x: get_part_of_day(x.hour))\n",
    "test_df['_flt_arrival_local_time'] = test_df.flt_arrival_local_time.apply(lambda x: get_part_of_day(x.hour))\n",
    "test_df['_flt_departure_gmt'] = test_df.flt_departure_gmt.apply(lambda x: get_part_of_day(x.hour))\n",
    "test_df['_flt_arrival_gmt'] = test_df.flt_arrival_gmt.apply(lambda x: get_part_of_day(x.hour))"
   ]
  },
  {
   "cell_type": "code",
   "execution_count": 30,
   "metadata": {},
   "outputs": [],
   "source": [
    "train_df['flt_departure_dayofyear'] = train_df.flt_departure_dt.dt.dayofyear\n",
    "train_df['flt_departure_weekday'] = train_df.flt_departure_dt.dt.weekday\n",
    "train_df['flt_departure_week'] = train_df.flt_departure_dt.dt.week\n",
    "train_df['flt_departure_quarter'] = train_df.flt_departure_dt.dt.quarter\n",
    "\n",
    "train_df['observation_date_dayofyear'] = train_df.observation_date.dt.dayofyear\n",
    "train_df['observation_date_weekday'] = train_df.observation_date.dt.weekday\n",
    "train_df['observation_date_quarter'] = train_df.observation_date.dt.quarter\n",
    "train_df['observation_date_week'] = train_df.observation_date.dt.week\n",
    "\n",
    "test_df['flt_departure_dayofyear'] = test_df.flt_departure_dt.dt.dayofyear\n",
    "test_df['flt_departure_weekday'] = test_df.flt_departure_dt.dt.weekday\n",
    "test_df['flt_departure_week'] = test_df.flt_departure_dt.dt.week\n",
    "test_df['flt_departure_quarter'] = test_df.flt_departure_dt.dt.quarter\n",
    "\n",
    "test_df['observation_date_dayofyear'] = test_df.observation_date.dt.dayofyear\n",
    "test_df['observation_date_weekday'] = test_df.observation_date.dt.weekday\n",
    "test_df['observation_date_week'] = test_df.observation_date.dt.week\n",
    "test_df['observation_date_quarter'] = test_df.observation_date.dt.quarter"
   ]
  },
  {
   "cell_type": "code",
   "execution_count": 31,
   "metadata": {},
   "outputs": [],
   "source": [
    "cols_to_drop = ['flt_departure_dt','observation_date','flt_departure_local_time','flt_arrival_local_time',\n",
    "                'flt_departure_gmt','flt_arrival_gmt']"
   ]
  },
  {
   "cell_type": "code",
   "execution_count": 32,
   "metadata": {},
   "outputs": [
    {
     "data": {
      "text/plain": [
       "[None, None, None, None, None, None]"
      ]
     },
     "execution_count": 32,
     "metadata": {},
     "output_type": "execute_result"
    }
   ],
   "source": [
    "[train_df.drop(col,1,inplace=True) for col in cols_to_drop]"
   ]
  },
  {
   "cell_type": "code",
   "execution_count": 33,
   "metadata": {},
   "outputs": [
    {
     "data": {
      "text/plain": [
       "[None, None, None, None, None, None]"
      ]
     },
     "execution_count": 33,
     "metadata": {},
     "output_type": "execute_result"
    }
   ],
   "source": [
    "[test_df.drop(col,1,inplace=True) for col in cols_to_drop]"
   ]
  },
  {
   "cell_type": "code",
   "execution_count": 34,
   "metadata": {},
   "outputs": [
    {
     "data": {
      "text/html": [
       "<div>\n",
       "<style scoped>\n",
       "    .dataframe tbody tr th:only-of-type {\n",
       "        vertical-align: middle;\n",
       "    }\n",
       "\n",
       "    .dataframe tbody tr th {\n",
       "        vertical-align: top;\n",
       "    }\n",
       "\n",
       "    .dataframe thead th {\n",
       "        text-align: right;\n",
       "    }\n",
       "</style>\n",
       "<table border=\"1\" class=\"dataframe\">\n",
       "  <thead>\n",
       "    <tr style=\"text-align: right;\">\n",
       "      <th></th>\n",
       "      <th>origin</th>\n",
       "      <th>destination</th>\n",
       "      <th>carrier</th>\n",
       "      <th>flt_num</th>\n",
       "      <th>total_fare</th>\n",
       "      <th>origin_city</th>\n",
       "      <th>destination_city</th>\n",
       "      <th>departure_yr</th>\n",
       "      <th>departure_mo</th>\n",
       "      <th>departure_dt</th>\n",
       "      <th>yr</th>\n",
       "      <th>mo</th>\n",
       "      <th>dt</th>\n",
       "      <th>scaled_demand</th>\n",
       "      <th>scaled_share</th>\n",
       "      <th>flight_travel_duration</th>\n",
       "      <th>_flt_departure_local_time</th>\n",
       "      <th>_flt_arrival_local_time</th>\n",
       "      <th>_flt_departure_gmt</th>\n",
       "      <th>_flt_arrival_gmt</th>\n",
       "      <th>flt_departure_dayofyear</th>\n",
       "      <th>flt_departure_weekday</th>\n",
       "      <th>flt_departure_week</th>\n",
       "      <th>flt_departure_quarter</th>\n",
       "      <th>observation_date_dayofyear</th>\n",
       "      <th>observation_date_weekday</th>\n",
       "      <th>observation_date_quarter</th>\n",
       "      <th>observation_date_week</th>\n",
       "    </tr>\n",
       "  </thead>\n",
       "  <tbody>\n",
       "    <tr>\n",
       "      <td>0</td>\n",
       "      <td>Airport4</td>\n",
       "      <td>Airport43</td>\n",
       "      <td>L1</td>\n",
       "      <td>5911</td>\n",
       "      <td>538</td>\n",
       "      <td>City4</td>\n",
       "      <td>City39</td>\n",
       "      <td>2018</td>\n",
       "      <td>1</td>\n",
       "      <td>3</td>\n",
       "      <td>2017</td>\n",
       "      <td>12</td>\n",
       "      <td>12</td>\n",
       "      <td>1649</td>\n",
       "      <td>322</td>\n",
       "      <td>2.616667</td>\n",
       "      <td>afternoon</td>\n",
       "      <td>evening</td>\n",
       "      <td>night</td>\n",
       "      <td>night</td>\n",
       "      <td>3</td>\n",
       "      <td>2</td>\n",
       "      <td>1</td>\n",
       "      <td>1</td>\n",
       "      <td>346</td>\n",
       "      <td>1</td>\n",
       "      <td>4</td>\n",
       "      <td>50</td>\n",
       "    </tr>\n",
       "    <tr>\n",
       "      <td>1</td>\n",
       "      <td>Airport4</td>\n",
       "      <td>Airport43</td>\n",
       "      <td>L1</td>\n",
       "      <td>5911</td>\n",
       "      <td>651</td>\n",
       "      <td>City4</td>\n",
       "      <td>City39</td>\n",
       "      <td>2018</td>\n",
       "      <td>1</td>\n",
       "      <td>3</td>\n",
       "      <td>2017</td>\n",
       "      <td>12</td>\n",
       "      <td>23</td>\n",
       "      <td>1649</td>\n",
       "      <td>322</td>\n",
       "      <td>2.616667</td>\n",
       "      <td>afternoon</td>\n",
       "      <td>evening</td>\n",
       "      <td>night</td>\n",
       "      <td>night</td>\n",
       "      <td>3</td>\n",
       "      <td>2</td>\n",
       "      <td>1</td>\n",
       "      <td>1</td>\n",
       "      <td>357</td>\n",
       "      <td>5</td>\n",
       "      <td>4</td>\n",
       "      <td>51</td>\n",
       "    </tr>\n",
       "    <tr>\n",
       "      <td>2</td>\n",
       "      <td>Airport4</td>\n",
       "      <td>Airport43</td>\n",
       "      <td>L1</td>\n",
       "      <td>5911</td>\n",
       "      <td>538</td>\n",
       "      <td>City4</td>\n",
       "      <td>City39</td>\n",
       "      <td>2018</td>\n",
       "      <td>1</td>\n",
       "      <td>3</td>\n",
       "      <td>2017</td>\n",
       "      <td>12</td>\n",
       "      <td>2</td>\n",
       "      <td>1649</td>\n",
       "      <td>322</td>\n",
       "      <td>2.616667</td>\n",
       "      <td>afternoon</td>\n",
       "      <td>evening</td>\n",
       "      <td>night</td>\n",
       "      <td>night</td>\n",
       "      <td>3</td>\n",
       "      <td>2</td>\n",
       "      <td>1</td>\n",
       "      <td>1</td>\n",
       "      <td>336</td>\n",
       "      <td>5</td>\n",
       "      <td>4</td>\n",
       "      <td>48</td>\n",
       "    </tr>\n",
       "    <tr>\n",
       "      <td>3</td>\n",
       "      <td>Airport4</td>\n",
       "      <td>Airport43</td>\n",
       "      <td>L1</td>\n",
       "      <td>5911</td>\n",
       "      <td>538</td>\n",
       "      <td>City4</td>\n",
       "      <td>City39</td>\n",
       "      <td>2018</td>\n",
       "      <td>1</td>\n",
       "      <td>3</td>\n",
       "      <td>2017</td>\n",
       "      <td>12</td>\n",
       "      <td>6</td>\n",
       "      <td>1649</td>\n",
       "      <td>322</td>\n",
       "      <td>2.616667</td>\n",
       "      <td>afternoon</td>\n",
       "      <td>evening</td>\n",
       "      <td>night</td>\n",
       "      <td>night</td>\n",
       "      <td>3</td>\n",
       "      <td>2</td>\n",
       "      <td>1</td>\n",
       "      <td>1</td>\n",
       "      <td>340</td>\n",
       "      <td>2</td>\n",
       "      <td>4</td>\n",
       "      <td>49</td>\n",
       "    </tr>\n",
       "    <tr>\n",
       "      <td>4</td>\n",
       "      <td>Airport4</td>\n",
       "      <td>Airport43</td>\n",
       "      <td>L1</td>\n",
       "      <td>5911</td>\n",
       "      <td>538</td>\n",
       "      <td>City4</td>\n",
       "      <td>City39</td>\n",
       "      <td>2018</td>\n",
       "      <td>1</td>\n",
       "      <td>3</td>\n",
       "      <td>2017</td>\n",
       "      <td>12</td>\n",
       "      <td>3</td>\n",
       "      <td>1649</td>\n",
       "      <td>322</td>\n",
       "      <td>2.616667</td>\n",
       "      <td>afternoon</td>\n",
       "      <td>evening</td>\n",
       "      <td>night</td>\n",
       "      <td>night</td>\n",
       "      <td>3</td>\n",
       "      <td>2</td>\n",
       "      <td>1</td>\n",
       "      <td>1</td>\n",
       "      <td>337</td>\n",
       "      <td>6</td>\n",
       "      <td>4</td>\n",
       "      <td>48</td>\n",
       "    </tr>\n",
       "  </tbody>\n",
       "</table>\n",
       "</div>"
      ],
      "text/plain": [
       "     origin destination carrier  flt_num  total_fare origin_city destination_city  departure_yr  departure_mo  departure_dt    yr  mo  dt  scaled_demand  scaled_share  flight_travel_duration _flt_departure_local_time _flt_arrival_local_time _flt_departure_gmt _flt_arrival_gmt  flt_departure_dayofyear  flt_departure_weekday  flt_departure_week  flt_departure_quarter  observation_date_dayofyear  observation_date_weekday  observation_date_quarter  observation_date_week\n",
       "0  Airport4   Airport43      L1     5911         538       City4           City39          2018             1             3  2017  12  12           1649           322                2.616667                 afternoon                 evening              night            night                        3                      2                   1                      1                         346                         1                         4                     50\n",
       "1  Airport4   Airport43      L1     5911         651       City4           City39          2018             1             3  2017  12  23           1649           322                2.616667                 afternoon                 evening              night            night                        3                      2                   1                      1                         357                         5                         4                     51\n",
       "2  Airport4   Airport43      L1     5911         538       City4           City39          2018             1             3  2017  12   2           1649           322                2.616667                 afternoon                 evening              night            night                        3                      2                   1                      1                         336                         5                         4                     48\n",
       "3  Airport4   Airport43      L1     5911         538       City4           City39          2018             1             3  2017  12   6           1649           322                2.616667                 afternoon                 evening              night            night                        3                      2                   1                      1                         340                         2                         4                     49\n",
       "4  Airport4   Airport43      L1     5911         538       City4           City39          2018             1             3  2017  12   3           1649           322                2.616667                 afternoon                 evening              night            night                        3                      2                   1                      1                         337                         6                         4                     48"
      ]
     },
     "execution_count": 34,
     "metadata": {},
     "output_type": "execute_result"
    }
   ],
   "source": [
    "train_df.head()"
   ]
  },
  {
   "cell_type": "code",
   "execution_count": 39,
   "metadata": {},
   "outputs": [],
   "source": [
    "train_df =train_df.sample(frac=1).reset_index(drop=True)"
   ]
  },
  {
   "cell_type": "code",
   "execution_count": 40,
   "metadata": {},
   "outputs": [],
   "source": [
    "test_df = test_df.sample(frac=1).reset_index(drop=True)"
   ]
  },
  {
   "cell_type": "code",
   "execution_count": 41,
   "metadata": {},
   "outputs": [],
   "source": [
    "target = train_df['total_fare']\n",
    "train_df.drop('total_fare',1,inplace=True)"
   ]
  },
  {
   "cell_type": "code",
   "execution_count": 42,
   "metadata": {},
   "outputs": [],
   "source": [
    "X = pd.get_dummies(train_df, prefix_sep='_', drop_first=True)"
   ]
  },
  {
   "cell_type": "code",
   "execution_count": 43,
   "metadata": {},
   "outputs": [],
   "source": [
    "X_ = pd.get_dummies(test_df, prefix_sep='_', drop_first=True)"
   ]
  },
  {
   "cell_type": "code",
   "execution_count": 44,
   "metadata": {},
   "outputs": [],
   "source": [
    "X_train, X_test, y_train, y_test = train_test_split(X, target, test_size=0.1, random_state=42)"
   ]
  },
  {
   "cell_type": "code",
   "execution_count": 45,
   "metadata": {},
   "outputs": [],
   "source": [
    "params = {'n_estimators': 15000,\n",
    "                    'boosting_type': 'gbdt',\n",
    "                    'objective': 'regression',\n",
    "                    'metric': 'rmse',\n",
    "                    'subsample': 0.8,\n",
    "                    'subsample_freq': 1,\n",
    "                    'learning_rate': 0.25,\n",
    "                    'feature_fraction': 0.8,\n",
    "                    'max_depth': 15,\n",
    "                    'num_leaves': 200,\n",
    "                    'lambda_l1': 10,  \n",
    "                    'lambda_l2': 10,\n",
    "                    'early_stopping_rounds': 200,\n",
    "                    'verbose': 1,\n",
    "                   'random_seed': 42\n",
    "                    }"
   ]
  },
  {
   "cell_type": "code",
   "execution_count": 46,
   "metadata": {},
   "outputs": [],
   "source": [
    "lgb_train = lgb.Dataset(X_train, y_train)\n",
    "lgb_val = lgb.Dataset(X_test, y_test)"
   ]
  },
  {
   "cell_type": "code",
   "execution_count": 47,
   "metadata": {
    "scrolled": true
   },
   "outputs": [
    {
     "name": "stderr",
     "output_type": "stream",
     "text": [
      "/Users/subir/pythonenv/default/lib/python3.7/site-packages/lightgbm/engine.py:148: UserWarning:\n",
      "\n",
      "Found `n_estimators` in params. Will use it instead of argument\n",
      "\n",
      "/Users/subir/pythonenv/default/lib/python3.7/site-packages/lightgbm/engine.py:153: UserWarning:\n",
      "\n",
      "Found `early_stopping_rounds` in params. Will use it instead of argument\n",
      "\n"
     ]
    },
    {
     "name": "stdout",
     "output_type": "stream",
     "text": [
      "Training until validation scores don't improve for 200 rounds\n",
      "[100]\tvalid_0's rmse: 238.474\n",
      "[200]\tvalid_0's rmse: 219.666\n",
      "[300]\tvalid_0's rmse: 210.353\n",
      "[400]\tvalid_0's rmse: 203.811\n",
      "[500]\tvalid_0's rmse: 198.94\n",
      "[600]\tvalid_0's rmse: 195.095\n",
      "[700]\tvalid_0's rmse: 192.053\n",
      "[800]\tvalid_0's rmse: 189.676\n",
      "[900]\tvalid_0's rmse: 187.704\n",
      "[1000]\tvalid_0's rmse: 185.801\n",
      "[1100]\tvalid_0's rmse: 184.157\n",
      "[1200]\tvalid_0's rmse: 182.707\n",
      "[1300]\tvalid_0's rmse: 181.452\n",
      "[1400]\tvalid_0's rmse: 180.315\n",
      "[1500]\tvalid_0's rmse: 179.374\n",
      "[1600]\tvalid_0's rmse: 178.481\n",
      "[1700]\tvalid_0's rmse: 177.78\n",
      "[1800]\tvalid_0's rmse: 176.996\n",
      "[1900]\tvalid_0's rmse: 176.314\n",
      "[2000]\tvalid_0's rmse: 175.721\n",
      "[2100]\tvalid_0's rmse: 175.264\n",
      "[2200]\tvalid_0's rmse: 174.772\n",
      "[2300]\tvalid_0's rmse: 174.192\n",
      "[2400]\tvalid_0's rmse: 173.693\n",
      "[2500]\tvalid_0's rmse: 173.295\n",
      "[2600]\tvalid_0's rmse: 172.977\n",
      "[2700]\tvalid_0's rmse: 172.58\n",
      "[2800]\tvalid_0's rmse: 172.163\n",
      "[2900]\tvalid_0's rmse: 171.73\n",
      "[3000]\tvalid_0's rmse: 171.449\n",
      "[3100]\tvalid_0's rmse: 171.238\n",
      "[3200]\tvalid_0's rmse: 170.898\n",
      "[3300]\tvalid_0's rmse: 170.62\n",
      "[3400]\tvalid_0's rmse: 170.382\n",
      "[3500]\tvalid_0's rmse: 170.218\n",
      "[3600]\tvalid_0's rmse: 169.938\n",
      "[3700]\tvalid_0's rmse: 169.852\n",
      "[3800]\tvalid_0's rmse: 169.638\n",
      "[3900]\tvalid_0's rmse: 169.437\n",
      "[4000]\tvalid_0's rmse: 169.22\n",
      "[4100]\tvalid_0's rmse: 169.127\n",
      "[4200]\tvalid_0's rmse: 169.01\n",
      "[4300]\tvalid_0's rmse: 168.855\n",
      "[4400]\tvalid_0's rmse: 168.705\n",
      "[4500]\tvalid_0's rmse: 168.603\n",
      "[4600]\tvalid_0's rmse: 168.481\n",
      "[4700]\tvalid_0's rmse: 168.415\n",
      "[4800]\tvalid_0's rmse: 168.264\n",
      "[4900]\tvalid_0's rmse: 168.141\n",
      "[5000]\tvalid_0's rmse: 168.004\n",
      "[5100]\tvalid_0's rmse: 167.935\n",
      "[5200]\tvalid_0's rmse: 167.851\n",
      "[5300]\tvalid_0's rmse: 167.815\n",
      "[5400]\tvalid_0's rmse: 167.694\n",
      "[5500]\tvalid_0's rmse: 167.685\n",
      "[5600]\tvalid_0's rmse: 167.583\n",
      "[5700]\tvalid_0's rmse: 167.516\n",
      "[5800]\tvalid_0's rmse: 167.483\n",
      "[5900]\tvalid_0's rmse: 167.445\n",
      "[6000]\tvalid_0's rmse: 167.409\n",
      "[6100]\tvalid_0's rmse: 167.305\n",
      "[6200]\tvalid_0's rmse: 167.212\n",
      "[6300]\tvalid_0's rmse: 167.166\n",
      "[6400]\tvalid_0's rmse: 167.106\n",
      "[6500]\tvalid_0's rmse: 167.069\n",
      "[6600]\tvalid_0's rmse: 167.021\n",
      "[6700]\tvalid_0's rmse: 166.973\n",
      "[6800]\tvalid_0's rmse: 166.956\n",
      "[6900]\tvalid_0's rmse: 166.935\n",
      "[7000]\tvalid_0's rmse: 166.801\n",
      "[7100]\tvalid_0's rmse: 166.785\n",
      "[7200]\tvalid_0's rmse: 166.738\n",
      "[7300]\tvalid_0's rmse: 166.668\n",
      "[7400]\tvalid_0's rmse: 166.633\n",
      "[7500]\tvalid_0's rmse: 166.618\n",
      "[7600]\tvalid_0's rmse: 166.598\n",
      "[7700]\tvalid_0's rmse: 166.647\n",
      "Early stopping, best iteration is:\n",
      "[7556]\tvalid_0's rmse: 166.561\n"
     ]
    }
   ],
   "source": [
    "gbm = lgb.train(params, lgb_train, valid_sets=lgb_val,verbose_eval=100)"
   ]
  },
  {
   "cell_type": "code",
   "execution_count": 48,
   "metadata": {},
   "outputs": [],
   "source": [
    "y_pred = gbm.predict(X_test)"
   ]
  },
  {
   "cell_type": "code",
   "execution_count": 49,
   "metadata": {},
   "outputs": [
    {
     "name": "stdout",
     "output_type": "stream",
     "text": [
      "Mean Absolute Error: 79.69120934645572\n",
      "Mean Squared Error: 27742.522110634975\n",
      "Root Mean Squared Error: 166.56086608394835\n"
     ]
    }
   ],
   "source": [
    "print('Mean Absolute Error:', metrics.mean_absolute_error(y_test, y_pred))\n",
    "print('Mean Squared Error:', metrics.mean_squared_error(y_test, y_pred))\n",
    "print('Root Mean Squared Error:', np.sqrt(metrics.mean_squared_error(y_test, y_pred)))"
   ]
  },
  {
   "cell_type": "code",
   "execution_count": 50,
   "metadata": {},
   "outputs": [
    {
     "data": {
      "image/png": "[encoded data removed]",
      "text/plain": [
       "<Figure size 720x504 with 1 Axes>"
      ]
     },
     "metadata": {
      "needs_background": "light"
     },
     "output_type": "display_data"
    }
   ],
   "source": [
    "fig, ax = plt.subplots(figsize=(10, 7))\n",
    "lgb.plot_importance(gbm, max_num_features=30, ax=ax)\n",
    "plt.title(\"LightGBM - Feature Importance\");"
   ]
  },
  {
   "cell_type": "code",
   "execution_count": 51,
   "metadata": {},
   "outputs": [],
   "source": [
    "feature_imp_df = pd.DataFrame()\n",
    "feature_imp_df['feature_name'] = gbm.feature_name()\n",
    "feature_imp_df['feature_importance']= gbm.feature_importance()"
   ]
  },
  {
   "cell_type": "code",
   "execution_count": 52,
   "metadata": {},
   "outputs": [
    {
     "data": {
      "application/vnd.plotly.v1+json": {
       "config": {
        "linkText": "Export to plot.ly",
        "plotlyServerURL": "https://plot.ly",
        "showLink": true
       },
       "data": [
        {
         "marker": {
          "color": "rgba(255, 153, 51, 0.6)",
          "line": {
           "color": "rgba(255, 153, 51, 1.0)",
           "width": 1
          }
         },
         "name": "feature_importance",
         "orientation": "v",
         "text": "",
         "type": "bar",
         "x": [
          "flt_num",
          "departure_yr",
          "departure_mo",
          "departure_dt",
          "yr",
          "mo",
          "dt",
          "scaled_demand",
          "scaled_share",
          "flight_travel_duration",
          "flt_departure_dayofyear",
          "flt_departure_weekday",
          "flt_departure_week",
          "flt_departure_quarter",
          "observation_date_dayofyear",
          "observation_date_weekday",
          "observation_date_quarter",
          "observation_date_week",
          "origin_Airport20",
          "origin_Airport26",
          "origin_Airport30",
          "origin_Airport31",
          "origin_Airport4",
          "origin_Airport43",
          "origin_Airport60",
          "destination_Airport20",
          "destination_Airport26",
          "destination_Airport30",
          "destination_Airport31",
          "destination_Airport4",
          "destination_Airport43",
          "destination_Airport60",
          "carrier_L2",
          "carrier_L3",
          "origin_city_City19",
          "origin_city_City24",
          "origin_city_City27",
          "origin_city_City28",
          "origin_city_City39",
          "origin_city_City4",
          "origin_city_City56",
          "destination_city_City19",
          "destination_city_City24",
          "destination_city_City27",
          "destination_city_City28",
          "destination_city_City39",
          "destination_city_City4",
          "destination_city_City56",
          "_flt_departure_local_time_evening",
          "_flt_departure_local_time_morning",
          "_flt_departure_local_time_night",
          "_flt_arrival_local_time_evening",
          "_flt_arrival_local_time_morning",
          "_flt_arrival_local_time_night",
          "_flt_departure_gmt_evening",
          "_flt_departure_gmt_morning",
          "_flt_departure_gmt_night",
          "_flt_arrival_gmt_evening",
          "_flt_arrival_gmt_morning",
          "_flt_arrival_gmt_night"
         ],
         "y": [
          151588,
          0,
          20900,
          190576,
          718,
          14617,
          186492,
          42902,
          75333,
          130768,
          155662,
          101695,
          23989,
          158,
          172026,
          93508,
          169,
          22683,
          863,
          1081,
          6082,
          2454,
          3124,
          1402,
          2182,
          1619,
          857,
          2982,
          1999,
          2179,
          1133,
          2137,
          4356,
          3491,
          128,
          186,
          543,
          360,
          217,
          521,
          404,
          311,
          174,
          504,
          349,
          221,
          460,
          403,
          6851,
          10923,
          760,
          7979,
          8372,
          1727,
          10138,
          3085,
          4887,
          11489,
          3141,
          7786
         ]
        }
       ],
       "layout": {
        "legend": {
         "bgcolor": "#F5F6F9",
         "font": {
          "color": "#4D5663"
         }
        },
        "paper_bgcolor": "#F5F6F9",
        "plot_bgcolor": "#F5F6F9",
        "template": {
         "data": {
          "bar": [
           {
            "error_x": {
             "color": "#2a3f5f"
            },
            "error_y": {
             "color": "#2a3f5f"
            },
            "marker": {
             "line": {
              "color": "#E5ECF6",
              "width": 0.5
             }
            },
            "type": "bar"
           }
          ],
          "barpolar": [
           {
            "marker": {
             "line": {
              "color": "#E5ECF6",
              "width": 0.5
             }
            },
            "type": "barpolar"
           }
          ],
          "carpet": [
           {
            "aaxis": {
             "endlinecolor": "#2a3f5f",
             "gridcolor": "white",
             "linecolor": "white",
             "minorgridcolor": "white",
             "startlinecolor": "#2a3f5f"
            },
            "baxis": {
             "endlinecolor": "#2a3f5f",
             "gridcolor": "white",
             "linecolor": "white",
             "minorgridcolor": "white",
             "startlinecolor": "#2a3f5f"
            },
            "type": "carpet"
           }
          ],
          "choropleth": [
           {
            "colorbar": {
             "outlinewidth": 0,
             "ticks": ""
            },
            "type": "choropleth"
           }
          ],
          "contour": [
           {
            "colorbar": {
             "outlinewidth": 0,
             "ticks": ""
            },
            "colorscale": [
             [
              0,
              "#0d0887"
             ],
             [
              0.1111111111111111,
              "#46039f"
             ],
             [
              0.2222222222222222,
              "#7201a8"
             ],
             [
              0.3333333333333333,
              "#9c179e"
             ],
             [
              0.4444444444444444,
              "#bd3786"
             ],
             [
              0.5555555555555556,
              "#d8576b"
             ],
             [
              0.6666666666666666,
              "#ed7953"
             ],
             [
              0.7777777777777778,
              "#fb9f3a"
             ],
             [
              0.8888888888888888,
              "#fdca26"
             ],
             [
              1,
              "#f0f921"
             ]
            ],
            "type": "contour"
           }
          ],
          "contourcarpet": [
           {
            "colorbar": {
             "outlinewidth": 0,
             "ticks": ""
            },
            "type": "contourcarpet"
           }
          ],
          "heatmap": [
           {
            "colorbar": {
             "outlinewidth": 0,
             "ticks": ""
            },
            "colorscale": [
             [
              0,
              "#0d0887"
             ],
             [
              0.1111111111111111,
              "#46039f"
             ],
             [
              0.2222222222222222,
              "#7201a8"
             ],
             [
              0.3333333333333333,
              "#9c179e"
             ],
             [
              0.4444444444444444,
              "#bd3786"
             ],
             [
              0.5555555555555556,
              "#d8576b"
             ],
             [
              0.6666666666666666,
              "#ed7953"
             ],
             [
              0.7777777777777778,
              "#fb9f3a"
             ],
             [
              0.8888888888888888,
              "#fdca26"
             ],
             [
              1,
              "#f0f921"
             ]
            ],
            "type": "heatmap"
           }
          ],
          "heatmapgl": [
           {
            "colorbar": {
             "outlinewidth": 0,
             "ticks": ""
            },
            "colorscale": [
             [
              0,
              "#0d0887"
             ],
             [
              0.1111111111111111,
              "#46039f"
             ],
             [
              0.2222222222222222,
              "#7201a8"
             ],
             [
              0.3333333333333333,
              "#9c179e"
             ],
             [
              0.4444444444444444,
              "#bd3786"
             ],
             [
              0.5555555555555556,
              "#d8576b"
             ],
             [
              0.6666666666666666,
              "#ed7953"
             ],
             [
              0.7777777777777778,
              "#fb9f3a"
             ],
             [
              0.8888888888888888,
              "#fdca26"
             ],
             [
              1,
              "#f0f921"
             ]
            ],
            "type": "heatmapgl"
           }
          ],
          "histogram": [
           {
            "marker": {
             "colorbar": {
              "outlinewidth": 0,
              "ticks": ""
             }
            },
            "type": "histogram"
           }
          ],
          "histogram2d": [
           {
            "colorbar": {
             "outlinewidth": 0,
             "ticks": ""
            },
            "colorscale": [
             [
              0,
              "#0d0887"
             ],
             [
              0.1111111111111111,
              "#46039f"
             ],
             [
              0.2222222222222222,
              "#7201a8"
             ],
             [
              0.3333333333333333,
              "#9c179e"
             ],
             [
              0.4444444444444444,
              "#bd3786"
             ],
             [
              0.5555555555555556,
              "#d8576b"
             ],
             [
              0.6666666666666666,
              "#ed7953"
             ],
             [
              0.7777777777777778,
              "#fb9f3a"
             ],
             [
              0.8888888888888888,
              "#fdca26"
             ],
             [
              1,
              "#f0f921"
             ]
            ],
            "type": "histogram2d"
           }
          ],
          "histogram2dcontour": [
           {
            "colorbar": {
             "outlinewidth": 0,
             "ticks": ""
            },
            "colorscale": [
             [
              0,
              "#0d0887"
             ],
             [
              0.1111111111111111,
              "#46039f"
             ],
             [
              0.2222222222222222,
              "#7201a8"
             ],
             [
              0.3333333333333333,
              "#9c179e"
             ],
             [
              0.4444444444444444,
              "#bd3786"
             ],
             [
              0.5555555555555556,
              "#d8576b"
             ],
             [
              0.6666666666666666,
              "#ed7953"
             ],
             [
              0.7777777777777778,
              "#fb9f3a"
             ],
             [
              0.8888888888888888,
              "#fdca26"
             ],
             [
              1,
              "#f0f921"
             ]
            ],
            "type": "histogram2dcontour"
           }
          ],
          "mesh3d": [
           {
            "colorbar": {
             "outlinewidth": 0,
             "ticks": ""
            },
            "type": "mesh3d"
           }
          ],
          "parcoords": [
           {
            "line": {
             "colorbar": {
              "outlinewidth": 0,
              "ticks": ""
             }
            },
            "type": "parcoords"
           }
          ],
          "scatter": [
           {
            "marker": {
             "colorbar": {
              "outlinewidth": 0,
              "ticks": ""
             }
            },
            "type": "scatter"
           }
          ],
          "scatter3d": [
           {
            "line": {
             "colorbar": {
              "outlinewidth": 0,
              "ticks": ""
             }
            },
            "marker": {
             "colorbar": {
              "outlinewidth": 0,
              "ticks": ""
             }
            },
            "type": "scatter3d"
           }
          ],
          "scattercarpet": [
           {
            "marker": {
             "colorbar": {
              "outlinewidth": 0,
              "ticks": ""
             }
            },
            "type": "scattercarpet"
           }
          ],
          "scattergeo": [
           {
            "marker": {
             "colorbar": {
              "outlinewidth": 0,
              "ticks": ""
             }
            },
            "type": "scattergeo"
           }
          ],
          "scattergl": [
           {
            "marker": {
             "colorbar": {
              "outlinewidth": 0,
              "ticks": ""
             }
            },
            "type": "scattergl"
           }
          ],
          "scattermapbox": [
           {
            "marker": {
             "colorbar": {
              "outlinewidth": 0,
              "ticks": ""
             }
            },
            "type": "scattermapbox"
           }
          ],
          "scatterpolar": [
           {
            "marker": {
             "colorbar": {
              "outlinewidth": 0,
              "ticks": ""
             }
            },
            "type": "scatterpolar"
           }
          ],
          "scatterpolargl": [
           {
            "marker": {
             "colorbar": {
              "outlinewidth": 0,
              "ticks": ""
             }
            },
            "type": "scatterpolargl"
           }
          ],
          "scatterternary": [
           {
            "marker": {
             "colorbar": {
              "outlinewidth": 0,
              "ticks": ""
             }
            },
            "type": "scatterternary"
           }
          ],
          "surface": [
           {
            "colorbar": {
             "outlinewidth": 0,
             "ticks": ""
            },
            "colorscale": [
             [
              0,
              "#0d0887"
             ],
             [
              0.1111111111111111,
              "#46039f"
             ],
             [
              0.2222222222222222,
              "#7201a8"
             ],
             [
              0.3333333333333333,
              "#9c179e"
             ],
             [
              0.4444444444444444,
              "#bd3786"
             ],
             [
              0.5555555555555556,
              "#d8576b"
             ],
             [
              0.6666666666666666,
              "#ed7953"
             ],
             [
              0.7777777777777778,
              "#fb9f3a"
             ],
             [
              0.8888888888888888,
              "#fdca26"
             ],
             [
              1,
              "#f0f921"
             ]
            ],
            "type": "surface"
           }
          ],
          "table": [
           {
            "cells": {
             "fill": {
              "color": "#EBF0F8"
             },
             "line": {
              "color": "white"
             }
            },
            "header": {
             "fill": {
              "color": "#C8D4E3"
             },
             "line": {
              "color": "white"
             }
            },
            "type": "table"
           }
          ]
         },
         "layout": {
          "annotationdefaults": {
           "arrowcolor": "#2a3f5f",
           "arrowhead": 0,
           "arrowwidth": 1
          },
          "colorscale": {
           "diverging": [
            [
             0,
             "#8e0152"
            ],
            [
             0.1,
             "#c51b7d"
            ],
            [
             0.2,
             "#de77ae"
            ],
            [
             0.3,
             "#f1b6da"
            ],
            [
             0.4,
             "#fde0ef"
            ],
            [
             0.5,
             "#f7f7f7"
            ],
            [
             0.6,
             "#e6f5d0"
            ],
            [
             0.7,
             "#b8e186"
            ],
            [
             0.8,
             "#7fbc41"
            ],
            [
             0.9,
             "#4d9221"
            ],
            [
             1,
             "#276419"
            ]
           ],
           "sequential": [
            [
             0,
             "#0d0887"
            ],
            [
             0.1111111111111111,
             "#46039f"
            ],
            [
             0.2222222222222222,
             "#7201a8"
            ],
            [
             0.3333333333333333,
             "#9c179e"
            ],
            [
             0.4444444444444444,
             "#bd3786"
            ],
            [
             0.5555555555555556,
             "#d8576b"
            ],
            [
             0.6666666666666666,
             "#ed7953"
            ],
            [
             0.7777777777777778,
             "#fb9f3a"
            ],
            [
             0.8888888888888888,
             "#fdca26"
            ],
            [
             1,
             "#f0f921"
            ]
           ],
           "sequentialminus": [
            [
             0,
             "#0d0887"
            ],
            [
             0.1111111111111111,
             "#46039f"
            ],
            [
             0.2222222222222222,
             "#7201a8"
            ],
            [
             0.3333333333333333,
             "#9c179e"
            ],
            [
             0.4444444444444444,
             "#bd3786"
            ],
            [
             0.5555555555555556,
             "#d8576b"
            ],
            [
             0.6666666666666666,
             "#ed7953"
            ],
            [
             0.7777777777777778,
             "#fb9f3a"
            ],
            [
             0.8888888888888888,
             "#fdca26"
            ],
            [
             1,
             "#f0f921"
            ]
           ]
          },
          "colorway": [
           "#636efa",
           "#EF553B",
           "#00cc96",
           "#ab63fa",
           "#FFA15A",
           "#19d3f3",
           "#FF6692",
           "#B6E880",
           "#FF97FF",
           "#FECB52"
          ],
          "font": {
           "color": "#2a3f5f"
          },
          "geo": {
           "bgcolor": "white",
           "lakecolor": "white",
           "landcolor": "#E5ECF6",
           "showlakes": true,
           "showland": true,
           "subunitcolor": "white"
          },
          "hoverlabel": {
           "align": "left"
          },
          "hovermode": "closest",
          "mapbox": {
           "style": "light"
          },
          "paper_bgcolor": "white",
          "plot_bgcolor": "#E5ECF6",
          "polar": {
           "angularaxis": {
            "gridcolor": "white",
            "linecolor": "white",
            "ticks": ""
           },
           "bgcolor": "#E5ECF6",
           "radialaxis": {
            "gridcolor": "white",
            "linecolor": "white",
            "ticks": ""
           }
          },
          "scene": {
           "xaxis": {
            "backgroundcolor": "#E5ECF6",
            "gridcolor": "white",
            "gridwidth": 2,
            "linecolor": "white",
            "showbackground": true,
            "ticks": "",
            "zerolinecolor": "white"
           },
           "yaxis": {
            "backgroundcolor": "#E5ECF6",
            "gridcolor": "white",
            "gridwidth": 2,
            "linecolor": "white",
            "showbackground": true,
            "ticks": "",
            "zerolinecolor": "white"
           },
           "zaxis": {
            "backgroundcolor": "#E5ECF6",
            "gridcolor": "white",
            "gridwidth": 2,
            "linecolor": "white",
            "showbackground": true,
            "ticks": "",
            "zerolinecolor": "white"
           }
          },
          "shapedefaults": {
           "line": {
            "color": "#2a3f5f"
           }
          },
          "ternary": {
           "aaxis": {
            "gridcolor": "white",
            "linecolor": "white",
            "ticks": ""
           },
           "baxis": {
            "gridcolor": "white",
            "linecolor": "white",
            "ticks": ""
           },
           "bgcolor": "#E5ECF6",
           "caxis": {
            "gridcolor": "white",
            "linecolor": "white",
            "ticks": ""
           }
          },
          "title": {
           "x": 0.05
          },
          "xaxis": {
           "automargin": true,
           "gridcolor": "white",
           "linecolor": "white",
           "ticks": "",
           "zerolinecolor": "white",
           "zerolinewidth": 2
          },
          "yaxis": {
           "automargin": true,
           "gridcolor": "white",
           "linecolor": "white",
           "ticks": "",
           "zerolinecolor": "white",
           "zerolinewidth": 2
          }
         }
        },
        "title": {
         "font": {
          "color": "#4D5663"
         },
         "text": "LightGBM - Feature Importance"
        },
        "xaxis": {
         "gridcolor": "#E1E5ED",
         "showgrid": true,
         "tickfont": {
          "color": "#4D5663"
         },
         "title": {
          "font": {
           "color": "#4D5663"
          },
          "text": "Feature Name"
         },
         "zerolinecolor": "#E1E5ED"
        },
        "yaxis": {
         "gridcolor": "#E1E5ED",
         "showgrid": true,
         "tickfont": {
          "color": "#4D5663"
         },
         "title": {
          "font": {
           "color": "#4D5663"
          },
          "text": "Importance"
         },
         "zerolinecolor": "#E1E5ED"
        }
       }
      },
      "text/html": [
       "<div>\n",
       "        \n",
       "        \n",
       "            <div id=\"a59574f3-a20a-4dce-948b-7320995e1bf8\" class=\"plotly-graph-div\" style=\"height:525px; width:100%;\"></div>\n",
       "            <script type=\"text/javascript\">\n",
       "                require([\"plotly\"], function(Plotly) {\n",
       "                    window.PLOTLYENV=window.PLOTLYENV || {};\n",
       "                    window.PLOTLYENV.BASE_URL='https://plot.ly';\n",
       "                    \n",
       "                if (document.getElementById(\"a59574f3-a20a-4dce-948b-7320995e1bf8\")) {\n",
       "                    Plotly.newPlot(\n",
       "                        'a59574f3-a20a-4dce-948b-7320995e1bf8',\n",
       "                        [{\"marker\": {\"color\": \"rgba(255, 153, 51, 0.6)\", \"line\": {\"color\": \"rgba(255, 153, 51, 1.0)\", \"width\": 1}}, \"name\": \"feature_importance\", \"orientation\": \"v\", \"text\": \"\", \"type\": \"bar\", \"x\": [\"flt_num\", \"departure_yr\", \"departure_mo\", \"departure_dt\", \"yr\", \"mo\", \"dt\", \"scaled_demand\", \"scaled_share\", \"flight_travel_duration\", \"flt_departure_dayofyear\", \"flt_departure_weekday\", \"flt_departure_week\", \"flt_departure_quarter\", \"observation_date_dayofyear\", \"observation_date_weekday\", \"observation_date_quarter\", \"observation_date_week\", \"origin_Airport20\", \"origin_Airport26\", \"origin_Airport30\", \"origin_Airport31\", \"origin_Airport4\", \"origin_Airport43\", \"origin_Airport60\", \"destination_Airport20\", \"destination_Airport26\", \"destination_Airport30\", \"destination_Airport31\", \"destination_Airport4\", \"destination_Airport43\", \"destination_Airport60\", \"carrier_L2\", \"carrier_L3\", \"origin_city_City19\", \"origin_city_City24\", \"origin_city_City27\", \"origin_city_City28\", \"origin_city_City39\", \"origin_city_City4\", \"origin_city_City56\", \"destination_city_City19\", \"destination_city_City24\", \"destination_city_City27\", \"destination_city_City28\", \"destination_city_City39\", \"destination_city_City4\", \"destination_city_City56\", \"_flt_departure_local_time_evening\", \"_flt_departure_local_time_morning\", \"_flt_departure_local_time_night\", \"_flt_arrival_local_time_evening\", \"_flt_arrival_local_time_morning\", \"_flt_arrival_local_time_night\", \"_flt_departure_gmt_evening\", \"_flt_departure_gmt_morning\", \"_flt_departure_gmt_night\", \"_flt_arrival_gmt_evening\", \"_flt_arrival_gmt_morning\", \"_flt_arrival_gmt_night\"], \"y\": [151588, 0, 20900, 190576, 718, 14617, 186492, 42902, 75333, 130768, 155662, 101695, 23989, 158, 172026, 93508, 169, 22683, 863, 1081, 6082, 2454, 3124, 1402, 2182, 1619, 857, 2982, 1999, 2179, 1133, 2137, 4356, 3491, 128, 186, 543, 360, 217, 521, 404, 311, 174, 504, 349, 221, 460, 403, 6851, 10923, 760, 7979, 8372, 1727, 10138, 3085, 4887, 11489, 3141, 7786]}],\n",
       "                        {\"legend\": {\"bgcolor\": \"#F5F6F9\", \"font\": {\"color\": \"#4D5663\"}}, \"paper_bgcolor\": \"#F5F6F9\", \"plot_bgcolor\": \"#F5F6F9\", \"template\": {\"data\": {\"bar\": [{\"error_x\": {\"color\": \"#2a3f5f\"}, \"error_y\": {\"color\": \"#2a3f5f\"}, \"marker\": {\"line\": {\"color\": \"#E5ECF6\", \"width\": 0.5}}, \"type\": \"bar\"}], \"barpolar\": [{\"marker\": {\"line\": {\"color\": \"#E5ECF6\", \"width\": 0.5}}, \"type\": \"barpolar\"}], \"carpet\": [{\"aaxis\": {\"endlinecolor\": \"#2a3f5f\", \"gridcolor\": \"white\", \"linecolor\": \"white\", \"minorgridcolor\": \"white\", \"startlinecolor\": \"#2a3f5f\"}, \"baxis\": {\"endlinecolor\": \"#2a3f5f\", \"gridcolor\": \"white\", \"linecolor\": \"white\", \"minorgridcolor\": \"white\", \"startlinecolor\": \"#2a3f5f\"}, \"type\": \"carpet\"}], \"choropleth\": [{\"colorbar\": {\"outlinewidth\": 0, \"ticks\": \"\"}, \"type\": \"choropleth\"}], \"contour\": [{\"colorbar\": {\"outlinewidth\": 0, \"ticks\": \"\"}, \"colorscale\": [[0.0, \"#0d0887\"], [0.1111111111111111, \"#46039f\"], [0.2222222222222222, \"#7201a8\"], [0.3333333333333333, \"#9c179e\"], [0.4444444444444444, \"#bd3786\"], [0.5555555555555556, \"#d8576b\"], [0.6666666666666666, \"#ed7953\"], [0.7777777777777778, \"#fb9f3a\"], [0.8888888888888888, \"#fdca26\"], [1.0, \"#f0f921\"]], \"type\": \"contour\"}], \"contourcarpet\": [{\"colorbar\": {\"outlinewidth\": 0, \"ticks\": \"\"}, \"type\": \"contourcarpet\"}], \"heatmap\": [{\"colorbar\": {\"outlinewidth\": 0, \"ticks\": \"\"}, \"colorscale\": [[0.0, \"#0d0887\"], [0.1111111111111111, \"#46039f\"], [0.2222222222222222, \"#7201a8\"], [0.3333333333333333, \"#9c179e\"], [0.4444444444444444, \"#bd3786\"], [0.5555555555555556, \"#d8576b\"], [0.6666666666666666, \"#ed7953\"], [0.7777777777777778, \"#fb9f3a\"], [0.8888888888888888, \"#fdca26\"], [1.0, \"#f0f921\"]], \"type\": \"heatmap\"}], \"heatmapgl\": [{\"colorbar\": {\"outlinewidth\": 0, \"ticks\": \"\"}, \"colorscale\": [[0.0, \"#0d0887\"], [0.1111111111111111, \"#46039f\"], [0.2222222222222222, \"#7201a8\"], [0.3333333333333333, \"#9c179e\"], [0.4444444444444444, \"#bd3786\"], [0.5555555555555556, \"#d8576b\"], [0.6666666666666666, \"#ed7953\"], [0.7777777777777778, \"#fb9f3a\"], [0.8888888888888888, \"#fdca26\"], [1.0, \"#f0f921\"]], \"type\": \"heatmapgl\"}], \"histogram\": [{\"marker\": {\"colorbar\": {\"outlinewidth\": 0, \"ticks\": \"\"}}, \"type\": \"histogram\"}], \"histogram2d\": [{\"colorbar\": {\"outlinewidth\": 0, \"ticks\": \"\"}, \"colorscale\": [[0.0, \"#0d0887\"], [0.1111111111111111, \"#46039f\"], [0.2222222222222222, \"#7201a8\"], [0.3333333333333333, \"#9c179e\"], [0.4444444444444444, \"#bd3786\"], [0.5555555555555556, \"#d8576b\"], [0.6666666666666666, \"#ed7953\"], [0.7777777777777778, \"#fb9f3a\"], [0.8888888888888888, \"#fdca26\"], [1.0, \"#f0f921\"]], \"type\": \"histogram2d\"}], \"histogram2dcontour\": [{\"colorbar\": {\"outlinewidth\": 0, \"ticks\": \"\"}, \"colorscale\": [[0.0, \"#0d0887\"], [0.1111111111111111, \"#46039f\"], [0.2222222222222222, \"#7201a8\"], [0.3333333333333333, \"#9c179e\"], [0.4444444444444444, \"#bd3786\"], [0.5555555555555556, \"#d8576b\"], [0.6666666666666666, \"#ed7953\"], [0.7777777777777778, \"#fb9f3a\"], [0.8888888888888888, \"#fdca26\"], [1.0, \"#f0f921\"]], \"type\": \"histogram2dcontour\"}], \"mesh3d\": [{\"colorbar\": {\"outlinewidth\": 0, \"ticks\": \"\"}, \"type\": \"mesh3d\"}], \"parcoords\": [{\"line\": {\"colorbar\": {\"outlinewidth\": 0, \"ticks\": \"\"}}, \"type\": \"parcoords\"}], \"scatter\": [{\"marker\": {\"colorbar\": {\"outlinewidth\": 0, \"ticks\": \"\"}}, \"type\": \"scatter\"}], \"scatter3d\": [{\"line\": {\"colorbar\": {\"outlinewidth\": 0, \"ticks\": \"\"}}, \"marker\": {\"colorbar\": {\"outlinewidth\": 0, \"ticks\": \"\"}}, \"type\": \"scatter3d\"}], \"scattercarpet\": [{\"marker\": {\"colorbar\": {\"outlinewidth\": 0, \"ticks\": \"\"}}, \"type\": \"scattercarpet\"}], \"scattergeo\": [{\"marker\": {\"colorbar\": {\"outlinewidth\": 0, \"ticks\": \"\"}}, \"type\": \"scattergeo\"}], \"scattergl\": [{\"marker\": {\"colorbar\": {\"outlinewidth\": 0, \"ticks\": \"\"}}, \"type\": \"scattergl\"}], \"scattermapbox\": [{\"marker\": {\"colorbar\": {\"outlinewidth\": 0, \"ticks\": \"\"}}, \"type\": \"scattermapbox\"}], \"scatterpolar\": [{\"marker\": {\"colorbar\": {\"outlinewidth\": 0, \"ticks\": \"\"}}, \"type\": \"scatterpolar\"}], \"scatterpolargl\": [{\"marker\": {\"colorbar\": {\"outlinewidth\": 0, \"ticks\": \"\"}}, \"type\": \"scatterpolargl\"}], \"scatterternary\": [{\"marker\": {\"colorbar\": {\"outlinewidth\": 0, \"ticks\": \"\"}}, \"type\": \"scatterternary\"}], \"surface\": [{\"colorbar\": {\"outlinewidth\": 0, \"ticks\": \"\"}, \"colorscale\": [[0.0, \"#0d0887\"], [0.1111111111111111, \"#46039f\"], [0.2222222222222222, \"#7201a8\"], [0.3333333333333333, \"#9c179e\"], [0.4444444444444444, \"#bd3786\"], [0.5555555555555556, \"#d8576b\"], [0.6666666666666666, \"#ed7953\"], [0.7777777777777778, \"#fb9f3a\"], [0.8888888888888888, \"#fdca26\"], [1.0, \"#f0f921\"]], \"type\": \"surface\"}], \"table\": [{\"cells\": {\"fill\": {\"color\": \"#EBF0F8\"}, \"line\": {\"color\": \"white\"}}, \"header\": {\"fill\": {\"color\": \"#C8D4E3\"}, \"line\": {\"color\": \"white\"}}, \"type\": \"table\"}]}, \"layout\": {\"annotationdefaults\": {\"arrowcolor\": \"#2a3f5f\", \"arrowhead\": 0, \"arrowwidth\": 1}, \"colorscale\": {\"diverging\": [[0, \"#8e0152\"], [0.1, \"#c51b7d\"], [0.2, \"#de77ae\"], [0.3, \"#f1b6da\"], [0.4, \"#fde0ef\"], [0.5, \"#f7f7f7\"], [0.6, \"#e6f5d0\"], [0.7, \"#b8e186\"], [0.8, \"#7fbc41\"], [0.9, \"#4d9221\"], [1, \"#276419\"]], \"sequential\": [[0.0, \"#0d0887\"], [0.1111111111111111, \"#46039f\"], [0.2222222222222222, \"#7201a8\"], [0.3333333333333333, \"#9c179e\"], [0.4444444444444444, \"#bd3786\"], [0.5555555555555556, \"#d8576b\"], [0.6666666666666666, \"#ed7953\"], [0.7777777777777778, \"#fb9f3a\"], [0.8888888888888888, \"#fdca26\"], [1.0, \"#f0f921\"]], \"sequentialminus\": [[0.0, \"#0d0887\"], [0.1111111111111111, \"#46039f\"], [0.2222222222222222, \"#7201a8\"], [0.3333333333333333, \"#9c179e\"], [0.4444444444444444, \"#bd3786\"], [0.5555555555555556, \"#d8576b\"], [0.6666666666666666, \"#ed7953\"], [0.7777777777777778, \"#fb9f3a\"], [0.8888888888888888, \"#fdca26\"], [1.0, \"#f0f921\"]]}, \"colorway\": [\"#636efa\", \"#EF553B\", \"#00cc96\", \"#ab63fa\", \"#FFA15A\", \"#19d3f3\", \"#FF6692\", \"#B6E880\", \"#FF97FF\", \"#FECB52\"], \"font\": {\"color\": \"#2a3f5f\"}, \"geo\": {\"bgcolor\": \"white\", \"lakecolor\": \"white\", \"landcolor\": \"#E5ECF6\", \"showlakes\": true, \"showland\": true, \"subunitcolor\": \"white\"}, \"hoverlabel\": {\"align\": \"left\"}, \"hovermode\": \"closest\", \"mapbox\": {\"style\": \"light\"}, \"paper_bgcolor\": \"white\", \"plot_bgcolor\": \"#E5ECF6\", \"polar\": {\"angularaxis\": {\"gridcolor\": \"white\", \"linecolor\": \"white\", \"ticks\": \"\"}, \"bgcolor\": \"#E5ECF6\", \"radialaxis\": {\"gridcolor\": \"white\", \"linecolor\": \"white\", \"ticks\": \"\"}}, \"scene\": {\"xaxis\": {\"backgroundcolor\": \"#E5ECF6\", \"gridcolor\": \"white\", \"gridwidth\": 2, \"linecolor\": \"white\", \"showbackground\": true, \"ticks\": \"\", \"zerolinecolor\": \"white\"}, \"yaxis\": {\"backgroundcolor\": \"#E5ECF6\", \"gridcolor\": \"white\", \"gridwidth\": 2, \"linecolor\": \"white\", \"showbackground\": true, \"ticks\": \"\", \"zerolinecolor\": \"white\"}, \"zaxis\": {\"backgroundcolor\": \"#E5ECF6\", \"gridcolor\": \"white\", \"gridwidth\": 2, \"linecolor\": \"white\", \"showbackground\": true, \"ticks\": \"\", \"zerolinecolor\": \"white\"}}, \"shapedefaults\": {\"line\": {\"color\": \"#2a3f5f\"}}, \"ternary\": {\"aaxis\": {\"gridcolor\": \"white\", \"linecolor\": \"white\", \"ticks\": \"\"}, \"baxis\": {\"gridcolor\": \"white\", \"linecolor\": \"white\", \"ticks\": \"\"}, \"bgcolor\": \"#E5ECF6\", \"caxis\": {\"gridcolor\": \"white\", \"linecolor\": \"white\", \"ticks\": \"\"}}, \"title\": {\"x\": 0.05}, \"xaxis\": {\"automargin\": true, \"gridcolor\": \"white\", \"linecolor\": \"white\", \"ticks\": \"\", \"zerolinecolor\": \"white\", \"zerolinewidth\": 2}, \"yaxis\": {\"automargin\": true, \"gridcolor\": \"white\", \"linecolor\": \"white\", \"ticks\": \"\", \"zerolinecolor\": \"white\", \"zerolinewidth\": 2}}}, \"title\": {\"font\": {\"color\": \"#4D5663\"}, \"text\": \"LightGBM - Feature Importance\"}, \"xaxis\": {\"gridcolor\": \"#E1E5ED\", \"showgrid\": true, \"tickfont\": {\"color\": \"#4D5663\"}, \"title\": {\"font\": {\"color\": \"#4D5663\"}, \"text\": \"Feature Name\"}, \"zerolinecolor\": \"#E1E5ED\"}, \"yaxis\": {\"gridcolor\": \"#E1E5ED\", \"showgrid\": true, \"tickfont\": {\"color\": \"#4D5663\"}, \"title\": {\"font\": {\"color\": \"#4D5663\"}, \"text\": \"Importance\"}, \"zerolinecolor\": \"#E1E5ED\"}},\n",
       "                        {\"showLink\": true, \"linkText\": \"Export to plot.ly\", \"plotlyServerURL\": \"https://plot.ly\", \"responsive\": true}\n",
       "                    ).then(function(){\n",
       "                            \n",
       "var gd = document.getElementById('a59574f3-a20a-4dce-948b-7320995e1bf8');\n",
       "var x = new MutationObserver(function (mutations, observer) {{\n",
       "        var display = window.getComputedStyle(gd).display;\n",
       "        if (!display || display === 'none') {{\n",
       "            console.log([gd, 'removed!']);\n",
       "            Plotly.purge(gd);\n",
       "            observer.disconnect();\n",
       "        }}\n",
       "}});\n",
       "\n",
       "// Listen for the removal of the full notebook cells\n",
       "var notebookContainer = gd.closest('#notebook-container');\n",
       "if (notebookContainer) {{\n",
       "    x.observe(notebookContainer, {childList: true});\n",
       "}}\n",
       "\n",
       "// Listen for the clearing of the current output cell\n",
       "var outputEl = gd.closest('.output');\n",
       "if (outputEl) {{\n",
       "    x.observe(outputEl, {childList: true});\n",
       "}}\n",
       "\n",
       "                        })\n",
       "                };\n",
       "                });\n",
       "            </script>\n",
       "        </div>"
      ]
     },
     "metadata": {},
     "output_type": "display_data"
    }
   ],
   "source": [
    "feature_imp_df.iplot(x='feature_name',y='feature_importance',kind='bar',title='LightGBM - Feature Importance',xTitle='Feature Name',yTitle='Importance')"
   ]
  },
  {
   "cell_type": "code",
   "execution_count": 53,
   "metadata": {},
   "outputs": [
    {
     "data": {
      "text/plain": [
       "<lightgbm.basic.Booster at 0x11771f9d0>"
      ]
     },
     "execution_count": 53,
     "metadata": {},
     "output_type": "execute_result"
    }
   ],
   "source": [
    "gbm.save_model('light_gbm.txt')"
   ]
  },
  {
   "cell_type": "code",
   "execution_count": null,
   "metadata": {},
   "outputs": [],
   "source": []
  }
 ],
 "metadata": {
  "kernelspec": {
   "display_name": "Python 3",
   "language": "python",
   "name": "python3"
  },
  "language_info": {
   "codemirror_mode": {
    "name": "ipython",
    "version": 3
   },
   "file_extension": ".py",
   "mimetype": "text/x-python",
   "name": "python",
   "nbconvert_exporter": "python",
   "pygments_lexer": "ipython3",
   "version": "3.7.4"
  }
 },
 "nbformat": 4,
 "nbformat_minor": 4
}
