{
 "cells": [
  {
   "cell_type": "code",
   "execution_count": 17,
   "metadata": {
    "ExecuteTime": {
     "end_time": "2020-10-15T05:41:51.444398Z",
     "start_time": "2020-10-15T05:41:51.440947Z"
    }
   },
   "outputs": [],
   "source": [
    "import pandas as pd \n",
    "from datetime import datetime"
   ]
  },
  {
   "cell_type": "code",
   "execution_count": 10,
   "metadata": {
    "ExecuteTime": {
     "end_time": "2020-10-15T05:10:41.150875Z",
     "start_time": "2020-10-15T05:10:41.003102Z"
    }
   },
   "outputs": [],
   "source": [
    "data = pd.read_excel('Case Study - Deep Dive Analysis.xlsx',sheet_name='input_data')"
   ]
  },
  {
   "cell_type": "code",
   "execution_count": 93,
   "metadata": {
    "ExecuteTime": {
     "end_time": "2020-10-15T08:24:06.529806Z",
     "start_time": "2020-10-15T08:24:06.526370Z"
    }
   },
   "outputs": [],
   "source": [
    "def date_handler(date: str):\n",
    "    return datetime.strptime(date, '%b%Y').strftime('%Y/%m/%d')"
   ]
  },
  {
   "cell_type": "code",
   "execution_count": 99,
   "metadata": {
    "ExecuteTime": {
     "end_time": "2020-10-15T08:24:26.847558Z",
     "start_time": "2020-10-15T08:24:26.843082Z"
    }
   },
   "outputs": [],
   "source": [
    "def calculate_growth_rate(df: pd.DataFrame, target_period: str,\n",
    "                          reference_period: str) -> float:\n",
    "    target_sales = df[df.month == target_period]['Value Offtake(000 Rs)'].sum()\n",
    "    reference_sales = df[df.month ==\n",
    "                         reference_period]['Value Offtake(000 Rs)'].sum()\n",
    "    growth_rate = ((target_sales - reference_sales) / reference_sales) * 100\n",
    "    return growth_rate"
   ]
  },
  {
   "cell_type": "code",
   "execution_count": 100,
   "metadata": {
    "ExecuteTime": {
     "end_time": "2020-10-15T08:24:27.305174Z",
     "start_time": "2020-10-15T08:24:27.300861Z"
    }
   },
   "outputs": [],
   "source": [
    "def calculate_contribution(df: pd.DataFrame, target_period: str,\n",
    "                           target_period_total_value_sale: float) -> float:\n",
    "    target_sales = df[df.month == target_period]['Value Offtake(000 Rs)'].sum()\n",
    "    contribution = (target_sales / target_period_total_value_sale) * 100\n",
    "    return contribution"
   ]
  },
  {
   "cell_type": "code",
   "execution_count": 101,
   "metadata": {
    "ExecuteTime": {
     "end_time": "2020-10-15T08:24:28.124771Z",
     "start_time": "2020-10-15T08:24:28.121625Z"
    }
   },
   "outputs": [],
   "source": [
    "deep_dive_options = {\n",
    "    'ProductLevel': ['Brand', 'Subbrand'],\n",
    "    'Geographicalevel': ['Zone', 'Region']\n",
    "}"
   ]
  },
  {
   "cell_type": "code",
   "execution_count": 104,
   "metadata": {
    "ExecuteTime": {
     "end_time": "2020-10-15T08:24:39.062607Z",
     "start_time": "2020-10-15T08:24:39.053360Z"
    }
   },
   "outputs": [],
   "source": [
    "def deep_dive_analysis(Manufacturer: str, target_period: str,\n",
    "                       reference_period: str) -> pd.DataFrame:\n",
    "    analysis_data = data[data.Manufacturer == Manufacturer]\n",
    "    # Date Handler to take care of Proper Date Formating\n",
    "    target_period = date_handler(target_period)\n",
    "    reference_period = date_handler(reference_period)\n",
    "\n",
    "    target_period_total_value_sale = analysis_data[\n",
    "        analysis_data.month == target_period]['Value Offtake(000 Rs)'].sum()\n",
    "    reference_period_total_value_sale = analysis_data[\n",
    "        analysis_data.month ==\n",
    "        reference_period]['Value Offtake(000 Rs)'].sum()\n",
    "\n",
    "    gain = target_period_total_value_sale - reference_period_total_value_sale\n",
    "    if gain >= 0:\n",
    "        print(\n",
    "            f\"There is no drop in the sales for a {Manufacturer} in the {target_period}\"\n",
    "        )\n",
    "    else:\n",
    "        # Let's deep dive\n",
    "        result_list = []\n",
    "        for option in deep_dive_options.keys():\n",
    "            print(f'Doing {option} Analysis')\n",
    "            levels = deep_dive_options[option]\n",
    "            for level in levels:\n",
    "                print(f'Level :{level}')\n",
    "                focus_area_list = analysis_data[level].value_counts(\n",
    "                ).index.to_list()\n",
    "                for focus_area in focus_area_list:\n",
    "                    growth_rate = calculate_growth_rate(\n",
    "                        analysis_data[analysis_data[level] == focus_area],\n",
    "                        target_period=target_period,\n",
    "                        reference_period=reference_period)\n",
    "                    contribution = calculate_contribution(\n",
    "                        analysis_data[analysis_data[level] == focus_area],\n",
    "                        target_period=target_period,\n",
    "                        target_period_total_value_sale=target_period_total_value_sale)\n",
    "                    product = growth_rate * contribution\n",
    "                    result_list.append({\n",
    "                        'Manufacturer': Manufacturer,\n",
    "                        'level': level,\n",
    "                        'focus_area': focus_area,\n",
    "                        'growth_rate': growth_rate,\n",
    "                        'contribution': contribution,\n",
    "                        'product': product\n",
    "                    })\n",
    "        deep_dive_df = pd.DataFrame(result_list)\n",
    "        deep_dive_df.sort_values(by='product', inplace=True)\n",
    "        return deep_dive_df"
   ]
  },
  {
   "cell_type": "code",
   "execution_count": 106,
   "metadata": {
    "ExecuteTime": {
     "end_time": "2020-10-15T08:28:56.470948Z",
     "start_time": "2020-10-15T08:28:56.412910Z"
    }
   },
   "outputs": [
    {
     "name": "stdout",
     "output_type": "stream",
     "text": [
      "Doing ProductLevel Analysis\n",
      "Level :Brand\n",
      "Level :Subbrand\n",
      "Doing Geographicalevel Analysis\n",
      "Level :Zone\n",
      "Level :Region\n"
     ]
    },
    {
     "data": {
      "text/html": [
       "<div>\n",
       "<style scoped>\n",
       "    .dataframe tbody tr th:only-of-type {\n",
       "        vertical-align: middle;\n",
       "    }\n",
       "\n",
       "    .dataframe tbody tr th {\n",
       "        vertical-align: top;\n",
       "    }\n",
       "\n",
       "    .dataframe thead th {\n",
       "        text-align: right;\n",
       "    }\n",
       "</style>\n",
       "<table border=\"1\" class=\"dataframe\">\n",
       "  <thead>\n",
       "    <tr style=\"text-align: right;\">\n",
       "      <th></th>\n",
       "      <th>Manufacturer</th>\n",
       "      <th>level</th>\n",
       "      <th>focus_area</th>\n",
       "      <th>growth_rate</th>\n",
       "      <th>contribution</th>\n",
       "      <th>product</th>\n",
       "    </tr>\n",
       "  </thead>\n",
       "  <tbody>\n",
       "    <tr>\n",
       "      <th>0</th>\n",
       "      <td>NESTLE</td>\n",
       "      <td>Brand</td>\n",
       "      <td>MILO</td>\n",
       "      <td>-16.012620</td>\n",
       "      <td>100.000000</td>\n",
       "      <td>-1601.262027</td>\n",
       "    </tr>\n",
       "    <tr>\n",
       "      <th>1</th>\n",
       "      <td>NESTLE</td>\n",
       "      <td>Subbrand</td>\n",
       "      <td>MILO ACTIVE GO</td>\n",
       "      <td>-16.012620</td>\n",
       "      <td>100.000000</td>\n",
       "      <td>-1601.262027</td>\n",
       "    </tr>\n",
       "    <tr>\n",
       "      <th>4</th>\n",
       "      <td>NESTLE</td>\n",
       "      <td>Zone</td>\n",
       "      <td>North</td>\n",
       "      <td>-33.304098</td>\n",
       "      <td>30.369991</td>\n",
       "      <td>-1011.445167</td>\n",
       "    </tr>\n",
       "    <tr>\n",
       "      <th>6</th>\n",
       "      <td>NESTLE</td>\n",
       "      <td>Region</td>\n",
       "      <td>Urban</td>\n",
       "      <td>-11.463735</td>\n",
       "      <td>78.373854</td>\n",
       "      <td>-898.457067</td>\n",
       "    </tr>\n",
       "    <tr>\n",
       "      <th>2</th>\n",
       "      <td>NESTLE</td>\n",
       "      <td>Zone</td>\n",
       "      <td>East</td>\n",
       "      <td>-29.054471</td>\n",
       "      <td>26.520403</td>\n",
       "      <td>-770.536283</td>\n",
       "    </tr>\n",
       "    <tr>\n",
       "      <th>7</th>\n",
       "      <td>NESTLE</td>\n",
       "      <td>Region</td>\n",
       "      <td>Rural</td>\n",
       "      <td>-29.196177</td>\n",
       "      <td>21.626146</td>\n",
       "      <td>-631.400788</td>\n",
       "    </tr>\n",
       "    <tr>\n",
       "      <th>3</th>\n",
       "      <td>NESTLE</td>\n",
       "      <td>Zone</td>\n",
       "      <td>South</td>\n",
       "      <td>2.199291</td>\n",
       "      <td>13.495841</td>\n",
       "      <td>29.681287</td>\n",
       "    </tr>\n",
       "    <tr>\n",
       "      <th>5</th>\n",
       "      <td>NESTLE</td>\n",
       "      <td>Zone</td>\n",
       "      <td>West</td>\n",
       "      <td>29.071361</td>\n",
       "      <td>29.613765</td>\n",
       "      <td>860.912475</td>\n",
       "    </tr>\n",
       "  </tbody>\n",
       "</table>\n",
       "</div>"
      ],
      "text/plain": [
       "  Manufacturer     level      focus_area  growth_rate  contribution  \\\n",
       "0       NESTLE     Brand            MILO   -16.012620    100.000000   \n",
       "1       NESTLE  Subbrand  MILO ACTIVE GO   -16.012620    100.000000   \n",
       "4       NESTLE      Zone           North   -33.304098     30.369991   \n",
       "6       NESTLE    Region           Urban   -11.463735     78.373854   \n",
       "2       NESTLE      Zone            East   -29.054471     26.520403   \n",
       "7       NESTLE    Region           Rural   -29.196177     21.626146   \n",
       "3       NESTLE      Zone           South     2.199291     13.495841   \n",
       "5       NESTLE      Zone            West    29.071361     29.613765   \n",
       "\n",
       "       product  \n",
       "0 -1601.262027  \n",
       "1 -1601.262027  \n",
       "4 -1011.445167  \n",
       "6  -898.457067  \n",
       "2  -770.536283  \n",
       "7  -631.400788  \n",
       "3    29.681287  \n",
       "5   860.912475  "
      ]
     },
     "execution_count": 106,
     "metadata": {},
     "output_type": "execute_result"
    }
   ],
   "source": [
    "deep_dive_analysis(Manufacturer='NESTLE',target_period='Feb2019',reference_period='Jan2019')"
   ]
  },
  {
   "cell_type": "code",
   "execution_count": null,
   "metadata": {},
   "outputs": [],
   "source": []
  }
 ],
 "metadata": {
  "kernelspec": {
   "display_name": "base",
   "language": "python",
   "name": "base"
  },
  "language_info": {
   "codemirror_mode": {
    "name": "ipython",
    "version": 3
   },
   "file_extension": ".py",
   "mimetype": "text/x-python",
   "name": "python",
   "nbconvert_exporter": "python",
   "pygments_lexer": "ipython3",
   "version": "3.8.3"
  }
 },
 "nbformat": 4,
 "nbformat_minor": 4
}
