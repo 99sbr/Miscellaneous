{
 "cells": [
  {
   "cell_type": "code",
   "execution_count": 276,
   "metadata": {},
   "outputs": [],
   "source": [
    "import json\n",
    "import numpy as np\n",
    "from PIL import Image\n",
    "from keras_preprocessing import image\n",
    "import numpy as np\n",
    "import pandas as pd\n",
    "from keras import applications\n",
    "import numpy as np\n",
    "import imutils\n",
    "from tqdm import tqdm\n",
    "from keras.layers import Dropout, Dense, Activation, GlobalAveragePooling2D"
   ]
  },
  {
   "cell_type": "code",
   "execution_count": 277,
   "metadata": {},
   "outputs": [
    {
     "name": "stderr",
     "output_type": "stream",
     "text": [
      "100%|██████████| 62/62 [06:06<00:00,  5.91s/it]"
     ]
    },
    {
     "name": "stdout",
     "output_type": "stream",
     "text": [
      "--- 366.4217929840088 seconds Execution Time---\n"
     ]
    },
    {
     "name": "stderr",
     "output_type": "stream",
     "text": [
      "\n"
     ]
    }
   ],
   "source": [
    "\n",
    "start = time.time()\n",
    "final_result = {}\n",
    "for imagePath in tqdm(glob.glob(r\"/Users/subir/Codes/Miscellaneous/MAD/TASK1/sample_testset/images\" + \"/*.jpg\")):\n",
    "    image = cv2.imread(imagePath)\n",
    "    gray = cv2.cvtColor(image, cv2.COLOR_BGR2GRAY)\n",
    "    crop_match_list = []\n",
    "    for templatePath in glob.glob(\"/Users/subir/Codes/Miscellaneous/MAD/TASK1/sample_testset/crops\" + \"/*.jpg\"):\n",
    "        template = cv2.imread(templatePath, 0)\n",
    "        (tH, tW) = template.shape[:2]\n",
    "        found = None\n",
    "        for scale in np.linspace(0.2, 1.0, 20)[::-1]:\n",
    "            resized = imutils.resize(gray, width=int(gray.shape[1] * scale))\n",
    "            r = gray.shape[1] / float(resized.shape[1])\n",
    "            if resized.shape[0] < tH or resized.shape[1] < tW:\n",
    "                break\n",
    "            result = cv2.matchTemplate(resized, template, cv2.TM_CCOEFF_NORMED)\n",
    "            (_, maxVal, _, maxLoc) = cv2.minMaxLoc(result)\n",
    "            position = np.where(result >= 0.95)\n",
    "            for point in zip(*position[::-1]):\n",
    "                found = (point, r)\n",
    "        if found:\n",
    "            (maxLoc, r) = found\n",
    "            (startX, startY) = (int(maxLoc[0] * r), int(maxLoc[1] * r))\n",
    "            (endX, endY) = (int((maxLoc[0] + tW) * r), int((maxLoc[1] + tH) * r))\n",
    "            crop_match_list.append([os.path.basename(templatePath).replace('.jpg', ''), [startX, startY, endX, endY]])\n",
    "\n",
    "    final_result[os.path.basename(imagePath).replace('.jpg', '')]=[]\n",
    "    final_result[os.path.basename(imagePath).replace('.jpg', '')] = crop_match_list\n",
    "\n",
    "\n",
    "end = time.time()\n",
    "print(\"--- %s seconds Execution Time---\" % (end - start))\n"
   ]
  },
  {
   "cell_type": "code",
   "execution_count": 5,
   "metadata": {},
   "outputs": [],
   "source": [
    "def get_images(file_list):\n",
    "        target_size = (299, 299)\n",
    "        images = []\n",
    "        for file in file_list:\n",
    "            img = Image.open(file)\n",
    "            if img.size != target_size:\n",
    "                img = img.resize(target_size)\n",
    "            img = image.img_to_array(img)\n",
    "            img /= 255.\n",
    "            images.append(img)\n",
    "        return np.array(images)"
   ]
  },
  {
   "cell_type": "code",
   "execution_count": 7,
   "metadata": {},
   "outputs": [],
   "source": [
    "base_model = applications.InceptionV3(weights=\"imagenet\", include_top=False,\n",
    "                                          input_shape=(299, 299, 3))\n",
    "\n",
    "x = base_model.output\n",
    "x = GlobalAveragePooling2D()(x)\n",
    "x = Dense(1024)(x)"
   ]
  },
  {
   "cell_type": "code",
   "execution_count": 13,
   "metadata": {},
   "outputs": [],
   "source": [
    "from keras.models import Model\n",
    "model = Model(inputs=base_model.input, outputs=x)"
   ]
  },
  {
   "cell_type": "code",
   "execution_count": 8,
   "metadata": {},
   "outputs": [],
   "source": [
    "import os,glob"
   ]
  },
  {
   "cell_type": "code",
   "execution_count": 109,
   "metadata": {},
   "outputs": [],
   "source": [
    "image_names = glob.glob('sample_testset/images/*')\n",
    "crops_names = glob.glob('sample_testset/crops/*')"
   ]
  },
  {
   "cell_type": "code",
   "execution_count": 126,
   "metadata": {},
   "outputs": [],
   "source": [
    "image_names= [image_names[i].split('/')[-1].replace('.jpg','') for i in range(len(image_names))]"
   ]
  },
  {
   "cell_type": "code",
   "execution_count": 127,
   "metadata": {},
   "outputs": [],
   "source": [
    "crops_names= [crops_names[i].split('/')[-1].replace('.jpg','') for i in range(len(crops_names))]"
   ]
  },
  {
   "cell_type": "code",
   "execution_count": 63,
   "metadata": {},
   "outputs": [],
   "source": [
    "images=get_images(glob.glob(os.path.join('sample_testset/images','*.jpg')))"
   ]
  },
  {
   "cell_type": "code",
   "execution_count": 64,
   "metadata": {},
   "outputs": [],
   "source": [
    "crops=get_images(glob.glob(os.path.join('sample_testset/crops','*.jpg')))"
   ]
  },
  {
   "cell_type": "code",
   "execution_count": 65,
   "metadata": {},
   "outputs": [],
   "source": [
    "images_features=model.predict(images)"
   ]
  },
  {
   "cell_type": "code",
   "execution_count": 66,
   "metadata": {},
   "outputs": [],
   "source": [
    "crops_features=model.predict(crops)"
   ]
  },
  {
   "cell_type": "code",
   "execution_count": 67,
   "metadata": {},
   "outputs": [],
   "source": [
    "from sklearn.decomposition import PCA"
   ]
  },
  {
   "cell_type": "code",
   "execution_count": 68,
   "metadata": {},
   "outputs": [],
   "source": [
    "pca = PCA(2)"
   ]
  },
  {
   "cell_type": "code",
   "execution_count": 69,
   "metadata": {},
   "outputs": [],
   "source": [
    "pca_imgs=pca.fit_transform(images_features)\n",
    "pca_crops=pca.fit_transform(crops_features)"
   ]
  },
  {
   "cell_type": "code",
   "execution_count": 215,
   "metadata": {},
   "outputs": [],
   "source": [
    "filename = 'finalized_pca_model.sav'\n",
    "pickle.dump(pca, open(filename, 'wb'))"
   ]
  },
  {
   "cell_type": "code",
   "execution_count": 128,
   "metadata": {},
   "outputs": [],
   "source": [
    "principalDf_img = pd.DataFrame(\n",
    "    {'principal component 1':pca_imgs[:,0],'principal component 2':pca_imgs[:,1],'Images':image_names})"
   ]
  },
  {
   "cell_type": "code",
   "execution_count": 129,
   "metadata": {},
   "outputs": [],
   "source": [
    "principalDf_crops = pd.DataFrame(\n",
    "    {'principal component 1':pca_crops[:,0],'principal component 2':pca_crops[:,1],'Images':crops_names})"
   ]
  },
  {
   "cell_type": "code",
   "execution_count": 113,
   "metadata": {},
   "outputs": [],
   "source": [
    "import matplotlib.pyplot as plt"
   ]
  },
  {
   "cell_type": "code",
   "execution_count": 140,
   "metadata": {},
   "outputs": [
    {
     "data": {
      "image/png": "[encoded data removed]",
      "text/plain": [
       "<Figure size 864x576 with 1 Axes>"
      ]
     },
     "metadata": {
      "needs_background": "light"
     },
     "output_type": "display_data"
    }
   ],
   "source": [
    "fig = plt.figure(figsize = (12,8))\n",
    "ax = fig.add_subplot(1,1,1) \n",
    "ax.set_xlabel('Principal Component 1', fontsize = 15)\n",
    "ax.set_ylabel('Principal Component 2', fontsize = 15)\n",
    "ax.set_title('2 component PCA', fontsize = 20)\n",
    "targets = ['original images']\n",
    "colors = ['b']\n",
    "ax.scatter(principalDf_img['principal component 1']\n",
    "           , principalDf_img['principal component 2']\n",
    "           , c = color\n",
    "           , s = 50)\n",
    "ax.legend(targets)\n",
    "ax.grid()"
   ]
  },
  {
   "cell_type": "code",
   "execution_count": 156,
   "metadata": {},
   "outputs": [],
   "source": [
    "import numpy as np\n",
    "import pandas as pd\n",
    "from matplotlib import pyplot as plt\n",
    "from sklearn.datasets.samples_generator import make_blobs\n",
    "from sklearn.cluster import KMeans"
   ]
  },
  {
   "cell_type": "code",
   "execution_count": 178,
   "metadata": {},
   "outputs": [
    {
     "data": {
      "image/png": "[encoded data removed]",
      "text/plain": [
       "<Figure size 864x576 with 1 Axes>"
      ]
     },
     "metadata": {
      "needs_background": "light"
     },
     "output_type": "display_data"
    }
   ],
   "source": [
    "fig = plt.figure(figsize = (12,8))\n",
    "wcss = []\n",
    "for i in range(1, 11):\n",
    "    kmeans = KMeans(n_clusters=i, init='k-means++', max_iter=1000, n_init=10, random_state=0)\n",
    "    kmeans.fit(principalDf_img.drop('Images',1))\n",
    "    wcss.append(kmeans.inertia_)\n",
    "plt.plot(range(1, 11), wcss)\n",
    "plt.title('Elbow Method')\n",
    "plt.xlabel('Number of clusters')\n",
    "plt.ylabel('WCSS')\n",
    "plt.grid()\n",
    "plt.show()"
   ]
  },
  {
   "cell_type": "code",
   "execution_count": 183,
   "metadata": {},
   "outputs": [
    {
     "data": {
      "image/png": "[encoded data removed]",
      "text/plain": [
       "<Figure size 864x576 with 1 Axes>"
      ]
     },
     "metadata": {
      "needs_background": "light"
     },
     "output_type": "display_data"
    }
   ],
   "source": [
    "fig = plt.figure(figsize = (12,8))\n",
    "kmeans = KMeans(n_clusters=6, init='k-means++', max_iter=1000, n_init=10, random_state=0)\n",
    "kmeans_imgs = kmeans.fit(pca_imgs)\n",
    "pred_y = kmeans_imgs.predict(pca_imgs)\n",
    "plt.scatter(pca_imgs[:,0], pca_imgs[:,1])\n",
    "plt.scatter(kmeans.cluster_centers_[:, 0], kmeans.cluster_centers_[:, 1], s=300, c='red',marker='*')\n",
    "plt.grid()\n",
    "plt.show()"
   ]
  },
  {
   "cell_type": "code",
   "execution_count": 210,
   "metadata": {},
   "outputs": [],
   "source": [
    "# save the model to disk\n",
    "import pickle\n",
    "filename = 'finalized_kmeans_model.sav'\n",
    "pickle.dump(kmeans_imgs, open(filename, 'wb'))"
   ]
  },
  {
   "cell_type": "code",
   "execution_count": 211,
   "metadata": {},
   "outputs": [],
   "source": [
    "loaded_model = pickle.load(open(filename, 'rb'))"
   ]
  },
  {
   "cell_type": "code",
   "execution_count": 137,
   "metadata": {},
   "outputs": [],
   "source": [
    "y_min,y_max=(min(principalDf_img['principal component 2']),max(principalDf_img['principal component 2']))\n",
    "\n",
    "x_min,x_max=(min(principalDf_img['principal component 1']),max(principalDf_img['principal component 1']))"
   ]
  },
  {
   "cell_type": "code",
   "execution_count": 180,
   "metadata": {},
   "outputs": [
    {
     "data": {
      "image/png": "[encoded data removed]",
      "text/plain": [
       "<Figure size 864x576 with 1 Axes>"
      ]
     },
     "metadata": {
      "needs_background": "light"
     },
     "output_type": "display_data"
    }
   ],
   "source": [
    "fig = plt.figure(figsize = (12,8))\n",
    "ax = fig.add_subplot(1,1,1) \n",
    "ax.set_xlabel('Principal Component 1', fontsize = 15)\n",
    "ax.set_ylabel('Principal Component 2', fontsize = 15)\n",
    "ax.set_title('2 component PCA', fontsize = 20)\n",
    "targets = ['image crops']\n",
    "ax.scatter(principalDf_crops['principal component 1']\n",
    "           , principalDf_crops['principal component 2']\n",
    "           , c = 'g'\n",
    "           , s = 50 , marker='*')\n",
    "ax.legend(targets)\n",
    "ax.grid()"
   ]
  },
  {
   "cell_type": "code",
   "execution_count": 181,
   "metadata": {},
   "outputs": [
    {
     "data": {
      "image/png": "[encoded data removed]",
      "text/plain": [
       "<Figure size 864x576 with 1 Axes>"
      ]
     },
     "metadata": {
      "needs_background": "light"
     },
     "output_type": "display_data"
    }
   ],
   "source": [
    "fig = plt.figure(figsize = (12,8))\n",
    "wcss = []\n",
    "for i in range(1, 11):\n",
    "    kmeans = KMeans(n_clusters=i, init='k-means++', max_iter=1000, n_init=10, random_state=0)\n",
    "    kmeans.fit(principalDf_crops.drop('Images',1))\n",
    "    wcss.append(kmeans.inertia_)\n",
    "plt.plot(range(1, 11), wcss)\n",
    "plt.title('Elbow Method')\n",
    "plt.xlabel('Number of clusters')\n",
    "plt.ylabel('WCSS')\n",
    "plt.grid()\n",
    "plt.show()"
   ]
  },
  {
   "cell_type": "code",
   "execution_count": 184,
   "metadata": {},
   "outputs": [
    {
     "data": {
      "image/png": "[encoded data removed]",
      "text/plain": [
       "<Figure size 864x576 with 1 Axes>"
      ]
     },
     "metadata": {
      "needs_background": "light"
     },
     "output_type": "display_data"
    }
   ],
   "source": [
    "fig = plt.figure(figsize = (12,8))\n",
    "kmeans = KMeans(n_clusters=6, init='k-means++', max_iter=1000, n_init=10, random_state=0)\n",
    "kmeans_crops = kmeans.fit(pca_crops)\n",
    "pred_y = kmeans_crops.predict(pca_crops)\n",
    "plt.scatter(pca_crops[:,0], pca_crops[:,1], c = 'g', s = 50 , marker='*')\n",
    "plt.scatter(kmeans.cluster_centers_[:, 0], kmeans.cluster_centers_[:, 1], s=300, c='red')\n",
    "plt.grid()\n",
    "plt.show()"
   ]
  },
  {
   "cell_type": "code",
   "execution_count": 260,
   "metadata": {},
   "outputs": [],
   "source": [
    "with open('./sample_testset/out_res.json') as f:\n",
    "    content = json.load(f)"
   ]
  },
  {
   "cell_type": "code",
   "execution_count": 261,
   "metadata": {
    "scrolled": true
   },
   "outputs": [
    {
     "data": {
      "text/plain": [
       "{'00c58d88-53e0-5314-947d-4763004df6df': [['625dd192-96cc-59cd-83d0-ad5fa710b4bb',\n",
       "   [250, 243, 379, 327]],\n",
       "  ['0dbcd814-e138-560d-b30a-752355fc2d9f', [80, 265, 203, 545]],\n",
       "  ['e89536f7-8c02-5c66-9164-56b630ffd3eb', [111, 102, 282, 447]],\n",
       "  ['9bbdd7e2-d9e4-558f-b180-235c47099c7e', [88, 532, 161, 600]]],\n",
       " 'c82b21ed-f9e2-5e32-9567-0882e25e4f76': [['76a0179c-e4b4-5623-8643-be37a418e627',\n",
       "   [121, 237, 275, 563]],\n",
       "  ['940f83be-0b9a-5e1e-ab8b-e17180e3e5fa', [88, 120, 290, 308]],\n",
       "  ['a8c28b66-32d8-571a-ad5f-26c3bf1cd112', [172, 132, 269, 241]]],\n",
       " 'f2d04823-e49f-56f6-84fa-850e62b53ab8': [['407bc86a-2f9e-57c0-892f-ffdb42b667a5',\n",
       "   [141, 97, 266, 290]],\n",
       "  ['137a5083-c54a-5975-ba3c-9830fc97cb84', [106, 299, 162, 373]],\n",
       "  ['848353df-dba9-5c2c-8bed-7748959f965f', [146, 142, 271, 433]]],\n",
       " '846df95d-407f-47d3-8518-52b7adadef14': [['f00ad669-0057-4d82-b487-98a8ca604abe',\n",
       "   'r'],\n",
       "  ['f2159555-664a-411c-aab1-df9e46fa2578', 'r']],\n",
       " 'd2203689-55c8-5bcb-91e7-e3e8a0f8d940': [['3a1bd28f-0a5e-539c-9110-25c12187ebe8',\n",
       "   [112, 120, 275, 306]],\n",
       "  ['03643b7a-256c-54dd-b783-2ee3fe775902', [96, 274, 274, 407]]],\n",
       " '3ca9dd7e-1b8b-5a2c-8017-05c13682402e': [['f9befb38-7ca6-5731-a862-d2f9e8813943',\n",
       "   [178, 282, 291, 359]],\n",
       "  ['76c61426-ef5b-588d-a15a-0928048885bf', [133, 107, 324, 376]]],\n",
       " '64b05eb4-2817-509d-aa5d-82119c15ea36': [['6374830a-c5f1-5440-a80c-2f530ecc272b',\n",
       "   [161, 370, 246, 440]],\n",
       "  ['c22130c2-da3e-5942-9c5a-d27641bdbf46', [183, 94, 345, 408]]],\n",
       " '21d62ca5-5a13-55d7-876b-0a9ce1ed47c8': [['96f9ed4c-7b07-5e04-8061-3d9faf9d57b6',\n",
       "   [144, 213, 245, 333]],\n",
       "  ['5857f677-c32d-5433-8d4c-dc95796f998a', [108, 331, 179, 391]],\n",
       "  ['959b0df9-3d25-5031-b61c-7ee491d4a8c5', [149, 346, 260, 522]]],\n",
       " '4e1a07f3-b483-472d-bf26-851772e91ed0': [['11e9e960-a1a1-5618-89cd-564a834539db',\n",
       "   [97, 128, 323, 310]]],\n",
       " '6908216a-7160-478c-8517-62ce28c64f27': [['07bd4f1d-455d-51b4-a2f5-18b5fd9b96be',\n",
       "   [182, 528, 249, 592]]],\n",
       " 'f3100d10-33fc-41f9-b7b8-79162c832560': [['0f244a9c-981f-5594-8816-d8ae675c2445',\n",
       "   [146, 297, 266, 376]]],\n",
       " '55cf0050-3fd6-519a-a0ab-aca1a22fdd5e': [['8e490d51-fa4e-5a4f-8a1f-32adf28300d5',\n",
       "   [138, 95, 293, 257]],\n",
       "  ['9029ec7e-5045-590c-92c2-e57f5264ed17', [162, 215, 277, 319]]],\n",
       " 'e4d43d63-568f-5027-8357-46cfe0980a7c': [['78583f4c-236a-5ee3-885b-d41f19d6a4b2',\n",
       "   [137, 89, 279, 367]],\n",
       "  ['d9136d19-a5b4-5fbd-9efe-3054df82b9e8', [114, 92, 284, 336]],\n",
       "  ['70934077-52ba-5b8a-986d-a2edad6330d2', [151, 519, 207, 590]]],\n",
       " 'a13c0da5-8e31-47a9-890f-6f971b80bbe3': [['6931315d-5872-4233-a664-cced66a83381',\n",
       "   'r'],\n",
       "  ['3aaafd09-d27c-4b67-8e4a-3ee02011ab4c', 'r'],\n",
       "  ['01b8aff5-0563-4f3d-a53a-a6085bdc9e00', 'r'],\n",
       "  ['52ffcab8-3aef-4ebf-8780-0505ebb22a1b', 'r']],\n",
       " '2842f417-1322-4c9f-86c2-51636b26d25c': [['c6e625b0-35fb-57ec-9b93-ad3fe84e5f12',\n",
       "   [142, 120, 254, 373]]],\n",
       " 'ea9b55cc-e010-5905-b696-9f8bacc50fe6': [['23b54427-3e33-518d-bae7-6168c64c3fb6',\n",
       "   [138, 138, 250, 274]],\n",
       "  ['b6c0049f-5219-5e2b-bf3e-234237c0634e', [121, 263, 237, 374]],\n",
       "  ['4222499b-7eb8-5fdd-8d26-c62a4b93ed44', [135, 518, 230, 578]],\n",
       "  ['3de6313f-117f-5ff7-8565-4b7c418b876e', [113, 507, 195, 572]]],\n",
       " 'eff7af80-e5fd-42fa-b88b-9b12671912e5': [['cbd922e7-b67b-47b6-ba85-f104e604ae9b',\n",
       "   'r'],\n",
       "  ['f969886c-ed82-479f-9eb9-5feea77d6732', 'r']],\n",
       " 'd70fafda-0d9d-4c64-acc4-d40fa5dacd87': [['a055d5b4-0270-4f03-8d8f-d16689b68c3a',\n",
       "   'r'],\n",
       "  ['6e4d2f6c-c553-4ac4-9807-7ff2cc42c8a2', 'r'],\n",
       "  ['4f89963f-9165-416a-a92f-231250e36268', 'r'],\n",
       "  ['4e33d696-86e6-4425-8d80-5fd1f16a2e35', 'r']],\n",
       " '74ad4492-3350-5a83-8d0e-ae9dddb75a3c': [['1e5700bb-f7be-5ad8-9d6b-861527158aea',\n",
       "   [108, 240, 223, 537]],\n",
       "  ['c2c4b97f-3867-5077-9ac0-b3148520287a', [129, 134, 239, 218]]],\n",
       " '6fc1d9f2-7647-4f0d-9e34-17e34bef7d62': [['5f9782a4-58a0-5f0d-b38e-b9a2d4a406b9',\n",
       "   [95, 133, 209, 288]]],\n",
       " '294d1d6b-5e11-4d96-b2a8-4feaad830d82': [['503c6e84-c06f-4930-a8ab-6f5f4317892c',\n",
       "   'r']],\n",
       " 'a0eda751-d15f-4d07-aab4-73126a1391b0': [['aaada030-229c-48ef-876c-5c407aec89b9',\n",
       "   'r'],\n",
       "  ['7cfa4a6e-f7ca-4d01-aa44-8cdf3c2aabe9', 'r'],\n",
       "  ['6f04672a-df6d-4dc8-b49b-7170571f20b5', 'r'],\n",
       "  ['d423270d-0a5e-4dff-8a09-d239e3ef67bf', 'r']],\n",
       " 'e562cdea-ece0-5d64-8dd8-c7c1ee72ed9b': [['5a08e990-4ce5-5884-bfa0-eb081de201fd',\n",
       "   [187, 223, 319, 323]],\n",
       "  ['4fbb45de-e7fa-590b-a30b-89f24f7a6063', [31, 200, 274, 593]],\n",
       "  ['abf4827f-eed7-5073-a771-127b793e22b7', [141, 91, 245, 211]]],\n",
       " 'NA': [['c0d906e0-47e9-5d1b-a693-2627be9c1c65', [31, 296, 87, 382]],\n",
       "  ['3b6f792e-0e8f-5a32-ba34-03a7cfeaa622', [58, 114, 176, 353]],\n",
       "  ['2aa82aa0-a2fd-518d-8541-a135c51e1f85', [77, 31, 161, 82]],\n",
       "  ['3ef28b3a-cdd5-548b-8134-7c69393c89f2', [118, 124, 230, 239]],\n",
       "  ['387e06b4-e8d7-55c6-acb7-e0020a411732', [129, 217, 249, 439]]],\n",
       " '697e51a9-acf6-57f7-a953-3dab647bb64b': [['f9da3e4f-32d0-5108-aea2-3929ddb8e69e',\n",
       "   [83, 283, 157, 406]],\n",
       "  ['aebd976e-bfce-50a8-a15e-4209f027911c', [97, 121, 297, 396]],\n",
       "  ['c794efe7-776f-5710-97b2-472d9f7f481e', [210, 5, 271, 56]]],\n",
       " '7d34dba8-bfa7-5df5-95be-1e6a0b32e96a': [['d5c73577-010c-5814-86ec-0c9eef0db6e7',\n",
       "   [225, 150, 329, 402]],\n",
       "  ['07bd4f1d-455d-51b4-a2f5-18b5fd9b96be', [182, 528, 249, 592]]],\n",
       " 'cbd28f99-adfb-5611-86b8-6a16ebd91db1': [['a46f4578-11a7-5820-9627-991892e9dbad',\n",
       "   [152, 350, 246, 517]],\n",
       "  ['9bbce327-a11a-50a3-a55a-c93e23bc9a33', [108, 133, 275, 394]],\n",
       "  ['563e3aee-f2bd-5138-807f-7252d898da35', [147, 139, 246, 359]]],\n",
       " 'e9f53d42-2965-5815-a634-69a05b2ade36': [['505126d0-d6f8-5a61-83ef-a36a81da2c06',\n",
       "   [114, 123, 292, 298]],\n",
       "  ['aeaaa3de-b5b1-5100-af51-a50c81a3f5f8', [131, 255, 237, 350]]],\n",
       " 'cf90493d-99ac-5a5f-bd91-4bcf6545d68d': [['11e9e960-a1a1-5618-89cd-564a834539db',\n",
       "   [97, 128, 323, 310]],\n",
       "  ['72f715f3-7aaa-584e-a9aa-03d47e3dd9cd', [76, 257, 159, 396]],\n",
       "  ['0f244a9c-981f-5594-8816-d8ae675c2445', [146, 297, 266, 376]],\n",
       "  ['ca6b5c80-7da3-5e53-86dd-dfdd92d2bcbf', [180, 441, 240, 558]]],\n",
       " '2d96cac9-75b7-5dd8-a48a-2e84977045d7': [['c2101cf3-2af3-5b5a-840d-4bca84a1d632',\n",
       "   [280, 110, 352, 227]],\n",
       "  ['2c7cd45e-ddde-5970-b901-17b6a9af95a9', [243, 216, 363, 304]],\n",
       "  ['9620b3cb-cda2-5ca4-9a06-e78c0ea12efb', [297, 527, 349, 595]]],\n",
       " '19574c45-4a96-4860-b795-b43c5ca4daae': [['587d8b5a-8e94-4198-ac2d-57a2fca699a6',\n",
       "   'r'],\n",
       "  ['5a1e6513-51a3-4e27-afaf-8321ea011eb2', 'r'],\n",
       "  ['e50b6223-7e27-4ce5-8cd3-b38ebf001eff', 'r'],\n",
       "  ['b3efb308-e5de-4748-b790-ce8a6c7b61d3', 'r']],\n",
       " '6b52501f-e495-49ae-8943-ce95c9c7f07b': [['bfab47d0-65d4-46f4-9863-04b5c2118121',\n",
       "   'r'],\n",
       "  ['3269df9a-7ac9-4f84-9b5e-d1340bd00bf5', 'r']],\n",
       " '572b5f6e-cb14-4862-a6b2-4d9dad511943': [['70934077-52ba-5b8a-986d-a2edad6330d2',\n",
       "   [151, 519, 207, 590]]],\n",
       " 'fe3b816d-f4e4-5d9a-9102-5d618d7bd2dc': [['71b6cc41-e2d7-507e-bcb3-4de6f0bc37b4',\n",
       "   [127, 263, 265, 358]],\n",
       "  ['bb82d826-9692-5ecd-9663-553eeafc1944', [132, 119, 265, 319]],\n",
       "  ['f673e0f1-1597-5af0-b34f-17c8da921645', [175, 490, 227, 589]]],\n",
       " '850937c3-bac6-4682-ae04-5222146d212f': [['b6c0049f-5219-5e2b-bf3e-234237c0634e',\n",
       "   [121, 263, 237, 374]]],\n",
       " '25f71cd6-cfae-4975-a757-9c1be7cac4d3': [['d9136d19-a5b4-5fbd-9efe-3054df82b9e8',\n",
       "   [114, 92, 284, 336]]],\n",
       " '6c4fb8be-1282-465d-ad3b-a883a295fc39': [['9bbdd7e2-d9e4-558f-b180-235c47099c7e',\n",
       "   [88, 532, 161, 600]]],\n",
       " '310f363a-526e-52ba-8024-07812e8e9c47': [['011fbe2f-5d1a-5a2c-8564-c6352189d65b',\n",
       "   [87, 355, 171, 501]]],\n",
       " '13e86ee2-f02a-5246-8554-f9ae7ba22ca9': [['9facc07f-d2c6-5b8e-80ff-aa0f5c1b5d22',\n",
       "   [128, 215, 258, 321]],\n",
       "  ['d67dd45f-3847-55d9-a39f-4277725d0ea9', [139, 95, 233, 238]]],\n",
       " '2e391741-2678-43a0-af7e-0b155e5fc7c5': [['62378955-c892-462d-a5f7-bc31713a7d89',\n",
       "   'r'],\n",
       "  ['500419f4-1afd-4540-ab61-b6fa49bfc360', 'r'],\n",
       "  ['643cf579-4e3b-448e-b10d-71fda6c29622', 'r'],\n",
       "  ['28f0095e-daf9-43ab-98a8-ea13d581b79a', 'r']],\n",
       " 'eb9528e4-0951-5a2a-a237-3bae4f48d07b': [['5f9782a4-58a0-5f0d-b38e-b9a2d4a406b9',\n",
       "   [95, 133, 209, 288]],\n",
       "  ['cd0a5c51-2bfb-5f00-a3cf-1d6d2ff6609f', [83, 258, 213, 375]],\n",
       "  ['1ae50232-5c20-5f8f-b496-5c8fdb0f4548', [158, 498, 216, 567]]],\n",
       " 'c9c99546-f634-5801-b316-40a6c3b66b1d': [['c8b6a5b2-ef80-57c1-8e9c-f40dd8092535',\n",
       "   [211, 259, 344, 359]],\n",
       "  ['879241bf-99b0-55a8-a54a-58b4dea6bf77', [173, 145, 289, 352]]],\n",
       " '40890023-03f3-5226-af83-0cfe775187b8': [['b8850862-bbaf-57fb-b9ee-c9cf132842b4',\n",
       "   [231, 295, 332, 392]],\n",
       "  ['d96217fc-914c-55d0-ad7f-4c2aeccf350e', [182, 160, 284, 376]],\n",
       "  ['afb8cde2-0e4f-55d6-a1ae-5e65567ed1ab', [225, 532, 297, 598]]],\n",
       " 'b3365b00-ae61-5420-b93c-a02f0abde1f2': [['61d8bba2-be8b-5fca-a564-961a5efaca52',\n",
       "   [59, 132, 283, 357]],\n",
       "  ['5bffc19a-1200-5c52-bab7-82830c657dee', [150, 47, 251, 114]],\n",
       "  ['c840f969-4016-5f0d-924f-76a3037dc39c', [98, 450, 170, 572]]],\n",
       " '53df8637-00b4-42fb-bdb8-e42865f1d286': [['0dbcd814-e138-560d-b30a-752355fc2d9f',\n",
       "   [80, 265, 203, 545]]],\n",
       " '4db3190d-58ff-5590-bb7f-9d1b67ce7dc4': [['6ef0dbb7-dc07-586f-b939-f2d661edfc5a',\n",
       "   [224, 393, 289, 462]],\n",
       "  ['9f082cc7-c2fe-51c2-aba7-788cdebfd6ea', [154, 109, 281, 376]],\n",
       "  ['8ae0dcd3-0c9c-55aa-8bf9-ecb93db65fd6', [167, 538, 261, 591]]],\n",
       " '336ebaae-1f2a-5838-a09e-d3293b480bdd': [['e1798cfc-b28a-54f5-ae8a-2a30f60c637e',\n",
       "   [196, 121, 318, 277]],\n",
       "  ['6e152d74-5630-5cec-b0b9-f60b9c622c7f', [222, 45, 298, 102]],\n",
       "  ['39bddc4a-7674-5e36-95ff-ddf5c5c08fe7', [188, 220, 316, 353]]],\n",
       " 'cf2ef32a-f319-5130-a56f-bf03ec4dbe32': [['37547c32-6c34-528b-862a-c0b8fe055966',\n",
       "   [131, 179, 244, 301]],\n",
       "  ['f5c3643e-4c34-54aa-85d0-04302951eb4a', [156, 311, 213, 467]]],\n",
       " '7a0dc2f2-75f2-4ad3-a2aa-ca9f1681c329': [['5857f677-c32d-5433-8d4c-dc95796f998a',\n",
       "   [108, 331, 179, 391]]],\n",
       " 'c1c1d077-8331-5811-9614-d83012afd37f': [['fc429b5f-429b-5b5a-8e10-93835f02db9d',\n",
       "   [277, 491, 334, 572]],\n",
       "  ['beb3d7fb-a371-5f05-8ea5-02da07cf5598', [137, 84, 325, 502]]],\n",
       " 'e2418f29-4f6d-58cc-ae8f-4e84b88f8f5c': [['c6e625b0-35fb-57ec-9b93-ad3fe84e5f12',\n",
       "   [142, 120, 254, 373]],\n",
       "  ['59df42c5-c9b8-5b0a-bd5d-a3c884503e46', [145, 259, 236, 396]],\n",
       "  ['0fbf8a7e-15fc-5e25-996e-49d4f39cc8e4', [169, 526, 225, 592]]],\n",
       " '9e1a0126-c9a7-5b5b-b6dc-304bbd1d63b7': [['58019a31-dfe3-5a10-9388-2a742c38ea01',\n",
       "   [230, 360, 317, 418]],\n",
       "  ['a1972b5f-0c12-5932-ac7f-543930b9112e', [196, 110, 349, 371]]],\n",
       " '5a3df8d7-e26d-47a1-a467-77c8a19af8b8': [['cd0a5c51-2bfb-5f00-a3cf-1d6d2ff6609f',\n",
       "   [83, 258, 213, 375]]],\n",
       " '3e2c3490-7cc4-5f12-a89c-9cdd3b152cf3': [['759fe30d-581e-59eb-a097-51794d20bc25',\n",
       "   [82, 129, 302, 385]],\n",
       "  ['58074516-e615-5709-bd1c-7cc24f806192', [69, 384, 147, 476]]],\n",
       " 'db04a46b-889a-4a59-bb2f-d158e5302500': [['3a1bd28f-0a5e-539c-9110-25c12187ebe8',\n",
       "   [112, 120, 275, 306]]],\n",
       " '6557a358-1e8a-5cb8-8f6b-29716332cc81': [['ff2dcde4-cb9a-5e82-a1bd-10ab096c5be8',\n",
       "   [155, 165, 280, 365]],\n",
       "  ['dec97106-d12a-5c29-aef7-dde09284dbec', [173, 344, 258, 516]]],\n",
       " 'd469bcc8-d501-5b75-81b0-00eabb7a2238': [['d5677b81-0129-5c5d-be64-d888625c92bb',\n",
       "   [63, 207, 186, 323]],\n",
       "  ['78a4e540-9e91-5ec1-9b6f-97be05788f1a', [95, 79, 236, 259]],\n",
       "  ['0db89e0b-5860-5025-a314-4ebc6159ca2b', [89, 261, 344, 521]]],\n",
       " '96bec9b9-a22e-5fcd-8e2c-0519b381ed4c': [['1958b3a1-e618-5971-82a7-220d1decf493',\n",
       "   [129, 24, 212, 81]],\n",
       "  ['f1f29f8a-5674-5bf9-95db-98543be69625', [139, 210, 255, 378]]],\n",
       " 'a11b221c-d443-4dd7-9068-cf4914375751': [['1bc7fb0d-2824-4f94-a182-542acb7f3746',\n",
       "   'r']]}"
      ]
     },
     "execution_count": 261,
     "metadata": {},
     "output_type": "execute_result"
    }
   ],
   "source": [
    "content"
   ]
  },
  {
   "cell_type": "code",
   "execution_count": 147,
   "metadata": {},
   "outputs": [],
   "source": [
    "image_id='00c58d88-53e0-5314-947d-4763004df6df'\n",
    "crops_ids = [x[0] for x in content['00c58d88-53e0-5314-947d-4763004df6df']]"
   ]
  },
  {
   "cell_type": "code",
   "execution_count": 148,
   "metadata": {},
   "outputs": [
    {
     "data": {
      "image/png": "[encoded data removed]",
      "text/plain": [
       "<Figure size 864x576 with 1 Axes>"
      ]
     },
     "metadata": {
      "needs_background": "light"
     },
     "output_type": "display_data"
    }
   ],
   "source": [
    "fig = plt.figure(figsize = (12,8))\n",
    "ax = fig.add_subplot(1,1,1) \n",
    "ax.set_xlabel('Principal Component 1', fontsize = 15)\n",
    "ax.set_ylabel('Principal Component 2', fontsize = 15)\n",
    "ax.set_title('2 component PCA', fontsize = 20)\n",
    "\n",
    "targets = ['original image','crops']\n",
    "ax.scatter(principalDf_img[principalDf_img.Images==image_id]['principal component 1']\n",
    "           , principalDf_img[principalDf_img.Images==image_id]['principal component 2']\n",
    "           , c = 'b'\n",
    "           , s = 50)\n",
    "\n",
    "for crop_id in crops_ids:\n",
    "    ax.scatter(principalDf_crops[principalDf_crops.Images==crop_id]['principal component 1']\n",
    "               , principalDf_crops[principalDf_crops.Images==crop_id]['principal component 2']\n",
    "               , c = 'g'\n",
    "               , s = 50)\n",
    "plt.xlim(x_min, x_max)\n",
    "plt.ylim(y_min, y_max)\n",
    "ax.legend(targets)\n",
    "ax.grid()"
   ]
  },
  {
   "cell_type": "code",
   "execution_count": 146,
   "metadata": {},
   "outputs": [
    {
     "data": {
      "image/png": "[encoded data removed]",
      "text/plain": [
       "<Figure size 864x576 with 1 Axes>"
      ]
     },
     "metadata": {
      "needs_background": "light"
     },
     "output_type": "display_data"
    }
   ],
   "source": [
    "fig = plt.figure(figsize = (12,8))\n",
    "ax = fig.add_subplot(1,1,1)\n",
    "\n",
    "\n",
    "ax.set_xlabel('Principal Component 1', fontsize = 15)\n",
    "ax.set_ylabel('Principal Component 2', fontsize = 15)\n",
    "ax.set_title('2 component PCA', fontsize = 20)\n",
    "\n",
    "\n",
    "targets = ['original image','crops']\n",
    "ax.scatter(principalDf_img[principalDf_img.Images==image_id]['principal component 1']\n",
    "           , principalDf_img[principalDf_img.Images==image_id]['principal component 2']\n",
    "           , c = 'b'\n",
    "           , s = 50)\n",
    "\n",
    "for crop_id in crops_ids:\n",
    "    ax.scatter(principalDf_crops[principalDf_crops.Images==crop_id]['principal component 1']\n",
    "               , principalDf_crops[principalDf_crops.Images==crop_id]['principal component 2']\n",
    "               , c = 'g'\n",
    "               , s = 50)\n",
    "\n",
    "plt.xlim(x_min, x_max)\n",
    "plt.ylim(y_min, y_max)\n",
    "ax.legend(targets)\n",
    "ax.grid()"
   ]
  },
  {
   "cell_type": "code",
   "execution_count": 270,
   "metadata": {
    "scrolled": true
   },
   "outputs": [
    {
     "name": "stdout",
     "output_type": "stream",
     "text": [
      "\n",
      "\n",
      "Image cluster Number:[0]\n",
      "00c58d88-53e0-5314-947d-4763004df6df\n",
      "Crop cluster Number:[0]\n",
      "Crop cluster Number:[0]\n",
      "Crop cluster Number:[0]\n",
      "Crop cluster Number:[0]\n",
      "\n",
      "\n",
      "Image cluster Number:[2]\n",
      "c82b21ed-f9e2-5e32-9567-0882e25e4f76\n",
      "Crop cluster Number:[2]\n",
      "Crop cluster Number:[2]\n",
      "Crop cluster Number:[2]\n",
      "\n",
      "\n",
      "Image cluster Number:[0]\n",
      "f2d04823-e49f-56f6-84fa-850e62b53ab8\n",
      "Crop cluster Number:[0]\n",
      "Crop cluster Number:[0]\n",
      "Crop cluster Number:[0]\n",
      "\n",
      "\n",
      "Image cluster Number:[1]\n",
      "846df95d-407f-47d3-8518-52b7adadef14\n",
      "Crop cluster Number:[1]\n",
      "Crop cluster Number:[1]\n",
      "\n",
      "\n",
      "Image cluster Number:[4]\n",
      "d2203689-55c8-5bcb-91e7-e3e8a0f8d940\n",
      "Crop cluster Number:[4]\n",
      "Crop cluster Number:[4]\n",
      "\n",
      "\n",
      "Image cluster Number:[0]\n",
      "3ca9dd7e-1b8b-5a2c-8017-05c13682402e\n",
      "Crop cluster Number:[0]\n",
      "Crop cluster Number:[0]\n",
      "\n",
      "\n",
      "Image cluster Number:[4]\n",
      "64b05eb4-2817-509d-aa5d-82119c15ea36\n",
      "Crop cluster Number:[4]\n",
      "Crop cluster Number:[4]\n",
      "\n",
      "\n",
      "Image cluster Number:[2]\n",
      "21d62ca5-5a13-55d7-876b-0a9ce1ed47c8\n",
      "Crop cluster Number:[2]\n",
      "Crop cluster Number:[2]\n",
      "Crop cluster Number:[2]\n",
      "\n",
      "\n",
      "Image cluster Number:[3]\n",
      "4e1a07f3-b483-472d-bf26-851772e91ed0\n",
      "Crop cluster Number:[3]\n",
      "\n",
      "\n",
      "Image cluster Number:[2]\n",
      "6908216a-7160-478c-8517-62ce28c64f27\n",
      "Crop cluster Number:[2]\n",
      "\n",
      "\n",
      "Image cluster Number:[3]\n",
      "f3100d10-33fc-41f9-b7b8-79162c832560\n",
      "Crop cluster Number:[3]\n",
      "\n",
      "\n",
      "Image cluster Number:[4]\n",
      "55cf0050-3fd6-519a-a0ab-aca1a22fdd5e\n",
      "Crop cluster Number:[4]\n",
      "Crop cluster Number:[4]\n",
      "\n",
      "\n",
      "Image cluster Number:[0]\n",
      "e4d43d63-568f-5027-8357-46cfe0980a7c\n",
      "Crop cluster Number:[0]\n",
      "Crop cluster Number:[0]\n",
      "Crop cluster Number:[0]\n",
      "\n",
      "\n",
      "Image cluster Number:[1]\n",
      "a13c0da5-8e31-47a9-890f-6f971b80bbe3\n",
      "Crop cluster Number:[1]\n",
      "Crop cluster Number:[1]\n",
      "Crop cluster Number:[1]\n",
      "Crop cluster Number:[1]\n",
      "\n",
      "\n",
      "Image cluster Number:[4]\n",
      "2842f417-1322-4c9f-86c2-51636b26d25c\n",
      "Crop cluster Number:[4]\n",
      "\n",
      "\n",
      "Image cluster Number:[0]\n",
      "ea9b55cc-e010-5905-b696-9f8bacc50fe6\n",
      "Crop cluster Number:[0]\n",
      "Crop cluster Number:[0]\n",
      "Crop cluster Number:[0]\n",
      "Crop cluster Number:[0]\n",
      "\n",
      "\n",
      "Image cluster Number:[1]\n",
      "eff7af80-e5fd-42fa-b88b-9b12671912e5\n",
      "Crop cluster Number:[1]\n",
      "Crop cluster Number:[1]\n",
      "\n",
      "\n",
      "Image cluster Number:[1]\n",
      "d70fafda-0d9d-4c64-acc4-d40fa5dacd87\n",
      "Crop cluster Number:[1]\n",
      "Crop cluster Number:[1]\n",
      "Crop cluster Number:[1]\n",
      "Crop cluster Number:[1]\n",
      "\n",
      "\n",
      "Image cluster Number:[5]\n",
      "74ad4492-3350-5a83-8d0e-ae9dddb75a3c\n",
      "Crop cluster Number:[5]\n",
      "Crop cluster Number:[5]\n",
      "\n",
      "\n",
      "Image cluster Number:[0]\n",
      "6fc1d9f2-7647-4f0d-9e34-17e34bef7d62\n",
      "Crop cluster Number:[0]\n",
      "\n",
      "\n",
      "Image cluster Number:[1]\n",
      "294d1d6b-5e11-4d96-b2a8-4feaad830d82\n",
      "Crop cluster Number:[1]\n",
      "\n",
      "\n",
      "Image cluster Number:[1]\n",
      "a0eda751-d15f-4d07-aab4-73126a1391b0\n",
      "Crop cluster Number:[1]\n",
      "Crop cluster Number:[1]\n",
      "Crop cluster Number:[1]\n",
      "Crop cluster Number:[1]\n",
      "\n",
      "\n",
      "Image cluster Number:[4]\n",
      "e562cdea-ece0-5d64-8dd8-c7c1ee72ed9b\n",
      "Crop cluster Number:[4]\n",
      "Crop cluster Number:[4]\n",
      "Crop cluster Number:[4]\n",
      "index 0 is out of bounds for axis 0 with size 0\n",
      "\n",
      "\n",
      "Image cluster Number:[4]\n",
      "697e51a9-acf6-57f7-a953-3dab647bb64b\n",
      "Crop cluster Number:[4]\n",
      "Crop cluster Number:[4]\n",
      "Crop cluster Number:[4]\n",
      "\n",
      "\n",
      "Image cluster Number:[2]\n",
      "7d34dba8-bfa7-5df5-95be-1e6a0b32e96a\n",
      "Crop cluster Number:[2]\n",
      "Crop cluster Number:[2]\n",
      "\n",
      "\n",
      "Image cluster Number:[2]\n",
      "cbd28f99-adfb-5611-86b8-6a16ebd91db1\n",
      "Crop cluster Number:[2]\n",
      "Crop cluster Number:[2]\n",
      "Crop cluster Number:[2]\n",
      "\n",
      "\n",
      "Image cluster Number:[4]\n",
      "e9f53d42-2965-5815-a634-69a05b2ade36\n",
      "Crop cluster Number:[4]\n",
      "Crop cluster Number:[4]\n",
      "\n",
      "\n",
      "Image cluster Number:[3]\n",
      "cf90493d-99ac-5a5f-bd91-4bcf6545d68d\n",
      "Crop cluster Number:[3]\n",
      "Crop cluster Number:[3]\n",
      "Crop cluster Number:[3]\n",
      "Crop cluster Number:[3]\n",
      "\n",
      "\n",
      "Image cluster Number:[4]\n",
      "2d96cac9-75b7-5dd8-a48a-2e84977045d7\n",
      "Crop cluster Number:[4]\n",
      "Crop cluster Number:[4]\n",
      "Crop cluster Number:[4]\n",
      "\n",
      "\n",
      "Image cluster Number:[1]\n",
      "19574c45-4a96-4860-b795-b43c5ca4daae\n",
      "Crop cluster Number:[1]\n",
      "Crop cluster Number:[1]\n",
      "Crop cluster Number:[1]\n",
      "Crop cluster Number:[1]\n",
      "\n",
      "\n",
      "Image cluster Number:[1]\n",
      "6b52501f-e495-49ae-8943-ce95c9c7f07b\n",
      "Crop cluster Number:[1]\n",
      "Crop cluster Number:[1]\n",
      "\n",
      "\n",
      "Image cluster Number:[0]\n",
      "572b5f6e-cb14-4862-a6b2-4d9dad511943\n",
      "Crop cluster Number:[0]\n",
      "\n",
      "\n",
      "Image cluster Number:[4]\n",
      "fe3b816d-f4e4-5d9a-9102-5d618d7bd2dc\n",
      "Crop cluster Number:[4]\n",
      "Crop cluster Number:[4]\n",
      "Crop cluster Number:[4]\n",
      "\n",
      "\n",
      "Image cluster Number:[0]\n",
      "850937c3-bac6-4682-ae04-5222146d212f\n",
      "Crop cluster Number:[0]\n",
      "\n",
      "\n",
      "Image cluster Number:[0]\n",
      "25f71cd6-cfae-4975-a757-9c1be7cac4d3\n",
      "Crop cluster Number:[0]\n",
      "\n",
      "\n",
      "Image cluster Number:[0]\n",
      "6c4fb8be-1282-465d-ad3b-a883a295fc39\n",
      "Crop cluster Number:[0]\n",
      "\n",
      "\n",
      "Image cluster Number:[4]\n",
      "310f363a-526e-52ba-8024-07812e8e9c47\n",
      "Crop cluster Number:[4]\n",
      "\n",
      "\n",
      "Image cluster Number:[4]\n",
      "13e86ee2-f02a-5246-8554-f9ae7ba22ca9\n",
      "Crop cluster Number:[4]\n",
      "Crop cluster Number:[4]\n",
      "\n",
      "\n",
      "Image cluster Number:[1]\n",
      "2e391741-2678-43a0-af7e-0b155e5fc7c5\n",
      "Crop cluster Number:[1]\n",
      "Crop cluster Number:[1]\n",
      "Crop cluster Number:[1]\n",
      "Crop cluster Number:[1]\n",
      "\n",
      "\n",
      "Image cluster Number:[0]\n",
      "eb9528e4-0951-5a2a-a237-3bae4f48d07b\n",
      "Crop cluster Number:[0]\n",
      "Crop cluster Number:[0]\n",
      "Crop cluster Number:[0]\n",
      "\n",
      "\n",
      "Image cluster Number:[4]\n",
      "c9c99546-f634-5801-b316-40a6c3b66b1d\n",
      "Crop cluster Number:[4]\n",
      "Crop cluster Number:[4]\n",
      "\n",
      "\n",
      "Image cluster Number:[4]\n",
      "40890023-03f3-5226-af83-0cfe775187b8\n",
      "Crop cluster Number:[4]\n",
      "Crop cluster Number:[4]\n",
      "Crop cluster Number:[4]\n",
      "\n",
      "\n",
      "Image cluster Number:[5]\n",
      "b3365b00-ae61-5420-b93c-a02f0abde1f2\n",
      "Crop cluster Number:[5]\n",
      "Crop cluster Number:[5]\n",
      "Crop cluster Number:[5]\n",
      "\n",
      "\n",
      "Image cluster Number:[0]\n",
      "53df8637-00b4-42fb-bdb8-e42865f1d286\n",
      "Crop cluster Number:[0]\n",
      "\n",
      "\n",
      "Image cluster Number:[0]\n",
      "4db3190d-58ff-5590-bb7f-9d1b67ce7dc4\n",
      "Crop cluster Number:[0]\n",
      "Crop cluster Number:[0]\n",
      "Crop cluster Number:[0]\n",
      "\n",
      "\n",
      "Image cluster Number:[4]\n",
      "336ebaae-1f2a-5838-a09e-d3293b480bdd\n",
      "Crop cluster Number:[4]\n",
      "Crop cluster Number:[4]\n",
      "Crop cluster Number:[4]\n",
      "\n",
      "\n",
      "Image cluster Number:[5]\n",
      "cf2ef32a-f319-5130-a56f-bf03ec4dbe32\n",
      "Crop cluster Number:[5]\n",
      "Crop cluster Number:[5]\n",
      "\n",
      "\n",
      "Image cluster Number:[2]\n",
      "7a0dc2f2-75f2-4ad3-a2aa-ca9f1681c329\n",
      "Crop cluster Number:[2]\n",
      "\n",
      "\n",
      "Image cluster Number:[5]\n",
      "c1c1d077-8331-5811-9614-d83012afd37f\n",
      "Crop cluster Number:[5]\n",
      "Crop cluster Number:[5]\n",
      "\n",
      "\n",
      "Image cluster Number:[4]\n",
      "e2418f29-4f6d-58cc-ae8f-4e84b88f8f5c\n",
      "Crop cluster Number:[4]\n",
      "Crop cluster Number:[4]\n",
      "Crop cluster Number:[4]\n",
      "\n",
      "\n",
      "Image cluster Number:[0]\n",
      "9e1a0126-c9a7-5b5b-b6dc-304bbd1d63b7\n",
      "Crop cluster Number:[0]\n",
      "Crop cluster Number:[0]\n",
      "\n",
      "\n",
      "Image cluster Number:[0]\n",
      "5a3df8d7-e26d-47a1-a467-77c8a19af8b8\n",
      "Crop cluster Number:[0]\n",
      "\n",
      "\n",
      "Image cluster Number:[4]\n",
      "3e2c3490-7cc4-5f12-a89c-9cdd3b152cf3\n",
      "Crop cluster Number:[4]\n",
      "Crop cluster Number:[4]\n",
      "\n",
      "\n",
      "Image cluster Number:[4]\n",
      "db04a46b-889a-4a59-bb2f-d158e5302500\n",
      "Crop cluster Number:[4]\n",
      "\n",
      "\n",
      "Image cluster Number:[0]\n",
      "6557a358-1e8a-5cb8-8f6b-29716332cc81\n",
      "Crop cluster Number:[0]\n",
      "Crop cluster Number:[0]\n",
      "\n",
      "\n",
      "Image cluster Number:[4]\n",
      "d469bcc8-d501-5b75-81b0-00eabb7a2238\n",
      "Crop cluster Number:[4]\n",
      "Crop cluster Number:[4]\n",
      "Crop cluster Number:[4]\n",
      "\n",
      "\n",
      "Image cluster Number:[5]\n",
      "96bec9b9-a22e-5fcd-8e2c-0519b381ed4c\n",
      "Crop cluster Number:[5]\n",
      "Crop cluster Number:[5]\n",
      "\n",
      "\n",
      "Image cluster Number:[1]\n",
      "a11b221c-d443-4dd7-9068-cf4914375751\n",
      "Crop cluster Number:[1]\n"
     ]
    }
   ],
   "source": [
    "\n",
    "for key,val in content.items():\n",
    "    image_id = key\n",
    "    crops_id_list = val\n",
    "    try:\n",
    "        x=principalDf_img.loc[principalDf_img.Images==image_id,'principal component 1'].values[0]\n",
    "        y=principalDf_img.loc[principalDf_img.Images==image_id,'principal component 2'].values[0]\n",
    "        \n",
    "        img_cluster = loaded_model.predict(np.asarray([x,y]).reshape(1,-1))\n",
    "        print('\\n')\n",
    "        print('Image cluster Number:{}'.format(img_cluster))\n",
    "        print(image_id)\n",
    "        principalDf_img.loc[principalDf_img.Images==image_id,'cluster_no']=img_cluster\n",
    "        for crops_id in crops_id_list:\n",
    "            x_crop=principalDf_crops.loc[principalDf_crops.Images==crops_id[0],'principal component 1'].values[0]\n",
    "            y_crop=principalDf_crops.loc[principalDf_crops.Images==crops_id[0],'principal component 2'].values[0]\n",
    "            crop_cluster=loaded_model.predict(np.asarray([x,y]).reshape(1,-1))\n",
    "            principalDf_crops.loc[principalDf_crops.Images==crops_id[0],'cluster_no']=crop_cluster\n",
    "            print('Crop cluster Number:{}'.format(crop_cluster))\n",
    "    except Exception as e:\n",
    "        print(e)"
   ]
  },
  {
   "cell_type": "code",
   "execution_count": 273,
   "metadata": {},
   "outputs": [],
   "source": [
    "# --- 375.92647194862366 seconds Execution Time---"
   ]
  },
  {
   "cell_type": "code",
   "execution_count": 239,
   "metadata": {},
   "outputs": [],
   "source": [
    "import json\n",
    "import os, glob\n",
    "import cv2\n",
    "import numpy as np\n",
    "import imutils\n",
    "import time"
   ]
  },
  {
   "cell_type": "code",
   "execution_count": 271,
   "metadata": {
    "scrolled": false
   },
   "outputs": [
    {
     "name": "stdout",
     "output_type": "stream",
     "text": [
      "sample_testset/images/d469bcc8-d501-5b75-81b0-00eabb7a2238.jpg\n",
      "sample_testset/images/f2d04823-e49f-56f6-84fa-850e62b53ab8.jpg\n",
      "sample_testset/images/40890023-03f3-5226-af83-0cfe775187b8.jpg\n",
      "sample_testset/images/e6bc80be-bab6-5772-8a84-177c33245a3a.jpg\n",
      "sample_testset/images/a11b221c-d443-4dd7-9068-cf4914375751.jpg\n",
      "sample_testset/images/c1c1d077-8331-5811-9614-d83012afd37f.jpg\n",
      "sample_testset/images/13e86ee2-f02a-5246-8554-f9ae7ba22ca9.jpg\n",
      "sample_testset/images/6fc1d9f2-7647-4f0d-9e34-17e34bef7d62.jpg\n",
      "sample_testset/images/a0eda751-d15f-4d07-aab4-73126a1391b0.jpg\n",
      "sample_testset/images/7a0dc2f2-75f2-4ad3-a2aa-ca9f1681c329.jpg\n",
      "sample_testset/images/e562cdea-ece0-5d64-8dd8-c7c1ee72ed9b.jpg\n",
      "sample_testset/images/d70fafda-0d9d-4c64-acc4-d40fa5dacd87.jpg\n",
      "sample_testset/images/64b05eb4-2817-509d-aa5d-82119c15ea36.jpg\n",
      "sample_testset/images/4e1a07f3-b483-472d-bf26-851772e91ed0.jpg\n",
      "sample_testset/images/25f71cd6-cfae-4975-a757-9c1be7cac4d3.jpg\n",
      "sample_testset/images/b3365b00-ae61-5420-b93c-a02f0abde1f2.jpg\n",
      "sample_testset/images/cf2ef32a-f319-5130-a56f-bf03ec4dbe32.jpg\n",
      "sample_testset/images/f3100d10-33fc-41f9-b7b8-79162c832560.jpg\n",
      "sample_testset/images/74ad4492-3350-5a83-8d0e-ae9dddb75a3c.jpg\n",
      "sample_testset/images/55cf0050-3fd6-519a-a0ab-aca1a22fdd5e.jpg\n",
      "sample_testset/images/53df8637-00b4-42fb-bdb8-e42865f1d286.jpg\n",
      "sample_testset/images/846df95d-407f-47d3-8518-52b7adadef14.jpg\n",
      "sample_testset/images/697e51a9-acf6-57f7-a953-3dab647bb64b.jpg\n",
      "sample_testset/images/6c4fb8be-1282-465d-ad3b-a883a295fc39.jpg\n",
      "sample_testset/images/e2418f29-4f6d-58cc-ae8f-4e84b88f8f5c.jpg\n",
      "sample_testset/images/00c58d88-53e0-5314-947d-4763004df6df.jpg\n",
      "sample_testset/images/6908216a-7160-478c-8517-62ce28c64f27.jpg\n",
      "sample_testset/images/19574c45-4a96-4860-b795-b43c5ca4daae.jpg\n",
      "sample_testset/images/572b5f6e-cb14-4862-a6b2-4d9dad511943.jpg\n",
      "sample_testset/images/850937c3-bac6-4682-ae04-5222146d212f.jpg\n",
      "sample_testset/images/2842f417-1322-4c9f-86c2-51636b26d25c.jpg\n",
      "sample_testset/images/6b52501f-e495-49ae-8943-ce95c9c7f07b.jpg\n",
      "sample_testset/images/7d34dba8-bfa7-5df5-95be-1e6a0b32e96a.jpg\n",
      "sample_testset/images/3ca9dd7e-1b8b-5a2c-8017-05c13682402e.jpg\n",
      "sample_testset/images/cbd28f99-adfb-5611-86b8-6a16ebd91db1.jpg\n",
      "sample_testset/images/294d1d6b-5e11-4d96-b2a8-4feaad830d82.jpg\n",
      "sample_testset/images/9e1a0126-c9a7-5b5b-b6dc-304bbd1d63b7.jpg\n",
      "sample_testset/images/310f363a-526e-52ba-8024-07812e8e9c47.jpg\n",
      "sample_testset/images/e9f53d42-2965-5815-a634-69a05b2ade36.jpg\n",
      "sample_testset/images/d2203689-55c8-5bcb-91e7-e3e8a0f8d940.jpg\n",
      "sample_testset/images/336ebaae-1f2a-5838-a09e-d3293b480bdd.jpg\n",
      "sample_testset/images/e4d43d63-568f-5027-8357-46cfe0980a7c.jpg\n",
      "sample_testset/images/96bec9b9-a22e-5fcd-8e2c-0519b381ed4c.jpg\n",
      "sample_testset/images/21d62ca5-5a13-55d7-876b-0a9ce1ed47c8.jpg\n",
      "sample_testset/images/c9c99546-f634-5801-b316-40a6c3b66b1d.jpg\n",
      "sample_testset/images/5a3df8d7-e26d-47a1-a467-77c8a19af8b8.jpg\n",
      "sample_testset/images/eb9528e4-0951-5a2a-a237-3bae4f48d07b.jpg\n",
      "sample_testset/images/a13c0da5-8e31-47a9-890f-6f971b80bbe3.jpg\n",
      "sample_testset/images/db04a46b-889a-4a59-bb2f-d158e5302500.jpg\n",
      "sample_testset/images/3e2c3490-7cc4-5f12-a89c-9cdd3b152cf3.jpg\n",
      "sample_testset/images/cf90493d-99ac-5a5f-bd91-4bcf6545d68d.jpg\n",
      "sample_testset/images/2d96cac9-75b7-5dd8-a48a-2e84977045d7.jpg\n",
      "sample_testset/images/41150972-d045-5aa1-9e70-8a52baaf47a1.jpg\n",
      "sample_testset/images/c833b0d0-de9b-530a-8619-39aa6adf346d.jpg\n",
      "sample_testset/images/2e391741-2678-43a0-af7e-0b155e5fc7c5.jpg\n",
      "sample_testset/images/717ed81e-8575-5850-a775-d927e83582a0.jpg\n",
      "sample_testset/images/fe3b816d-f4e4-5d9a-9102-5d618d7bd2dc.jpg\n",
      "sample_testset/images/4db3190d-58ff-5590-bb7f-9d1b67ce7dc4.jpg\n",
      "sample_testset/images/c82b21ed-f9e2-5e32-9567-0882e25e4f76.jpg\n",
      "sample_testset/images/ea9b55cc-e010-5905-b696-9f8bacc50fe6.jpg\n",
      "sample_testset/images/eff7af80-e5fd-42fa-b88b-9b12671912e5.jpg\n",
      "sample_testset/images/6557a358-1e8a-5cb8-8f6b-29716332cc81.jpg\n",
      "--- 84.8416919708252 seconds Execution Time---\n"
     ]
    }
   ],
   "source": [
    "final_result={}\n",
    "start = time.time()\n",
    "for row in principalDf_img.iterrows():\n",
    "    crop_match_list=[]\n",
    "    img_id = row[1]['Images']\n",
    "    img_cluster = row[1]['cluster_no']\n",
    "    imagePath = os.path.join('sample_testset/images/',img_id+'.jpg')\n",
    "    print(imagePath)\n",
    "    image = cv2.imread(imagePath)\n",
    "    gray = cv2.cvtColor(image, cv2.COLOR_BGR2GRAY)\n",
    "    crop_ids = principalDf_crops[principalDf_crops.cluster_no==img_cluster]['Images'].values\n",
    "    for crop_id in crop_ids:\n",
    "        templatePath = os.path.join('sample_testset/crops/',crop_id+'.jpg')\n",
    "        template = cv2.imread(templatePath, 0)\n",
    "        (tH, tW) = template.shape[:2]\n",
    "        found = None\n",
    "        for scale in np.linspace(0.2, 1.0, 20)[::-1]:\n",
    "            resized = imutils.resize(gray, width=int(gray.shape[1] * scale))\n",
    "            r = gray.shape[1] / float(resized.shape[1])\n",
    "            if resized.shape[0] < tH or resized.shape[1] < tW:\n",
    "                break\n",
    "            result = cv2.matchTemplate(resized, template, cv2.TM_CCOEFF_NORMED)\n",
    "            (_, maxVal, _, maxLoc) = cv2.minMaxLoc(result)\n",
    "            position = np.where(result >= 0.95)\n",
    "            for point in zip(*position[::-1]):\n",
    "                found = (point, r)\n",
    "        if found:\n",
    "            (maxLoc, r) = found\n",
    "            (startX, startY) = (int(maxLoc[0] * r), int(maxLoc[1] * r))\n",
    "            (endX, endY) = (int((maxLoc[0] + tW) * r), int((maxLoc[1] + tH) * r))\n",
    "            crop_match_list.append([os.path.basename(templatePath).replace('.jpg', ''), [startX, startY, endX, endY]])\n",
    "    \n",
    "    final_result[os.path.basename(imagePath).replace('.jpg', '')]=[]\n",
    "    final_result[os.path.basename(imagePath).replace('.jpg', '')] = crop_match_list\n",
    "            \n",
    "\n",
    "end = time.time()\n",
    "print(\"--- %s seconds Execution Time---\" % (end - start))"
   ]
  }
 ],
 "metadata": {
  "kernelspec": {
   "display_name": "Python 3",
   "language": "python",
   "name": "python3"
  },
  "language_info": {
   "codemirror_mode": {
    "name": "ipython",
    "version": 3
   },
   "file_extension": ".py",
   "mimetype": "text/x-python",
   "name": "python",
   "nbconvert_exporter": "python",
   "pygments_lexer": "ipython3",
   "version": "3.7.4"
  }
 },
 "nbformat": 4,
 "nbformat_minor": 2
}
